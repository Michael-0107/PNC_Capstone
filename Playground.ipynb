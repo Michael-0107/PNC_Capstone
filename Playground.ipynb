{
 "cells": [
  {
   "cell_type": "code",
   "execution_count": 1,
   "metadata": {},
   "outputs": [],
   "source": [
    "import os\n",
    "import importlib\n",
    "import numpy as np\n",
    "import pandas as pd\n",
    "import pickle"
   ]
  },
  {
   "cell_type": "code",
   "execution_count": 2,
   "metadata": {},
   "outputs": [
    {
     "data": {
      "text/plain": [
       "<module 'utils' from 'g:\\\\My Drive\\\\Chronical\\\\2024_07\\\\PNC_Capstone\\\\utils.py'>"
      ]
     },
     "execution_count": 2,
     "metadata": {},
     "output_type": "execute_result"
    }
   ],
   "source": [
    "import Hypers\n",
    "importlib.reload(Hypers)\n",
    "import utils\n",
    "importlib.reload(utils)"
   ]
  },
  {
   "cell_type": "code",
   "execution_count": 4,
   "metadata": {},
   "outputs": [
    {
     "data": {
      "text/plain": [
       "339"
      ]
     },
     "execution_count": 4,
     "metadata": {},
     "output_type": "execute_result"
    }
   ],
   "source": [
    "dataset = utils.load_pickle(os.path.join(Hypers.Config.data_path, \"dataset_RetInd_4.pkl\"))\n",
    "len(dataset)"
   ]
  },
  {
   "cell_type": "markdown",
   "metadata": {},
   "source": [
    "# Random Guesses"
   ]
  },
  {
   "cell_type": "code",
   "execution_count": 4,
   "metadata": {},
   "outputs": [],
   "source": [
    "train_dict = utils.load_pickle(os.path.join(Hypers.Config.data_path, \"train_dict_windowed.pkl\"))"
   ]
  },
  {
   "cell_type": "code",
   "execution_count": 15,
   "metadata": {},
   "outputs": [],
   "source": [
    "from collections import Counter\n",
    "\n",
    "label_counter = Counter()\n",
    "for company_ticker, entries in train_dict.items():\n",
    "    for period, (feature, label) in entries.items():\n",
    "        label_counter[label.item()] += 1"
   ]
  },
  {
   "cell_type": "code",
   "execution_count": 24,
   "metadata": {},
   "outputs": [
    {
     "name": "stdout",
     "output_type": "stream",
     "text": [
      "10.0(BB+): 1353\n",
      "9.0(BBB-): 1270\n",
      "13.0(B+): 914\n",
      "12.0(BB-): 1780\n",
      "11.0(BB): 1344\n",
      "5.0(A): 976\n",
      "0.0(AAA): 16\n",
      "2.0(AA): 102\n",
      "8.0(BBB): 1733\n",
      "14.0(B): 934\n",
      "7.0(BBB+): 1085\n",
      "6.0(A-): 674\n",
      "3.0(AA-): 286\n",
      "16.0(CCC+): 53\n",
      "15.0(B-): 537\n",
      "19.0(CC): 1\n",
      "17.0(CCC): 11\n",
      "4.0(A+): 319\n",
      "22.0(D): 9\n",
      "1.0(AA+): 22\n"
     ]
    }
   ],
   "source": [
    "for label, count in label_counter.items():\n",
    "    print(f\"{label}({Hypers.category_to_rating[label]}): {count}\")"
   ]
  },
  {
   "cell_type": "code",
   "execution_count": 23,
   "metadata": {},
   "outputs": [
    {
     "name": "stdout",
     "output_type": "stream",
     "text": [
      "dict_keys([10.0, 9.0, 13.0, 12.0, 11.0, 5.0, 0.0, 2.0, 8.0, 14.0, 7.0, 6.0, 3.0, 16.0, 15.0, 19.0, 17.0, 4.0, 22.0, 1.0])\n",
      "dict_values([1353, 1270, 914, 1780, 1344, 976, 16, 102, 1733, 934, 1085, 674, 286, 53, 537, 1, 11, 319, 9, 22])\n"
     ]
    }
   ],
   "source": [
    "print(label_counter.keys())\n",
    "print(label_counter.values())"
   ]
  },
  {
   "cell_type": "code",
   "execution_count": 20,
   "metadata": {},
   "outputs": [],
   "source": [
    "test_dict = utils.load_pickle(os.path.join(Hypers.Config.data_path, \"test_dict_windowed.pkl\"))\n",
    "\n",
    "truths = []\n",
    "for company_ticker, entries in test_dict.items():\n",
    "    for period, (feature, label) in entries.items():\n",
    "        truths.append(label.item())"
   ]
  },
  {
   "cell_type": "code",
   "execution_count": 33,
   "metadata": {},
   "outputs": [
    {
     "name": "stdout",
     "output_type": "stream",
     "text": [
      "[12.  9.  8.  8.  5.  6. 12. 12. 15. 13.]\n",
      "[15.0, 15.0, 15.0, 15.0, 15.0, 15.0, 15.0, 15.0, 22.0, 22.0]\n"
     ]
    }
   ],
   "source": [
    "# random generate predictions based on label distribution in counter\n",
    "elements = list(label_counter.keys())\n",
    "weights = np.array(list(label_counter.values())) / sum(label_counter.values())\n",
    "\n",
    "pred = np.random.choice(elements, len(truths), p=weights)\n",
    "print(pred[0:10])\n",
    "print(truths[0:10])"
   ]
  },
  {
   "cell_type": "code",
   "execution_count": 31,
   "metadata": {},
   "outputs": [
    {
     "name": "stdout",
     "output_type": "stream",
     "text": [
      "0.10035750766087845\n"
     ]
    }
   ],
   "source": [
    "accuracy = np.sum(pred == truths) / len(truths)\n",
    "print(accuracy)"
   ]
  },
  {
   "cell_type": "markdown",
   "metadata": {},
   "source": [
    "# Test"
   ]
  },
  {
   "cell_type": "code",
   "execution_count": 51,
   "metadata": {},
   "outputs": [],
   "source": [
    "dataset_data = utils.load_pickle(os.path.join(Hypers.Config.data_path, \"dataset_windowed.pkl\"))"
   ]
  },
  {
   "cell_type": "code",
   "execution_count": 52,
   "metadata": {},
   "outputs": [
    {
     "name": "stdout",
     "output_type": "stream",
     "text": [
      "dict_keys(['AAL', 'AAP', 'ABG', 'ACCO', 'ACM', 'ADM', 'ADNT', 'ADP', 'AGCO', 'AIR', 'AKO.B', 'ALGT', 'ALK', 'ALLE', 'ALSN', 'ALV', 'AMCR', 'AME', 'AMZN', 'AN', 'ANF', 'APTV', 'ARC', 'ARMK', 'ATI', 'ATS', 'AVY', 'AXL', 'AYI', 'AZO', 'BA', 'BALL', 'BBWI', 'BBY', 'BC', 'BCO', 'BECN', 'BERY', 'BFAM', 'BG', 'BIG', 'BKNG', 'BLDR', 'BLMN', 'BRFS', 'BURL', 'BWA', 'BYD', 'CAG', 'CAL', 'CAR', 'CAT', 'CBRL', 'CCEP', 'CCK', 'CCL', 'CENTA', 'CHD', 'CHDN', 'CHEF', 'CHH', 'CL', 'CLH', 'CLX', 'CMCO', 'CMI', 'CMPR', 'COKE', 'CONN', 'COST', 'COTY', 'CPB', 'CPLP', 'CPS', 'CR', 'CRS', 'CSL', 'CSV', 'CTAS', 'CVGI', 'CWH', 'CWST', 'CXW', 'CZR', 'DAL', 'DAN', 'DAR', 'DCO', 'DDS', 'DENN', 'DEO', 'DG', 'DIN', 'DLTR', 'DNUT', 'DOOO', 'DOV', 'DRI', 'DY', 'EAF', 'EAT', 'EBAY', 'EFX', 'EL', 'EME', 'EMR', 'ENOV', 'ENR', 'ENS', 'EPAC', 'EPC', 'ETD', 'ETN', 'EXPE', 'F', 'FBIN', 'FCN', 'FDP', 'FDX', 'FL', 'FLO', 'FLR', 'FLS', 'FOSL', 'FUN', 'GCO', 'GD', 'GEF', 'GEO', 'GFF', 'GHC', 'GIII', 'GIS', 'GLDD', 'GM', 'GME', 'GMS', 'GPI', 'GPN', 'GPS', 'GSL', 'GT', 'GTLS', 'GWW', 'H', 'HA', 'HAS', 'HBI', 'HD', 'HI', 'HII', 'HLF', 'HLT', 'HMC', 'HOG', 'HON', 'HRB', 'HRI', 'HRL', 'HSY', 'HUBB', 'HWM', 'HXL', 'IEX', 'IHG', 'IMKTA', 'INGR', 'IP', 'IR', 'ITT', 'ITW', 'JACK', 'JBHT', 'JBLU', 'JCI', 'JD', 'JWN', 'K', 'KDP', 'KEX', 'KHC', 'KMB', 'KMT', 'KO', 'KODK', 'KOF', 'KR', 'KSS', 'KTOS', 'LE', 'LEA', 'LEG', 'LEVI', 'LHX', 'LII', 'LIND', 'LKQ', 'LNW', 'LOCO', 'LOW', 'LPX', 'LUV', 'LVS', 'LW', 'M', 'MAN', 'MAS', 'MAT', 'MATX', 'MCD', 'MDLZ', 'MGA', 'MGM', 'MHK', 'MKC', 'MLKN', 'MMM', 'MO', 'MOG.A', 'MTN', 'MTW', 'MTZ', 'MUSA', 'MWA', 'NATH', 'NCLH', 'NKE', 'NNBR', 'NOC', 'NPO', 'NVRI', 'NWL', 'NX', 'OC', 'ODP', 'OI', 'OLLI', 'ORLY', 'OSK', 'OXM', 'PAG', 'PBI', 'PENN', 'PEP', 'PG', 'PH', 'PKG', 'PLOW', 'PM', 'PNR', 'POST', 'PPC', 'PRKS', 'PRMW', 'PVH', 'QSR', 'QUAD', 'R', 'RBA', 'RCL', 'RELX', 'REVG', 'RL', 'ROCK', 'ROK', 'ROST', 'RSG', 'RTX', 'RYI', 'SAH', 'SBH', 'SBUX', 'SCI', 'SCS', 'SEE', 'SFM', 'SIG', 'SITE', 'SJM', 'SLGN', 'SNA', 'SON', 'SPWH', 'SPXC', 'SRCL', 'SRI', 'STKL', 'STZ', 'SWK', 'SYY', 'TAP', 'TCS', 'TDG', 'TEX', 'TGI', 'TGT', 'THS', 'TILE', 'TJX', 'TKR', 'TM', 'TNL', 'TPC', 'TPR', 'TPX', 'TRS', 'TRU', 'TSLA', 'TSN', 'TT', 'TTC', 'TUP', 'TWI', 'UAA', 'UAL', 'UFI', 'URI', 'USFD', 'UVV', 'VATE', 'VC', 'VFC', 'VGR', 'VMI', 'VRSK', 'VSTO', 'VVV', 'WAB', 'WCC', 'WCN', 'WEN', 'WGO', 'WHR', 'WM', 'WMT', 'WNC', 'WOR', 'WW', 'WWW', 'WYNN', 'XPO', 'XYL', 'YUM'])\n"
     ]
    }
   ],
   "source": [
    "print(dataset_data.keys())"
   ]
  },
  {
   "cell_type": "code",
   "execution_count": 53,
   "metadata": {},
   "outputs": [
    {
     "name": "stdout",
     "output_type": "stream",
     "text": [
      "2010Q2: 5.0(A)\n",
      "2010Q3: 5.0(A)\n",
      "2010Q4: 5.0(A)\n",
      "2011Q1: 5.0(A)\n",
      "2011Q2: 5.0(A)\n",
      "2011Q3: 5.0(A)\n",
      "2011Q4: 5.0(A)\n",
      "2012Q1: 5.0(A)\n",
      "2012Q2: 5.0(A)\n",
      "2012Q3: 5.0(A)\n",
      "2012Q4: 5.0(A)\n",
      "2013Q1: 5.0(A)\n",
      "2013Q2: 5.0(A)\n",
      "2013Q3: 5.0(A)\n",
      "2013Q4: 5.0(A)\n",
      "2014Q1: 4.0(A+)\n",
      "2014Q2: 4.0(A+)\n",
      "2014Q3: 4.0(A+)\n",
      "2014Q4: 4.0(A+)\n",
      "2015Q1: 4.0(A+)\n",
      "2015Q2: 4.0(A+)\n",
      "2015Q3: 4.0(A+)\n",
      "2015Q4: 4.0(A+)\n",
      "2016Q1: 4.0(A+)\n",
      "2016Q2: 4.0(A+)\n",
      "2016Q3: 4.0(A+)\n",
      "2016Q4: 4.0(A+)\n",
      "2017Q1: 4.0(A+)\n"
     ]
    }
   ],
   "source": [
    "for period, (feature, label) in dataset_data[\"TJX\"].items():\n",
    "    print(f\"{period}: {label.item()}({Hypers.category_to_rating[label.item()]})\")"
   ]
  },
  {
   "cell_type": "code",
   "execution_count": 6,
   "metadata": {},
   "outputs": [
    {
     "name": "stdout",
     "output_type": "stream",
     "text": [
      "     Yearmon  CPI\n",
      "0 1913-01-01  9.8\n",
      "1 1913-02-01  9.8\n",
      "2 1913-03-01  9.8\n",
      "3 1913-04-01  9.8\n",
      "4 1913-05-01  9.7\n"
     ]
    }
   ],
   "source": [
    "cpi_df = pd.read_csv(os.path.join(Hypers.Config.data_path, \"US_CPI.csv\"), parse_dates=[\"Yearmon\"], dayfirst=True)\n",
    "print(cpi_df.head())"
   ]
  },
  {
   "cell_type": "code",
   "execution_count": 7,
   "metadata": {},
   "outputs": [],
   "source": [
    "# Create a dictionary with key: f{year}Q{quarter}, value: cpi\n",
    "\n",
    "cpi_dict = {}\n",
    "\n",
    "for year in range(2000, 2021):\n",
    "    for quarter in range(1, 5):\n",
    "        sample_date = pd.Timestamp(year=year, month=3 * quarter - 2, day=1)\n",
    "        cpi_dict[f\"{year}Q{quarter}\"] = float(cpi_df[cpi_df[\"Yearmon\"] == sample_date][\"CPI\"].values[0])"
   ]
  },
  {
   "cell_type": "code",
   "execution_count": 8,
   "metadata": {},
   "outputs": [
    {
     "data": {
      "text/plain": [
       "{'2000Q1': 168.8,\n",
       " '2000Q2': 171.3,\n",
       " '2000Q3': 172.8,\n",
       " '2000Q4': 174.0,\n",
       " '2001Q1': 175.1,\n",
       " '2001Q2': 176.9,\n",
       " '2001Q3': 177.5,\n",
       " '2001Q4': 177.7,\n",
       " '2002Q1': 177.1,\n",
       " '2002Q2': 179.8,\n",
       " '2002Q3': 180.1,\n",
       " '2002Q4': 181.3,\n",
       " '2003Q1': 181.7,\n",
       " '2003Q2': 183.8,\n",
       " '2003Q3': 183.9,\n",
       " '2003Q4': 185.0,\n",
       " '2004Q1': 185.2,\n",
       " '2004Q2': 188.0,\n",
       " '2004Q3': 189.4,\n",
       " '2004Q4': 190.9,\n",
       " '2005Q1': 190.7,\n",
       " '2005Q2': 194.6,\n",
       " '2005Q3': 195.4,\n",
       " '2005Q4': 199.2,\n",
       " '2006Q1': 198.3,\n",
       " '2006Q2': 201.5,\n",
       " '2006Q3': 203.5,\n",
       " '2006Q4': 201.8,\n",
       " '2007Q1': 202.416,\n",
       " '2007Q2': 206.686,\n",
       " '2007Q3': 208.299,\n",
       " '2007Q4': 208.936,\n",
       " '2008Q1': 211.08,\n",
       " '2008Q2': 214.823,\n",
       " '2008Q3': 219.964,\n",
       " '2008Q4': 216.573,\n",
       " '2009Q1': 211.143,\n",
       " '2009Q2': 213.24,\n",
       " '2009Q3': 215.351,\n",
       " '2009Q4': 216.177,\n",
       " '2010Q1': 216.687,\n",
       " '2010Q2': 218.009,\n",
       " '2010Q3': 218.011,\n",
       " '2010Q4': 218.711,\n",
       " '2011Q1': 220.223,\n",
       " '2011Q2': 224.906,\n",
       " '2011Q3': 225.922,\n",
       " '2011Q4': 226.421,\n",
       " '2012Q1': 226.665,\n",
       " '2012Q2': 230.085,\n",
       " '2012Q3': 229.104,\n",
       " '2012Q4': 231.317,\n",
       " '2013Q1': 230.28,\n",
       " '2013Q2': 232.531,\n",
       " '2013Q3': 233.596,\n",
       " '2013Q4': 233.546,\n",
       " '2014Q1': 233.916,\n",
       " '2014Q2': 237.072,\n",
       " '2014Q3': 238.25,\n",
       " '2014Q4': 237.433,\n",
       " '2015Q1': 233.707,\n",
       " '2015Q2': 236.599,\n",
       " '2015Q3': 238.654,\n",
       " '2015Q4': 237.838,\n",
       " '2016Q1': 236.916,\n",
       " '2016Q2': 239.261,\n",
       " '2016Q3': 240.628,\n",
       " '2016Q4': 241.729,\n",
       " '2017Q1': 242.839,\n",
       " '2017Q2': 244.524,\n",
       " '2017Q3': 244.786,\n",
       " '2017Q4': 246.663,\n",
       " '2018Q1': 247.867,\n",
       " '2018Q2': 250.546,\n",
       " '2018Q3': 252.006,\n",
       " '2018Q4': 252.885,\n",
       " '2019Q1': 251.712,\n",
       " '2019Q2': 255.548,\n",
       " '2019Q3': 256.571,\n",
       " '2019Q4': 257.346,\n",
       " '2020Q1': 257.971,\n",
       " '2020Q2': 256.389,\n",
       " '2020Q3': 259.101,\n",
       " '2020Q4': 260.388}"
      ]
     },
     "execution_count": 8,
     "metadata": {},
     "output_type": "execute_result"
    }
   ],
   "source": [
    "cpi_dict"
   ]
  },
  {
   "cell_type": "code",
   "execution_count": 9,
   "metadata": {},
   "outputs": [],
   "source": [
    "utils.save_pickle(cpi_dict, os.path.join(Hypers.Config.data_path, \"cpi.pkl\"))"
   ]
  },
  {
   "cell_type": "code",
   "execution_count": 10,
   "metadata": {},
   "outputs": [
    {
     "name": "stdout",
     "output_type": "stream",
     "text": [
      "<class 'str'>\n",
      "<class 'float'>\n"
     ]
    }
   ],
   "source": [
    "cpi_dict = utils.load_pickle(os.path.join(Hypers.Config.data_path, \"cpi.pkl\"))\n",
    "print(type(next(iter(cpi_dict.keys()))))\n",
    "print(type(next(iter(cpi_dict.values()))))"
   ]
  },
  {
   "cell_type": "code",
   "execution_count": 4,
   "metadata": {},
   "outputs": [
    {
     "name": "stdout",
     "output_type": "stream",
     "text": [
      "len(train_dict)=595 len(test_dict)=171\n"
     ]
    }
   ],
   "source": [
    "train_dict = utils.load_pickle(os.path.join(Hypers.Config.data_path, f\"train_dict_US_8.pkl\"))\n",
    "test_dict = utils.load_pickle(os.path.join(Hypers.Config.data_path, f\"test_dict_US_8.pkl\"))\n",
    "print(f\"{len(train_dict)=}\", f\"{len(test_dict)=}\")"
   ]
  },
  {
   "cell_type": "code",
   "execution_count": 5,
   "metadata": {},
   "outputs": [
    {
     "name": "stdout",
     "output_type": "stream",
     "text": [
      "count=16342\n"
     ]
    }
   ],
   "source": [
    "count = 0\n",
    "for key, val in train_dict.items():\n",
    "    count += len(val)\n",
    "\n",
    "for key, val in test_dict.items():\n",
    "    count += len(val)\n",
    "\n",
    "print(f\"{count=}\")\n"
   ]
  }
 ],
 "metadata": {
  "kernelspec": {
   "display_name": "default",
   "language": "python",
   "name": "python3"
  },
  "language_info": {
   "codemirror_mode": {
    "name": "ipython",
    "version": 3
   },
   "file_extension": ".py",
   "mimetype": "text/x-python",
   "name": "python",
   "nbconvert_exporter": "python",
   "pygments_lexer": "ipython3",
   "version": "3.10.11"
  }
 },
 "nbformat": 4,
 "nbformat_minor": 2
}
