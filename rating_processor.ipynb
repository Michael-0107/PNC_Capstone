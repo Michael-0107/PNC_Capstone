{
 "cells": [
  {
   "cell_type": "markdown",
   "metadata": {},
   "source": [
    "### Basic import & Helper function"
   ]
  },
  {
   "cell_type": "code",
   "execution_count": 2,
   "metadata": {},
   "outputs": [],
   "source": [
    "import pickle\n",
    "import re\n",
    "import pandas as pd\n",
    "import numpy as np\n",
    "import random"
   ]
  },
  {
   "cell_type": "code",
   "execution_count": 3,
   "metadata": {},
   "outputs": [
    {
     "name": "stdout",
     "output_type": "stream",
     "text": [
      "No Change: 19962\n",
      "Increase: 357\n",
      "Decrease: 168\n",
      "Final Ratings: {'URI': {'2012Q4': 'B+', '2014Q1': 'BB-', '2019Q3': 'BB-'}, 'TGI': {'2014Q1': 'BB+', '2016Q3': 'BB-', '2015Q4': 'BB'}, 'CP': {'2015Q1': 'BBB+', '2011Q3': 'BBB-'}, 'ALK': {'2013Q4': 'BB', '2015Q1': 'BBB-', '2010Q4': 'B+', '2014Q1': 'BB+', '2017Q1': 'BB+', '2010Q1': 'B', '2014Q3': 'BB+', '2020Q4': 'BB+'}, 'MGA': {'2014Q1': 'A-'}, 'TSN': {'2013Q2': 'BBB', '2011Q2': 'BBB-', '2010Q4': 'BB+', '2011Q1': 'BB+'}, 'M': {'2011Q3': 'BBB-', '2017Q2': 'BBB-', '2016Q2': 'BBB'}, 'HLT': {'2016Q3': 'BB+', '2015Q2': 'BB', '2023Q3': 'BB+'}, 'AAL': {'2015Q3': 'BB-', '2012Q1': 'D', '2014Q3': 'B'}, 'ABG': {'2013Q2': 'BB', '2012Q3': 'BB-', '2019Q1': 'BB+', '2010Q4': 'B+', '2013Q4': 'BB'}, 'PFMT': {'2013Q2': 'BB-', '2015Q3': 'B+'}, 'HAS': {'2011Q3': 'BBB+', '2013Q2': 'BBB', '2018Q4': 'BBB', '2020Q1': 'BBB'}, 'OC': {'2016Q4': 'BBB'}, 'DDS': {'2011Q2': 'BB-', '2012Q2': 'BB', '2013Q2': 'BB+'}, 'CMI': {'2011Q4': 'A', '2014Q4': 'A+'}, 'KDP': {'2014Q3': 'BB', '2013Q4': 'BB-'}, 'MAT': {'2010Q3': 'BBB', '2015Q2': 'BBB'}, 'KHC': {'2011Q4': 'BBB+', '2015Q4': 'BBB-', '2013Q3': 'BB-', '2015Q3': 'BB-'}, 'DHI': {'2016Q4': 'BBB-', '2013Q3': 'BB', '2022Q3': 'BBB-', '2019Q1': 'BBB-'}, 'DG': {'2010Q3': 'BB', '2017Q1': 'BBB'}, 'LEA': {'2013Q2': 'BB+', '2010Q4': 'BB-', '2016Q3': 'BBB-'}, 'MAS': {'2015Q1': 'BBB', '2012Q1': 'BBB-', '2018Q4': 'BBB'}, 'CVGI': {'2011Q3': 'B-', '2017Q1': 'B', '2016Q3': 'B'}, 'HOV': {'2013Q1': 'CCC+', '2016Q3': 'CCC+', '2012Q1': 'CCC-', '2011Q3': 'CCC'}, 'HTZ': {'2011Q1': 'B+'}, 'HII': {'2014Q2': 'BB', '2018Q2': 'BB+'}, 'DAN': {'2011Q2': 'BB-', '2012Q2': 'BB', '2014Q2': 'BB+', '2010Q3': 'B+'}, 'WNC': {'2016Q3': 'BB', '2018Q3': 'BB'}, 'RCL': {'2015Q4': 'BB+'}, 'GPI': {'2014Q1': 'BB+', '2012Q3': 'BB', '2011Q1': 'BB-'}, 'MAR': {'2011Q1': 'BBB', '2013Q2': 'BBB'}, 'OSK': {'2014Q1': 'BB+', '2011Q2': 'BB'}, 'TRN': {'2013Q3': 'BBB-', '2014Q3': 'BBB-'}, 'BERY': {'2014Q3': 'B+', '2016Q2': 'BB-', '2020Q2': 'BB-'}, 'PHM': {'2014Q2': 'BB+', '2010Q4': 'BB-'}, 'PPC': {'2013Q4': 'BB-', '2015Q3': 'BB+', '2016Q4': 'BB', '2011Q4': 'B', '2018Q2': 'BB'}, 'STZ': {'2011Q3': 'BB+'}, 'COST': {'2010Q2': 'A+', '2010Q3': 'A+'}, 'AYI': {'2014Q1': 'BBB'}, 'OI': {'2010Q2': 'BB+', '2015Q4': 'BB'}, 'XPO': {'2016Q4': 'B+', '2024Q1': 'B+', '2021Q2': 'B+'}, 'TXT': {'2015Q2': 'BBB'}, 'MUSA': {'2015Q4': 'BB+', '2017Q2': 'BB+'}, 'GD': {'2015Q4': 'A+'}, 'KODK': {'2014Q1': 'B-', '2011Q2': 'CCC', '2012Q2': 'D'}, 'BIG': {'2010Q3': 'BBB', '2013Q1': 'BBB-', '2016Q2': 'BBB', '2020Q3': 'BBB'}, 'ENOV': {'2015Q2': 'BB+'}, 'UNP': {'2011Q1': 'BBB+', '2014Q1': 'A', '2024Q1': 'A', '2014Q2': 'A'}, 'GM': {'2011Q4': 'BB+', '2017Q2': 'BBB', '2014Q4': 'BBB-'}, 'DRI': {'2016Q3': 'BBB', '2014Q1': 'BBB-', '2018Q3': 'BBB'}, 'AXL': {'2011Q3': 'BB-'}, 'BLDR': {'2015Q4': 'B+', '2013Q3': 'B', '2010Q2': 'CCC+', '2011Q3': 'CCC'}, 'GBX': {'2013Q1': 'B+', '2014Q3': 'BB-', '2012Q2': 'B'}, 'ALV': {'2014Q1': 'A-', '2010Q4': 'BBB+'}, 'LVS': {'2011Q3': 'BB'}, 'WWW': {'2015Q4': 'BB+'}, 'CNI': {'2014Q1': 'A', '2013Q1': 'A-'}, 'MO': {'2016Q2': 'A-', '2014Q2': 'BBB+'}, 'AMZN': {'2011Q2': 'A'}, 'BLMN': {'2015Q1': 'BB'}, 'EBAY': {'2010Q2': 'A', '2015Q4': 'BBB+'}, 'CHD': {'2010Q3': 'BBB-'}, 'F': {'2011Q2': 'BB-', '2012Q1': 'BB+'}, 'FUN': {'2012Q2': 'BB-'}, 'MHO': {'2013Q2': 'B', '2022Q3': 'B+'}, 'CPS': {'2010Q3': 'B+'}, 'GPS': {'2013Q3': 'BBB-', '2016Q3': 'BB+'}, 'MAN': {'2014Q3': 'BBB', '2020Q2': 'BBB'}, 'WYNN': {'2011Q3': 'BB+', '2017Q1': 'BB-', '2015Q4': 'BB', '2016Q1': 'BB', '2010Q2': 'BB'}, 'ARC': {'2014Q4': 'BB-', '2011Q4': 'B+', '2017Q4': 'BB-'}, 'MHK': {'2013Q4': 'BBB'}, 'SBUX': {'2012Q2': 'A-'}, 'ORLY': {'2012Q2': 'BBB', '2017Q3': 'BBB+'}, 'BKNG': {'2012Q2': 'BBB', '2011Q1': 'BBB-', '2014Q2': 'BBB'}, 'BRFS': {'2012Q3': 'BBB-'}, 'KO': {'2012Q4': 'AA-', '2014Q3': 'AA', '2016Q2': 'AA-', '2020Q4': 'AA-'}, 'JBLU': {'2013Q4': 'B', '2016Q1': 'BB-'}, 'WAB': {'2013Q3': 'BBB-'}, 'CAR': {'2017Q1': 'BB', '2010Q2': 'B+'}, 'MTN': {'2011Q2': 'BB'}, 'VAC': {'2016Q1': 'BB+'}, 'AGCO': {'2010Q2': 'BBB-'}, 'SCS': {'2013Q4': 'BBB', '2010Q2': 'BBB-'}, 'LII': {'2014Q2': 'BBB', '2021Q1': 'BBB'}, 'UHAL': {'2011Q2': 'BB+'}, 'SFM': {'2015Q3': 'BB'}, 'PENN': {'2011Q3': 'BB', '2015Q3': 'B+', '2014Q1': 'BB-'}, 'SBH': {'2010Q3': 'BB-', '2019Q2': 'BB+', '2022Q2': 'BB+', '2022Q1': 'BB+'}, 'TILE': {'2011Q4': 'BB', '2015Q1': 'BB+'}, 'CXW': {'2013Q2': 'BB+', '2016Q4': 'BB', '2014Q1': 'BB+'}, 'HXL': {'2011Q3': 'BB+', '2014Q4': 'BBB-'}, 'BC': {'2016Q4': 'BBB-', '2012Q3': 'BB-'}, 'HD': {'2014Q1': 'A'}, 'LKQ': {'2011Q3': 'BB+', '2016Q2': 'BB'}, 'LUV': {'2015Q1': 'BBB', '2011Q3': 'BBB-', '2011Q4': 'BBB-'}, 'UAL': {'2010Q4': 'B', '2015Q2': 'B+'}, 'MGM': {'2016Q4': 'BB-', '2013Q1': 'B+', '2014Q1': 'B+'}, 'CAL': {'2010Q4': 'B+', '2015Q3': 'BB', '2012Q1': 'B', '2023Q3': 'BB'}, 'DAL': {'2015Q4': 'BB+', '2014Q1': 'BB-', '2015Q1': 'BB'}, 'CLX': {'2016Q4': 'A-'}, 'MTH': {'2014Q3': 'BB-'}, 'GEO': {'2015Q1': 'BB-', '2011Q2': 'B+', '2014Q2': 'B+'}, 'BWA': {'2012Q3': 'BBB+'}, 'BYD': {'2016Q4': 'B+', '2011Q1': 'B', '2010Q3': 'B+', '2013Q3': 'B', '2017Q1': 'B+'}, 'BBY': {'2016Q4': 'BBB-', '2013Q1': 'BB', '2012Q4': 'BB+', '2010Q4': 'BBB-'}, 'GCO': {'2010Q3': 'BB-', '2018Q2': 'BB'}, 'EL': {'2014Q1': 'A+', '2015Q2': 'A+', '2012Q4': 'A'}, 'VFC': {'2014Q3': 'A'}, 'APTV': {'2014Q1': 'BBB-'}, 'HOG': {'2012Q2': 'BBB+'}, 'CSX': {'2014Q1': 'BBB+', '2010Q1': 'BBB-'}, 'CENTA': {'2010Q2': 'B+', '2013Q2': 'B'}, 'TRU': {'2016Q2': 'BB-', '2017Q2': 'BB'}, 'NCLH': {'2013Q2': 'BB-'}, 'MWA': {'2013Q3': 'BB-'}, 'TKR': {'2016Q3': 'BBB'}, 'ARMK': {'2014Q1': 'BB', '2012Q3': 'B+'}, 'BG': {'2016Q1': 'BBB', '2020Q1': 'BBB'}, 'JBHT': {'2012Q4': 'BBB+'}, 'BBWI': {'2011Q2': 'BB+'}, 'TEX': {'2014Q2': 'BB', '2014Q4': 'BB'}, 'THS': {'2014Q2': 'BB'}, 'WCN': {'2011Q4': 'BBB', '2013Q1': 'BBB-', '2016Q1': 'BBB+'}, 'CAG': {'2017Q1': 'BBB', '2013Q1': 'BBB-'}, 'TAP': {'2016Q1': 'BBB-', '2011Q3': 'BBB-'}, 'EAT': {'2016Q4': 'BB+', '2010Q1': 'BBB-'}, 'SYY': {'2015Q4': 'A-', '2016Q2': 'BBB+', '2013Q2': 'A', '2011Q2': 'A+'}, 'EAF': {'2016Q1': 'B', '2015Q1': 'BB-', '2016Q2': 'CCC+', '2015Q4': 'B+'}, 'CMCO': {'2017Q2': 'B+'}, 'GME': {'2017Q2': 'BB'}, 'WW': {'2014Q3': 'B', '2013Q2': 'BB-', '2014Q2': 'B+', '2015Q3': 'B-', '2011Q2': 'BB'}, 'MLKN': {'2010Q4': 'BBB-'}, 'MTW': {'2011Q1': 'B+', '2016Q2': 'B+', '2017Q1': 'B'}, 'VATE': {'2016Q1': 'B-'}, 'ATI': {'2016Q3': 'B', '2016Q1': 'BB-', '2016Q2': 'B+', '2015Q2': 'BB+'}, 'CTAS': {'2011Q3': 'BBB+', '2016Q4': 'BBB+'}, 'CWST': {'2013Q2': 'B-', '2012Q2': 'B', '2023Q2': 'B', '2017Q4': 'B', '2016Q1': 'B-'}, 'PRMW': {'2015Q1': 'B'}, 'KEX': {'2016Q2': 'BBB+'}, 'LMT': {'2016Q1': 'BBB+', '2020Q2': 'BBB+'}, 'GLDD': {'2016Q1': 'B-', '2013Q4': 'B-'}, 'DOV': {'2016Q3': 'A-'}, 'TGT': {'2014Q2': 'A'}, 'KSS': {'2017Q2': 'BBB-', '2015Q1': 'BBB'}, 'GE': {'2016Q4': 'AA-'}, 'PNR': {'2016Q2': 'BBB-', '2015Q3': 'BBB'}, 'TWI': {'2015Q3': 'B', '2015Q4': 'B-'}, 'GHC': {'2012Q1': 'BBB+', '2012Q4': 'BBB', '2011Q4': 'A-', '2015Q4': 'BB+'}, 'KBH': {'2010Q4': 'B+', '2012Q2': 'B'}, 'STKL': {'2016Q4': 'B-'}, 'LE': {'2016Q3': 'B-', '2016Q2': 'B'}, 'SAH': {'2016Q4': 'BB-', '2019Q3': 'BB-'}, 'CPB': {'2012Q1': 'A-', '2012Q4': 'BBB+'}, 'LEN': {'2011Q1': 'B+'}, 'KTOS': {'2015Q1': 'B-', '2012Q3': 'B'}, 'LHX': {'2015Q3': 'BBB-'}, 'YUM': {'2016Q1': 'BB'}, 'JWN': {'2016Q2': 'BBB+'}, 'IR': {'2013Q4': 'B'}, 'ITT': {'2012Q1': 'BBB-', '2010Q2': 'BBB+'}, 'K': {'2016Q1': 'BBB', '2018Q4': 'BBB'}, 'CCK': {'2014Q3': 'BB'}, 'FCN': {'2014Q2': 'BB'}, 'PBI': {'2010Q4': 'BBB+', '2013Q1': 'BBB', '2017Q1': 'BBB-'}, 'QUAD': {'2014Q3': 'BB-', '2013Q1': 'BB'}, 'CCEP': {'2011Q1': 'BBB+'}, 'R': {'2012Q4': 'BBB'}, 'ALGT': {'2016Q4': 'BB-'}, 'NVRI': {'2015Q3': 'BB', '2011Q2': 'BBB+', '2014Q1': 'BB+', '2016Q2': 'BB-', '2012Q2': 'BBB', '2013Q2': 'BBB-', '2019Q2': 'BB-', '2020Q1': 'BB-'}, 'SJM': {'2015Q2': 'BBB'}, 'TRI': {'2014Q1': 'BBB+'}, 'BCO': {'2013Q4': 'BBB-'}, 'RTX': {'2015Q4': 'A-'}, 'LOW': {'2010Q3': 'A', '2012Q1': 'A-', '2024Q1': 'A-', '2010Q2': 'A+'}, 'ADP': {'2014Q3': 'AA', '2014Q2': 'AAA'}, 'CHH': {'2012Q3': 'BB+', '2010Q4': 'BBB'}, 'MCD': {'2015Q3': 'A-', '2016Q1': 'BBB+'}, 'LEG': {'2011Q1': 'BBB+'}, 'PRKS': {'2012Q2': 'B+', '2014Q4': 'BB-'}, 'EPC': {'2015Q4': 'BB+'}, 'GATX': {'2010Q4': 'BBB'}, 'SEE': {'2011Q4': 'BB', '2012Q4': 'BB-', '2017Q4': 'BB'}, 'FOSL': {'2016Q3': 'BB+', '2017Q2': 'BB'}, 'TT': {'2013Q3': 'BBB'}, 'LNW': {'2013Q3': 'BB-', '2016Q4': 'B', '2014Q4': 'B+'}, 'PCAR': {'2010Q3': 'A+'}, 'WEN': {'2015Q3': 'B', '2020Q4': 'B'}, 'KMT': {'2016Q4': 'BBB-'}, 'UAA': {'2017Q2': 'BB+'}, 'PEP': {'2010Q2': 'A'}, 'BTI': {'2017Q2': 'BBB+', '2011Q1': 'BBB+'}, 'GEF': {'2013Q4': 'BB'}, 'PVH': {'2010Q3': 'BB+'}, 'TM': {'2011Q2': 'AA-'}, 'HLF': {'2017Q2': 'BB-'}, 'MDLZ': {'2010Q2': 'BBB'}, 'UPS': {'2012Q4': 'A+', '2019Q2': 'A+'}, 'CRS': {'2017Q1': 'BBB-', '2019Q1': 'BBB-', '2024Q1': 'BBB-'}, 'HI': {'2013Q1': 'BBB-', '2023Q4': 'BBB-'}, 'GWW': {'2015Q4': 'AA-', '2015Q3': 'AA', '2016Q4': 'AA-'}, 'POST': {'2014Q1': 'B'}, 'ODP': {'2011Q4': 'B-', '2016Q4': 'B-'}, 'LPX': {'2015Q4': 'BB-'}, 'TOL': {'2011Q3': 'BB+', '2013Q4': 'BB+'}, 'IEX': {'2021Q1': 'BBB'}, 'FLS': {'2013Q4': 'BBB-'}, 'ATS': {'2023Q3': 'BB'}, 'DAR': {'2011Q3': 'BB'}, 'CL': {'2013Q2': 'AA-'}, 'BA': {'2017Q1': 'A', '2015Q2': 'A'}, 'BECN': {'2022Q2': 'BB-'}, 'QSR': {'2019Q2': 'B+'}, 'DY': {'2018Q3': 'BB'}, 'UVV': {'2021Q4': 'BBB-'}, 'ADNT': {'2024Q1': 'BB+', '2022Q1': 'BB+'}, 'OLLI': {'2017Q4': 'B+'}, 'KAR': {'2023Q1': 'BB-', '2022Q1': 'BB-'}, 'CHDN': {'2021Q3': 'BB'}, 'IMKTA': {'2011Q2': 'BB-'}, 'VC': {'2019Q3': 'BB-'}, 'ALLE': {'2016Q2': 'BB+', '2022Q1': 'BBB-'}, 'HBI': {'2015Q1': 'BB', '2019Q3': 'BB', '2010Q4': 'BB-', '2022Q3': 'BB'}, 'EXPE': {'2019Q3': 'BBB-'}, 'ITW': {'2020Q2': 'A+'}, 'VGR': {'2015Q2': 'B'}, 'ETN': {'2021Q2': 'A-', '2016Q1': 'A-'}, 'NWL': {'2017Q4': 'BBB-'}, 'JCI': {'2010Q3': 'BBB'}, 'CCS': {'2020Q3': 'B'}, 'TCS': {'2019Q2': 'B'}, 'NKE': {'2018Q4': 'AA-', '2015Q3': 'AA-'}, 'SNA': {'2017Q1': 'A-'}, 'ENS': {'2017Q2': 'BB+'}, 'UL': {'2016Q2': 'A+'}, 'BALL': {'2011Q1': 'BB+', '2018Q3': 'BB+', '2020Q1': 'BB+'}, 'GTLS': {'2014Q2': 'BB-'}, 'HMC': {'2023Q3': 'A+'}, 'RYI': {'2012Q3': 'B-', '2016Q1': 'B-', '2013Q3': 'B-'}, 'RELX': {'2021Q4': 'BBB+'}, 'H': {'2019Q3': 'BBB'}, 'PG': {'2017Q1': 'AA-'}, 'CPLP': {'2015Q4': 'BB-'}, 'ALSN': {'2017Q4': 'B+'}, 'UFI': {'2021Q2': 'B'}, 'KOF': {'2020Q2': 'A-'}, 'HWM': {'2024Q1': 'BBB-'}, 'ETD': {'2010Q3': 'B+'}, 'PAG': {'2015Q1': 'BB', '2017Q2': 'BB'}, 'DIN': {'2021Q1': 'B'}, 'GMS': {'2018Q3': 'B+'}, 'CWH': {'2018Q4': 'B+'}, 'HON': {'2022Q1': 'A'}, 'AIR': {'2021Q2': 'BB+'}, 'TTC': {'2019Q3': 'BBB'}, 'JD': {'2020Q2': 'BBB-'}, 'WM': {'2014Q2': 'A-'}, 'COKE': {'2012Q1': 'BBB', '2024Q1': 'BBB'}, 'ROST': {'2022Q2': 'A-'}, 'ROCK': {'2019Q4': 'BB'}, 'IP': {'2010Q4': 'BBB'}, 'NSC': {'2011Q3': 'BBB+'}, 'SRI': {'2014Q1': 'BB-'}, 'TUP': {'2016Q2': 'BBB-'}, 'DEO': {'2017Q3': 'A-'}, 'CZR': {'2021Q3': 'B'}}\n"
     ]
    }
   ],
   "source": [
    "class RatingProcessor:\n",
    "    def __init__(self, file_path):\n",
    "        self.file_path = file_path\n",
    "        self.df = None\n",
    "        self.df_num = None\n",
    "        self.df_diff = None\n",
    "        self.final_ratings = {}\n",
    "\n",
    "    def load_data(self):\n",
    "        with open(self.file_path, 'rb') as f:\n",
    "            data = pickle.load(f)\n",
    "        self.df = pd.DataFrame(data).T\n",
    "\n",
    "    def rating_to_numeric(self, rating):\n",
    "        rating_order = [\n",
    "            'D', 'CCC-', 'CCC', 'CCC+', 'CC', \n",
    "            'B-', 'B', 'B+', 'BB-', 'BB', 'BB+', \n",
    "            'BBB-', 'BBB', 'BBB+', 'A-', 'A', 'A+', \n",
    "            'AA-', 'AA', 'AA+', 'AAA'\n",
    "        ]\n",
    "        rating_to_num = {rating: i for i, rating in enumerate(rating_order)}\n",
    "        if pd.isna(rating):\n",
    "            return None\n",
    "        return rating_to_num.get(rating, None)\n",
    "\n",
    "    def convert_ratings(self):\n",
    "        self.df_num = self.df.applymap(self.rating_to_numeric)\n",
    "\n",
    "    def calculate_diff(self):\n",
    "        self.df_diff = self.df_num.diff(axis=1)\n",
    "        first_quarter = self.df.iloc[:, 0]\n",
    "        self.df_diff.iloc[:, 0] = first_quarter.apply(lambda x: 0 if pd.notna(x) else None)\n",
    "\n",
    "    def count_changes(self):\n",
    "        no_change = (self.df_diff == 0).sum().sum()\n",
    "        increase = (self.df_diff > 0).sum().sum()\n",
    "        decrease = (self.df_diff < 0).sum().sum()\n",
    "        return no_change, increase, decrease\n",
    "\n",
    "    def extract_ratings_by_change_type(self):\n",
    "        increase = []\n",
    "        decrease = []\n",
    "        no_change = []\n",
    "        for company in self.df.index:\n",
    "            for quarter in self.df.columns:\n",
    "                if self.df_diff.loc[company, quarter] > 0:\n",
    "                    increase.append((company, quarter))\n",
    "                elif self.df_diff.loc[company, quarter] < 0:\n",
    "                    decrease.append((company, quarter))\n",
    "                elif self.df_diff.loc[company, quarter] == 0:\n",
    "                    no_change.append((company, quarter))\n",
    "        \n",
    "        return increase, decrease, no_change\n",
    "\n",
    "    def select_samples(self, increase, decrease, no_change):\n",
    "        num_samples = min(len(increase), len(decrease), len(no_change))\n",
    "        selected_increase = random.sample(increase, num_samples)\n",
    "        selected_decrease = random.sample(decrease, num_samples)\n",
    "        selected_no_change = random.sample(no_change, num_samples)\n",
    "        return selected_increase + selected_decrease + selected_no_change\n",
    "\n",
    "    def create_final_ratings(self, selected_data):\n",
    "        for company, quarter in selected_data:\n",
    "            if company not in self.final_ratings:\n",
    "                self.final_ratings[company] = {}\n",
    "            self.final_ratings[company][quarter] = self.df.loc[company, quarter]\n",
    "\n",
    "    def save_final_ratings(self, output_path):\n",
    "        pd.to_pickle(self.final_ratings, output_path)\n",
    "\n",
    "    def process_ratings(self, output_path):\n",
    "        self.load_data()\n",
    "        self.convert_ratings()\n",
    "        self.calculate_diff()\n",
    "        no_change, increase, decrease = self.count_changes()\n",
    "        print(f\"No Change: {no_change}\")\n",
    "        print(f\"Increase: {increase}\")\n",
    "        print(f\"Decrease: {decrease}\")\n",
    "\n",
    "        increase, decrease, no_change = self.extract_ratings_by_change_type()\n",
    "        selected_data = self.select_samples(increase, decrease, no_change)\n",
    "        self.create_final_ratings(selected_data)\n",
    "        self.save_final_ratings(output_path)\n",
    "        return self.final_ratings\n",
    "\n",
    "# 使用示例\n",
    "processor = RatingProcessor('data/ratings_retail_indus.pkl')\n",
    "final_ratings = processor.process_ratings('data/ratings_retail_indus_processed.pkl')\n",
    "print(\"Final Ratings:\", final_ratings)\n"
   ]
  }
 ],
 "metadata": {
  "kernelspec": {
   "display_name": "219-env-ass02",
   "language": "python",
   "name": "python3"
  },
  "language_info": {
   "codemirror_mode": {
    "name": "ipython",
    "version": 3
   },
   "file_extension": ".py",
   "mimetype": "text/x-python",
   "name": "python",
   "nbconvert_exporter": "python",
   "pygments_lexer": "ipython3",
   "version": "3.8.18"
  }
 },
 "nbformat": 4,
 "nbformat_minor": 2
}
