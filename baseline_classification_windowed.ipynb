{
 "cells": [
  {
   "cell_type": "markdown",
   "metadata": {},
   "source": [
    "# Baseline Classification Models (Windowed Data)"
   ]
  },
  {
   "cell_type": "code",
   "execution_count": 1,
   "metadata": {},
   "outputs": [],
   "source": [
    "import numpy as np # Use version 1.x not 2.x\n",
    "import random\n",
    "import pandas as pd\n",
    "\n",
    "RANDOM_SEED = 42\n",
    "np.random.seed(RANDOM_SEED)\n",
    "random.seed(RANDOM_SEED)"
   ]
  },
  {
   "cell_type": "code",
   "execution_count": 2,
   "metadata": {},
   "outputs": [],
   "source": [
    "import pickle\n",
    "\n",
    "def load_data(file_path):\n",
    "    with open(file_path, 'rb') as f:\n",
    "        data = pickle.load(f)\n",
    "\n",
    "    records = []\n",
    "    for company, periods in data.items():\n",
    "        for period, (features, rating) in periods.items():\n",
    "            record = {\n",
    "                'company': company,\n",
    "                'period': period,\n",
    "                **{f'feature_{i}': feature.item() for i, feature in enumerate(features)},\n",
    "                'rating': int(rating.item())\n",
    "            }\n",
    "            records.append(record)\n",
    "\n",
    "    return pd.DataFrame(records)"
   ]
  },
  {
   "cell_type": "code",
   "execution_count": 3,
   "metadata": {},
   "outputs": [],
   "source": [
    "from sklearn.preprocessing import LabelEncoder\n",
    "\n",
    "# needed for XGBoost\n",
    "def encode_labels(y_train, y_test):\n",
    "    label_encoder = LabelEncoder()\n",
    "    y_train_encoded = label_encoder.fit_transform(y_train)\n",
    "    \n",
    "    test_labels = np.unique(y_test)\n",
    "    new_labels = np.setdiff1d(test_labels, label_encoder.classes_)\n",
    "    if new_labels.size > 0:\n",
    "        label_encoder.classes_ = np.append(label_encoder.classes_, new_labels)\n",
    "    \n",
    "    y_test_encoded = label_encoder.transform(y_test)\n",
    "    \n",
    "    return y_train_encoded, y_test_encoded"
   ]
  },
  {
   "cell_type": "code",
   "execution_count": 4,
   "metadata": {},
   "outputs": [],
   "source": [
    "from sklearn.preprocessing import StandardScaler\n",
    "\n",
    "train_df = load_data('./data/train_dict_windowed.pkl')\n",
    "test_df = load_data('./data/test_dict_windowed.pkl')\n",
    "\n",
    "X_train = train_df.drop(columns=['company', 'period', 'rating'])\n",
    "y_train = train_df['rating']\n",
    "X_test = test_df.drop(columns=['company', 'period', 'rating'])\n",
    "y_test = test_df['rating']\n",
    "\n",
    "# Scale features\n",
    "scaler = StandardScaler()\n",
    "X_train = scaler.fit_transform(X_train)\n",
    "X_test = scaler.transform(X_test)\n",
    "\n",
    "y_train, y_test = encode_labels(y_train, y_test)"
   ]
  },
  {
   "cell_type": "code",
   "execution_count": 5,
   "metadata": {},
   "outputs": [
    {
     "name": "stdout",
     "output_type": "stream",
     "text": [
      "<class 'pandas.core.frame.DataFrame'>\n",
      "RangeIndex: 13419 entries, 0 to 13418\n",
      "Data columns (total 95 columns):\n",
      " #   Column      Non-Null Count  Dtype  \n",
      "---  ------      --------------  -----  \n",
      " 0   company     13419 non-null  object \n",
      " 1   period      13419 non-null  object \n",
      " 2   feature_0   13419 non-null  float64\n",
      " 3   feature_1   13419 non-null  float64\n",
      " 4   feature_2   13419 non-null  float64\n",
      " 5   feature_3   13419 non-null  float64\n",
      " 6   feature_4   13419 non-null  float64\n",
      " 7   feature_5   13419 non-null  float64\n",
      " 8   feature_6   13419 non-null  float64\n",
      " 9   feature_7   13419 non-null  float64\n",
      " 10  feature_8   13419 non-null  float64\n",
      " 11  feature_9   13419 non-null  float64\n",
      " 12  feature_10  13419 non-null  float64\n",
      " 13  feature_11  13419 non-null  float64\n",
      " 14  feature_12  13419 non-null  float64\n",
      " 15  feature_13  13419 non-null  float64\n",
      " 16  feature_14  13419 non-null  float64\n",
      " 17  feature_15  13419 non-null  float64\n",
      " 18  feature_16  13419 non-null  float64\n",
      " 19  feature_17  13419 non-null  float64\n",
      " 20  feature_18  13419 non-null  float64\n",
      " 21  feature_19  13419 non-null  float64\n",
      " 22  feature_20  13419 non-null  float64\n",
      " 23  feature_21  13419 non-null  float64\n",
      " 24  feature_22  13419 non-null  float64\n",
      " 25  feature_23  13419 non-null  float64\n",
      " 26  feature_24  13419 non-null  float64\n",
      " 27  feature_25  13419 non-null  float64\n",
      " 28  feature_26  13419 non-null  float64\n",
      " 29  feature_27  13419 non-null  float64\n",
      " 30  feature_28  13419 non-null  float64\n",
      " 31  feature_29  13419 non-null  float64\n",
      " 32  feature_30  13419 non-null  float64\n",
      " 33  feature_31  13419 non-null  float64\n",
      " 34  feature_32  13419 non-null  float64\n",
      " 35  feature_33  13419 non-null  float64\n",
      " 36  feature_34  13419 non-null  float64\n",
      " 37  feature_35  13419 non-null  float64\n",
      " 38  feature_36  13419 non-null  float64\n",
      " 39  feature_37  13419 non-null  float64\n",
      " 40  feature_38  13419 non-null  float64\n",
      " 41  feature_39  13419 non-null  float64\n",
      " 42  feature_40  13419 non-null  float64\n",
      " 43  feature_41  13419 non-null  float64\n",
      " 44  feature_42  13419 non-null  float64\n",
      " 45  feature_43  13419 non-null  float64\n",
      " 46  feature_44  13419 non-null  float64\n",
      " 47  feature_45  13419 non-null  float64\n",
      " 48  feature_46  13419 non-null  float64\n",
      " 49  feature_47  13419 non-null  float64\n",
      " 50  feature_48  13419 non-null  float64\n",
      " 51  feature_49  13419 non-null  float64\n",
      " 52  feature_50  13419 non-null  float64\n",
      " 53  feature_51  13419 non-null  float64\n",
      " 54  feature_52  13419 non-null  float64\n",
      " 55  feature_53  13419 non-null  float64\n",
      " 56  feature_54  13419 non-null  float64\n",
      " 57  feature_55  13419 non-null  float64\n",
      " 58  feature_56  13419 non-null  float64\n",
      " 59  feature_57  13419 non-null  float64\n",
      " 60  feature_58  13419 non-null  float64\n",
      " 61  feature_59  13419 non-null  float64\n",
      " 62  feature_60  13419 non-null  float64\n",
      " 63  feature_61  13419 non-null  float64\n",
      " 64  feature_62  13419 non-null  float64\n",
      " 65  feature_63  13419 non-null  float64\n",
      " 66  feature_64  13419 non-null  float64\n",
      " 67  feature_65  13419 non-null  float64\n",
      " 68  feature_66  13419 non-null  float64\n",
      " 69  feature_67  13419 non-null  float64\n",
      " 70  feature_68  13419 non-null  float64\n",
      " 71  feature_69  13419 non-null  float64\n",
      " 72  feature_70  13419 non-null  float64\n",
      " 73  feature_71  13419 non-null  float64\n",
      " 74  feature_72  13419 non-null  float64\n",
      " 75  feature_73  13419 non-null  float64\n",
      " 76  feature_74  13419 non-null  float64\n",
      " 77  feature_75  13419 non-null  float64\n",
      " 78  feature_76  13419 non-null  float64\n",
      " 79  feature_77  13419 non-null  float64\n",
      " 80  feature_78  13419 non-null  float64\n",
      " 81  feature_79  13419 non-null  float64\n",
      " 82  feature_80  13419 non-null  float64\n",
      " 83  feature_81  13419 non-null  float64\n",
      " 84  feature_82  13419 non-null  float64\n",
      " 85  feature_83  13419 non-null  float64\n",
      " 86  feature_84  13419 non-null  float64\n",
      " 87  feature_85  13419 non-null  float64\n",
      " 88  feature_86  13419 non-null  float64\n",
      " 89  feature_87  13419 non-null  float64\n",
      " 90  feature_88  13419 non-null  float64\n",
      " 91  feature_89  13419 non-null  float64\n",
      " 92  feature_90  13419 non-null  float64\n",
      " 93  feature_91  13419 non-null  float64\n",
      " 94  rating      13419 non-null  int64  \n",
      "dtypes: float64(92), int64(1), object(2)\n",
      "memory usage: 9.7+ MB\n"
     ]
    }
   ],
   "source": [
    "train_df.info()"
   ]
  },
  {
   "cell_type": "code",
   "execution_count": 6,
   "metadata": {},
   "outputs": [
    {
     "name": "stdout",
     "output_type": "stream",
     "text": [
      "Train-Test Split Accuracy Results\n",
      "Decision Tree       : 0.1502\n",
      "Random Forest       : 0.1979\n",
      "Logistic Regression : 0.1959\n",
      "k-NN (k=1)          : 0.1307\n",
      "Naive Bayes         : 0.0917\n",
      "SVM                 : 0.1885\n",
      "LDA                 : 0.1440\n",
      "XGBoost             : 0.1762\n",
      "LightGBM            : 0.1591\n"
     ]
    }
   ],
   "source": [
    "from sklearn.tree import DecisionTreeClassifier\n",
    "from sklearn.ensemble import RandomForestClassifier\n",
    "from sklearn.linear_model import LogisticRegression\n",
    "from sklearn.neighbors import KNeighborsClassifier\n",
    "from sklearn.naive_bayes import GaussianNB\n",
    "from sklearn.svm import SVC\n",
    "from sklearn.discriminant_analysis import LinearDiscriminantAnalysis\n",
    "import xgboost as xgb\n",
    "import lightgbm as lgb\n",
    "from sklearn.metrics import accuracy_score\n",
    "\n",
    "models = {\n",
    "    'Decision Tree': DecisionTreeClassifier(random_state=RANDOM_SEED),\n",
    "    'Random Forest': RandomForestClassifier(n_estimators=100, random_state=RANDOM_SEED),\n",
    "    'Logistic Regression': LogisticRegression(max_iter=2000, random_state=RANDOM_SEED),\n",
    "    'k-NN (k=1)': KNeighborsClassifier(n_neighbors=1),\n",
    "    'Naive Bayes': GaussianNB(),\n",
    "    'SVM': SVC(random_state=RANDOM_SEED),\n",
    "    'LDA': LinearDiscriminantAnalysis(),\n",
    "    'XGBoost': xgb.XGBClassifier(eval_metric='mlogloss', random_state=RANDOM_SEED),\n",
    "    'LightGBM': lgb.LGBMClassifier(random_state=RANDOM_SEED, verbose = -1)\n",
    "}\n",
    "\n",
    "print('Train-Test Split Accuracy Results')\n",
    "for model_name, model in models.items():\n",
    "    model.fit(X_train, y_train)\n",
    "    y_pred = model.predict(X_test)\n",
    "    accuracy = accuracy_score(y_test, y_pred)\n",
    "    print(f'{model_name:20}: {accuracy:.4f}')"
   ]
  },
  {
   "cell_type": "markdown",
   "metadata": {},
   "source": [
    "#### Class Distribution"
   ]
  },
  {
   "cell_type": "code",
   "execution_count": 7,
   "metadata": {},
   "outputs": [
    {
     "data": {
      "image/png": "[encoded data removed]",
      "text/plain": [
       "<Figure size 1000x600 with 1 Axes>"
      ]
     },
     "metadata": {},
     "output_type": "display_data"
    }
   ],
   "source": [
    "import matplotlib.pyplot as plt\n",
    "\n",
    "def plot_class_distribution(y_train, y_test, title):\n",
    "    plt.figure(figsize=(10, 6))\n",
    "    train_counts = y_train.value_counts().sort_index()\n",
    "    test_counts = y_test.value_counts().sort_index()\n",
    "    \n",
    "    df_plot = pd.DataFrame({'Train': train_counts, 'Test': test_counts}).fillna(0)\n",
    "    df_plot.plot(kind='bar', ax=plt.gca())\n",
    "    \n",
    "    plt.title(title)\n",
    "    plt.xlabel('Class')\n",
    "    plt.ylabel('Frequency')\n",
    "    plt.xticks(rotation=0)\n",
    "    plt.legend(['Train', 'Test'])\n",
    "    plt.show()\n",
    "\n",
    "plot_class_distribution(train_df['rating'], test_df['rating'], 'Training and Test Data Class Distribution')"
   ]
  },
  {
   "cell_type": "code",
   "execution_count": 8,
   "metadata": {},
   "outputs": [
    {
     "name": "stdout",
     "output_type": "stream",
     "text": [
      "Chi-square statistic: 542.880692116998\n",
      "P-value: 5.474432886505517e-103\n",
      "The difference in class distributions between training and test datasets is statistically significant.\n"
     ]
    }
   ],
   "source": [
    "from scipy.stats import chi2_contingency\n",
    "\n",
    "train_label_counts = train_df['rating'].value_counts()\n",
    "test_label_counts = test_df['rating'].value_counts()\n",
    "\n",
    "observed = pd.DataFrame({'Train': train_label_counts, 'Test': test_label_counts}).fillna(0)\n",
    "chi2, p, dof, expected = chi2_contingency(observed.T)\n",
    "\n",
    "print(f\"Chi-square statistic: {chi2}\")\n",
    "print(f\"P-value: {p}\")\n",
    "\n",
    "if p < 0.05:\n",
    "    print(\"The difference in class distributions between training and test datasets is statistically significant.\")\n",
    "else:\n",
    "    print(\"The difference in class distributions between training and test datasets is not statistically significant.\")\n"
   ]
  },
  {
   "cell_type": "markdown",
   "metadata": {},
   "source": [
    "#### Feature Distributrion"
   ]
  },
  {
   "cell_type": "code",
   "execution_count": 9,
   "metadata": {},
   "outputs": [
    {
     "data": {
      "image/png": "[encoded data removed]",
      "text/plain": [
       "<Figure size 1000x600 with 1 Axes>"
      ]
     },
     "metadata": {},
     "output_type": "display_data"
    }
   ],
   "source": [
    "from scipy.stats import ttest_ind\n",
    "import pandas as pd\n",
    "import seaborn as sns\n",
    "\n",
    "numeric_features = train_df.select_dtypes(include=['float64']).columns\n",
    "\n",
    "t_test_results = []\n",
    "\n",
    "for feature in numeric_features:\n",
    "    t_stat, p_value = ttest_ind(train_df[feature], test_df[feature])\n",
    "    t_test_results.append({'feature': feature, 't_statistic': t_stat, 'p_value': p_value})\n",
    "\n",
    "t_test_df = pd.DataFrame(t_test_results)\n",
    "\n",
    "t_test_df['-log10(p_value)'] = -np.log10(t_test_df['p_value'])\n",
    "\n",
    "plt.figure(figsize=(10, 6))\n",
    "\n",
    "sns.barplot(x='feature', y='-log10(p_value)', data=t_test_df)\n",
    "plt.axhline(-np.log10(0.05), color='red', linestyle='--')\n",
    "plt.xticks(rotation=90)\n",
    "plt.title('P-Value (-log10) for Each Feature')\n",
    "plt.xlabel('Feature')\n",
    "plt.ylabel('-log10(P-Value)')\n",
    "\n",
    "plt.tight_layout()\n",
    "plt.show()"
   ]
  },
  {
   "cell_type": "markdown",
   "metadata": {},
   "source": [
    "### Predict newer data (20%) from older data (80%)"
   ]
  },
  {
   "cell_type": "code",
   "execution_count": 10,
   "metadata": {},
   "outputs": [],
   "source": [
    "def split_by_period(df):\n",
    "    split_index = int(len(df) * 0.8)\n",
    "    train_data = df.iloc[:split_index]\n",
    "    test_data = df.iloc[split_index:]\n",
    "    return train_data, test_data\n",
    "\n",
    "merged_df = pd.concat([train_df, test_df], ignore_index=True)\n",
    "merged_df = merged_df.sort_values(by=['company', 'period'])\n",
    "\n",
    "train_df = pd.DataFrame()\n",
    "test_df = pd.DataFrame()\n",
    "\n",
    "for company, group in merged_df.groupby('company'):\n",
    "    train_data, test_data = split_by_period(group)\n",
    "    train_df = pd.concat([train_df, train_data])\n",
    "    test_df = pd.concat([test_df, test_data])\n",
    "\n",
    "train_df.reset_index(drop=True, inplace=True)\n",
    "test_df.reset_index(drop=True, inplace=True)"
   ]
  },
  {
   "cell_type": "code",
   "execution_count": 11,
   "metadata": {},
   "outputs": [
    {
     "data": {
      "text/html": [
       "<div>\n",
       "<style scoped>\n",
       "    .dataframe tbody tr th:only-of-type {\n",
       "        vertical-align: middle;\n",
       "    }\n",
       "\n",
       "    .dataframe tbody tr th {\n",
       "        vertical-align: top;\n",
       "    }\n",
       "\n",
       "    .dataframe thead th {\n",
       "        text-align: right;\n",
       "    }\n",
       "</style>\n",
       "<table border=\"1\" class=\"dataframe\">\n",
       "  <thead>\n",
       "    <tr style=\"text-align: right;\">\n",
       "      <th></th>\n",
       "      <th>company</th>\n",
       "      <th>period</th>\n",
       "      <th>feature_0</th>\n",
       "      <th>feature_1</th>\n",
       "      <th>feature_2</th>\n",
       "      <th>feature_3</th>\n",
       "      <th>feature_4</th>\n",
       "      <th>feature_5</th>\n",
       "      <th>feature_6</th>\n",
       "      <th>feature_7</th>\n",
       "      <th>...</th>\n",
       "      <th>feature_83</th>\n",
       "      <th>feature_84</th>\n",
       "      <th>feature_85</th>\n",
       "      <th>feature_86</th>\n",
       "      <th>feature_87</th>\n",
       "      <th>feature_88</th>\n",
       "      <th>feature_89</th>\n",
       "      <th>feature_90</th>\n",
       "      <th>feature_91</th>\n",
       "      <th>rating</th>\n",
       "    </tr>\n",
       "  </thead>\n",
       "  <tbody>\n",
       "    <tr>\n",
       "      <th>41</th>\n",
       "      <td>AAL</td>\n",
       "      <td>2020Q2</td>\n",
       "      <td>6.397942</td>\n",
       "      <td>20.959440</td>\n",
       "      <td>15.179953</td>\n",
       "      <td>15.751231</td>\n",
       "      <td>12.555426</td>\n",
       "      <td>3.893929</td>\n",
       "      <td>22.912008</td>\n",
       "      <td>24.393595</td>\n",
       "      <td>...</td>\n",
       "      <td>-8.993368</td>\n",
       "      <td>-14.530337</td>\n",
       "      <td>-0.707366</td>\n",
       "      <td>-0.522562</td>\n",
       "      <td>0.225215</td>\n",
       "      <td>-14.396945</td>\n",
       "      <td>-2.791513</td>\n",
       "      <td>10.533374</td>\n",
       "      <td>0.934059</td>\n",
       "      <td>12</td>\n",
       "    </tr>\n",
       "    <tr>\n",
       "      <th>42</th>\n",
       "      <td>AAL</td>\n",
       "      <td>2020Q3</td>\n",
       "      <td>5.439050</td>\n",
       "      <td>21.035950</td>\n",
       "      <td>14.881256</td>\n",
       "      <td>11.709346</td>\n",
       "      <td>12.031379</td>\n",
       "      <td>4.010077</td>\n",
       "      <td>21.430578</td>\n",
       "      <td>24.599485</td>\n",
       "      <td>...</td>\n",
       "      <td>-4.068741</td>\n",
       "      <td>-8.808525</td>\n",
       "      <td>-0.722517</td>\n",
       "      <td>-0.550122</td>\n",
       "      <td>0.165980</td>\n",
       "      <td>-8.626437</td>\n",
       "      <td>-3.491277</td>\n",
       "      <td>6.862294</td>\n",
       "      <td>1.184092</td>\n",
       "      <td>12</td>\n",
       "    </tr>\n",
       "    <tr>\n",
       "      <th>43</th>\n",
       "      <td>AAL</td>\n",
       "      <td>2020Q4</td>\n",
       "      <td>4.715318</td>\n",
       "      <td>20.877996</td>\n",
       "      <td>14.523072</td>\n",
       "      <td>10.953375</td>\n",
       "      <td>11.431134</td>\n",
       "      <td>3.830160</td>\n",
       "      <td>22.500435</td>\n",
       "      <td>24.718748</td>\n",
       "      <td>...</td>\n",
       "      <td>-2.642344</td>\n",
       "      <td>-6.427341</td>\n",
       "      <td>-0.773885</td>\n",
       "      <td>-0.620862</td>\n",
       "      <td>0.061735</td>\n",
       "      <td>-7.137291</td>\n",
       "      <td>-3.521091</td>\n",
       "      <td>4.897902</td>\n",
       "      <td>1.222114</td>\n",
       "      <td>12</td>\n",
       "    </tr>\n",
       "    <tr>\n",
       "      <th>44</th>\n",
       "      <td>AAL</td>\n",
       "      <td>2021Q1</td>\n",
       "      <td>9.358152</td>\n",
       "      <td>20.610624</td>\n",
       "      <td>16.032759</td>\n",
       "      <td>30.888725</td>\n",
       "      <td>6.761358</td>\n",
       "      <td>3.559145</td>\n",
       "      <td>21.061703</td>\n",
       "      <td>29.293434</td>\n",
       "      <td>...</td>\n",
       "      <td>-3.286706</td>\n",
       "      <td>-3.899826</td>\n",
       "      <td>-0.515904</td>\n",
       "      <td>-0.258778</td>\n",
       "      <td>0.595875</td>\n",
       "      <td>-6.887997</td>\n",
       "      <td>-1.521122</td>\n",
       "      <td>2.209769</td>\n",
       "      <td>1.375260</td>\n",
       "      <td>12</td>\n",
       "    </tr>\n",
       "    <tr>\n",
       "      <th>45</th>\n",
       "      <td>AAP</td>\n",
       "      <td>2010Q1</td>\n",
       "      <td>0.000000</td>\n",
       "      <td>0.000000</td>\n",
       "      <td>0.000000</td>\n",
       "      <td>0.000000</td>\n",
       "      <td>0.000000</td>\n",
       "      <td>0.000000</td>\n",
       "      <td>0.000000</td>\n",
       "      <td>0.000000</td>\n",
       "      <td>...</td>\n",
       "      <td>0.855467</td>\n",
       "      <td>0.205086</td>\n",
       "      <td>-0.413703</td>\n",
       "      <td>-1.014619</td>\n",
       "      <td>-0.429032</td>\n",
       "      <td>0.493377</td>\n",
       "      <td>0.415742</td>\n",
       "      <td>1.222719</td>\n",
       "      <td>-0.361857</td>\n",
       "      <td>10</td>\n",
       "    </tr>\n",
       "  </tbody>\n",
       "</table>\n",
       "<p>5 rows × 95 columns</p>\n",
       "</div>"
      ],
      "text/plain": [
       "   company  period  feature_0  feature_1  feature_2  feature_3  feature_4  \\\n",
       "41     AAL  2020Q2   6.397942  20.959440  15.179953  15.751231  12.555426   \n",
       "42     AAL  2020Q3   5.439050  21.035950  14.881256  11.709346  12.031379   \n",
       "43     AAL  2020Q4   4.715318  20.877996  14.523072  10.953375  11.431134   \n",
       "44     AAL  2021Q1   9.358152  20.610624  16.032759  30.888725   6.761358   \n",
       "45     AAP  2010Q1   0.000000   0.000000   0.000000   0.000000   0.000000   \n",
       "\n",
       "    feature_5  feature_6  feature_7  ...  feature_83  feature_84  feature_85  \\\n",
       "41   3.893929  22.912008  24.393595  ...   -8.993368  -14.530337   -0.707366   \n",
       "42   4.010077  21.430578  24.599485  ...   -4.068741   -8.808525   -0.722517   \n",
       "43   3.830160  22.500435  24.718748  ...   -2.642344   -6.427341   -0.773885   \n",
       "44   3.559145  21.061703  29.293434  ...   -3.286706   -3.899826   -0.515904   \n",
       "45   0.000000   0.000000   0.000000  ...    0.855467    0.205086   -0.413703   \n",
       "\n",
       "    feature_86  feature_87  feature_88  feature_89  feature_90  feature_91  \\\n",
       "41   -0.522562    0.225215  -14.396945   -2.791513   10.533374    0.934059   \n",
       "42   -0.550122    0.165980   -8.626437   -3.491277    6.862294    1.184092   \n",
       "43   -0.620862    0.061735   -7.137291   -3.521091    4.897902    1.222114   \n",
       "44   -0.258778    0.595875   -6.887997   -1.521122    2.209769    1.375260   \n",
       "45   -1.014619   -0.429032    0.493377    0.415742    1.222719   -0.361857   \n",
       "\n",
       "    rating  \n",
       "41      12  \n",
       "42      12  \n",
       "43      12  \n",
       "44      12  \n",
       "45      10  \n",
       "\n",
       "[5 rows x 95 columns]"
      ]
     },
     "execution_count": 11,
     "metadata": {},
     "output_type": "execute_result"
    }
   ],
   "source": [
    "train_df.iloc[41:46]"
   ]
  },
  {
   "cell_type": "code",
   "execution_count": 12,
   "metadata": {},
   "outputs": [
    {
     "data": {
      "text/html": [
       "<div>\n",
       "<style scoped>\n",
       "    .dataframe tbody tr th:only-of-type {\n",
       "        vertical-align: middle;\n",
       "    }\n",
       "\n",
       "    .dataframe tbody tr th {\n",
       "        vertical-align: top;\n",
       "    }\n",
       "\n",
       "    .dataframe thead th {\n",
       "        text-align: right;\n",
       "    }\n",
       "</style>\n",
       "<table border=\"1\" class=\"dataframe\">\n",
       "  <thead>\n",
       "    <tr style=\"text-align: right;\">\n",
       "      <th></th>\n",
       "      <th>company</th>\n",
       "      <th>period</th>\n",
       "      <th>feature_0</th>\n",
       "      <th>feature_1</th>\n",
       "      <th>feature_2</th>\n",
       "      <th>feature_3</th>\n",
       "      <th>feature_4</th>\n",
       "      <th>feature_5</th>\n",
       "      <th>feature_6</th>\n",
       "      <th>feature_7</th>\n",
       "      <th>...</th>\n",
       "      <th>feature_83</th>\n",
       "      <th>feature_84</th>\n",
       "      <th>feature_85</th>\n",
       "      <th>feature_86</th>\n",
       "      <th>feature_87</th>\n",
       "      <th>feature_88</th>\n",
       "      <th>feature_89</th>\n",
       "      <th>feature_90</th>\n",
       "      <th>feature_91</th>\n",
       "      <th>rating</th>\n",
       "    </tr>\n",
       "  </thead>\n",
       "  <tbody>\n",
       "    <tr>\n",
       "      <th>0</th>\n",
       "      <td>AAL</td>\n",
       "      <td>2021Q2</td>\n",
       "      <td>8.340997</td>\n",
       "      <td>20.478172</td>\n",
       "      <td>15.584459</td>\n",
       "      <td>26.190260</td>\n",
       "      <td>7.776797</td>\n",
       "      <td>3.513597</td>\n",
       "      <td>19.382196</td>\n",
       "      <td>30.482496</td>\n",
       "      <td>...</td>\n",
       "      <td>-0.926600</td>\n",
       "      <td>-0.427103</td>\n",
       "      <td>-0.509899</td>\n",
       "      <td>-0.238318</td>\n",
       "      <td>0.627533</td>\n",
       "      <td>-7.407228</td>\n",
       "      <td>-0.421442</td>\n",
       "      <td>-0.477901</td>\n",
       "      <td>1.509752</td>\n",
       "      <td>12</td>\n",
       "    </tr>\n",
       "    <tr>\n",
       "      <th>1</th>\n",
       "      <td>AAL</td>\n",
       "      <td>2021Q3</td>\n",
       "      <td>7.467043</td>\n",
       "      <td>20.675615</td>\n",
       "      <td>15.390813</td>\n",
       "      <td>22.217646</td>\n",
       "      <td>7.848329</td>\n",
       "      <td>3.470326</td>\n",
       "      <td>19.364405</td>\n",
       "      <td>30.831976</td>\n",
       "      <td>...</td>\n",
       "      <td>-0.650341</td>\n",
       "      <td>-0.245818</td>\n",
       "      <td>-0.536629</td>\n",
       "      <td>-0.289740</td>\n",
       "      <td>0.542962</td>\n",
       "      <td>-7.247670</td>\n",
       "      <td>-0.295384</td>\n",
       "      <td>-0.820659</td>\n",
       "      <td>1.671445</td>\n",
       "      <td>12</td>\n",
       "    </tr>\n",
       "    <tr>\n",
       "      <th>2</th>\n",
       "      <td>AAL</td>\n",
       "      <td>2021Q4</td>\n",
       "      <td>12.376627</td>\n",
       "      <td>20.530413</td>\n",
       "      <td>17.071869</td>\n",
       "      <td>44.420910</td>\n",
       "      <td>8.754915</td>\n",
       "      <td>3.570533</td>\n",
       "      <td>20.270578</td>\n",
       "      <td>34.958687</td>\n",
       "      <td>...</td>\n",
       "      <td>-0.729365</td>\n",
       "      <td>-1.547125</td>\n",
       "      <td>-0.606601</td>\n",
       "      <td>-0.384312</td>\n",
       "      <td>0.397845</td>\n",
       "      <td>-7.153681</td>\n",
       "      <td>-1.279906</td>\n",
       "      <td>1.699241</td>\n",
       "      <td>1.922507</td>\n",
       "      <td>12</td>\n",
       "    </tr>\n",
       "    <tr>\n",
       "      <th>3</th>\n",
       "      <td>AAL</td>\n",
       "      <td>2022Q1</td>\n",
       "      <td>15.576209</td>\n",
       "      <td>20.224787</td>\n",
       "      <td>18.037573</td>\n",
       "      <td>56.781490</td>\n",
       "      <td>10.118683</td>\n",
       "      <td>3.868877</td>\n",
       "      <td>25.237936</td>\n",
       "      <td>34.572418</td>\n",
       "      <td>...</td>\n",
       "      <td>-1.072615</td>\n",
       "      <td>-2.484440</td>\n",
       "      <td>-0.675459</td>\n",
       "      <td>-0.477723</td>\n",
       "      <td>0.277068</td>\n",
       "      <td>-6.182828</td>\n",
       "      <td>-1.881923</td>\n",
       "      <td>2.639538</td>\n",
       "      <td>1.734946</td>\n",
       "      <td>12</td>\n",
       "    </tr>\n",
       "    <tr>\n",
       "      <th>4</th>\n",
       "      <td>AAL</td>\n",
       "      <td>2022Q2</td>\n",
       "      <td>13.153007</td>\n",
       "      <td>19.988266</td>\n",
       "      <td>17.018206</td>\n",
       "      <td>46.270180</td>\n",
       "      <td>11.286515</td>\n",
       "      <td>4.010077</td>\n",
       "      <td>22.174259</td>\n",
       "      <td>33.579163</td>\n",
       "      <td>...</td>\n",
       "      <td>-0.267140</td>\n",
       "      <td>-0.063466</td>\n",
       "      <td>-0.674590</td>\n",
       "      <td>-0.484475</td>\n",
       "      <td>0.249731</td>\n",
       "      <td>-6.522480</td>\n",
       "      <td>-0.030636</td>\n",
       "      <td>-1.386750</td>\n",
       "      <td>1.871140</td>\n",
       "      <td>12</td>\n",
       "    </tr>\n",
       "  </tbody>\n",
       "</table>\n",
       "<p>5 rows × 95 columns</p>\n",
       "</div>"
      ],
      "text/plain": [
       "  company  period  feature_0  feature_1  feature_2  feature_3  feature_4  \\\n",
       "0     AAL  2021Q2   8.340997  20.478172  15.584459  26.190260   7.776797   \n",
       "1     AAL  2021Q3   7.467043  20.675615  15.390813  22.217646   7.848329   \n",
       "2     AAL  2021Q4  12.376627  20.530413  17.071869  44.420910   8.754915   \n",
       "3     AAL  2022Q1  15.576209  20.224787  18.037573  56.781490  10.118683   \n",
       "4     AAL  2022Q2  13.153007  19.988266  17.018206  46.270180  11.286515   \n",
       "\n",
       "   feature_5  feature_6  feature_7  ...  feature_83  feature_84  feature_85  \\\n",
       "0   3.513597  19.382196  30.482496  ...   -0.926600   -0.427103   -0.509899   \n",
       "1   3.470326  19.364405  30.831976  ...   -0.650341   -0.245818   -0.536629   \n",
       "2   3.570533  20.270578  34.958687  ...   -0.729365   -1.547125   -0.606601   \n",
       "3   3.868877  25.237936  34.572418  ...   -1.072615   -2.484440   -0.675459   \n",
       "4   4.010077  22.174259  33.579163  ...   -0.267140   -0.063466   -0.674590   \n",
       "\n",
       "   feature_86  feature_87  feature_88  feature_89  feature_90  feature_91  \\\n",
       "0   -0.238318    0.627533   -7.407228   -0.421442   -0.477901    1.509752   \n",
       "1   -0.289740    0.542962   -7.247670   -0.295384   -0.820659    1.671445   \n",
       "2   -0.384312    0.397845   -7.153681   -1.279906    1.699241    1.922507   \n",
       "3   -0.477723    0.277068   -6.182828   -1.881923    2.639538    1.734946   \n",
       "4   -0.484475    0.249731   -6.522480   -0.030636   -1.386750    1.871140   \n",
       "\n",
       "   rating  \n",
       "0      12  \n",
       "1      12  \n",
       "2      12  \n",
       "3      12  \n",
       "4      12  \n",
       "\n",
       "[5 rows x 95 columns]"
      ]
     },
     "execution_count": 12,
     "metadata": {},
     "output_type": "execute_result"
    }
   ],
   "source": [
    "test_df.head()"
   ]
  },
  {
   "cell_type": "code",
   "execution_count": 13,
   "metadata": {},
   "outputs": [
    {
     "name": "stdout",
     "output_type": "stream",
     "text": [
      "Predict newer data (20%) from older data (80%) \n",
      "Accuracy Results\n",
      "Decision Tree       : 0.4874\n",
      "Random Forest       : 0.7382\n",
      "Logistic Regression : 0.2966\n",
      "k-NN (k=1)          : 0.5535\n",
      "Naive Bayes         : 0.1231\n",
      "SVM                 : 0.3731\n",
      "LDA                 : 0.2412\n",
      "XGBoost             : 0.6779\n",
      "LightGBM            : 0.2448\n"
     ]
    }
   ],
   "source": [
    "X_train = train_df.drop(columns=['company', 'period', 'rating'])\n",
    "y_train = train_df['rating']\n",
    "X_test = test_df.drop(columns=['company', 'period', 'rating'])\n",
    "y_test = test_df['rating']\n",
    "\n",
    "scaler = StandardScaler()\n",
    "X_train = scaler.fit_transform(X_train)\n",
    "X_test = scaler.transform(X_test)\n",
    "\n",
    "y_train, y_test = encode_labels(y_train, y_test)\n",
    "\n",
    "print('Predict newer data (20%) from older data (80%) \\nAccuracy Results')\n",
    "for model_name, model in models.items():\n",
    "    model.fit(X_train, y_train)\n",
    "    y_pred = model.predict(X_test)\n",
    "    accuracy = accuracy_score(y_test, y_pred)\n",
    "    print(f'{model_name:20}: {accuracy:.4f}')"
   ]
  },
  {
   "cell_type": "markdown",
   "metadata": {},
   "source": [
    "### Predict the most recent ratings from all past data"
   ]
  },
  {
   "cell_type": "code",
   "execution_count": 14,
   "metadata": {},
   "outputs": [],
   "source": [
    "merged_df = pd.concat([train_df, test_df], ignore_index=True)\n",
    "merged_df = merged_df.sort_values(by=['company', 'period'])\n",
    "\n",
    "train_df = pd.DataFrame()\n",
    "test_df = pd.DataFrame()\n",
    "\n",
    "for company, group in merged_df.groupby('company'):\n",
    "    test_data = group.iloc[-1:]\n",
    "    train_data = group.iloc[:-1]\n",
    "    train_df = pd.concat([train_df, train_data])\n",
    "    test_df = pd.concat([test_df, test_data])\n",
    "\n",
    "train_df.reset_index(drop=True, inplace=True)\n",
    "test_df.reset_index(drop=True, inplace=True)"
   ]
  },
  {
   "cell_type": "code",
   "execution_count": 15,
   "metadata": {},
   "outputs": [
    {
     "name": "stdout",
     "output_type": "stream",
     "text": [
      "346\n",
      "346\n"
     ]
    }
   ],
   "source": [
    "print(len(test_df))\n",
    "print(merged_df['company'].nunique())"
   ]
  },
  {
   "cell_type": "code",
   "execution_count": 16,
   "metadata": {},
   "outputs": [
    {
     "name": "stdout",
     "output_type": "stream",
     "text": [
      "Predict the most recent ratings from all past data \n",
      "Accuracy Results\n",
      "Decision Tree       : 0.6763\n",
      "Random Forest       : 0.9422\n",
      "Logistic Regression : 0.3064\n",
      "k-NN (k=1)          : 0.7341\n",
      "Naive Bayes         : 0.1329\n",
      "SVM                 : 0.4133\n",
      "LDA                 : 0.2283\n",
      "XGBoost             : 0.8960\n",
      "LightGBM            : 0.5202\n"
     ]
    }
   ],
   "source": [
    "X_train = train_df.drop(columns=['company', 'period', 'rating'])\n",
    "y_train = train_df['rating']\n",
    "X_test = test_df.drop(columns=['company', 'period', 'rating'])\n",
    "y_test = test_df['rating']\n",
    "\n",
    "scaler = StandardScaler()\n",
    "X_train = scaler.fit_transform(X_train)\n",
    "X_test = scaler.transform(X_test)\n",
    "\n",
    "y_train, y_test = encode_labels(y_train, y_test)\n",
    "\n",
    "print('Predict the most recent ratings from all past data \\nAccuracy Results')\n",
    "for model_name, model in models.items():\n",
    "    model.fit(X_train, y_train)\n",
    "    y_pred = model.predict(X_test)\n",
    "    accuracy = accuracy_score(y_test, y_pred)\n",
    "    print(f'{model_name:20}: {accuracy:.4f}')"
   ]
  },
  {
   "cell_type": "markdown",
   "metadata": {},
   "source": [
    "### Appendix: Cross-Validation"
   ]
  },
  {
   "cell_type": "markdown",
   "metadata": {},
   "source": [
    "#### split by companies (GroupKFold)"
   ]
  },
  {
   "cell_type": "code",
   "execution_count": 17,
   "metadata": {},
   "outputs": [
    {
     "name": "stdout",
     "output_type": "stream",
     "text": [
      "GroupKFold (5-Fold Cross-Validation) Accuracy Results\n",
      "Decision Tree       : 0.1560\n",
      "Random Forest       : 0.1809\n",
      "Logistic Regression : 0.1789\n",
      "k-NN (k=1)          : 0.1394\n",
      "Naive Bayes         : 0.1016\n",
      "SVM                 : 0.1656\n",
      "LDA                 : 0.1404\n",
      "XGBoost             : 0.1789\n",
      "LightGBM            : 0.1476\n"
     ]
    }
   ],
   "source": [
    "from sklearn.model_selection import GroupKFold\n",
    "from sklearn.pipeline import Pipeline\n",
    "\n",
    "merged_df = pd.concat([train_df, test_df], ignore_index=True)\n",
    "\n",
    "X = merged_df.drop(columns=['company', 'period', 'rating'])\n",
    "y = merged_df['rating']\n",
    "\n",
    "groups = merged_df['company']\n",
    "\n",
    "gkf = GroupKFold(n_splits=5)\n",
    "print('GroupKFold (5-Fold Cross-Validation) Accuracy Results')\n",
    "\n",
    "for model_name, model in models.items():\n",
    "    fold_accuracies = []\n",
    "    \n",
    "    for train_index, test_index in gkf.split(X, y, groups):\n",
    "        X_train, X_test = X.iloc[train_index], X.iloc[test_index]\n",
    "        y_train, y_test = y.iloc[train_index], y.iloc[test_index]\n",
    "        \n",
    "        y_train, y_test = encode_labels(y_train, y_test)\n",
    "        \n",
    "        pipeline = Pipeline([\n",
    "            ('scaler', StandardScaler()),\n",
    "            ('model', model)\n",
    "        ])\n",
    "        \n",
    "        pipeline.fit(X_train, y_train)\n",
    "        \n",
    "        accuracy = pipeline.score(X_test, y_test)\n",
    "        fold_accuracies.append(accuracy)\n",
    "    \n",
    "    print(f'{model_name:20}: {np.mean(fold_accuracies):.4f}')"
   ]
  },
  {
   "cell_type": "markdown",
   "metadata": {},
   "source": [
    "#### split by companies (StratifiedGroupKFold)"
   ]
  },
  {
   "cell_type": "code",
   "execution_count": 18,
   "metadata": {},
   "outputs": [
    {
     "name": "stdout",
     "output_type": "stream",
     "text": [
      "StratifiedGroupKFold (5-Fold Cross-Validation) Accuracy Results\n"
     ]
    },
    {
     "name": "stderr",
     "output_type": "stream",
     "text": [
      "c:\\Users\\Ryo\\AppData\\Local\\Programs\\Python\\Python312\\Lib\\site-packages\\sklearn\\model_selection\\_split.py:994: UserWarning: The least populated class in y has only 1 members, which is less than n_splits=5.\n",
      "  warnings.warn(\n"
     ]
    },
    {
     "name": "stdout",
     "output_type": "stream",
     "text": [
      "Decision Tree       : 0.1657\n"
     ]
    },
    {
     "name": "stderr",
     "output_type": "stream",
     "text": [
      "c:\\Users\\Ryo\\AppData\\Local\\Programs\\Python\\Python312\\Lib\\site-packages\\sklearn\\model_selection\\_split.py:994: UserWarning: The least populated class in y has only 1 members, which is less than n_splits=5.\n",
      "  warnings.warn(\n"
     ]
    },
    {
     "name": "stdout",
     "output_type": "stream",
     "text": [
      "Random Forest       : 0.1882\n"
     ]
    },
    {
     "name": "stderr",
     "output_type": "stream",
     "text": [
      "c:\\Users\\Ryo\\AppData\\Local\\Programs\\Python\\Python312\\Lib\\site-packages\\sklearn\\model_selection\\_split.py:994: UserWarning: The least populated class in y has only 1 members, which is less than n_splits=5.\n",
      "  warnings.warn(\n"
     ]
    },
    {
     "name": "stdout",
     "output_type": "stream",
     "text": [
      "Logistic Regression : 0.1904\n"
     ]
    },
    {
     "name": "stderr",
     "output_type": "stream",
     "text": [
      "c:\\Users\\Ryo\\AppData\\Local\\Programs\\Python\\Python312\\Lib\\site-packages\\sklearn\\model_selection\\_split.py:994: UserWarning: The least populated class in y has only 1 members, which is less than n_splits=5.\n",
      "  warnings.warn(\n"
     ]
    },
    {
     "name": "stdout",
     "output_type": "stream",
     "text": [
      "k-NN (k=1)          : 0.1455\n"
     ]
    },
    {
     "name": "stderr",
     "output_type": "stream",
     "text": [
      "c:\\Users\\Ryo\\AppData\\Local\\Programs\\Python\\Python312\\Lib\\site-packages\\sklearn\\model_selection\\_split.py:994: UserWarning: The least populated class in y has only 1 members, which is less than n_splits=5.\n",
      "  warnings.warn(\n"
     ]
    },
    {
     "name": "stdout",
     "output_type": "stream",
     "text": [
      "Naive Bayes         : 0.1028\n"
     ]
    },
    {
     "name": "stderr",
     "output_type": "stream",
     "text": [
      "c:\\Users\\Ryo\\AppData\\Local\\Programs\\Python\\Python312\\Lib\\site-packages\\sklearn\\model_selection\\_split.py:994: UserWarning: The least populated class in y has only 1 members, which is less than n_splits=5.\n",
      "  warnings.warn(\n"
     ]
    },
    {
     "name": "stdout",
     "output_type": "stream",
     "text": [
      "SVM                 : 0.1986\n"
     ]
    },
    {
     "name": "stderr",
     "output_type": "stream",
     "text": [
      "c:\\Users\\Ryo\\AppData\\Local\\Programs\\Python\\Python312\\Lib\\site-packages\\sklearn\\model_selection\\_split.py:994: UserWarning: The least populated class in y has only 1 members, which is less than n_splits=5.\n",
      "  warnings.warn(\n"
     ]
    },
    {
     "name": "stdout",
     "output_type": "stream",
     "text": [
      "LDA                 : 0.1639\n"
     ]
    },
    {
     "name": "stderr",
     "output_type": "stream",
     "text": [
      "c:\\Users\\Ryo\\AppData\\Local\\Programs\\Python\\Python312\\Lib\\site-packages\\sklearn\\model_selection\\_split.py:994: UserWarning: The least populated class in y has only 1 members, which is less than n_splits=5.\n",
      "  warnings.warn(\n"
     ]
    },
    {
     "name": "stdout",
     "output_type": "stream",
     "text": [
      "XGBoost             : 0.1985\n"
     ]
    },
    {
     "name": "stderr",
     "output_type": "stream",
     "text": [
      "c:\\Users\\Ryo\\AppData\\Local\\Programs\\Python\\Python312\\Lib\\site-packages\\sklearn\\model_selection\\_split.py:994: UserWarning: The least populated class in y has only 1 members, which is less than n_splits=5.\n",
      "  warnings.warn(\n"
     ]
    },
    {
     "name": "stdout",
     "output_type": "stream",
     "text": [
      "LightGBM            : 0.1321\n"
     ]
    }
   ],
   "source": [
    "from sklearn.model_selection import StratifiedGroupKFold\n",
    "\n",
    "merged_df = pd.concat([train_df, test_df], ignore_index=True)\n",
    "\n",
    "X = merged_df.drop(columns=['company', 'period', 'rating'])\n",
    "y = merged_df['rating']\n",
    "\n",
    "groups = merged_df['company']\n",
    "\n",
    "sgkf = StratifiedGroupKFold()\n",
    "print('StratifiedGroupKFold (5-Fold Cross-Validation) Accuracy Results')\n",
    "\n",
    "for model_name, model in models.items():\n",
    "    fold_accuracies = []\n",
    "    \n",
    "    for train_index, test_index in sgkf.split(X, y, groups):\n",
    "        X_train, X_test = X.iloc[train_index], X.iloc[test_index]\n",
    "        y_train, y_test = y.iloc[train_index], y.iloc[test_index]\n",
    "        \n",
    "        y_train, y_test = encode_labels(y_train, y_test)\n",
    "        \n",
    "        pipeline = Pipeline([\n",
    "            ('scaler', StandardScaler()),\n",
    "            ('model', model)\n",
    "        ])\n",
    "        \n",
    "        pipeline.fit(X_train, y_train)\n",
    "        \n",
    "        accuracy = pipeline.score(X_test, y_test)\n",
    "        fold_accuracies.append(accuracy)\n",
    "    \n",
    "    print(f'{model_name:20}: {np.mean(fold_accuracies):.4f}')"
   ]
  },
  {
   "cell_type": "markdown",
   "metadata": {},
   "source": [
    "#### shuffle/split by periods (data leakage?)"
   ]
  },
  {
   "cell_type": "code",
   "execution_count": 19,
   "metadata": {},
   "outputs": [
    {
     "name": "stdout",
     "output_type": "stream",
     "text": [
      "5-Fold Cross-Validation (with shuffle) Accuracy Results\n",
      "Decision Tree       : 0.7130\n",
      "Random Forest       : 0.9206\n",
      "Logistic Regression : 0.2886\n",
      "k-NN (k=1)          : 0.6701\n",
      "Naive Bayes         : 0.1214\n",
      "SVM                 : 0.3702\n",
      "LDA                 : 0.2326\n",
      "XGBoost             : 0.9022\n",
      "LightGBM            : 0.2487\n"
     ]
    }
   ],
   "source": [
    "from sklearn.model_selection import KFold, cross_val_score\n",
    "\n",
    "merged_df = pd.concat([train_df, test_df], ignore_index=True)\n",
    "\n",
    "X = merged_df.drop(columns=['company', 'period', 'rating'])\n",
    "y = merged_df['rating']\n",
    "\n",
    "kf = KFold(n_splits=5, shuffle=True, random_state=RANDOM_SEED)\n",
    "print('5-Fold Cross-Validation (with shuffle) Accuracy Results')\n",
    "\n",
    "for model_name, model in models.items():\n",
    "    fold_accuracies = []\n",
    "    \n",
    "    for train_index, test_index in kf.split(X, y):\n",
    "        X_train, X_test = X.iloc[train_index], X.iloc[test_index]\n",
    "        y_train, y_test = y.iloc[train_index], y.iloc[test_index]\n",
    "        \n",
    "        y_train, y_test = encode_labels(y_train, y_test)\n",
    "        \n",
    "        pipeline = Pipeline([\n",
    "            ('scaler', StandardScaler()),\n",
    "            ('model', model)\n",
    "        ])\n",
    "        \n",
    "        pipeline.fit(X_train, y_train)\n",
    "        \n",
    "        accuracy = pipeline.score(X_test, y_test)\n",
    "        fold_accuracies.append(accuracy)\n",
    "    \n",
    "    print(f'{model_name:20}: {np.mean(fold_accuracies):.4f}')"
   ]
  }
 ],
 "metadata": {
  "kernelspec": {
   "display_name": "Python 3",
   "language": "python",
   "name": "python3"
  },
  "language_info": {
   "codemirror_mode": {
    "name": "ipython",
    "version": 3
   },
   "file_extension": ".py",
   "mimetype": "text/x-python",
   "name": "python",
   "nbconvert_exporter": "python",
   "pygments_lexer": "ipython3",
   "version": "3.12.4"
  }
 },
 "nbformat": 4,
 "nbformat_minor": 2
}
