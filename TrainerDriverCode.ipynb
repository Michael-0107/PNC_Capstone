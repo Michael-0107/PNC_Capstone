{
 "cells": [
  {
   "cell_type": "code",
   "execution_count": 1,
   "metadata": {},
   "outputs": [],
   "source": [
    "import os\n",
    "import torch\n",
    "import torch.nn as nn\n",
    "from torch.utils.data import DataLoader\n",
    "import importlib\n",
    "from datetime import datetime"
   ]
  },
  {
   "cell_type": "code",
   "execution_count": 5,
   "metadata": {},
   "outputs": [
    {
     "data": {
      "text/plain": [
       "<module 'Trainer' from 'g:\\\\My Drive\\\\Chronical\\\\2024_07\\\\PNC_Capstone\\\\Trainer.py'>"
      ]
     },
     "execution_count": 5,
     "metadata": {},
     "output_type": "execute_result"
    }
   ],
   "source": [
    "import Hypers\n",
    "importlib.reload(Hypers)\n",
    "import utils\n",
    "importlib.reload(utils)\n",
    "import RatingSet\n",
    "importlib.reload(RatingSet)\n",
    "import PredictorModel\n",
    "importlib.reload(PredictorModel)\n",
    "import Trainer\n",
    "importlib.reload(Trainer)"
   ]
  },
  {
   "cell_type": "code",
   "execution_count": 3,
   "metadata": {},
   "outputs": [
    {
     "name": "stdout",
     "output_type": "stream",
     "text": [
      "12 4\n"
     ]
    }
   ],
   "source": [
    "model = PredictorModel.PredictorModel(input_size=len(Hypers.feature_list), hidden_size=Hypers.Config.hidden_size, proj_size=Hypers.Config.proj_size)\n",
    "criterion = nn.CrossEntropyLoss()\n",
    "optimizer = torch.optim.Adam(model.parameters(), lr=1e-3)\n",
    "device = torch.device(\"cuda\" if torch.cuda.is_available() else \"cpu\")\n",
    "\n",
    "merged_dict = utils.load_pickle(os.path.join(Hypers.Config.data_path, \"merged_dict.pkl\"))\n",
    "train_dict, test_dict = utils.spilt_train_valid(merged_dict)\n",
    "print(len(train_dict), len(test_dict))"
   ]
  },
  {
   "cell_type": "code",
   "execution_count": 4,
   "metadata": {},
   "outputs": [
    {
     "name": "stderr",
     "output_type": "stream",
     "text": [
      "Epoch 0: 100%|██████████| 4/4 [00:00<00:00, 26.70it/s, Loss: 3.037, Accuracy: 0.109]\n",
      "Epoch 0: 100%|██████████| 1/1 [00:00<00:00, 229.44it/s, Loss: 3.067, Accuracy: 0.000]\n"
     ]
    },
    {
     "name": "stdout",
     "output_type": "stream",
     "text": [
      "Epoch 0: Train Loss: 3.170, Train Accuracy: 0.036, Test Loss: 3.067, Test Accuracy: 0.000\n"
     ]
    },
    {
     "name": "stderr",
     "output_type": "stream",
     "text": [
      "Epoch 1: 100%|██████████| 4/4 [00:00<00:00, 107.34it/s, Loss: 3.049, Accuracy: 0.235]\n",
      "Epoch 1: 100%|██████████| 1/1 [00:00<00:00, 250.21it/s, Loss: 3.050, Accuracy: 0.040]\n"
     ]
    },
    {
     "name": "stdout",
     "output_type": "stream",
     "text": [
      "Epoch 1: Train Loss: 3.048, Train Accuracy: 0.184, Test Loss: 3.050, Test Accuracy: 0.040\n"
     ]
    },
    {
     "name": "stderr",
     "output_type": "stream",
     "text": [
      "Epoch 2: 100%|██████████| 4/4 [00:00<00:00, 135.52it/s, Loss: 2.893, Accuracy: 0.299]\n",
      "Epoch 2: 100%|██████████| 1/1 [00:00<00:00, 250.02it/s, Loss: 3.015, Accuracy: 0.120]\n"
     ]
    },
    {
     "name": "stdout",
     "output_type": "stream",
     "text": [
      "Epoch 2: Train Loss: 2.937, Train Accuracy: 0.235, Test Loss: 3.015, Test Accuracy: 0.120\n"
     ]
    },
    {
     "name": "stderr",
     "output_type": "stream",
     "text": [
      "Epoch 3: 100%|██████████| 4/4 [00:00<00:00, 141.89it/s, Loss: 2.918, Accuracy: 0.172]\n",
      "Epoch 3: 100%|██████████| 1/1 [00:00<00:00, 221.27it/s, Loss: 2.937, Accuracy: 0.160]\n"
     ]
    },
    {
     "name": "stdout",
     "output_type": "stream",
     "text": [
      "Epoch 3: Train Loss: 2.877, Train Accuracy: 0.190, Test Loss: 2.937, Test Accuracy: 0.160\n"
     ]
    },
    {
     "name": "stderr",
     "output_type": "stream",
     "text": [
      "Epoch 4: 100%|██████████| 4/4 [00:00<00:00, 145.42it/s, Loss: 2.535, Accuracy: 0.164]\n",
      "Epoch 4: 100%|██████████| 1/1 [00:00<00:00, 250.08it/s, Loss: 2.864, Accuracy: 0.140]\n"
     ]
    },
    {
     "name": "stdout",
     "output_type": "stream",
     "text": [
      "Epoch 4: Train Loss: 2.754, Train Accuracy: 0.275, Test Loss: 2.864, Test Accuracy: 0.140\n"
     ]
    },
    {
     "name": "stderr",
     "output_type": "stream",
     "text": [
      "Epoch 5: 100%|██████████| 4/4 [00:00<00:00, 137.59it/s, Loss: 2.694, Accuracy: 0.351]\n",
      "Epoch 5: 100%|██████████| 1/1 [00:00<00:00, 142.83it/s, Loss: 2.802, Accuracy: 0.140]\n"
     ]
    },
    {
     "name": "stdout",
     "output_type": "stream",
     "text": [
      "Epoch 5: Train Loss: 2.687, Train Accuracy: 0.248, Test Loss: 2.802, Test Accuracy: 0.140\n"
     ]
    },
    {
     "name": "stderr",
     "output_type": "stream",
     "text": [
      "Epoch 6: 100%|██████████| 4/4 [00:00<00:00, 121.57it/s, Loss: 2.636, Accuracy: 0.088]\n",
      "Epoch 6: 100%|██████████| 1/1 [00:00<00:00, 166.68it/s, Loss: 2.741, Accuracy: 0.220]\n"
     ]
    },
    {
     "name": "stdout",
     "output_type": "stream",
     "text": [
      "Epoch 6: Train Loss: 2.623, Train Accuracy: 0.255, Test Loss: 2.741, Test Accuracy: 0.220\n"
     ]
    },
    {
     "name": "stderr",
     "output_type": "stream",
     "text": [
      "Epoch 7: 100%|██████████| 4/4 [00:00<00:00, 133.25it/s, Loss: 2.376, Accuracy: 0.315]\n",
      "Epoch 7: 100%|██████████| 1/1 [00:00<00:00, 217.95it/s, Loss: 2.676, Accuracy: 0.200]\n"
     ]
    },
    {
     "name": "stdout",
     "output_type": "stream",
     "text": [
      "Epoch 7: Train Loss: 2.559, Train Accuracy: 0.273, Test Loss: 2.676, Test Accuracy: 0.200\n"
     ]
    },
    {
     "name": "stderr",
     "output_type": "stream",
     "text": [
      "Epoch 8: 100%|██████████| 4/4 [00:00<00:00, 137.59it/s, Loss: 2.452, Accuracy: 0.127]\n",
      "Epoch 8: 100%|██████████| 1/1 [00:00<00:00, 249.07it/s, Loss: 2.641, Accuracy: 0.210]\n"
     ]
    },
    {
     "name": "stdout",
     "output_type": "stream",
     "text": [
      "Epoch 8: Train Loss: 2.493, Train Accuracy: 0.283, Test Loss: 2.641, Test Accuracy: 0.210\n"
     ]
    },
    {
     "name": "stderr",
     "output_type": "stream",
     "text": [
      "Epoch 9: 100%|██████████| 4/4 [00:00<00:00, 146.99it/s, Loss: 2.424, Accuracy: 0.329]\n",
      "Epoch 9: 100%|██████████| 1/1 [00:00<00:00, 195.44it/s, Loss: 2.625, Accuracy: 0.210]\n"
     ]
    },
    {
     "name": "stdout",
     "output_type": "stream",
     "text": [
      "Epoch 9: Train Loss: 2.479, Train Accuracy: 0.249, Test Loss: 2.625, Test Accuracy: 0.210\n"
     ]
    },
    {
     "name": "stderr",
     "output_type": "stream",
     "text": [
      "Epoch 10: 100%|██████████| 4/4 [00:00<00:00, 133.43it/s, Loss: 2.521, Accuracy: 0.044]\n",
      "Epoch 10: 100%|██████████| 1/1 [00:00<00:00, 263.41it/s, Loss: 2.592, Accuracy: 0.210]\n"
     ]
    },
    {
     "name": "stdout",
     "output_type": "stream",
     "text": [
      "Epoch 10: Train Loss: 2.417, Train Accuracy: 0.292, Test Loss: 2.592, Test Accuracy: 0.210\n"
     ]
    },
    {
     "name": "stderr",
     "output_type": "stream",
     "text": [
      "Epoch 11: 100%|██████████| 4/4 [00:00<00:00, 117.53it/s, Loss: 2.416, Accuracy: 0.243]\n",
      "Epoch 11: 100%|██████████| 1/1 [00:00<00:00, 246.38it/s, Loss: 2.532, Accuracy: 0.180]\n"
     ]
    },
    {
     "name": "stdout",
     "output_type": "stream",
     "text": [
      "Epoch 11: Train Loss: 2.419, Train Accuracy: 0.253, Test Loss: 2.532, Test Accuracy: 0.180\n"
     ]
    },
    {
     "name": "stderr",
     "output_type": "stream",
     "text": [
      "Epoch 12: 100%|██████████| 4/4 [00:00<00:00, 147.40it/s, Loss: 2.237, Accuracy: 0.359]\n",
      "Epoch 12: 100%|██████████| 1/1 [00:00<00:00, 249.90it/s, Loss: 2.469, Accuracy: 0.180]\n"
     ]
    },
    {
     "name": "stdout",
     "output_type": "stream",
     "text": [
      "Epoch 12: Train Loss: 2.372, Train Accuracy: 0.255, Test Loss: 2.469, Test Accuracy: 0.180\n"
     ]
    },
    {
     "name": "stderr",
     "output_type": "stream",
     "text": [
      "Epoch 13: 100%|██████████| 4/4 [00:00<00:00, 129.45it/s, Loss: 2.210, Accuracy: 0.442]\n",
      "Epoch 13: 100%|██████████| 1/1 [00:00<00:00, 246.54it/s, Loss: 2.420, Accuracy: 0.140]\n"
     ]
    },
    {
     "name": "stdout",
     "output_type": "stream",
     "text": [
      "Epoch 13: Train Loss: 2.318, Train Accuracy: 0.280, Test Loss: 2.420, Test Accuracy: 0.140\n"
     ]
    },
    {
     "name": "stderr",
     "output_type": "stream",
     "text": [
      "Epoch 14: 100%|██████████| 4/4 [00:00<00:00, 134.40it/s, Loss: 2.259, Accuracy: 0.266]\n",
      "Epoch 14: 100%|██████████| 1/1 [00:00<00:00, 248.60it/s, Loss: 2.376, Accuracy: 0.230]\n"
     ]
    },
    {
     "name": "stdout",
     "output_type": "stream",
     "text": [
      "Epoch 14: Train Loss: 2.277, Train Accuracy: 0.313, Test Loss: 2.376, Test Accuracy: 0.230\n"
     ]
    },
    {
     "name": "stderr",
     "output_type": "stream",
     "text": [
      "Epoch 15: 100%|██████████| 4/4 [00:00<00:00, 162.16it/s, Loss: 2.136, Accuracy: 0.463]\n",
      "Epoch 15: 100%|██████████| 1/1 [00:00<00:00, 250.14it/s, Loss: 2.371, Accuracy: 0.220]\n"
     ]
    },
    {
     "name": "stdout",
     "output_type": "stream",
     "text": [
      "Epoch 15: Train Loss: 2.280, Train Accuracy: 0.328, Test Loss: 2.371, Test Accuracy: 0.220\n"
     ]
    },
    {
     "name": "stderr",
     "output_type": "stream",
     "text": [
      "Epoch 16: 100%|██████████| 4/4 [00:00<00:00, 142.85it/s, Loss: 2.168, Accuracy: 0.402]\n",
      "Epoch 16: 100%|██████████| 1/1 [00:00<00:00, 299.49it/s, Loss: 2.337, Accuracy: 0.230]\n"
     ]
    },
    {
     "name": "stdout",
     "output_type": "stream",
     "text": [
      "Epoch 16: Train Loss: 2.210, Train Accuracy: 0.358, Test Loss: 2.337, Test Accuracy: 0.230\n"
     ]
    },
    {
     "name": "stderr",
     "output_type": "stream",
     "text": [
      "Epoch 17: 100%|██████████| 4/4 [00:00<00:00, 147.61it/s, Loss: 2.191, Accuracy: 0.383]\n",
      "Epoch 17: 100%|██████████| 1/1 [00:00<00:00, 200.01it/s, Loss: 2.301, Accuracy: 0.240]\n"
     ]
    },
    {
     "name": "stdout",
     "output_type": "stream",
     "text": [
      "Epoch 17: Train Loss: 2.196, Train Accuracy: 0.381, Test Loss: 2.301, Test Accuracy: 0.240\n"
     ]
    },
    {
     "name": "stderr",
     "output_type": "stream",
     "text": [
      "Epoch 18: 100%|██████████| 4/4 [00:00<00:00, 105.29it/s, Loss: 2.443, Accuracy: 0.127]\n",
      "Epoch 18: 100%|██████████| 1/1 [00:00<00:00, 170.09it/s, Loss: 2.262, Accuracy: 0.240]\n"
     ]
    },
    {
     "name": "stdout",
     "output_type": "stream",
     "text": [
      "Epoch 18: Train Loss: 2.183, Train Accuracy: 0.369, Test Loss: 2.262, Test Accuracy: 0.240\n"
     ]
    },
    {
     "name": "stderr",
     "output_type": "stream",
     "text": [
      "Epoch 19: 100%|██████████| 4/4 [00:00<00:00, 142.23it/s, Loss: 2.220, Accuracy: 0.117]\n",
      "Epoch 19: 100%|██████████| 1/1 [00:00<00:00, 200.02it/s, Loss: 2.267, Accuracy: 0.240]\n"
     ]
    },
    {
     "name": "stdout",
     "output_type": "stream",
     "text": [
      "Epoch 19: Train Loss: 2.148, Train Accuracy: 0.359, Test Loss: 2.267, Test Accuracy: 0.240\n"
     ]
    },
    {
     "name": "stderr",
     "output_type": "stream",
     "text": [
      "Epoch 20: 100%|██████████| 4/4 [00:00<00:00, 148.13it/s, Loss: 2.241, Accuracy: 0.255]\n",
      "Epoch 20: 100%|██████████| 1/1 [00:00<00:00, 248.77it/s, Loss: 2.272, Accuracy: 0.240]\n"
     ]
    },
    {
     "name": "stdout",
     "output_type": "stream",
     "text": [
      "Epoch 20: Train Loss: 2.163, Train Accuracy: 0.333, Test Loss: 2.272, Test Accuracy: 0.240\n"
     ]
    },
    {
     "name": "stderr",
     "output_type": "stream",
     "text": [
      "Epoch 21: 100%|██████████| 4/4 [00:00<00:00, 151.10it/s, Loss: 2.210, Accuracy: 0.576]\n",
      "Epoch 21: 100%|██████████| 1/1 [00:00<00:00, 204.55it/s, Loss: 2.264, Accuracy: 0.220]\n"
     ]
    },
    {
     "name": "stdout",
     "output_type": "stream",
     "text": [
      "Epoch 21: Train Loss: 2.125, Train Accuracy: 0.343, Test Loss: 2.264, Test Accuracy: 0.220\n"
     ]
    },
    {
     "name": "stderr",
     "output_type": "stream",
     "text": [
      "Epoch 22: 100%|██████████| 4/4 [00:00<00:00, 147.53it/s, Loss: 1.833, Accuracy: 0.520]\n",
      "Epoch 22: 100%|██████████| 1/1 [00:00<00:00, 250.03it/s, Loss: 2.229, Accuracy: 0.180]\n"
     ]
    },
    {
     "name": "stdout",
     "output_type": "stream",
     "text": [
      "Epoch 22: Train Loss: 2.064, Train Accuracy: 0.414, Test Loss: 2.229, Test Accuracy: 0.180\n"
     ]
    },
    {
     "name": "stderr",
     "output_type": "stream",
     "text": [
      "Epoch 23: 100%|██████████| 4/4 [00:00<00:00, 144.35it/s, Loss: 2.341, Accuracy: 0.360]\n",
      "Epoch 23: 100%|██████████| 1/1 [00:00<00:00, 250.05it/s, Loss: 2.214, Accuracy: 0.200]\n"
     ]
    },
    {
     "name": "stdout",
     "output_type": "stream",
     "text": [
      "Epoch 23: Train Loss: 2.120, Train Accuracy: 0.363, Test Loss: 2.214, Test Accuracy: 0.200\n"
     ]
    },
    {
     "name": "stderr",
     "output_type": "stream",
     "text": [
      "Epoch 24: 100%|██████████| 4/4 [00:00<00:00, 143.39it/s, Loss: 2.122, Accuracy: 0.288]\n",
      "Epoch 24: 100%|██████████| 1/1 [00:00<00:00, 333.36it/s, Loss: 2.217, Accuracy: 0.170]\n"
     ]
    },
    {
     "name": "stdout",
     "output_type": "stream",
     "text": [
      "Epoch 24: Train Loss: 2.043, Train Accuracy: 0.384, Test Loss: 2.217, Test Accuracy: 0.170\n"
     ]
    },
    {
     "name": "stderr",
     "output_type": "stream",
     "text": [
      "Epoch 25: 100%|██████████| 4/4 [00:00<00:00, 137.57it/s, Loss: 2.084, Accuracy: 0.348]\n",
      "Epoch 25: 100%|██████████| 1/1 [00:00<00:00, 254.71it/s, Loss: 2.154, Accuracy: 0.220]\n"
     ]
    },
    {
     "name": "stdout",
     "output_type": "stream",
     "text": [
      "Epoch 25: Train Loss: 2.038, Train Accuracy: 0.369, Test Loss: 2.154, Test Accuracy: 0.220\n"
     ]
    },
    {
     "name": "stderr",
     "output_type": "stream",
     "text": [
      "Epoch 26: 100%|██████████| 4/4 [00:00<00:00, 92.42it/s, Loss: 2.228, Accuracy: 0.162]\n",
      "Epoch 26: 100%|██████████| 1/1 [00:00<00:00, 238.54it/s, Loss: 2.152, Accuracy: 0.250]\n"
     ]
    },
    {
     "name": "stdout",
     "output_type": "stream",
     "text": [
      "Epoch 26: Train Loss: 2.004, Train Accuracy: 0.376, Test Loss: 2.152, Test Accuracy: 0.250\n"
     ]
    },
    {
     "name": "stderr",
     "output_type": "stream",
     "text": [
      "Epoch 27: 100%|██████████| 4/4 [00:00<00:00, 129.04it/s, Loss: 1.850, Accuracy: 0.451]\n",
      "Epoch 27: 100%|██████████| 1/1 [00:00<00:00, 199.90it/s, Loss: 2.200, Accuracy: 0.220]\n"
     ]
    },
    {
     "name": "stdout",
     "output_type": "stream",
     "text": [
      "Epoch 27: Train Loss: 1.995, Train Accuracy: 0.402, Test Loss: 2.200, Test Accuracy: 0.220\n"
     ]
    },
    {
     "name": "stderr",
     "output_type": "stream",
     "text": [
      "Epoch 28: 100%|██████████| 4/4 [00:00<00:00, 137.53it/s, Loss: 2.184, Accuracy: 0.166]\n",
      "Epoch 28: 100%|██████████| 1/1 [00:00<00:00, 195.86it/s, Loss: 2.189, Accuracy: 0.290]\n"
     ]
    },
    {
     "name": "stdout",
     "output_type": "stream",
     "text": [
      "Epoch 28: Train Loss: 1.990, Train Accuracy: 0.418, Test Loss: 2.189, Test Accuracy: 0.290\n"
     ]
    },
    {
     "name": "stderr",
     "output_type": "stream",
     "text": [
      "Epoch 29: 100%|██████████| 4/4 [00:00<00:00, 137.76it/s, Loss: 2.046, Accuracy: 0.389]\n",
      "Epoch 29: 100%|██████████| 1/1 [00:00<00:00, 200.04it/s, Loss: 2.155, Accuracy: 0.290]\n"
     ]
    },
    {
     "name": "stdout",
     "output_type": "stream",
     "text": [
      "Epoch 29: Train Loss: 1.980, Train Accuracy: 0.434, Test Loss: 2.155, Test Accuracy: 0.290\n"
     ]
    },
    {
     "name": "stderr",
     "output_type": "stream",
     "text": [
      "Epoch 30: 100%|██████████| 4/4 [00:00<00:00, 142.86it/s, Loss: 1.987, Accuracy: 0.294]\n",
      "Epoch 30: 100%|██████████| 1/1 [00:00<00:00, 333.25it/s, Loss: 2.151, Accuracy: 0.300]\n"
     ]
    },
    {
     "name": "stdout",
     "output_type": "stream",
     "text": [
      "Epoch 30: Train Loss: 1.955, Train Accuracy: 0.439, Test Loss: 2.151, Test Accuracy: 0.300\n"
     ]
    },
    {
     "name": "stderr",
     "output_type": "stream",
     "text": [
      "Epoch 31: 100%|██████████| 4/4 [00:00<00:00, 136.92it/s, Loss: 2.034, Accuracy: 0.222]\n",
      "Epoch 31: 100%|██████████| 1/1 [00:00<00:00, 250.17it/s, Loss: 2.118, Accuracy: 0.260]\n"
     ]
    },
    {
     "name": "stdout",
     "output_type": "stream",
     "text": [
      "Epoch 31: Train Loss: 1.952, Train Accuracy: 0.412, Test Loss: 2.118, Test Accuracy: 0.260\n"
     ]
    },
    {
     "name": "stderr",
     "output_type": "stream",
     "text": [
      "Epoch 32: 100%|██████████| 4/4 [00:00<00:00, 105.26it/s, Loss: 2.133, Accuracy: 0.252]\n",
      "Epoch 32: 100%|██████████| 1/1 [00:00<00:00, 142.81it/s, Loss: 2.105, Accuracy: 0.260]\n"
     ]
    },
    {
     "name": "stdout",
     "output_type": "stream",
     "text": [
      "Epoch 32: Train Loss: 1.926, Train Accuracy: 0.434, Test Loss: 2.105, Test Accuracy: 0.260\n"
     ]
    },
    {
     "name": "stderr",
     "output_type": "stream",
     "text": [
      "Epoch 33: 100%|██████████| 4/4 [00:00<00:00, 126.93it/s, Loss: 1.992, Accuracy: 0.435]\n",
      "Epoch 33: 100%|██████████| 1/1 [00:00<00:00, 251.53it/s, Loss: 2.081, Accuracy: 0.650]\n"
     ]
    },
    {
     "name": "stdout",
     "output_type": "stream",
     "text": [
      "Epoch 33: Train Loss: 1.898, Train Accuracy: 0.437, Test Loss: 2.081, Test Accuracy: 0.650\n"
     ]
    },
    {
     "name": "stderr",
     "output_type": "stream",
     "text": [
      "Epoch 34: 100%|██████████| 4/4 [00:00<00:00, 124.89it/s, Loss: 1.789, Accuracy: 0.540]\n",
      "Epoch 34: 100%|██████████| 1/1 [00:00<00:00, 188.92it/s, Loss: 2.045, Accuracy: 0.530]\n"
     ]
    },
    {
     "name": "stdout",
     "output_type": "stream",
     "text": [
      "Epoch 34: Train Loss: 1.891, Train Accuracy: 0.513, Test Loss: 2.045, Test Accuracy: 0.530\n"
     ]
    },
    {
     "name": "stderr",
     "output_type": "stream",
     "text": [
      "Epoch 35: 100%|██████████| 4/4 [00:00<00:00, 128.97it/s, Loss: 1.708, Accuracy: 0.553]\n",
      "Epoch 35: 100%|██████████| 1/1 [00:00<00:00, 166.64it/s, Loss: 1.996, Accuracy: 0.590]\n"
     ]
    },
    {
     "name": "stdout",
     "output_type": "stream",
     "text": [
      "Epoch 35: Train Loss: 1.905, Train Accuracy: 0.487, Test Loss: 1.996, Test Accuracy: 0.590\n"
     ]
    },
    {
     "name": "stderr",
     "output_type": "stream",
     "text": [
      "Epoch 36: 100%|██████████| 4/4 [00:00<00:00, 142.64it/s, Loss: 1.931, Accuracy: 0.500]\n",
      "Epoch 36: 100%|██████████| 1/1 [00:00<00:00, 199.99it/s, Loss: 1.974, Accuracy: 0.590]\n"
     ]
    },
    {
     "name": "stdout",
     "output_type": "stream",
     "text": [
      "Epoch 36: Train Loss: 1.854, Train Accuracy: 0.542, Test Loss: 1.974, Test Accuracy: 0.590\n"
     ]
    },
    {
     "name": "stderr",
     "output_type": "stream",
     "text": [
      "Epoch 37: 100%|██████████| 4/4 [00:00<00:00, 128.95it/s, Loss: 1.896, Accuracy: 0.484]\n",
      "Epoch 37: 100%|██████████| 1/1 [00:00<00:00, 248.95it/s, Loss: 1.989, Accuracy: 0.550]\n"
     ]
    },
    {
     "name": "stdout",
     "output_type": "stream",
     "text": [
      "Epoch 37: Train Loss: 1.831, Train Accuracy: 0.554, Test Loss: 1.989, Test Accuracy: 0.550\n"
     ]
    },
    {
     "name": "stderr",
     "output_type": "stream",
     "text": [
      "Epoch 38: 100%|██████████| 4/4 [00:00<00:00, 137.43it/s, Loss: 2.045, Accuracy: 0.535]\n",
      "Epoch 38: 100%|██████████| 1/1 [00:00<00:00, 166.17it/s, Loss: 1.970, Accuracy: 0.580]\n"
     ]
    },
    {
     "name": "stdout",
     "output_type": "stream",
     "text": [
      "Epoch 38: Train Loss: 1.846, Train Accuracy: 0.535, Test Loss: 1.970, Test Accuracy: 0.580\n"
     ]
    },
    {
     "name": "stderr",
     "output_type": "stream",
     "text": [
      "Epoch 39: 100%|██████████| 4/4 [00:00<00:00, 121.21it/s, Loss: 1.660, Accuracy: 0.486]\n",
      "Epoch 39: 100%|██████████| 1/1 [00:00<00:00, 125.02it/s, Loss: 1.932, Accuracy: 0.580]\n"
     ]
    },
    {
     "name": "stdout",
     "output_type": "stream",
     "text": [
      "Epoch 39: Train Loss: 1.870, Train Accuracy: 0.494, Test Loss: 1.932, Test Accuracy: 0.580\n"
     ]
    },
    {
     "name": "stderr",
     "output_type": "stream",
     "text": [
      "Epoch 40: 100%|██████████| 4/4 [00:00<00:00, 136.68it/s, Loss: 1.314, Accuracy: 0.815]\n",
      "Epoch 40: 100%|██████████| 1/1 [00:00<00:00, 199.94it/s, Loss: 1.922, Accuracy: 0.560]\n"
     ]
    },
    {
     "name": "stdout",
     "output_type": "stream",
     "text": [
      "Epoch 40: Train Loss: 1.847, Train Accuracy: 0.481, Test Loss: 1.922, Test Accuracy: 0.560\n"
     ]
    },
    {
     "name": "stderr",
     "output_type": "stream",
     "text": [
      "Epoch 41: 100%|██████████| 4/4 [00:00<00:00, 137.81it/s, Loss: 1.780, Accuracy: 0.627]\n",
      "Epoch 41: 100%|██████████| 1/1 [00:00<00:00, 248.82it/s, Loss: 1.926, Accuracy: 0.590]\n"
     ]
    },
    {
     "name": "stdout",
     "output_type": "stream",
     "text": [
      "Epoch 41: Train Loss: 1.817, Train Accuracy: 0.515, Test Loss: 1.926, Test Accuracy: 0.590\n"
     ]
    },
    {
     "name": "stderr",
     "output_type": "stream",
     "text": [
      "Epoch 42: 100%|██████████| 4/4 [00:00<00:00, 142.77it/s, Loss: 1.638, Accuracy: 0.451]\n",
      "Epoch 42: 100%|██████████| 1/1 [00:00<00:00, 248.37it/s, Loss: 1.869, Accuracy: 0.760]\n"
     ]
    },
    {
     "name": "stdout",
     "output_type": "stream",
     "text": [
      "Epoch 42: Train Loss: 1.846, Train Accuracy: 0.480, Test Loss: 1.869, Test Accuracy: 0.760\n"
     ]
    },
    {
     "name": "stderr",
     "output_type": "stream",
     "text": [
      "Epoch 43: 100%|██████████| 4/4 [00:00<00:00, 143.68it/s, Loss: 1.816, Accuracy: 0.576]\n",
      "Epoch 43: 100%|██████████| 1/1 [00:00<00:00, 197.13it/s, Loss: 1.846, Accuracy: 0.790]\n"
     ]
    },
    {
     "name": "stdout",
     "output_type": "stream",
     "text": [
      "Epoch 43: Train Loss: 1.832, Train Accuracy: 0.504, Test Loss: 1.846, Test Accuracy: 0.790\n"
     ]
    },
    {
     "name": "stderr",
     "output_type": "stream",
     "text": [
      "Epoch 44: 100%|██████████| 4/4 [00:00<00:00, 143.27it/s, Loss: 1.565, Accuracy: 0.638]\n",
      "Epoch 44: 100%|██████████| 1/1 [00:00<00:00, 259.55it/s, Loss: 1.831, Accuracy: 0.770]\n"
     ]
    },
    {
     "name": "stdout",
     "output_type": "stream",
     "text": [
      "Epoch 44: Train Loss: 1.848, Train Accuracy: 0.481, Test Loss: 1.831, Test Accuracy: 0.770\n"
     ]
    },
    {
     "name": "stderr",
     "output_type": "stream",
     "text": [
      "Epoch 45: 100%|██████████| 4/4 [00:00<00:00, 132.71it/s, Loss: 1.674, Accuracy: 0.686]\n",
      "Epoch 45: 100%|██████████| 1/1 [00:00<00:00, 290.93it/s, Loss: 1.832, Accuracy: 0.750]\n"
     ]
    },
    {
     "name": "stdout",
     "output_type": "stream",
     "text": [
      "Epoch 45: Train Loss: 1.832, Train Accuracy: 0.466, Test Loss: 1.832, Test Accuracy: 0.750\n"
     ]
    },
    {
     "name": "stderr",
     "output_type": "stream",
     "text": [
      "Epoch 46: 100%|██████████| 4/4 [00:00<00:00, 93.21it/s, Loss: 1.593, Accuracy: 0.652]\n",
      "Epoch 46: 100%|██████████| 1/1 [00:00<00:00, 165.92it/s, Loss: 1.823, Accuracy: 0.800]\n"
     ]
    },
    {
     "name": "stdout",
     "output_type": "stream",
     "text": [
      "Epoch 46: Train Loss: 1.789, Train Accuracy: 0.498, Test Loss: 1.823, Test Accuracy: 0.800\n"
     ]
    },
    {
     "name": "stderr",
     "output_type": "stream",
     "text": [
      "Epoch 47: 100%|██████████| 4/4 [00:00<00:00, 146.78it/s, Loss: 1.457, Accuracy: 0.665]\n",
      "Epoch 47: 100%|██████████| 1/1 [00:00<00:00, 266.90it/s, Loss: 1.857, Accuracy: 0.790]\n"
     ]
    },
    {
     "name": "stdout",
     "output_type": "stream",
     "text": [
      "Epoch 47: Train Loss: 1.835, Train Accuracy: 0.458, Test Loss: 1.857, Test Accuracy: 0.790\n"
     ]
    },
    {
     "name": "stderr",
     "output_type": "stream",
     "text": [
      "Epoch 48: 100%|██████████| 4/4 [00:00<00:00, 135.51it/s, Loss: 1.417, Accuracy: 0.615]\n",
      "Epoch 48: 100%|██████████| 1/1 [00:00<00:00, 168.91it/s, Loss: 1.842, Accuracy: 0.800]\n"
     ]
    },
    {
     "name": "stdout",
     "output_type": "stream",
     "text": [
      "Epoch 48: Train Loss: 1.794, Train Accuracy: 0.519, Test Loss: 1.842, Test Accuracy: 0.800\n"
     ]
    },
    {
     "name": "stderr",
     "output_type": "stream",
     "text": [
      "Epoch 49: 100%|██████████| 4/4 [00:00<00:00, 142.92it/s, Loss: 1.661, Accuracy: 0.345]\n",
      "Epoch 49: 100%|██████████| 1/1 [00:00<00:00, 200.36it/s, Loss: 1.786, Accuracy: 0.800]\n"
     ]
    },
    {
     "name": "stdout",
     "output_type": "stream",
     "text": [
      "Epoch 49: Train Loss: 1.784, Train Accuracy: 0.525, Test Loss: 1.786, Test Accuracy: 0.800\n"
     ]
    },
    {
     "name": "stderr",
     "output_type": "stream",
     "text": [
      "Epoch 50: 100%|██████████| 4/4 [00:00<00:00, 150.08it/s, Loss: 1.940, Accuracy: 0.739]\n",
      "Epoch 50: 100%|██████████| 1/1 [00:00<00:00, 200.84it/s, Loss: 1.782, Accuracy: 0.790]\n"
     ]
    },
    {
     "name": "stdout",
     "output_type": "stream",
     "text": [
      "Epoch 50: Train Loss: 1.787, Train Accuracy: 0.506, Test Loss: 1.782, Test Accuracy: 0.790\n"
     ]
    },
    {
     "name": "stderr",
     "output_type": "stream",
     "text": [
      "Epoch 51: 100%|██████████| 4/4 [00:00<00:00, 133.29it/s, Loss: 2.027, Accuracy: 0.434]\n",
      "Epoch 51: 100%|██████████| 1/1 [00:00<00:00, 125.07it/s, Loss: 1.789, Accuracy: 0.770]\n"
     ]
    },
    {
     "name": "stdout",
     "output_type": "stream",
     "text": [
      "Epoch 51: Train Loss: 1.752, Train Accuracy: 0.505, Test Loss: 1.789, Test Accuracy: 0.770\n"
     ]
    },
    {
     "name": "stderr",
     "output_type": "stream",
     "text": [
      "Epoch 52: 100%|██████████| 4/4 [00:00<00:00, 115.70it/s, Loss: 1.928, Accuracy: 0.440]\n",
      "Epoch 52: 100%|██████████| 1/1 [00:00<00:00, 307.82it/s, Loss: 1.756, Accuracy: 0.820]\n"
     ]
    },
    {
     "name": "stdout",
     "output_type": "stream",
     "text": [
      "Epoch 52: Train Loss: 1.781, Train Accuracy: 0.491, Test Loss: 1.756, Test Accuracy: 0.820\n"
     ]
    },
    {
     "name": "stderr",
     "output_type": "stream",
     "text": [
      "Epoch 53: 100%|██████████| 4/4 [00:00<00:00, 142.77it/s, Loss: 1.296, Accuracy: 0.700]\n",
      "Epoch 53: 100%|██████████| 1/1 [00:00<00:00, 252.14it/s, Loss: 1.749, Accuracy: 0.840]\n"
     ]
    },
    {
     "name": "stdout",
     "output_type": "stream",
     "text": [
      "Epoch 53: Train Loss: 1.763, Train Accuracy: 0.519, Test Loss: 1.749, Test Accuracy: 0.840\n"
     ]
    },
    {
     "name": "stderr",
     "output_type": "stream",
     "text": [
      "Epoch 54: 100%|██████████| 4/4 [00:00<00:00, 147.14it/s, Loss: 1.489, Accuracy: 0.915]\n",
      "Epoch 54: 100%|██████████| 1/1 [00:00<00:00, 242.80it/s, Loss: 1.735, Accuracy: 0.840]\n"
     ]
    },
    {
     "name": "stdout",
     "output_type": "stream",
     "text": [
      "Epoch 54: Train Loss: 1.732, Train Accuracy: 0.553, Test Loss: 1.735, Test Accuracy: 0.840\n"
     ]
    },
    {
     "name": "stderr",
     "output_type": "stream",
     "text": [
      "Epoch 55: 100%|██████████| 4/4 [00:00<00:00, 146.36it/s, Loss: 1.648, Accuracy: 0.568]\n",
      "Epoch 55: 100%|██████████| 1/1 [00:00<00:00, 333.12it/s, Loss: 1.770, Accuracy: 0.850]\n"
     ]
    },
    {
     "name": "stdout",
     "output_type": "stream",
     "text": [
      "Epoch 55: Train Loss: 1.750, Train Accuracy: 0.495, Test Loss: 1.770, Test Accuracy: 0.850\n"
     ]
    },
    {
     "name": "stderr",
     "output_type": "stream",
     "text": [
      "Epoch 56: 100%|██████████| 4/4 [00:00<00:00, 137.94it/s, Loss: 2.107, Accuracy: 0.429]\n",
      "Epoch 56: 100%|██████████| 1/1 [00:00<00:00, 200.02it/s, Loss: 1.756, Accuracy: 0.850]\n"
     ]
    },
    {
     "name": "stdout",
     "output_type": "stream",
     "text": [
      "Epoch 56: Train Loss: 1.779, Train Accuracy: 0.531, Test Loss: 1.756, Test Accuracy: 0.850\n"
     ]
    },
    {
     "name": "stderr",
     "output_type": "stream",
     "text": [
      "Epoch 57: 100%|██████████| 4/4 [00:00<00:00, 150.47it/s, Loss: 1.664, Accuracy: 0.633]\n",
      "Epoch 57: 100%|██████████| 1/1 [00:00<00:00, 234.71it/s, Loss: 1.752, Accuracy: 0.850]\n"
     ]
    },
    {
     "name": "stdout",
     "output_type": "stream",
     "text": [
      "Epoch 57: Train Loss: 1.835, Train Accuracy: 0.484, Test Loss: 1.752, Test Accuracy: 0.850\n"
     ]
    },
    {
     "name": "stderr",
     "output_type": "stream",
     "text": [
      "Epoch 58: 100%|██████████| 4/4 [00:00<00:00, 105.21it/s, Loss: 2.186, Accuracy: 0.410]\n",
      "Epoch 58: 100%|██████████| 1/1 [00:00<00:00, 166.76it/s, Loss: 1.744, Accuracy: 0.840]\n"
     ]
    },
    {
     "name": "stdout",
     "output_type": "stream",
     "text": [
      "Epoch 58: Train Loss: 1.733, Train Accuracy: 0.534, Test Loss: 1.744, Test Accuracy: 0.840\n"
     ]
    },
    {
     "name": "stderr",
     "output_type": "stream",
     "text": [
      "Epoch 59: 100%|██████████| 4/4 [00:00<00:00, 141.87it/s, Loss: 1.488, Accuracy: 0.726]\n",
      "Epoch 59: 100%|██████████| 1/1 [00:00<00:00, 343.06it/s, Loss: 1.739, Accuracy: 0.840]\n"
     ]
    },
    {
     "name": "stdout",
     "output_type": "stream",
     "text": [
      "Epoch 59: Train Loss: 1.790, Train Accuracy: 0.468, Test Loss: 1.739, Test Accuracy: 0.840\n"
     ]
    },
    {
     "name": "stderr",
     "output_type": "stream",
     "text": [
      "Epoch 60: 100%|██████████| 4/4 [00:00<00:00, 160.71it/s, Loss: 1.950, Accuracy: 0.232]\n",
      "Epoch 60: 100%|██████████| 1/1 [00:00<00:00, 248.54it/s, Loss: 1.727, Accuracy: 0.760]\n"
     ]
    },
    {
     "name": "stdout",
     "output_type": "stream",
     "text": [
      "Epoch 60: Train Loss: 1.746, Train Accuracy: 0.534, Test Loss: 1.727, Test Accuracy: 0.760\n"
     ]
    },
    {
     "name": "stderr",
     "output_type": "stream",
     "text": [
      "Epoch 61: 100%|██████████| 4/4 [00:00<00:00, 142.75it/s, Loss: 1.320, Accuracy: 0.636]\n",
      "Epoch 61: 100%|██████████| 1/1 [00:00<00:00, 331.02it/s, Loss: 1.707, Accuracy: 0.800]\n"
     ]
    },
    {
     "name": "stdout",
     "output_type": "stream",
     "text": [
      "Epoch 61: Train Loss: 1.707, Train Accuracy: 0.511, Test Loss: 1.707, Test Accuracy: 0.800\n"
     ]
    },
    {
     "name": "stderr",
     "output_type": "stream",
     "text": [
      "Epoch 62: 100%|██████████| 4/4 [00:00<00:00, 150.13it/s, Loss: 1.722, Accuracy: 0.547]\n",
      "Epoch 62: 100%|██████████| 1/1 [00:00<00:00, 197.11it/s, Loss: 1.727, Accuracy: 0.790]\n"
     ]
    },
    {
     "name": "stdout",
     "output_type": "stream",
     "text": [
      "Epoch 62: Train Loss: 1.720, Train Accuracy: 0.509, Test Loss: 1.727, Test Accuracy: 0.790\n"
     ]
    },
    {
     "name": "stderr",
     "output_type": "stream",
     "text": [
      "Epoch 63: 100%|██████████| 4/4 [00:00<00:00, 153.70it/s, Loss: 1.445, Accuracy: 0.565]\n",
      "Epoch 63: 100%|██████████| 1/1 [00:00<00:00, 200.30it/s, Loss: 1.739, Accuracy: 0.830]\n"
     ]
    },
    {
     "name": "stdout",
     "output_type": "stream",
     "text": [
      "Epoch 63: Train Loss: 1.800, Train Accuracy: 0.495, Test Loss: 1.739, Test Accuracy: 0.830\n"
     ]
    },
    {
     "name": "stderr",
     "output_type": "stream",
     "text": [
      "Epoch 64: 100%|██████████| 4/4 [00:00<00:00, 142.61it/s, Loss: 2.223, Accuracy: 0.221]\n",
      "Epoch 64: 100%|██████████| 1/1 [00:00<00:00, 331.28it/s, Loss: 1.778, Accuracy: 0.710]\n"
     ]
    },
    {
     "name": "stdout",
     "output_type": "stream",
     "text": [
      "Epoch 64: Train Loss: 1.783, Train Accuracy: 0.498, Test Loss: 1.778, Test Accuracy: 0.710\n"
     ]
    },
    {
     "name": "stderr",
     "output_type": "stream",
     "text": [
      "Epoch 65: 100%|██████████| 4/4 [00:00<00:00, 109.17it/s, Loss: 1.294, Accuracy: 0.838]\n",
      "Epoch 65: 100%|██████████| 1/1 [00:00<00:00, 166.62it/s, Loss: 1.714, Accuracy: 0.840]\n"
     ]
    },
    {
     "name": "stdout",
     "output_type": "stream",
     "text": [
      "Epoch 65: Train Loss: 1.742, Train Accuracy: 0.513, Test Loss: 1.714, Test Accuracy: 0.840\n"
     ]
    },
    {
     "name": "stderr",
     "output_type": "stream",
     "text": [
      "Epoch 66: 100%|██████████| 4/4 [00:00<00:00, 153.29it/s, Loss: 1.283, Accuracy: 0.611]\n",
      "Epoch 66: 100%|██████████| 1/1 [00:00<00:00, 199.99it/s, Loss: 1.708, Accuracy: 0.830]\n"
     ]
    },
    {
     "name": "stdout",
     "output_type": "stream",
     "text": [
      "Epoch 66: Train Loss: 1.746, Train Accuracy: 0.537, Test Loss: 1.708, Test Accuracy: 0.830\n"
     ]
    },
    {
     "name": "stderr",
     "output_type": "stream",
     "text": [
      "Epoch 67: 100%|██████████| 4/4 [00:00<00:00, 142.71it/s, Loss: 1.960, Accuracy: 0.246]\n",
      "Epoch 67: 100%|██████████| 1/1 [00:00<00:00, 271.69it/s, Loss: 1.703, Accuracy: 0.820]\n"
     ]
    },
    {
     "name": "stdout",
     "output_type": "stream",
     "text": [
      "Epoch 67: Train Loss: 1.747, Train Accuracy: 0.531, Test Loss: 1.703, Test Accuracy: 0.820\n"
     ]
    },
    {
     "name": "stderr",
     "output_type": "stream",
     "text": [
      "Epoch 68: 100%|██████████| 4/4 [00:00<00:00, 142.24it/s, Loss: 1.687, Accuracy: 0.708]\n",
      "Epoch 68: 100%|██████████| 1/1 [00:00<00:00, 248.26it/s, Loss: 1.697, Accuracy: 0.820]\n"
     ]
    },
    {
     "name": "stdout",
     "output_type": "stream",
     "text": [
      "Epoch 68: Train Loss: 1.756, Train Accuracy: 0.493, Test Loss: 1.697, Test Accuracy: 0.820\n"
     ]
    },
    {
     "name": "stderr",
     "output_type": "stream",
     "text": [
      "Epoch 69: 100%|██████████| 4/4 [00:00<00:00, 166.36it/s, Loss: 1.254, Accuracy: 0.868]\n",
      "Epoch 69: 100%|██████████| 1/1 [00:00<00:00, 263.93it/s, Loss: 1.706, Accuracy: 0.820]\n"
     ]
    },
    {
     "name": "stdout",
     "output_type": "stream",
     "text": [
      "Epoch 69: Train Loss: 1.788, Train Accuracy: 0.471, Test Loss: 1.706, Test Accuracy: 0.820\n"
     ]
    },
    {
     "name": "stderr",
     "output_type": "stream",
     "text": [
      "Epoch 70: 100%|██████████| 4/4 [00:00<00:00, 139.76it/s, Loss: 1.815, Accuracy: 0.571]\n",
      "Epoch 70: 100%|██████████| 1/1 [00:00<00:00, 142.86it/s, Loss: 1.698, Accuracy: 0.820]\n"
     ]
    },
    {
     "name": "stdout",
     "output_type": "stream",
     "text": [
      "Epoch 70: Train Loss: 1.765, Train Accuracy: 0.487, Test Loss: 1.698, Test Accuracy: 0.820\n"
     ]
    },
    {
     "name": "stderr",
     "output_type": "stream",
     "text": [
      "Epoch 71: 100%|██████████| 4/4 [00:00<00:00, 111.06it/s, Loss: 1.644, Accuracy: 0.620]\n",
      "Epoch 71: 100%|██████████| 1/1 [00:00<00:00, 329.77it/s, Loss: 1.668, Accuracy: 0.820]\n"
     ]
    },
    {
     "name": "stdout",
     "output_type": "stream",
     "text": [
      "Epoch 71: Train Loss: 1.739, Train Accuracy: 0.490, Test Loss: 1.668, Test Accuracy: 0.820\n"
     ]
    },
    {
     "name": "stderr",
     "output_type": "stream",
     "text": [
      "Epoch 72: 100%|██████████| 4/4 [00:00<00:00, 145.47it/s, Loss: 1.719, Accuracy: 0.369]\n",
      "Epoch 72: 100%|██████████| 1/1 [00:00<00:00, 245.84it/s, Loss: 1.647, Accuracy: 0.820]\n"
     ]
    },
    {
     "name": "stdout",
     "output_type": "stream",
     "text": [
      "Epoch 72: Train Loss: 1.701, Train Accuracy: 0.506, Test Loss: 1.647, Test Accuracy: 0.820\n"
     ]
    },
    {
     "name": "stderr",
     "output_type": "stream",
     "text": [
      "Epoch 73: 100%|██████████| 4/4 [00:00<00:00, 148.08it/s, Loss: 1.330, Accuracy: 0.894]\n",
      "Epoch 73: 100%|██████████| 1/1 [00:00<00:00, 253.33it/s, Loss: 1.574, Accuracy: 0.730]\n"
     ]
    },
    {
     "name": "stdout",
     "output_type": "stream",
     "text": [
      "Epoch 73: Train Loss: 1.705, Train Accuracy: 0.496, Test Loss: 1.574, Test Accuracy: 0.730\n"
     ]
    },
    {
     "name": "stderr",
     "output_type": "stream",
     "text": [
      "Epoch 74: 100%|██████████| 4/4 [00:00<00:00, 123.03it/s, Loss: 1.413, Accuracy: 0.733]\n",
      "Epoch 74: 100%|██████████| 1/1 [00:00<00:00, 196.02it/s, Loss: 1.579, Accuracy: 0.730]\n"
     ]
    },
    {
     "name": "stdout",
     "output_type": "stream",
     "text": [
      "Epoch 74: Train Loss: 1.664, Train Accuracy: 0.504, Test Loss: 1.579, Test Accuracy: 0.730\n"
     ]
    },
    {
     "name": "stderr",
     "output_type": "stream",
     "text": [
      "Epoch 75: 100%|██████████| 4/4 [00:00<00:00, 137.93it/s, Loss: 1.935, Accuracy: 0.439]\n",
      "Epoch 75: 100%|██████████| 1/1 [00:00<00:00, 250.05it/s, Loss: 1.578, Accuracy: 0.730]\n"
     ]
    },
    {
     "name": "stdout",
     "output_type": "stream",
     "text": [
      "Epoch 75: Train Loss: 1.656, Train Accuracy: 0.498, Test Loss: 1.578, Test Accuracy: 0.730\n"
     ]
    },
    {
     "name": "stderr",
     "output_type": "stream",
     "text": [
      "Epoch 76: 100%|██████████| 4/4 [00:00<00:00, 137.91it/s, Loss: 1.943, Accuracy: 0.481]\n",
      "Epoch 76: 100%|██████████| 1/1 [00:00<00:00, 284.84it/s, Loss: 1.577, Accuracy: 0.780]\n"
     ]
    },
    {
     "name": "stdout",
     "output_type": "stream",
     "text": [
      "Epoch 76: Train Loss: 1.691, Train Accuracy: 0.483, Test Loss: 1.577, Test Accuracy: 0.780\n"
     ]
    },
    {
     "name": "stderr",
     "output_type": "stream",
     "text": [
      "Epoch 77: 100%|██████████| 4/4 [00:00<00:00, 130.23it/s, Loss: 1.739, Accuracy: 0.510]\n",
      "Epoch 77: 100%|██████████| 1/1 [00:00<00:00, 166.59it/s, Loss: 1.560, Accuracy: 0.790]\n"
     ]
    },
    {
     "name": "stdout",
     "output_type": "stream",
     "text": [
      "Epoch 77: Train Loss: 1.686, Train Accuracy: 0.501, Test Loss: 1.560, Test Accuracy: 0.790\n"
     ]
    },
    {
     "name": "stderr",
     "output_type": "stream",
     "text": [
      "Epoch 78: 100%|██████████| 4/4 [00:00<00:00, 124.72it/s, Loss: 1.764, Accuracy: 0.383]\n",
      "Epoch 78: 100%|██████████| 1/1 [00:00<00:00, 199.93it/s, Loss: 1.538, Accuracy: 0.820]\n"
     ]
    },
    {
     "name": "stdout",
     "output_type": "stream",
     "text": [
      "Epoch 78: Train Loss: 1.673, Train Accuracy: 0.494, Test Loss: 1.538, Test Accuracy: 0.820\n"
     ]
    },
    {
     "name": "stderr",
     "output_type": "stream",
     "text": [
      "Epoch 79: 100%|██████████| 4/4 [00:00<00:00, 99.98it/s, Loss: 1.691, Accuracy: 0.627]\n",
      "Epoch 79: 100%|██████████| 1/1 [00:00<00:00, 142.81it/s, Loss: 1.527, Accuracy: 0.820]\n"
     ]
    },
    {
     "name": "stdout",
     "output_type": "stream",
     "text": [
      "Epoch 79: Train Loss: 1.633, Train Accuracy: 0.521, Test Loss: 1.527, Test Accuracy: 0.820\n"
     ]
    },
    {
     "name": "stderr",
     "output_type": "stream",
     "text": [
      "Epoch 80: 100%|██████████| 4/4 [00:00<00:00, 141.34it/s, Loss: 1.822, Accuracy: 0.551]\n",
      "Epoch 80: 100%|██████████| 1/1 [00:00<00:00, 199.91it/s, Loss: 1.538, Accuracy: 0.810]\n"
     ]
    },
    {
     "name": "stdout",
     "output_type": "stream",
     "text": [
      "Epoch 80: Train Loss: 1.660, Train Accuracy: 0.517, Test Loss: 1.538, Test Accuracy: 0.810\n"
     ]
    },
    {
     "name": "stderr",
     "output_type": "stream",
     "text": [
      "Epoch 81: 100%|██████████| 4/4 [00:00<00:00, 118.90it/s, Loss: 1.530, Accuracy: 0.601]\n",
      "Epoch 81: 100%|██████████| 1/1 [00:00<00:00, 250.14it/s, Loss: 1.575, Accuracy: 0.810]\n"
     ]
    },
    {
     "name": "stdout",
     "output_type": "stream",
     "text": [
      "Epoch 81: Train Loss: 1.644, Train Accuracy: 0.523, Test Loss: 1.575, Test Accuracy: 0.810\n"
     ]
    },
    {
     "name": "stderr",
     "output_type": "stream",
     "text": [
      "Epoch 82: 100%|██████████| 4/4 [00:00<00:00, 137.93it/s, Loss: 1.901, Accuracy: 0.343]\n",
      "Epoch 82: 100%|██████████| 1/1 [00:00<00:00, 250.00it/s, Loss: 1.580, Accuracy: 0.820]\n"
     ]
    },
    {
     "name": "stdout",
     "output_type": "stream",
     "text": [
      "Epoch 82: Train Loss: 1.632, Train Accuracy: 0.520, Test Loss: 1.580, Test Accuracy: 0.820\n"
     ]
    },
    {
     "name": "stderr",
     "output_type": "stream",
     "text": [
      "Epoch 83: 100%|██████████| 4/4 [00:00<00:00, 137.62it/s, Loss: 1.672, Accuracy: 0.612]\n",
      "Epoch 83: 100%|██████████| 1/1 [00:00<00:00, 250.17it/s, Loss: 1.582, Accuracy: 0.810]\n"
     ]
    },
    {
     "name": "stdout",
     "output_type": "stream",
     "text": [
      "Epoch 83: Train Loss: 1.652, Train Accuracy: 0.517, Test Loss: 1.582, Test Accuracy: 0.810\n"
     ]
    },
    {
     "name": "stderr",
     "output_type": "stream",
     "text": [
      "Epoch 84: 100%|██████████| 4/4 [00:00<00:00, 160.33it/s, Loss: 1.677, Accuracy: 0.607]\n",
      "Epoch 84: 100%|██████████| 1/1 [00:00<00:00, 250.15it/s, Loss: 1.597, Accuracy: 0.780]\n"
     ]
    },
    {
     "name": "stdout",
     "output_type": "stream",
     "text": [
      "Epoch 84: Train Loss: 1.689, Train Accuracy: 0.498, Test Loss: 1.597, Test Accuracy: 0.780\n"
     ]
    },
    {
     "name": "stderr",
     "output_type": "stream",
     "text": [
      "Epoch 85: 100%|██████████| 4/4 [00:00<00:00, 129.04it/s, Loss: 1.704, Accuracy: 0.744]\n",
      "Epoch 85: 100%|██████████| 1/1 [00:00<00:00, 249.71it/s, Loss: 1.612, Accuracy: 0.780]\n"
     ]
    },
    {
     "name": "stdout",
     "output_type": "stream",
     "text": [
      "Epoch 85: Train Loss: 1.609, Train Accuracy: 0.563, Test Loss: 1.612, Test Accuracy: 0.780\n"
     ]
    },
    {
     "name": "stderr",
     "output_type": "stream",
     "text": [
      "Epoch 86: 100%|██████████| 4/4 [00:00<00:00, 131.65it/s, Loss: 1.508, Accuracy: 0.528]\n",
      "Epoch 86: 100%|██████████| 1/1 [00:00<00:00, 166.79it/s, Loss: 1.644, Accuracy: 0.720]\n"
     ]
    },
    {
     "name": "stdout",
     "output_type": "stream",
     "text": [
      "Epoch 86: Train Loss: 1.662, Train Accuracy: 0.544, Test Loss: 1.644, Test Accuracy: 0.720\n"
     ]
    },
    {
     "name": "stderr",
     "output_type": "stream",
     "text": [
      "Epoch 87: 100%|██████████| 4/4 [00:00<00:00, 129.51it/s, Loss: 1.553, Accuracy: 0.570]\n",
      "Epoch 87: 100%|██████████| 1/1 [00:00<00:00, 198.79it/s, Loss: 1.642, Accuracy: 0.800]\n"
     ]
    },
    {
     "name": "stdout",
     "output_type": "stream",
     "text": [
      "Epoch 87: Train Loss: 1.727, Train Accuracy: 0.536, Test Loss: 1.642, Test Accuracy: 0.800\n"
     ]
    },
    {
     "name": "stderr",
     "output_type": "stream",
     "text": [
      "Epoch 88: 100%|██████████| 4/4 [00:00<00:00, 98.69it/s, Loss: 1.377, Accuracy: 0.823]\n",
      "Epoch 88: 100%|██████████| 1/1 [00:00<00:00, 125.00it/s, Loss: 1.599, Accuracy: 0.820]\n"
     ]
    },
    {
     "name": "stdout",
     "output_type": "stream",
     "text": [
      "Epoch 88: Train Loss: 1.645, Train Accuracy: 0.555, Test Loss: 1.599, Test Accuracy: 0.820\n"
     ]
    },
    {
     "name": "stderr",
     "output_type": "stream",
     "text": [
      "Epoch 89: 100%|██████████| 4/4 [00:00<00:00, 116.01it/s, Loss: 1.922, Accuracy: 0.434]\n",
      "Epoch 89: 100%|██████████| 1/1 [00:00<00:00, 166.14it/s, Loss: 1.619, Accuracy: 0.820]\n"
     ]
    },
    {
     "name": "stdout",
     "output_type": "stream",
     "text": [
      "Epoch 89: Train Loss: 1.644, Train Accuracy: 0.540, Test Loss: 1.619, Test Accuracy: 0.820\n"
     ]
    },
    {
     "name": "stderr",
     "output_type": "stream",
     "text": [
      "Epoch 90: 100%|██████████| 4/4 [00:00<00:00, 146.78it/s, Loss: 1.899, Accuracy: 0.340]\n",
      "Epoch 90: 100%|██████████| 1/1 [00:00<00:00, 173.28it/s, Loss: 1.601, Accuracy: 0.830]\n"
     ]
    },
    {
     "name": "stdout",
     "output_type": "stream",
     "text": [
      "Epoch 90: Train Loss: 1.711, Train Accuracy: 0.476, Test Loss: 1.601, Test Accuracy: 0.830\n"
     ]
    },
    {
     "name": "stderr",
     "output_type": "stream",
     "text": [
      "Epoch 91: 100%|██████████| 4/4 [00:00<00:00, 153.83it/s, Loss: 1.425, Accuracy: 0.551]\n",
      "Epoch 91: 100%|██████████| 1/1 [00:00<00:00, 249.74it/s, Loss: 1.620, Accuracy: 0.820]\n"
     ]
    },
    {
     "name": "stdout",
     "output_type": "stream",
     "text": [
      "Epoch 91: Train Loss: 1.641, Train Accuracy: 0.524, Test Loss: 1.620, Test Accuracy: 0.820\n"
     ]
    },
    {
     "name": "stderr",
     "output_type": "stream",
     "text": [
      "Epoch 92: 100%|██████████| 4/4 [00:00<00:00, 131.04it/s, Loss: 1.416, Accuracy: 0.519]\n",
      "Epoch 92: 100%|██████████| 1/1 [00:00<00:00, 330.29it/s, Loss: 1.611, Accuracy: 0.780]\n"
     ]
    },
    {
     "name": "stdout",
     "output_type": "stream",
     "text": [
      "Epoch 92: Train Loss: 1.653, Train Accuracy: 0.519, Test Loss: 1.611, Test Accuracy: 0.780\n"
     ]
    },
    {
     "name": "stderr",
     "output_type": "stream",
     "text": [
      "Epoch 93: 100%|██████████| 4/4 [00:00<00:00, 154.95it/s, Loss: 1.373, Accuracy: 0.892]\n",
      "Epoch 93: 100%|██████████| 1/1 [00:00<00:00, 250.27it/s, Loss: 1.743, Accuracy: 0.820]\n"
     ]
    },
    {
     "name": "stdout",
     "output_type": "stream",
     "text": [
      "Epoch 93: Train Loss: 1.651, Train Accuracy: 0.538, Test Loss: 1.743, Test Accuracy: 0.820\n"
     ]
    },
    {
     "name": "stderr",
     "output_type": "stream",
     "text": [
      "Epoch 94: 100%|██████████| 4/4 [00:00<00:00, 133.69it/s, Loss: 1.547, Accuracy: 0.511]\n",
      "Epoch 94: 100%|██████████| 1/1 [00:00<00:00, 250.12it/s, Loss: 1.743, Accuracy: 0.750]\n"
     ]
    },
    {
     "name": "stdout",
     "output_type": "stream",
     "text": [
      "Epoch 94: Train Loss: 1.700, Train Accuracy: 0.474, Test Loss: 1.743, Test Accuracy: 0.750\n"
     ]
    },
    {
     "name": "stderr",
     "output_type": "stream",
     "text": [
      "Epoch 95: 100%|██████████| 4/4 [00:00<00:00, 105.25it/s, Loss: 2.292, Accuracy: 0.099]\n",
      "Epoch 95: 100%|██████████| 1/1 [00:00<00:00, 200.03it/s, Loss: 1.739, Accuracy: 0.750]\n"
     ]
    },
    {
     "name": "stdout",
     "output_type": "stream",
     "text": [
      "Epoch 95: Train Loss: 1.774, Train Accuracy: 0.449, Test Loss: 1.739, Test Accuracy: 0.750\n"
     ]
    },
    {
     "name": "stderr",
     "output_type": "stream",
     "text": [
      "Epoch 96: 100%|██████████| 4/4 [00:00<00:00, 145.39it/s, Loss: 1.252, Accuracy: 0.607]\n",
      "Epoch 96: 100%|██████████| 1/1 [00:00<00:00, 250.18it/s, Loss: 1.749, Accuracy: 0.760]\n"
     ]
    },
    {
     "name": "stdout",
     "output_type": "stream",
     "text": [
      "Epoch 96: Train Loss: 1.672, Train Accuracy: 0.517, Test Loss: 1.749, Test Accuracy: 0.760\n"
     ]
    },
    {
     "name": "stderr",
     "output_type": "stream",
     "text": [
      "Epoch 97: 100%|██████████| 4/4 [00:00<00:00, 124.52it/s, Loss: 1.645, Accuracy: 0.433]\n",
      "Epoch 97: 100%|██████████| 1/1 [00:00<00:00, 250.21it/s, Loss: 1.705, Accuracy: 0.760]\n"
     ]
    },
    {
     "name": "stdout",
     "output_type": "stream",
     "text": [
      "Epoch 97: Train Loss: 1.732, Train Accuracy: 0.493, Test Loss: 1.705, Test Accuracy: 0.760\n"
     ]
    },
    {
     "name": "stderr",
     "output_type": "stream",
     "text": [
      "Epoch 98: 100%|██████████| 4/4 [00:00<00:00, 145.04it/s, Loss: 2.194, Accuracy: 0.422]\n",
      "Epoch 98: 100%|██████████| 1/1 [00:00<00:00, 166.59it/s, Loss: 1.708, Accuracy: 0.770]\n"
     ]
    },
    {
     "name": "stdout",
     "output_type": "stream",
     "text": [
      "Epoch 98: Train Loss: 1.757, Train Accuracy: 0.468, Test Loss: 1.708, Test Accuracy: 0.770\n"
     ]
    },
    {
     "name": "stderr",
     "output_type": "stream",
     "text": [
      "Epoch 99: 100%|██████████| 4/4 [00:00<00:00, 142.15it/s, Loss: 1.324, Accuracy: 0.902]\n",
      "Epoch 99: 100%|██████████| 1/1 [00:00<00:00, 262.72it/s, Loss: 1.692, Accuracy: 0.770]\n"
     ]
    },
    {
     "name": "stdout",
     "output_type": "stream",
     "text": [
      "Epoch 99: Train Loss: 1.736, Train Accuracy: 0.483, Test Loss: 1.692, Test Accuracy: 0.770\n"
     ]
    },
    {
     "name": "stderr",
     "output_type": "stream",
     "text": [
      "Epoch 100: 100%|██████████| 4/4 [00:00<00:00, 160.00it/s, Loss: 1.773, Accuracy: 0.576]\n",
      "Epoch 100: 100%|██████████| 1/1 [00:00<00:00, 166.85it/s, Loss: 1.680, Accuracy: 0.780]\n"
     ]
    },
    {
     "name": "stdout",
     "output_type": "stream",
     "text": [
      "Epoch 100: Train Loss: 1.730, Train Accuracy: 0.438, Test Loss: 1.680, Test Accuracy: 0.780\n"
     ]
    },
    {
     "name": "stderr",
     "output_type": "stream",
     "text": [
      "Epoch 101: 100%|██████████| 4/4 [00:00<00:00, 106.56it/s, Loss: 1.912, Accuracy: 0.328]\n",
      "Epoch 101: 100%|██████████| 1/1 [00:00<00:00, 248.89it/s, Loss: 1.747, Accuracy: 0.570]\n"
     ]
    },
    {
     "name": "stdout",
     "output_type": "stream",
     "text": [
      "Epoch 101: Train Loss: 1.628, Train Accuracy: 0.492, Test Loss: 1.747, Test Accuracy: 0.570\n"
     ]
    },
    {
     "name": "stderr",
     "output_type": "stream",
     "text": [
      "Epoch 102: 100%|██████████| 4/4 [00:00<00:00, 136.41it/s, Loss: 1.543, Accuracy: 0.423]\n",
      "Epoch 102: 100%|██████████| 1/1 [00:00<00:00, 318.64it/s, Loss: 1.672, Accuracy: 0.780]\n"
     ]
    },
    {
     "name": "stdout",
     "output_type": "stream",
     "text": [
      "Epoch 102: Train Loss: 1.674, Train Accuracy: 0.448, Test Loss: 1.672, Test Accuracy: 0.780\n"
     ]
    },
    {
     "name": "stderr",
     "output_type": "stream",
     "text": [
      "Epoch 103: 100%|██████████| 4/4 [00:00<00:00, 148.13it/s, Loss: 1.360, Accuracy: 0.636]\n",
      "Epoch 103: 100%|██████████| 1/1 [00:00<00:00, 146.18it/s, Loss: 1.669, Accuracy: 0.780]\n"
     ]
    },
    {
     "name": "stdout",
     "output_type": "stream",
     "text": [
      "Epoch 103: Train Loss: 1.664, Train Accuracy: 0.473, Test Loss: 1.669, Test Accuracy: 0.780\n"
     ]
    },
    {
     "name": "stderr",
     "output_type": "stream",
     "text": [
      "Epoch 104: 100%|██████████| 4/4 [00:00<00:00, 137.93it/s, Loss: 1.965, Accuracy: 0.329]\n",
      "Epoch 104: 100%|██████████| 1/1 [00:00<00:00, 166.63it/s, Loss: 1.669, Accuracy: 0.790]\n"
     ]
    },
    {
     "name": "stdout",
     "output_type": "stream",
     "text": [
      "Epoch 104: Train Loss: 1.638, Train Accuracy: 0.505, Test Loss: 1.669, Test Accuracy: 0.790\n"
     ]
    },
    {
     "name": "stderr",
     "output_type": "stream",
     "text": [
      "Epoch 105: 100%|██████████| 4/4 [00:00<00:00, 144.60it/s, Loss: 1.894, Accuracy: 0.411]\n",
      "Epoch 105: 100%|██████████| 1/1 [00:00<00:00, 250.15it/s, Loss: 1.650, Accuracy: 0.790]\n"
     ]
    },
    {
     "name": "stdout",
     "output_type": "stream",
     "text": [
      "Epoch 105: Train Loss: 1.615, Train Accuracy: 0.501, Test Loss: 1.650, Test Accuracy: 0.790\n"
     ]
    },
    {
     "name": "stderr",
     "output_type": "stream",
     "text": [
      "Epoch 106: 100%|██████████| 4/4 [00:00<00:00, 126.92it/s, Loss: 1.938, Accuracy: 0.167]\n",
      "Epoch 106: 100%|██████████| 1/1 [00:00<00:00, 166.65it/s, Loss: 1.649, Accuracy: 0.790]\n"
     ]
    },
    {
     "name": "stdout",
     "output_type": "stream",
     "text": [
      "Epoch 106: Train Loss: 1.693, Train Accuracy: 0.467, Test Loss: 1.649, Test Accuracy: 0.790\n"
     ]
    },
    {
     "name": "stderr",
     "output_type": "stream",
     "text": [
      "Epoch 107: 100%|██████████| 4/4 [00:00<00:00, 114.50it/s, Loss: 2.094, Accuracy: 0.179]\n",
      "Epoch 107: 100%|██████████| 1/1 [00:00<00:00, 200.04it/s, Loss: 1.645, Accuracy: 0.780]\n"
     ]
    },
    {
     "name": "stdout",
     "output_type": "stream",
     "text": [
      "Epoch 107: Train Loss: 1.693, Train Accuracy: 0.470, Test Loss: 1.645, Test Accuracy: 0.780\n"
     ]
    },
    {
     "name": "stderr",
     "output_type": "stream",
     "text": [
      "Epoch 108: 100%|██████████| 4/4 [00:00<00:00, 147.91it/s, Loss: 1.636, Accuracy: 0.510]\n",
      "Epoch 108: 100%|██████████| 1/1 [00:00<00:00, 219.06it/s, Loss: 1.620, Accuracy: 0.790]\n"
     ]
    },
    {
     "name": "stdout",
     "output_type": "stream",
     "text": [
      "Epoch 108: Train Loss: 1.627, Train Accuracy: 0.537, Test Loss: 1.620, Test Accuracy: 0.790\n"
     ]
    },
    {
     "name": "stderr",
     "output_type": "stream",
     "text": [
      "Epoch 109: 100%|██████████| 4/4 [00:00<00:00, 142.86it/s, Loss: 2.079, Accuracy: 0.206]\n",
      "Epoch 109: 100%|██████████| 1/1 [00:00<00:00, 249.81it/s, Loss: 1.602, Accuracy: 0.790]\n"
     ]
    },
    {
     "name": "stdout",
     "output_type": "stream",
     "text": [
      "Epoch 109: Train Loss: 1.639, Train Accuracy: 0.504, Test Loss: 1.602, Test Accuracy: 0.790\n"
     ]
    },
    {
     "name": "stderr",
     "output_type": "stream",
     "text": [
      "Epoch 110: 100%|██████████| 4/4 [00:00<00:00, 142.56it/s, Loss: 2.004, Accuracy: 0.187]\n",
      "Epoch 110: 100%|██████████| 1/1 [00:00<00:00, 320.62it/s, Loss: 1.593, Accuracy: 0.780]\n"
     ]
    },
    {
     "name": "stdout",
     "output_type": "stream",
     "text": [
      "Epoch 110: Train Loss: 1.679, Train Accuracy: 0.466, Test Loss: 1.593, Test Accuracy: 0.780\n"
     ]
    },
    {
     "name": "stderr",
     "output_type": "stream",
     "text": [
      "Epoch 111: 100%|██████████| 4/4 [00:00<00:00, 140.25it/s, Loss: 1.520, Accuracy: 0.615]\n",
      "Epoch 111: 100%|██████████| 1/1 [00:00<00:00, 199.91it/s, Loss: 1.586, Accuracy: 0.790]\n"
     ]
    },
    {
     "name": "stdout",
     "output_type": "stream",
     "text": [
      "Epoch 111: Train Loss: 1.676, Train Accuracy: 0.461, Test Loss: 1.586, Test Accuracy: 0.790\n"
     ]
    },
    {
     "name": "stderr",
     "output_type": "stream",
     "text": [
      "Epoch 112: 100%|██████████| 4/4 [00:00<00:00, 133.34it/s, Loss: 1.543, Accuracy: 0.547]\n",
      "Epoch 112: 100%|██████████| 1/1 [00:00<00:00, 161.79it/s, Loss: 1.578, Accuracy: 0.790]\n"
     ]
    },
    {
     "name": "stdout",
     "output_type": "stream",
     "text": [
      "Epoch 112: Train Loss: 1.688, Train Accuracy: 0.452, Test Loss: 1.578, Test Accuracy: 0.790\n"
     ]
    },
    {
     "name": "stderr",
     "output_type": "stream",
     "text": [
      "Epoch 113: 100%|██████████| 4/4 [00:00<00:00, 104.93it/s, Loss: 2.019, Accuracy: 0.301]\n",
      "Epoch 113: 100%|██████████| 1/1 [00:00<00:00, 181.38it/s, Loss: 1.589, Accuracy: 0.790]\n"
     ]
    },
    {
     "name": "stdout",
     "output_type": "stream",
     "text": [
      "Epoch 113: Train Loss: 1.674, Train Accuracy: 0.459, Test Loss: 1.589, Test Accuracy: 0.790\n"
     ]
    },
    {
     "name": "stderr",
     "output_type": "stream",
     "text": [
      "Epoch 114: 100%|██████████| 4/4 [00:00<00:00, 125.00it/s, Loss: 1.693, Accuracy: 0.575]\n",
      "Epoch 114: 100%|██████████| 1/1 [00:00<00:00, 250.27it/s, Loss: 1.603, Accuracy: 0.790]\n"
     ]
    },
    {
     "name": "stdout",
     "output_type": "stream",
     "text": [
      "Epoch 114: Train Loss: 1.642, Train Accuracy: 0.491, Test Loss: 1.603, Test Accuracy: 0.790\n"
     ]
    },
    {
     "name": "stderr",
     "output_type": "stream",
     "text": [
      "Epoch 115: 100%|██████████| 4/4 [00:00<00:00, 127.85it/s, Loss: 2.060, Accuracy: 0.122]\n",
      "Epoch 115: 100%|██████████| 1/1 [00:00<00:00, 248.83it/s, Loss: 1.602, Accuracy: 0.790]\n"
     ]
    },
    {
     "name": "stdout",
     "output_type": "stream",
     "text": [
      "Epoch 115: Train Loss: 1.659, Train Accuracy: 0.509, Test Loss: 1.602, Test Accuracy: 0.790\n"
     ]
    },
    {
     "name": "stderr",
     "output_type": "stream",
     "text": [
      "Epoch 116: 100%|██████████| 4/4 [00:00<00:00, 138.90it/s, Loss: 1.487, Accuracy: 0.464]\n",
      "Epoch 116: 100%|██████████| 1/1 [00:00<00:00, 241.97it/s, Loss: 1.595, Accuracy: 0.790]\n"
     ]
    },
    {
     "name": "stdout",
     "output_type": "stream",
     "text": [
      "Epoch 116: Train Loss: 1.587, Train Accuracy: 0.491, Test Loss: 1.595, Test Accuracy: 0.790\n"
     ]
    },
    {
     "name": "stderr",
     "output_type": "stream",
     "text": [
      "Epoch 117: 100%|██████████| 4/4 [00:00<00:00, 143.01it/s, Loss: 1.635, Accuracy: 0.449]\n",
      "Epoch 117: 100%|██████████| 1/1 [00:00<00:00, 247.36it/s, Loss: 1.584, Accuracy: 0.790]\n"
     ]
    },
    {
     "name": "stdout",
     "output_type": "stream",
     "text": [
      "Epoch 117: Train Loss: 1.575, Train Accuracy: 0.521, Test Loss: 1.584, Test Accuracy: 0.790\n"
     ]
    },
    {
     "name": "stderr",
     "output_type": "stream",
     "text": [
      "Epoch 118: 100%|██████████| 4/4 [00:00<00:00, 159.50it/s, Loss: 2.035, Accuracy: 0.132]\n",
      "Epoch 118: 100%|██████████| 1/1 [00:00<00:00, 242.81it/s, Loss: 1.589, Accuracy: 0.790]\n"
     ]
    },
    {
     "name": "stdout",
     "output_type": "stream",
     "text": [
      "Epoch 118: Train Loss: 1.626, Train Accuracy: 0.474, Test Loss: 1.589, Test Accuracy: 0.790\n"
     ]
    },
    {
     "name": "stderr",
     "output_type": "stream",
     "text": [
      "Epoch 119: 100%|██████████| 4/4 [00:00<00:00, 144.38it/s, Loss: 1.541, Accuracy: 0.365]\n",
      "Epoch 119: 100%|██████████| 1/1 [00:00<00:00, 125.04it/s, Loss: 1.592, Accuracy: 0.780]\n"
     ]
    },
    {
     "name": "stdout",
     "output_type": "stream",
     "text": [
      "Epoch 119: Train Loss: 1.593, Train Accuracy: 0.492, Test Loss: 1.592, Test Accuracy: 0.780\n"
     ]
    },
    {
     "name": "stderr",
     "output_type": "stream",
     "text": [
      "Epoch 120: 100%|██████████| 4/4 [00:00<00:00, 134.78it/s, Loss: 1.863, Accuracy: 0.458]\n",
      "Epoch 120: 100%|██████████| 1/1 [00:00<00:00, 200.01it/s, Loss: 1.587, Accuracy: 0.780]\n"
     ]
    },
    {
     "name": "stdout",
     "output_type": "stream",
     "text": [
      "Epoch 120: Train Loss: 1.571, Train Accuracy: 0.512, Test Loss: 1.587, Test Accuracy: 0.780\n"
     ]
    },
    {
     "name": "stderr",
     "output_type": "stream",
     "text": [
      "Epoch 121: 100%|██████████| 4/4 [00:00<00:00, 140.27it/s, Loss: 1.867, Accuracy: 0.336]\n",
      "Epoch 121: 100%|██████████| 1/1 [00:00<00:00, 200.01it/s, Loss: 1.589, Accuracy: 0.780]\n"
     ]
    },
    {
     "name": "stdout",
     "output_type": "stream",
     "text": [
      "Epoch 121: Train Loss: 1.640, Train Accuracy: 0.482, Test Loss: 1.589, Test Accuracy: 0.780\n"
     ]
    },
    {
     "name": "stderr",
     "output_type": "stream",
     "text": [
      "Epoch 122: 100%|██████████| 4/4 [00:00<00:00, 142.86it/s, Loss: 1.052, Accuracy: 0.754]\n",
      "Epoch 122: 100%|██████████| 1/1 [00:00<00:00, 221.49it/s, Loss: 1.592, Accuracy: 0.780]\n"
     ]
    },
    {
     "name": "stdout",
     "output_type": "stream",
     "text": [
      "Epoch 122: Train Loss: 1.630, Train Accuracy: 0.495, Test Loss: 1.592, Test Accuracy: 0.780\n"
     ]
    },
    {
     "name": "stderr",
     "output_type": "stream",
     "text": [
      "Epoch 123: 100%|██████████| 4/4 [00:00<00:00, 142.85it/s, Loss: 1.670, Accuracy: 0.557]\n",
      "Epoch 123: 100%|██████████| 1/1 [00:00<00:00, 250.14it/s, Loss: 1.588, Accuracy: 0.780]\n"
     ]
    },
    {
     "name": "stdout",
     "output_type": "stream",
     "text": [
      "Epoch 123: Train Loss: 1.591, Train Accuracy: 0.512, Test Loss: 1.588, Test Accuracy: 0.780\n"
     ]
    },
    {
     "name": "stderr",
     "output_type": "stream",
     "text": [
      "Epoch 124: 100%|██████████| 4/4 [00:00<00:00, 163.09it/s, Loss: 1.885, Accuracy: 0.383]\n",
      "Epoch 124: 100%|██████████| 1/1 [00:00<00:00, 200.05it/s, Loss: 1.582, Accuracy: 0.780]\n"
     ]
    },
    {
     "name": "stdout",
     "output_type": "stream",
     "text": [
      "Epoch 124: Train Loss: 1.652, Train Accuracy: 0.495, Test Loss: 1.582, Test Accuracy: 0.780\n"
     ]
    },
    {
     "name": "stderr",
     "output_type": "stream",
     "text": [
      "Epoch 125: 100%|██████████| 4/4 [00:00<00:00, 141.86it/s, Loss: 1.854, Accuracy: 0.693]\n",
      "Epoch 125: 100%|██████████| 1/1 [00:00<00:00, 252.27it/s, Loss: 1.577, Accuracy: 0.780]\n"
     ]
    },
    {
     "name": "stdout",
     "output_type": "stream",
     "text": [
      "Epoch 125: Train Loss: 1.642, Train Accuracy: 0.516, Test Loss: 1.577, Test Accuracy: 0.780\n"
     ]
    },
    {
     "name": "stderr",
     "output_type": "stream",
     "text": [
      "Epoch 126: 100%|██████████| 4/4 [00:00<00:00, 101.86it/s, Loss: 1.134, Accuracy: 0.734]\n",
      "Epoch 126: 100%|██████████| 1/1 [00:00<00:00, 125.02it/s, Loss: 1.561, Accuracy: 0.760]\n"
     ]
    },
    {
     "name": "stdout",
     "output_type": "stream",
     "text": [
      "Epoch 126: Train Loss: 1.621, Train Accuracy: 0.504, Test Loss: 1.561, Test Accuracy: 0.760\n"
     ]
    },
    {
     "name": "stderr",
     "output_type": "stream",
     "text": [
      "Epoch 127: 100%|██████████| 4/4 [00:00<00:00, 142.83it/s, Loss: 1.681, Accuracy: 0.420]\n",
      "Epoch 127: 100%|██████████| 1/1 [00:00<00:00, 249.01it/s, Loss: 1.536, Accuracy: 0.760]\n"
     ]
    },
    {
     "name": "stdout",
     "output_type": "stream",
     "text": [
      "Epoch 127: Train Loss: 1.579, Train Accuracy: 0.527, Test Loss: 1.536, Test Accuracy: 0.760\n"
     ]
    },
    {
     "name": "stderr",
     "output_type": "stream",
     "text": [
      "Epoch 128: 100%|██████████| 4/4 [00:00<00:00, 139.12it/s, Loss: 1.401, Accuracy: 0.728]\n",
      "Epoch 128: 100%|██████████| 1/1 [00:00<00:00, 249.65it/s, Loss: 1.530, Accuracy: 0.730]\n"
     ]
    },
    {
     "name": "stdout",
     "output_type": "stream",
     "text": [
      "Epoch 128: Train Loss: 1.576, Train Accuracy: 0.520, Test Loss: 1.530, Test Accuracy: 0.730\n"
     ]
    },
    {
     "name": "stderr",
     "output_type": "stream",
     "text": [
      "Epoch 129: 100%|██████████| 4/4 [00:00<00:00, 139.19it/s, Loss: 1.495, Accuracy: 0.628]\n",
      "Epoch 129: 100%|██████████| 1/1 [00:00<00:00, 166.73it/s, Loss: 1.615, Accuracy: 0.760]\n"
     ]
    },
    {
     "name": "stdout",
     "output_type": "stream",
     "text": [
      "Epoch 129: Train Loss: 1.627, Train Accuracy: 0.511, Test Loss: 1.615, Test Accuracy: 0.760\n"
     ]
    },
    {
     "name": "stderr",
     "output_type": "stream",
     "text": [
      "Epoch 130: 100%|██████████| 4/4 [00:00<00:00, 125.88it/s, Loss: 1.209, Accuracy: 0.524]\n",
      "Epoch 130: 100%|██████████| 1/1 [00:00<00:00, 199.97it/s, Loss: 1.687, Accuracy: 0.600]\n"
     ]
    },
    {
     "name": "stdout",
     "output_type": "stream",
     "text": [
      "Epoch 130: Train Loss: 1.585, Train Accuracy: 0.512, Test Loss: 1.687, Test Accuracy: 0.600\n"
     ]
    },
    {
     "name": "stderr",
     "output_type": "stream",
     "text": [
      "Epoch 131: 100%|██████████| 4/4 [00:00<00:00, 117.24it/s, Loss: 1.980, Accuracy: 0.424]\n",
      "Epoch 131: 100%|██████████| 1/1 [00:00<00:00, 166.56it/s, Loss: 1.693, Accuracy: 0.580]\n"
     ]
    },
    {
     "name": "stdout",
     "output_type": "stream",
     "text": [
      "Epoch 131: Train Loss: 1.684, Train Accuracy: 0.450, Test Loss: 1.693, Test Accuracy: 0.580\n"
     ]
    },
    {
     "name": "stderr",
     "output_type": "stream",
     "text": [
      "Epoch 132: 100%|██████████| 4/4 [00:00<00:00, 133.28it/s, Loss: 1.148, Accuracy: 0.623]\n",
      "Epoch 132: 100%|██████████| 1/1 [00:00<00:00, 200.08it/s, Loss: 1.618, Accuracy: 0.790]\n"
     ]
    },
    {
     "name": "stdout",
     "output_type": "stream",
     "text": [
      "Epoch 132: Train Loss: 1.716, Train Accuracy: 0.429, Test Loss: 1.618, Test Accuracy: 0.790\n"
     ]
    },
    {
     "name": "stderr",
     "output_type": "stream",
     "text": [
      "Epoch 133: 100%|██████████| 4/4 [00:00<00:00, 97.44it/s, Loss: 1.185, Accuracy: 0.636]\n",
      "Epoch 133: 100%|██████████| 1/1 [00:00<00:00, 284.88it/s, Loss: 1.610, Accuracy: 0.770]\n"
     ]
    },
    {
     "name": "stdout",
     "output_type": "stream",
     "text": [
      "Epoch 133: Train Loss: 1.655, Train Accuracy: 0.512, Test Loss: 1.610, Test Accuracy: 0.770\n"
     ]
    },
    {
     "name": "stderr",
     "output_type": "stream",
     "text": [
      "Epoch 134: 100%|██████████| 4/4 [00:00<00:00, 129.04it/s, Loss: 1.708, Accuracy: 0.422]\n",
      "Epoch 134: 100%|██████████| 1/1 [00:00<00:00, 250.03it/s, Loss: 1.589, Accuracy: 0.780]\n"
     ]
    },
    {
     "name": "stdout",
     "output_type": "stream",
     "text": [
      "Epoch 134: Train Loss: 1.613, Train Accuracy: 0.537, Test Loss: 1.589, Test Accuracy: 0.780\n"
     ]
    },
    {
     "name": "stderr",
     "output_type": "stream",
     "text": [
      "Epoch 135: 100%|██████████| 4/4 [00:00<00:00, 133.95it/s, Loss: 1.790, Accuracy: 0.448]\n",
      "Epoch 135: 100%|██████████| 1/1 [00:00<00:00, 166.69it/s, Loss: 1.534, Accuracy: 0.790]\n"
     ]
    },
    {
     "name": "stdout",
     "output_type": "stream",
     "text": [
      "Epoch 135: Train Loss: 1.612, Train Accuracy: 0.504, Test Loss: 1.534, Test Accuracy: 0.790\n"
     ]
    },
    {
     "name": "stderr",
     "output_type": "stream",
     "text": [
      "Epoch 136: 100%|██████████| 4/4 [00:00<00:00, 140.30it/s, Loss: 2.055, Accuracy: 0.195]\n",
      "Epoch 136: 100%|██████████| 1/1 [00:00<00:00, 199.99it/s, Loss: 1.481, Accuracy: 0.790]\n"
     ]
    },
    {
     "name": "stdout",
     "output_type": "stream",
     "text": [
      "Epoch 136: Train Loss: 1.598, Train Accuracy: 0.504, Test Loss: 1.481, Test Accuracy: 0.790\n"
     ]
    },
    {
     "name": "stderr",
     "output_type": "stream",
     "text": [
      "Epoch 137: 100%|██████████| 4/4 [00:00<00:00, 124.47it/s, Loss: 1.665, Accuracy: 0.525]\n",
      "Epoch 137: 100%|██████████| 1/1 [00:00<00:00, 249.81it/s, Loss: 1.486, Accuracy: 0.790]\n"
     ]
    },
    {
     "name": "stdout",
     "output_type": "stream",
     "text": [
      "Epoch 137: Train Loss: 1.599, Train Accuracy: 0.503, Test Loss: 1.486, Test Accuracy: 0.790\n"
     ]
    },
    {
     "name": "stderr",
     "output_type": "stream",
     "text": [
      "Epoch 138: 100%|██████████| 4/4 [00:00<00:00, 119.35it/s, Loss: 1.419, Accuracy: 0.667]\n",
      "Epoch 138: 100%|██████████| 1/1 [00:00<00:00, 199.98it/s, Loss: 1.497, Accuracy: 0.770]\n"
     ]
    },
    {
     "name": "stdout",
     "output_type": "stream",
     "text": [
      "Epoch 138: Train Loss: 1.619, Train Accuracy: 0.491, Test Loss: 1.497, Test Accuracy: 0.770\n"
     ]
    },
    {
     "name": "stderr",
     "output_type": "stream",
     "text": [
      "Epoch 139: 100%|██████████| 4/4 [00:00<00:00, 111.11it/s, Loss: 2.104, Accuracy: 0.072]\n",
      "Epoch 139: 100%|██████████| 1/1 [00:00<00:00, 125.00it/s, Loss: 1.494, Accuracy: 0.780]\n"
     ]
    },
    {
     "name": "stdout",
     "output_type": "stream",
     "text": [
      "Epoch 139: Train Loss: 1.704, Train Accuracy: 0.441, Test Loss: 1.494, Test Accuracy: 0.780\n"
     ]
    },
    {
     "name": "stderr",
     "output_type": "stream",
     "text": [
      "Epoch 140: 100%|██████████| 4/4 [00:00<00:00, 113.98it/s, Loss: 2.048, Accuracy: 0.121]\n",
      "Epoch 140: 100%|██████████| 1/1 [00:00<00:00, 225.54it/s, Loss: 1.500, Accuracy: 0.790]\n"
     ]
    },
    {
     "name": "stdout",
     "output_type": "stream",
     "text": [
      "Epoch 140: Train Loss: 1.692, Train Accuracy: 0.431, Test Loss: 1.500, Test Accuracy: 0.790\n"
     ]
    },
    {
     "name": "stderr",
     "output_type": "stream",
     "text": [
      "Epoch 141: 100%|██████████| 4/4 [00:00<00:00, 119.28it/s, Loss: 1.680, Accuracy: 0.561]\n",
      "Epoch 141: 100%|██████████| 1/1 [00:00<00:00, 251.10it/s, Loss: 1.509, Accuracy: 0.770]\n"
     ]
    },
    {
     "name": "stdout",
     "output_type": "stream",
     "text": [
      "Epoch 141: Train Loss: 1.631, Train Accuracy: 0.495, Test Loss: 1.509, Test Accuracy: 0.770\n"
     ]
    },
    {
     "name": "stderr",
     "output_type": "stream",
     "text": [
      "Epoch 142: 100%|██████████| 4/4 [00:00<00:00, 141.52it/s, Loss: 1.606, Accuracy: 0.576]\n",
      "Epoch 142: 100%|██████████| 1/1 [00:00<00:00, 166.48it/s, Loss: 1.505, Accuracy: 0.760]\n"
     ]
    },
    {
     "name": "stdout",
     "output_type": "stream",
     "text": [
      "Epoch 142: Train Loss: 1.612, Train Accuracy: 0.512, Test Loss: 1.505, Test Accuracy: 0.760\n"
     ]
    },
    {
     "name": "stderr",
     "output_type": "stream",
     "text": [
      "Epoch 143: 100%|██████████| 4/4 [00:00<00:00, 128.50it/s, Loss: 2.240, Accuracy: 0.215]\n",
      "Epoch 143: 100%|██████████| 1/1 [00:00<00:00, 250.02it/s, Loss: 1.510, Accuracy: 0.760]\n"
     ]
    },
    {
     "name": "stdout",
     "output_type": "stream",
     "text": [
      "Epoch 143: Train Loss: 1.659, Train Accuracy: 0.514, Test Loss: 1.510, Test Accuracy: 0.760\n"
     ]
    },
    {
     "name": "stderr",
     "output_type": "stream",
     "text": [
      "Epoch 144: 100%|██████████| 4/4 [00:00<00:00, 121.20it/s, Loss: 1.536, Accuracy: 0.577]\n",
      "Epoch 144: 100%|██████████| 1/1 [00:00<00:00, 200.11it/s, Loss: 1.508, Accuracy: 0.760]\n"
     ]
    },
    {
     "name": "stdout",
     "output_type": "stream",
     "text": [
      "Epoch 144: Train Loss: 1.607, Train Accuracy: 0.537, Test Loss: 1.508, Test Accuracy: 0.760\n"
     ]
    },
    {
     "name": "stderr",
     "output_type": "stream",
     "text": [
      "Epoch 145: 100%|██████████| 4/4 [00:00<00:00, 128.36it/s, Loss: 1.793, Accuracy: 0.374]\n",
      "Epoch 145: 100%|██████████| 1/1 [00:00<00:00, 181.48it/s, Loss: 1.516, Accuracy: 0.760]\n"
     ]
    },
    {
     "name": "stdout",
     "output_type": "stream",
     "text": [
      "Epoch 145: Train Loss: 1.625, Train Accuracy: 0.530, Test Loss: 1.516, Test Accuracy: 0.760\n"
     ]
    },
    {
     "name": "stderr",
     "output_type": "stream",
     "text": [
      "Epoch 146: 100%|██████████| 4/4 [00:00<00:00, 121.08it/s, Loss: 1.686, Accuracy: 0.620]\n",
      "Epoch 146: 100%|██████████| 1/1 [00:00<00:00, 199.81it/s, Loss: 1.530, Accuracy: 0.750]\n"
     ]
    },
    {
     "name": "stdout",
     "output_type": "stream",
     "text": [
      "Epoch 146: Train Loss: 1.547, Train Accuracy: 0.561, Test Loss: 1.530, Test Accuracy: 0.750\n"
     ]
    },
    {
     "name": "stderr",
     "output_type": "stream",
     "text": [
      "Epoch 147: 100%|██████████| 4/4 [00:00<00:00, 94.85it/s, Loss: 2.030, Accuracy: 0.282]\n",
      "Epoch 147: 100%|██████████| 1/1 [00:00<00:00, 166.75it/s, Loss: 1.532, Accuracy: 0.740]\n"
     ]
    },
    {
     "name": "stdout",
     "output_type": "stream",
     "text": [
      "Epoch 147: Train Loss: 1.607, Train Accuracy: 0.514, Test Loss: 1.532, Test Accuracy: 0.740\n"
     ]
    },
    {
     "name": "stderr",
     "output_type": "stream",
     "text": [
      "Epoch 148: 100%|██████████| 4/4 [00:00<00:00, 111.08it/s, Loss: 0.926, Accuracy: 0.786]\n",
      "Epoch 148: 100%|██████████| 1/1 [00:00<00:00, 200.00it/s, Loss: 1.528, Accuracy: 0.740]\n"
     ]
    },
    {
     "name": "stdout",
     "output_type": "stream",
     "text": [
      "Epoch 148: Train Loss: 1.579, Train Accuracy: 0.521, Test Loss: 1.528, Test Accuracy: 0.740\n"
     ]
    },
    {
     "name": "stderr",
     "output_type": "stream",
     "text": [
      "Epoch 149: 100%|██████████| 4/4 [00:00<00:00, 123.70it/s, Loss: 1.438, Accuracy: 0.604]\n",
      "Epoch 149: 100%|██████████| 1/1 [00:00<00:00, 248.96it/s, Loss: 1.527, Accuracy: 0.740]\n"
     ]
    },
    {
     "name": "stdout",
     "output_type": "stream",
     "text": [
      "Epoch 149: Train Loss: 1.629, Train Accuracy: 0.525, Test Loss: 1.527, Test Accuracy: 0.740\n"
     ]
    },
    {
     "name": "stderr",
     "output_type": "stream",
     "text": [
      "Epoch 150: 100%|██████████| 4/4 [00:00<00:00, 130.17it/s, Loss: 1.521, Accuracy: 0.597]\n",
      "Epoch 150: 100%|██████████| 1/1 [00:00<00:00, 248.98it/s, Loss: 1.531, Accuracy: 0.720]\n"
     ]
    },
    {
     "name": "stdout",
     "output_type": "stream",
     "text": [
      "Epoch 150: Train Loss: 1.517, Train Accuracy: 0.561, Test Loss: 1.531, Test Accuracy: 0.720\n"
     ]
    },
    {
     "name": "stderr",
     "output_type": "stream",
     "text": [
      "Epoch 151: 100%|██████████| 4/4 [00:00<00:00, 129.04it/s, Loss: 1.943, Accuracy: 0.325]\n",
      "Epoch 151: 100%|██████████| 1/1 [00:00<00:00, 199.39it/s, Loss: 1.532, Accuracy: 0.710]\n"
     ]
    },
    {
     "name": "stdout",
     "output_type": "stream",
     "text": [
      "Epoch 151: Train Loss: 1.608, Train Accuracy: 0.523, Test Loss: 1.532, Test Accuracy: 0.710\n"
     ]
    },
    {
     "name": "stderr",
     "output_type": "stream",
     "text": [
      "Epoch 152: 100%|██████████| 4/4 [00:00<00:00, 121.73it/s, Loss: 1.625, Accuracy: 0.705]\n",
      "Epoch 152: 100%|██████████| 1/1 [00:00<00:00, 334.87it/s, Loss: 1.538, Accuracy: 0.720]\n"
     ]
    },
    {
     "name": "stdout",
     "output_type": "stream",
     "text": [
      "Epoch 152: Train Loss: 1.563, Train Accuracy: 0.539, Test Loss: 1.538, Test Accuracy: 0.720\n"
     ]
    },
    {
     "name": "stderr",
     "output_type": "stream",
     "text": [
      "Epoch 153: 100%|██████████| 4/4 [00:00<00:00, 125.00it/s, Loss: 1.515, Accuracy: 0.597]\n",
      "Epoch 153: 100%|██████████| 1/1 [00:00<00:00, 250.00it/s, Loss: 1.529, Accuracy: 0.740]\n"
     ]
    },
    {
     "name": "stdout",
     "output_type": "stream",
     "text": [
      "Epoch 153: Train Loss: 1.536, Train Accuracy: 0.570, Test Loss: 1.529, Test Accuracy: 0.740\n"
     ]
    },
    {
     "name": "stderr",
     "output_type": "stream",
     "text": [
      "Epoch 154: 100%|██████████| 4/4 [00:00<00:00, 102.06it/s, Loss: 1.421, Accuracy: 0.686]\n",
      "Epoch 154: 100%|██████████| 1/1 [00:00<00:00, 200.12it/s, Loss: 1.534, Accuracy: 0.740]\n"
     ]
    },
    {
     "name": "stdout",
     "output_type": "stream",
     "text": [
      "Epoch 154: Train Loss: 1.564, Train Accuracy: 0.558, Test Loss: 1.534, Test Accuracy: 0.740\n"
     ]
    },
    {
     "name": "stderr",
     "output_type": "stream",
     "text": [
      "Epoch 155: 100%|██████████| 4/4 [00:00<00:00, 134.95it/s, Loss: 1.706, Accuracy: 0.573]\n",
      "Epoch 155: 100%|██████████| 1/1 [00:00<00:00, 166.66it/s, Loss: 1.537, Accuracy: 0.740]\n"
     ]
    },
    {
     "name": "stdout",
     "output_type": "stream",
     "text": [
      "Epoch 155: Train Loss: 1.617, Train Accuracy: 0.530, Test Loss: 1.537, Test Accuracy: 0.740\n"
     ]
    },
    {
     "name": "stderr",
     "output_type": "stream",
     "text": [
      "Epoch 156: 100%|██████████| 4/4 [00:00<00:00, 129.03it/s, Loss: 1.706, Accuracy: 0.478]\n",
      "Epoch 156: 100%|██████████| 1/1 [00:00<00:00, 200.00it/s, Loss: 1.530, Accuracy: 0.740]\n"
     ]
    },
    {
     "name": "stdout",
     "output_type": "stream",
     "text": [
      "Epoch 156: Train Loss: 1.540, Train Accuracy: 0.571, Test Loss: 1.530, Test Accuracy: 0.740\n"
     ]
    },
    {
     "name": "stderr",
     "output_type": "stream",
     "text": [
      "Epoch 157: 100%|██████████| 4/4 [00:00<00:00, 122.49it/s, Loss: 1.659, Accuracy: 0.683]\n",
      "Epoch 157: 100%|██████████| 1/1 [00:00<00:00, 246.42it/s, Loss: 1.523, Accuracy: 0.740]\n"
     ]
    },
    {
     "name": "stdout",
     "output_type": "stream",
     "text": [
      "Epoch 157: Train Loss: 1.506, Train Accuracy: 0.589, Test Loss: 1.523, Test Accuracy: 0.740\n"
     ]
    },
    {
     "name": "stderr",
     "output_type": "stream",
     "text": [
      "Epoch 158: 100%|██████████| 4/4 [00:00<00:00, 133.67it/s, Loss: 2.061, Accuracy: 0.292]\n",
      "Epoch 158: 100%|██████████| 1/1 [00:00<00:00, 166.57it/s, Loss: 1.514, Accuracy: 0.740]\n"
     ]
    },
    {
     "name": "stdout",
     "output_type": "stream",
     "text": [
      "Epoch 158: Train Loss: 1.571, Train Accuracy: 0.549, Test Loss: 1.514, Test Accuracy: 0.740\n"
     ]
    },
    {
     "name": "stderr",
     "output_type": "stream",
     "text": [
      "Epoch 159: 100%|██████████| 4/4 [00:00<00:00, 130.74it/s, Loss: 1.094, Accuracy: 0.653]\n",
      "Epoch 159: 100%|██████████| 1/1 [00:00<00:00, 197.09it/s, Loss: 1.512, Accuracy: 0.740]\n"
     ]
    },
    {
     "name": "stdout",
     "output_type": "stream",
     "text": [
      "Epoch 159: Train Loss: 1.595, Train Accuracy: 0.532, Test Loss: 1.512, Test Accuracy: 0.740\n"
     ]
    },
    {
     "name": "stderr",
     "output_type": "stream",
     "text": [
      "Epoch 160: 100%|██████████| 4/4 [00:00<00:00, 135.41it/s, Loss: 2.209, Accuracy: 0.151]\n",
      "Epoch 160: 100%|██████████| 1/1 [00:00<00:00, 166.68it/s, Loss: 1.510, Accuracy: 0.740]\n"
     ]
    },
    {
     "name": "stdout",
     "output_type": "stream",
     "text": [
      "Epoch 160: Train Loss: 1.559, Train Accuracy: 0.538, Test Loss: 1.510, Test Accuracy: 0.740\n"
     ]
    },
    {
     "name": "stderr",
     "output_type": "stream",
     "text": [
      "Epoch 161: 100%|██████████| 4/4 [00:00<00:00, 100.01it/s, Loss: 2.241, Accuracy: 0.153]\n",
      "Epoch 161: 100%|██████████| 1/1 [00:00<00:00, 200.15it/s, Loss: 1.508, Accuracy: 0.740]\n"
     ]
    },
    {
     "name": "stdout",
     "output_type": "stream",
     "text": [
      "Epoch 161: Train Loss: 1.585, Train Accuracy: 0.530, Test Loss: 1.508, Test Accuracy: 0.740\n"
     ]
    },
    {
     "name": "stderr",
     "output_type": "stream",
     "text": [
      "Epoch 162: 100%|██████████| 4/4 [00:00<00:00, 115.89it/s, Loss: 1.323, Accuracy: 0.609]\n",
      "Epoch 162: 100%|██████████| 1/1 [00:00<00:00, 166.61it/s, Loss: 1.510, Accuracy: 0.750]\n"
     ]
    },
    {
     "name": "stdout",
     "output_type": "stream",
     "text": [
      "Epoch 162: Train Loss: 1.535, Train Accuracy: 0.563, Test Loss: 1.510, Test Accuracy: 0.750\n"
     ]
    },
    {
     "name": "stderr",
     "output_type": "stream",
     "text": [
      "Epoch 163: 100%|██████████| 4/4 [00:00<00:00, 105.27it/s, Loss: 0.869, Accuracy: 0.844]\n",
      "Epoch 163: 100%|██████████| 1/1 [00:00<00:00, 200.18it/s, Loss: 1.509, Accuracy: 0.750]\n"
     ]
    },
    {
     "name": "stdout",
     "output_type": "stream",
     "text": [
      "Epoch 163: Train Loss: 1.545, Train Accuracy: 0.557, Test Loss: 1.509, Test Accuracy: 0.750\n"
     ]
    },
    {
     "name": "stderr",
     "output_type": "stream",
     "text": [
      "Epoch 164: 100%|██████████| 4/4 [00:00<00:00, 125.38it/s, Loss: 2.132, Accuracy: 0.254]\n",
      "Epoch 164: 100%|██████████| 1/1 [00:00<00:00, 199.99it/s, Loss: 1.508, Accuracy: 0.750]\n"
     ]
    },
    {
     "name": "stdout",
     "output_type": "stream",
     "text": [
      "Epoch 164: Train Loss: 1.561, Train Accuracy: 0.547, Test Loss: 1.508, Test Accuracy: 0.750\n"
     ]
    },
    {
     "name": "stderr",
     "output_type": "stream",
     "text": [
      "Epoch 165: 100%|██████████| 4/4 [00:00<00:00, 121.21it/s, Loss: 1.827, Accuracy: 0.364]\n",
      "Epoch 165: 100%|██████████| 1/1 [00:00<00:00, 200.15it/s, Loss: 1.511, Accuracy: 0.750]\n"
     ]
    },
    {
     "name": "stdout",
     "output_type": "stream",
     "text": [
      "Epoch 165: Train Loss: 1.534, Train Accuracy: 0.561, Test Loss: 1.511, Test Accuracy: 0.750\n"
     ]
    },
    {
     "name": "stderr",
     "output_type": "stream",
     "text": [
      "Epoch 166: 100%|██████████| 4/4 [00:00<00:00, 100.75it/s, Loss: 1.570, Accuracy: 0.496]\n",
      "Epoch 166: 100%|██████████| 1/1 [00:00<00:00, 151.42it/s, Loss: 1.511, Accuracy: 0.750]\n"
     ]
    },
    {
     "name": "stdout",
     "output_type": "stream",
     "text": [
      "Epoch 166: Train Loss: 1.635, Train Accuracy: 0.501, Test Loss: 1.511, Test Accuracy: 0.750\n"
     ]
    },
    {
     "name": "stderr",
     "output_type": "stream",
     "text": [
      "Epoch 167: 100%|██████████| 4/4 [00:00<00:00, 114.30it/s, Loss: 1.585, Accuracy: 0.477]\n",
      "Epoch 167: 100%|██████████| 1/1 [00:00<00:00, 218.99it/s, Loss: 1.508, Accuracy: 0.750]\n"
     ]
    },
    {
     "name": "stdout",
     "output_type": "stream",
     "text": [
      "Epoch 167: Train Loss: 1.513, Train Accuracy: 0.586, Test Loss: 1.508, Test Accuracy: 0.750\n"
     ]
    },
    {
     "name": "stderr",
     "output_type": "stream",
     "text": [
      "Epoch 168: 100%|██████████| 4/4 [00:00<00:00, 117.64it/s, Loss: 1.562, Accuracy: 0.542]\n",
      "Epoch 168: 100%|██████████| 1/1 [00:00<00:00, 213.77it/s, Loss: 1.505, Accuracy: 0.750]\n"
     ]
    },
    {
     "name": "stdout",
     "output_type": "stream",
     "text": [
      "Epoch 168: Train Loss: 1.551, Train Accuracy: 0.555, Test Loss: 1.505, Test Accuracy: 0.750\n"
     ]
    },
    {
     "name": "stderr",
     "output_type": "stream",
     "text": [
      "Epoch 169: 100%|██████████| 4/4 [00:00<00:00, 114.29it/s, Loss: 2.083, Accuracy: 0.291]\n",
      "Epoch 169: 100%|██████████| 1/1 [00:00<00:00, 199.93it/s, Loss: 1.499, Accuracy: 0.750]\n"
     ]
    },
    {
     "name": "stdout",
     "output_type": "stream",
     "text": [
      "Epoch 169: Train Loss: 1.567, Train Accuracy: 0.544, Test Loss: 1.499, Test Accuracy: 0.750\n"
     ]
    },
    {
     "name": "stderr",
     "output_type": "stream",
     "text": [
      "Epoch 170: 100%|██████████| 4/4 [00:00<00:00, 125.01it/s, Loss: 1.238, Accuracy: 0.602]\n",
      "Epoch 170: 100%|██████████| 1/1 [00:00<00:00, 249.97it/s, Loss: 1.493, Accuracy: 0.750]\n"
     ]
    },
    {
     "name": "stdout",
     "output_type": "stream",
     "text": [
      "Epoch 170: Train Loss: 1.550, Train Accuracy: 0.565, Test Loss: 1.493, Test Accuracy: 0.750\n"
     ]
    },
    {
     "name": "stderr",
     "output_type": "stream",
     "text": [
      "Epoch 171: 100%|██████████| 4/4 [00:00<00:00, 95.21it/s, Loss: 1.828, Accuracy: 0.518]\n",
      "Epoch 171: 100%|██████████| 1/1 [00:00<00:00, 251.67it/s, Loss: 1.489, Accuracy: 0.750]\n"
     ]
    },
    {
     "name": "stdout",
     "output_type": "stream",
     "text": [
      "Epoch 171: Train Loss: 1.504, Train Accuracy: 0.580, Test Loss: 1.489, Test Accuracy: 0.750\n"
     ]
    },
    {
     "name": "stderr",
     "output_type": "stream",
     "text": [
      "Epoch 172: 100%|██████████| 4/4 [00:00<00:00, 102.58it/s, Loss: 1.741, Accuracy: 0.410]\n",
      "Epoch 172: 100%|██████████| 1/1 [00:00<00:00, 200.09it/s, Loss: 1.482, Accuracy: 0.750]\n"
     ]
    },
    {
     "name": "stdout",
     "output_type": "stream",
     "text": [
      "Epoch 172: Train Loss: 1.515, Train Accuracy: 0.572, Test Loss: 1.482, Test Accuracy: 0.750\n"
     ]
    },
    {
     "name": "stderr",
     "output_type": "stream",
     "text": [
      "Epoch 173: 100%|██████████| 4/4 [00:00<00:00, 118.11it/s, Loss: 1.610, Accuracy: 0.457]\n",
      "Epoch 173: 100%|██████████| 1/1 [00:00<00:00, 199.90it/s, Loss: 1.484, Accuracy: 0.750]\n"
     ]
    },
    {
     "name": "stdout",
     "output_type": "stream",
     "text": [
      "Epoch 173: Train Loss: 1.481, Train Accuracy: 0.575, Test Loss: 1.484, Test Accuracy: 0.750\n"
     ]
    },
    {
     "name": "stderr",
     "output_type": "stream",
     "text": [
      "Epoch 174: 100%|██████████| 4/4 [00:00<00:00, 129.02it/s, Loss: 1.693, Accuracy: 0.577]\n",
      "Epoch 174: 100%|██████████| 1/1 [00:00<00:00, 199.98it/s, Loss: 1.486, Accuracy: 0.750]\n"
     ]
    },
    {
     "name": "stdout",
     "output_type": "stream",
     "text": [
      "Epoch 174: Train Loss: 1.611, Train Accuracy: 0.514, Test Loss: 1.486, Test Accuracy: 0.750\n"
     ]
    },
    {
     "name": "stderr",
     "output_type": "stream",
     "text": [
      "Epoch 175: 100%|██████████| 4/4 [00:00<00:00, 119.34it/s, Loss: 1.303, Accuracy: 0.593]\n",
      "Epoch 175: 100%|██████████| 1/1 [00:00<00:00, 187.56it/s, Loss: 1.479, Accuracy: 0.750]\n"
     ]
    },
    {
     "name": "stdout",
     "output_type": "stream",
     "text": [
      "Epoch 175: Train Loss: 1.597, Train Accuracy: 0.524, Test Loss: 1.479, Test Accuracy: 0.750\n"
     ]
    },
    {
     "name": "stderr",
     "output_type": "stream",
     "text": [
      "Epoch 176: 100%|██████████| 4/4 [00:00<00:00, 97.55it/s, Loss: 1.212, Accuracy: 0.613]\n",
      "Epoch 176: 100%|██████████| 1/1 [00:00<00:00, 125.02it/s, Loss: 1.466, Accuracy: 0.750]\n"
     ]
    },
    {
     "name": "stdout",
     "output_type": "stream",
     "text": [
      "Epoch 176: Train Loss: 1.550, Train Accuracy: 0.532, Test Loss: 1.466, Test Accuracy: 0.750\n"
     ]
    },
    {
     "name": "stderr",
     "output_type": "stream",
     "text": [
      "Epoch 177: 100%|██████████| 4/4 [00:00<00:00, 129.03it/s, Loss: 1.403, Accuracy: 0.659]\n",
      "Epoch 177: 100%|██████████| 1/1 [00:00<00:00, 200.00it/s, Loss: 1.480, Accuracy: 0.750]\n"
     ]
    },
    {
     "name": "stdout",
     "output_type": "stream",
     "text": [
      "Epoch 177: Train Loss: 1.570, Train Accuracy: 0.519, Test Loss: 1.480, Test Accuracy: 0.750\n"
     ]
    },
    {
     "name": "stderr",
     "output_type": "stream",
     "text": [
      "Epoch 178: 100%|██████████| 4/4 [00:00<00:00, 117.65it/s, Loss: 1.272, Accuracy: 0.686]\n",
      "Epoch 178: 100%|██████████| 1/1 [00:00<00:00, 250.11it/s, Loss: 1.486, Accuracy: 0.750]\n"
     ]
    },
    {
     "name": "stdout",
     "output_type": "stream",
     "text": [
      "Epoch 178: Train Loss: 1.571, Train Accuracy: 0.535, Test Loss: 1.486, Test Accuracy: 0.750\n"
     ]
    },
    {
     "name": "stderr",
     "output_type": "stream",
     "text": [
      "Epoch 179: 100%|██████████| 4/4 [00:00<00:00, 109.52it/s, Loss: 1.297, Accuracy: 0.733]\n",
      "Epoch 179: 100%|██████████| 1/1 [00:00<00:00, 27.04it/s, Loss: 1.486, Accuracy: 0.750]\n"
     ]
    },
    {
     "name": "stdout",
     "output_type": "stream",
     "text": [
      "Epoch 179: Train Loss: 1.506, Train Accuracy: 0.568, Test Loss: 1.486, Test Accuracy: 0.750\n"
     ]
    },
    {
     "name": "stderr",
     "output_type": "stream",
     "text": [
      "Epoch 180: 100%|██████████| 4/4 [00:00<00:00, 114.29it/s, Loss: 1.430, Accuracy: 0.659]\n",
      "Epoch 180: 100%|██████████| 1/1 [00:00<00:00, 199.63it/s, Loss: 1.490, Accuracy: 0.730]\n"
     ]
    },
    {
     "name": "stdout",
     "output_type": "stream",
     "text": [
      "Epoch 180: Train Loss: 1.523, Train Accuracy: 0.562, Test Loss: 1.490, Test Accuracy: 0.730\n"
     ]
    },
    {
     "name": "stderr",
     "output_type": "stream",
     "text": [
      "Epoch 181: 100%|██████████| 4/4 [00:00<00:00, 104.08it/s, Loss: 1.429, Accuracy: 0.630]\n",
      "Epoch 181: 100%|██████████| 1/1 [00:00<00:00, 142.90it/s, Loss: 1.490, Accuracy: 0.730]\n"
     ]
    },
    {
     "name": "stdout",
     "output_type": "stream",
     "text": [
      "Epoch 181: Train Loss: 1.542, Train Accuracy: 0.552, Test Loss: 1.490, Test Accuracy: 0.730\n"
     ]
    },
    {
     "name": "stderr",
     "output_type": "stream",
     "text": [
      "Epoch 182: 100%|██████████| 4/4 [00:00<00:00, 102.57it/s, Loss: 1.858, Accuracy: 0.418]\n",
      "Epoch 182: 100%|██████████| 1/1 [00:00<00:00, 198.67it/s, Loss: 1.483, Accuracy: 0.750]\n"
     ]
    },
    {
     "name": "stdout",
     "output_type": "stream",
     "text": [
      "Epoch 182: Train Loss: 1.532, Train Accuracy: 0.558, Test Loss: 1.483, Test Accuracy: 0.750\n"
     ]
    },
    {
     "name": "stderr",
     "output_type": "stream",
     "text": [
      "Epoch 183: 100%|██████████| 4/4 [00:00<00:00, 119.35it/s, Loss: 1.980, Accuracy: 0.352]\n",
      "Epoch 183: 100%|██████████| 1/1 [00:00<00:00, 181.34it/s, Loss: 1.482, Accuracy: 0.750]\n"
     ]
    },
    {
     "name": "stdout",
     "output_type": "stream",
     "text": [
      "Epoch 183: Train Loss: 1.507, Train Accuracy: 0.573, Test Loss: 1.482, Test Accuracy: 0.750\n"
     ]
    },
    {
     "name": "stderr",
     "output_type": "stream",
     "text": [
      "Epoch 184: 100%|██████████| 4/4 [00:00<00:00, 105.26it/s, Loss: 1.319, Accuracy: 0.700]\n",
      "Epoch 184: 100%|██████████| 1/1 [00:00<00:00, 249.85it/s, Loss: 1.484, Accuracy: 0.750]\n"
     ]
    },
    {
     "name": "stdout",
     "output_type": "stream",
     "text": [
      "Epoch 184: Train Loss: 1.483, Train Accuracy: 0.584, Test Loss: 1.484, Test Accuracy: 0.750\n"
     ]
    },
    {
     "name": "stderr",
     "output_type": "stream",
     "text": [
      "Epoch 185: 100%|██████████| 4/4 [00:00<00:00, 132.30it/s, Loss: 2.135, Accuracy: 0.292]\n",
      "Epoch 185: 100%|██████████| 1/1 [00:00<00:00, 250.06it/s, Loss: 1.475, Accuracy: 0.750]\n"
     ]
    },
    {
     "name": "stdout",
     "output_type": "stream",
     "text": [
      "Epoch 185: Train Loss: 1.563, Train Accuracy: 0.546, Test Loss: 1.475, Test Accuracy: 0.750\n"
     ]
    },
    {
     "name": "stderr",
     "output_type": "stream",
     "text": [
      "Epoch 186: 100%|██████████| 4/4 [00:00<00:00, 122.25it/s, Loss: 1.841, Accuracy: 0.418]\n",
      "Epoch 186: 100%|██████████| 1/1 [00:00<00:00, 142.80it/s, Loss: 1.473, Accuracy: 0.750]\n"
     ]
    },
    {
     "name": "stdout",
     "output_type": "stream",
     "text": [
      "Epoch 186: Train Loss: 1.492, Train Accuracy: 0.568, Test Loss: 1.473, Test Accuracy: 0.750\n"
     ]
    },
    {
     "name": "stderr",
     "output_type": "stream",
     "text": [
      "Epoch 187: 100%|██████████| 4/4 [00:00<00:00, 94.79it/s, Loss: 1.161, Accuracy: 0.603]\n",
      "Epoch 187: 100%|██████████| 1/1 [00:00<00:00, 166.65it/s, Loss: 1.470, Accuracy: 0.750]\n"
     ]
    },
    {
     "name": "stdout",
     "output_type": "stream",
     "text": [
      "Epoch 187: Train Loss: 1.492, Train Accuracy: 0.566, Test Loss: 1.470, Test Accuracy: 0.750\n"
     ]
    },
    {
     "name": "stderr",
     "output_type": "stream",
     "text": [
      "Epoch 188: 100%|██████████| 4/4 [00:00<00:00, 120.97it/s, Loss: 1.738, Accuracy: 0.534]\n",
      "Epoch 188: 100%|██████████| 1/1 [00:00<00:00, 166.65it/s, Loss: 1.470, Accuracy: 0.750]\n"
     ]
    },
    {
     "name": "stdout",
     "output_type": "stream",
     "text": [
      "Epoch 188: Train Loss: 1.497, Train Accuracy: 0.557, Test Loss: 1.470, Test Accuracy: 0.750\n"
     ]
    },
    {
     "name": "stderr",
     "output_type": "stream",
     "text": [
      "Epoch 189: 100%|██████████| 4/4 [00:00<00:00, 124.97it/s, Loss: 1.684, Accuracy: 0.422]\n",
      "Epoch 189: 100%|██████████| 1/1 [00:00<00:00, 220.63it/s, Loss: 1.466, Accuracy: 0.750]\n"
     ]
    },
    {
     "name": "stdout",
     "output_type": "stream",
     "text": [
      "Epoch 189: Train Loss: 1.548, Train Accuracy: 0.587, Test Loss: 1.466, Test Accuracy: 0.750\n"
     ]
    },
    {
     "name": "stderr",
     "output_type": "stream",
     "text": [
      "Epoch 190: 100%|██████████| 4/4 [00:00<00:00, 125.00it/s, Loss: 1.490, Accuracy: 0.537]\n",
      "Epoch 190: 100%|██████████| 1/1 [00:00<00:00, 187.83it/s, Loss: 1.451, Accuracy: 0.750]\n"
     ]
    },
    {
     "name": "stdout",
     "output_type": "stream",
     "text": [
      "Epoch 190: Train Loss: 1.553, Train Accuracy: 0.533, Test Loss: 1.451, Test Accuracy: 0.750\n"
     ]
    },
    {
     "name": "stderr",
     "output_type": "stream",
     "text": [
      "Epoch 191: 100%|██████████| 4/4 [00:00<00:00, 99.98it/s, Loss: 1.839, Accuracy: 0.417]\n",
      "Epoch 191: 100%|██████████| 1/1 [00:00<00:00, 95.01it/s, Loss: 1.435, Accuracy: 0.760]\n"
     ]
    },
    {
     "name": "stdout",
     "output_type": "stream",
     "text": [
      "Epoch 191: Train Loss: 1.457, Train Accuracy: 0.587, Test Loss: 1.435, Test Accuracy: 0.760\n"
     ]
    },
    {
     "name": "stderr",
     "output_type": "stream",
     "text": [
      "Epoch 192: 100%|██████████| 4/4 [00:00<00:00, 115.86it/s, Loss: 1.599, Accuracy: 0.428]\n",
      "Epoch 192: 100%|██████████| 1/1 [00:00<00:00, 199.93it/s, Loss: 1.424, Accuracy: 0.760]"
     ]
    },
    {
     "name": "stdout",
     "output_type": "stream",
     "text": [
      "Epoch 192: Train Loss: 1.496, Train Accuracy: 0.560, Test Loss: 1.424, Test Accuracy: 0.760\n"
     ]
    },
    {
     "name": "stderr",
     "output_type": "stream",
     "text": [
      "\n",
      "Epoch 193: 100%|██████████| 4/4 [00:00<00:00, 119.32it/s, Loss: 1.836, Accuracy: 0.420]\n",
      "Epoch 193: 100%|██████████| 1/1 [00:00<00:00, 166.69it/s, Loss: 1.421, Accuracy: 0.760]\n"
     ]
    },
    {
     "name": "stdout",
     "output_type": "stream",
     "text": [
      "Epoch 193: Train Loss: 1.553, Train Accuracy: 0.539, Test Loss: 1.421, Test Accuracy: 0.760\n"
     ]
    },
    {
     "name": "stderr",
     "output_type": "stream",
     "text": [
      "Epoch 194: 100%|██████████| 4/4 [00:00<00:00, 120.15it/s, Loss: 1.115, Accuracy: 0.786]\n",
      "Epoch 194: 100%|██████████| 1/1 [00:00<00:00, 167.07it/s, Loss: 1.425, Accuracy: 0.760]\n"
     ]
    },
    {
     "name": "stdout",
     "output_type": "stream",
     "text": [
      "Epoch 194: Train Loss: 1.451, Train Accuracy: 0.578, Test Loss: 1.425, Test Accuracy: 0.760\n"
     ]
    },
    {
     "name": "stderr",
     "output_type": "stream",
     "text": [
      "Epoch 195: 100%|██████████| 4/4 [00:00<00:00, 126.27it/s, Loss: 1.343, Accuracy: 0.638]\n",
      "Epoch 195: 100%|██████████| 1/1 [00:00<00:00, 220.93it/s, Loss: 1.420, Accuracy: 0.760]\n"
     ]
    },
    {
     "name": "stdout",
     "output_type": "stream",
     "text": [
      "Epoch 195: Train Loss: 1.493, Train Accuracy: 0.563, Test Loss: 1.420, Test Accuracy: 0.760\n"
     ]
    },
    {
     "name": "stderr",
     "output_type": "stream",
     "text": [
      "Epoch 196: 100%|██████████| 4/4 [00:00<00:00, 124.14it/s, Loss: 1.654, Accuracy: 0.642]\n",
      "Epoch 196: 100%|██████████| 1/1 [00:00<00:00, 198.52it/s, Loss: 1.420, Accuracy: 0.760]\n"
     ]
    },
    {
     "name": "stdout",
     "output_type": "stream",
     "text": [
      "Epoch 196: Train Loss: 1.526, Train Accuracy: 0.567, Test Loss: 1.420, Test Accuracy: 0.760\n"
     ]
    },
    {
     "name": "stderr",
     "output_type": "stream",
     "text": [
      "Epoch 197: 100%|██████████| 4/4 [00:00<00:00, 86.00it/s, Loss: 1.397, Accuracy: 0.576]\n",
      "Epoch 197: 100%|██████████| 1/1 [00:00<00:00, 197.58it/s, Loss: 1.421, Accuracy: 0.760]\n"
     ]
    },
    {
     "name": "stdout",
     "output_type": "stream",
     "text": [
      "Epoch 197: Train Loss: 1.476, Train Accuracy: 0.568, Test Loss: 1.421, Test Accuracy: 0.760\n"
     ]
    },
    {
     "name": "stderr",
     "output_type": "stream",
     "text": [
      "Epoch 198: 100%|██████████| 4/4 [00:00<00:00, 120.81it/s, Loss: 1.530, Accuracy: 0.660]\n",
      "Epoch 198: 100%|██████████| 1/1 [00:00<00:00, 201.09it/s, Loss: 1.424, Accuracy: 0.750]\n"
     ]
    },
    {
     "name": "stdout",
     "output_type": "stream",
     "text": [
      "Epoch 198: Train Loss: 1.490, Train Accuracy: 0.558, Test Loss: 1.424, Test Accuracy: 0.750\n"
     ]
    },
    {
     "name": "stderr",
     "output_type": "stream",
     "text": [
      "Epoch 199: 100%|██████████| 4/4 [00:00<00:00, 124.09it/s, Loss: 1.319, Accuracy: 0.683]\n",
      "Epoch 199: 100%|██████████| 1/1 [00:00<00:00, 211.12it/s, Loss: 1.419, Accuracy: 0.750]\n"
     ]
    },
    {
     "name": "stdout",
     "output_type": "stream",
     "text": [
      "Epoch 199: Train Loss: 1.430, Train Accuracy: 0.584, Test Loss: 1.419, Test Accuracy: 0.750\n"
     ]
    },
    {
     "name": "stderr",
     "output_type": "stream",
     "text": [
      "Epoch 200: 100%|██████████| 4/4 [00:00<00:00, 106.30it/s, Loss: 1.409, Accuracy: 0.518]\n",
      "Epoch 200: 100%|██████████| 1/1 [00:00<00:00, 199.05it/s, Loss: 1.411, Accuracy: 0.760]\n"
     ]
    },
    {
     "name": "stdout",
     "output_type": "stream",
     "text": [
      "Epoch 200: Train Loss: 1.486, Train Accuracy: 0.556, Test Loss: 1.411, Test Accuracy: 0.760\n"
     ]
    },
    {
     "name": "stderr",
     "output_type": "stream",
     "text": [
      "Epoch 201: 100%|██████████| 4/4 [00:00<00:00, 115.04it/s, Loss: 1.453, Accuracy: 0.733]\n",
      "Epoch 201: 100%|██████████| 1/1 [00:00<00:00, 204.64it/s, Loss: 1.410, Accuracy: 0.760]\n"
     ]
    },
    {
     "name": "stdout",
     "output_type": "stream",
     "text": [
      "Epoch 201: Train Loss: 1.428, Train Accuracy: 0.583, Test Loss: 1.410, Test Accuracy: 0.760\n"
     ]
    },
    {
     "name": "stderr",
     "output_type": "stream",
     "text": [
      "Epoch 202: 100%|██████████| 4/4 [00:00<00:00, 85.57it/s, Loss: 1.849, Accuracy: 0.359]\n",
      "Epoch 202: 100%|██████████| 1/1 [00:00<00:00, 142.43it/s, Loss: 1.409, Accuracy: 0.750]\n"
     ]
    },
    {
     "name": "stdout",
     "output_type": "stream",
     "text": [
      "Epoch 202: Train Loss: 1.549, Train Accuracy: 0.534, Test Loss: 1.409, Test Accuracy: 0.750\n"
     ]
    },
    {
     "name": "stderr",
     "output_type": "stream",
     "text": [
      "Epoch 203: 100%|██████████| 4/4 [00:00<00:00, 114.30it/s, Loss: 2.120, Accuracy: 0.246]\n",
      "Epoch 203: 100%|██████████| 1/1 [00:00<00:00, 196.20it/s, Loss: 1.407, Accuracy: 0.750]\n"
     ]
    },
    {
     "name": "stdout",
     "output_type": "stream",
     "text": [
      "Epoch 203: Train Loss: 1.492, Train Accuracy: 0.550, Test Loss: 1.407, Test Accuracy: 0.750\n"
     ]
    },
    {
     "name": "stderr",
     "output_type": "stream",
     "text": [
      "Epoch 204: 100%|██████████| 4/4 [00:00<00:00, 124.00it/s, Loss: 1.487, Accuracy: 0.497]\n",
      "Epoch 204: 100%|██████████| 1/1 [00:00<00:00, 141.42it/s, Loss: 1.406, Accuracy: 0.750]\n"
     ]
    },
    {
     "name": "stdout",
     "output_type": "stream",
     "text": [
      "Epoch 204: Train Loss: 1.458, Train Accuracy: 0.574, Test Loss: 1.406, Test Accuracy: 0.750\n"
     ]
    },
    {
     "name": "stderr",
     "output_type": "stream",
     "text": [
      "Epoch 205: 100%|██████████| 4/4 [00:00<00:00, 123.18it/s, Loss: 1.088, Accuracy: 0.700]\n",
      "Epoch 205: 100%|██████████| 1/1 [00:00<00:00, 177.82it/s, Loss: 1.411, Accuracy: 0.750]\n"
     ]
    },
    {
     "name": "stdout",
     "output_type": "stream",
     "text": [
      "Epoch 205: Train Loss: 1.552, Train Accuracy: 0.523, Test Loss: 1.411, Test Accuracy: 0.750\n"
     ]
    },
    {
     "name": "stderr",
     "output_type": "stream",
     "text": [
      "Epoch 206: 100%|██████████| 4/4 [00:00<00:00, 111.47it/s, Loss: 1.074, Accuracy: 0.646]\n",
      "Epoch 206: 100%|██████████| 1/1 [00:00<00:00, 164.79it/s, Loss: 1.415, Accuracy: 0.750]\n"
     ]
    },
    {
     "name": "stdout",
     "output_type": "stream",
     "text": [
      "Epoch 206: Train Loss: 1.496, Train Accuracy: 0.559, Test Loss: 1.415, Test Accuracy: 0.750\n"
     ]
    },
    {
     "name": "stderr",
     "output_type": "stream",
     "text": [
      "Epoch 207: 100%|██████████| 4/4 [00:00<00:00, 100.92it/s, Loss: 1.043, Accuracy: 0.642]\n",
      "Epoch 207: 100%|██████████| 1/1 [00:00<00:00, 200.31it/s, Loss: 1.412, Accuracy: 0.750]\n"
     ]
    },
    {
     "name": "stdout",
     "output_type": "stream",
     "text": [
      "Epoch 207: Train Loss: 1.490, Train Accuracy: 0.551, Test Loss: 1.412, Test Accuracy: 0.750\n"
     ]
    },
    {
     "name": "stderr",
     "output_type": "stream",
     "text": [
      "Epoch 208: 100%|██████████| 4/4 [00:00<00:00, 109.33it/s, Loss: 1.575, Accuracy: 0.398]\n",
      "Epoch 208: 100%|██████████| 1/1 [00:00<00:00, 199.72it/s, Loss: 1.414, Accuracy: 0.750]\n"
     ]
    },
    {
     "name": "stdout",
     "output_type": "stream",
     "text": [
      "Epoch 208: Train Loss: 1.503, Train Accuracy: 0.548, Test Loss: 1.414, Test Accuracy: 0.750\n"
     ]
    },
    {
     "name": "stderr",
     "output_type": "stream",
     "text": [
      "Epoch 209: 100%|██████████| 4/4 [00:00<00:00, 123.77it/s, Loss: 1.400, Accuracy: 0.514]\n",
      "Epoch 209: 100%|██████████| 1/1 [00:00<00:00, 164.91it/s, Loss: 1.412, Accuracy: 0.750]\n"
     ]
    },
    {
     "name": "stdout",
     "output_type": "stream",
     "text": [
      "Epoch 209: Train Loss: 1.534, Train Accuracy: 0.541, Test Loss: 1.412, Test Accuracy: 0.750\n"
     ]
    },
    {
     "name": "stderr",
     "output_type": "stream",
     "text": [
      "Epoch 210: 100%|██████████| 4/4 [00:00<00:00, 124.10it/s, Loss: 1.510, Accuracy: 0.559]\n",
      "Epoch 210: 100%|██████████| 1/1 [00:00<00:00, 142.96it/s, Loss: 1.409, Accuracy: 0.750]\n"
     ]
    },
    {
     "name": "stdout",
     "output_type": "stream",
     "text": [
      "Epoch 210: Train Loss: 1.513, Train Accuracy: 0.531, Test Loss: 1.409, Test Accuracy: 0.750\n"
     ]
    },
    {
     "name": "stderr",
     "output_type": "stream",
     "text": [
      "Epoch 211: 100%|██████████| 4/4 [00:00<00:00, 118.52it/s, Loss: 2.006, Accuracy: 0.127]\n",
      "Epoch 211: 100%|██████████| 1/1 [00:00<00:00, 197.34it/s, Loss: 1.758, Accuracy: 0.220]\n"
     ]
    },
    {
     "name": "stdout",
     "output_type": "stream",
     "text": [
      "Epoch 211: Train Loss: 1.567, Train Accuracy: 0.431, Test Loss: 1.758, Test Accuracy: 0.220\n"
     ]
    },
    {
     "name": "stderr",
     "output_type": "stream",
     "text": [
      "Epoch 212: 100%|██████████| 4/4 [00:00<00:00, 95.94it/s, Loss: 1.422, Accuracy: 0.487]\n",
      "Epoch 212: 100%|██████████| 1/1 [00:00<00:00, 166.73it/s, Loss: 1.753, Accuracy: 0.210]\n"
     ]
    },
    {
     "name": "stdout",
     "output_type": "stream",
     "text": [
      "Epoch 212: Train Loss: 1.500, Train Accuracy: 0.468, Test Loss: 1.753, Test Accuracy: 0.210\n"
     ]
    },
    {
     "name": "stderr",
     "output_type": "stream",
     "text": [
      "Epoch 213: 100%|██████████| 4/4 [00:00<00:00, 111.96it/s, Loss: 1.830, Accuracy: 0.379]\n",
      "Epoch 213: 100%|██████████| 1/1 [00:00<00:00, 197.33it/s, Loss: 1.739, Accuracy: 0.210]\n"
     ]
    },
    {
     "name": "stdout",
     "output_type": "stream",
     "text": [
      "Epoch 213: Train Loss: 1.534, Train Accuracy: 0.444, Test Loss: 1.739, Test Accuracy: 0.210\n"
     ]
    },
    {
     "name": "stderr",
     "output_type": "stream",
     "text": [
      "Epoch 214: 100%|██████████| 4/4 [00:00<00:00, 125.01it/s, Loss: 1.722, Accuracy: 0.517]\n",
      "Epoch 214: 100%|██████████| 1/1 [00:00<00:00, 221.42it/s, Loss: 1.723, Accuracy: 0.220]\n"
     ]
    },
    {
     "name": "stdout",
     "output_type": "stream",
     "text": [
      "Epoch 214: Train Loss: 1.539, Train Accuracy: 0.438, Test Loss: 1.723, Test Accuracy: 0.220\n"
     ]
    },
    {
     "name": "stderr",
     "output_type": "stream",
     "text": [
      "Epoch 215: 100%|██████████| 4/4 [00:00<00:00, 108.84it/s, Loss: 1.687, Accuracy: 0.492]\n",
      "Epoch 215: 100%|██████████| 1/1 [00:00<00:00, 200.44it/s, Loss: 1.710, Accuracy: 0.220]\n"
     ]
    },
    {
     "name": "stdout",
     "output_type": "stream",
     "text": [
      "Epoch 215: Train Loss: 1.562, Train Accuracy: 0.442, Test Loss: 1.710, Test Accuracy: 0.220\n"
     ]
    },
    {
     "name": "stderr",
     "output_type": "stream",
     "text": [
      "Epoch 216: 100%|██████████| 4/4 [00:00<00:00, 120.75it/s, Loss: 1.040, Accuracy: 0.619]\n",
      "Epoch 216: 100%|██████████| 1/1 [00:00<00:00, 166.62it/s, Loss: 1.702, Accuracy: 0.710]\n"
     ]
    },
    {
     "name": "stdout",
     "output_type": "stream",
     "text": [
      "Epoch 216: Train Loss: 1.502, Train Accuracy: 0.476, Test Loss: 1.702, Test Accuracy: 0.710\n"
     ]
    },
    {
     "name": "stderr",
     "output_type": "stream",
     "text": [
      "Epoch 217: 100%|██████████| 4/4 [00:00<00:00, 128.51it/s, Loss: 0.598, Accuracy: 0.878]\n",
      "Epoch 217: 100%|██████████| 1/1 [00:00<00:00, 200.33it/s, Loss: 1.699, Accuracy: 0.710]\n"
     ]
    },
    {
     "name": "stdout",
     "output_type": "stream",
     "text": [
      "Epoch 217: Train Loss: 1.499, Train Accuracy: 0.543, Test Loss: 1.699, Test Accuracy: 0.710\n"
     ]
    },
    {
     "name": "stderr",
     "output_type": "stream",
     "text": [
      "Epoch 218: 100%|██████████| 4/4 [00:00<00:00, 122.51it/s, Loss: 1.646, Accuracy: 0.617]\n",
      "Epoch 218: 100%|██████████| 1/1 [00:00<00:00, 245.41it/s, Loss: 1.697, Accuracy: 0.720]\n"
     ]
    },
    {
     "name": "stdout",
     "output_type": "stream",
     "text": [
      "Epoch 218: Train Loss: 1.514, Train Accuracy: 0.545, Test Loss: 1.697, Test Accuracy: 0.720\n"
     ]
    },
    {
     "name": "stderr",
     "output_type": "stream",
     "text": [
      "Epoch 219: 100%|██████████| 4/4 [00:00<00:00, 116.93it/s, Loss: 1.274, Accuracy: 0.731]\n",
      "Epoch 219: 100%|██████████| 1/1 [00:00<00:00, 166.92it/s, Loss: 1.693, Accuracy: 0.720]\n"
     ]
    },
    {
     "name": "stdout",
     "output_type": "stream",
     "text": [
      "Epoch 219: Train Loss: 1.535, Train Accuracy: 0.531, Test Loss: 1.693, Test Accuracy: 0.720\n"
     ]
    },
    {
     "name": "stderr",
     "output_type": "stream",
     "text": [
      "Epoch 220: 100%|██████████| 4/4 [00:00<00:00, 129.68it/s, Loss: 1.075, Accuracy: 0.688]\n",
      "Epoch 220: 100%|██████████| 1/1 [00:00<00:00, 197.20it/s, Loss: 1.682, Accuracy: 0.720]\n"
     ]
    },
    {
     "name": "stdout",
     "output_type": "stream",
     "text": [
      "Epoch 220: Train Loss: 1.553, Train Accuracy: 0.554, Test Loss: 1.682, Test Accuracy: 0.720\n"
     ]
    },
    {
     "name": "stderr",
     "output_type": "stream",
     "text": [
      "Epoch 221: 100%|██████████| 4/4 [00:00<00:00, 125.10it/s, Loss: 1.725, Accuracy: 0.524]\n",
      "Epoch 221: 100%|██████████| 1/1 [00:00<00:00, 201.50it/s, Loss: 1.673, Accuracy: 0.720]\n"
     ]
    },
    {
     "name": "stdout",
     "output_type": "stream",
     "text": [
      "Epoch 221: Train Loss: 1.531, Train Accuracy: 0.539, Test Loss: 1.673, Test Accuracy: 0.720\n"
     ]
    },
    {
     "name": "stderr",
     "output_type": "stream",
     "text": [
      "Epoch 222: 100%|██████████| 4/4 [00:00<00:00, 86.01it/s, Loss: 1.187, Accuracy: 0.729]\n",
      "Epoch 222: 100%|██████████| 1/1 [00:00<00:00, 165.34it/s, Loss: 1.668, Accuracy: 0.720]\n"
     ]
    },
    {
     "name": "stdout",
     "output_type": "stream",
     "text": [
      "Epoch 222: Train Loss: 1.543, Train Accuracy: 0.529, Test Loss: 1.668, Test Accuracy: 0.720\n"
     ]
    },
    {
     "name": "stderr",
     "output_type": "stream",
     "text": [
      "Epoch 223: 100%|██████████| 4/4 [00:00<00:00, 114.16it/s, Loss: 1.726, Accuracy: 0.441]\n",
      "Epoch 223: 100%|██████████| 1/1 [00:00<00:00, 150.14it/s, Loss: 1.645, Accuracy: 0.720]\n"
     ]
    },
    {
     "name": "stdout",
     "output_type": "stream",
     "text": [
      "Epoch 223: Train Loss: 1.521, Train Accuracy: 0.546, Test Loss: 1.645, Test Accuracy: 0.720\n"
     ]
    },
    {
     "name": "stderr",
     "output_type": "stream",
     "text": [
      "Epoch 224: 100%|██████████| 4/4 [00:00<00:00, 120.84it/s, Loss: 1.949, Accuracy: 0.388]\n",
      "Epoch 224: 100%|██████████| 1/1 [00:00<00:00, 178.46it/s, Loss: 1.634, Accuracy: 0.720]\n"
     ]
    },
    {
     "name": "stdout",
     "output_type": "stream",
     "text": [
      "Epoch 224: Train Loss: 1.581, Train Accuracy: 0.510, Test Loss: 1.634, Test Accuracy: 0.720\n"
     ]
    },
    {
     "name": "stderr",
     "output_type": "stream",
     "text": [
      "Epoch 225: 100%|██████████| 4/4 [00:00<00:00, 121.26it/s, Loss: 1.927, Accuracy: 0.484]\n",
      "Epoch 225: 100%|██████████| 1/1 [00:00<00:00, 199.85it/s, Loss: 1.632, Accuracy: 0.730]\n"
     ]
    },
    {
     "name": "stdout",
     "output_type": "stream",
     "text": [
      "Epoch 225: Train Loss: 1.520, Train Accuracy: 0.548, Test Loss: 1.632, Test Accuracy: 0.730\n"
     ]
    },
    {
     "name": "stderr",
     "output_type": "stream",
     "text": [
      "Epoch 226: 100%|██████████| 4/4 [00:00<00:00, 120.20it/s, Loss: 1.175, Accuracy: 0.566]\n",
      "Epoch 226: 100%|██████████| 1/1 [00:00<00:00, 163.96it/s, Loss: 1.616, Accuracy: 0.740]\n"
     ]
    },
    {
     "name": "stdout",
     "output_type": "stream",
     "text": [
      "Epoch 226: Train Loss: 1.508, Train Accuracy: 0.550, Test Loss: 1.616, Test Accuracy: 0.740\n"
     ]
    },
    {
     "name": "stderr",
     "output_type": "stream",
     "text": [
      "Epoch 227: 100%|██████████| 4/4 [00:00<00:00, 110.21it/s, Loss: 1.177, Accuracy: 0.648]\n",
      "Epoch 227: 100%|██████████| 1/1 [00:00<00:00, 196.98it/s, Loss: 1.607, Accuracy: 0.740]\n"
     ]
    },
    {
     "name": "stdout",
     "output_type": "stream",
     "text": [
      "Epoch 227: Train Loss: 1.523, Train Accuracy: 0.564, Test Loss: 1.607, Test Accuracy: 0.740\n"
     ]
    },
    {
     "name": "stderr",
     "output_type": "stream",
     "text": [
      "Epoch 228: 100%|██████████| 4/4 [00:00<00:00, 112.59it/s, Loss: 0.998, Accuracy: 0.636]\n",
      "Epoch 228: 100%|██████████| 1/1 [00:00<00:00, 166.58it/s, Loss: 1.593, Accuracy: 0.740]\n"
     ]
    },
    {
     "name": "stdout",
     "output_type": "stream",
     "text": [
      "Epoch 228: Train Loss: 1.456, Train Accuracy: 0.570, Test Loss: 1.593, Test Accuracy: 0.740\n"
     ]
    },
    {
     "name": "stderr",
     "output_type": "stream",
     "text": [
      "Epoch 229: 100%|██████████| 4/4 [00:00<00:00, 99.90it/s, Loss: 1.613, Accuracy: 0.434]\n",
      "Epoch 229: 100%|██████████| 1/1 [00:00<00:00, 124.60it/s, Loss: 1.580, Accuracy: 0.740]\n"
     ]
    },
    {
     "name": "stdout",
     "output_type": "stream",
     "text": [
      "Epoch 229: Train Loss: 1.579, Train Accuracy: 0.503, Test Loss: 1.580, Test Accuracy: 0.740\n"
     ]
    },
    {
     "name": "stderr",
     "output_type": "stream",
     "text": [
      "Epoch 230: 100%|██████████| 4/4 [00:00<00:00, 109.21it/s, Loss: 1.800, Accuracy: 0.434]\n",
      "Epoch 230: 100%|██████████| 1/1 [00:00<00:00, 255.92it/s, Loss: 1.577, Accuracy: 0.740]\n"
     ]
    },
    {
     "name": "stdout",
     "output_type": "stream",
     "text": [
      "Epoch 230: Train Loss: 1.526, Train Accuracy: 0.522, Test Loss: 1.577, Test Accuracy: 0.740\n"
     ]
    },
    {
     "name": "stderr",
     "output_type": "stream",
     "text": [
      "Epoch 231: 100%|██████████| 4/4 [00:00<00:00, 108.51it/s, Loss: 1.772, Accuracy: 0.462]\n",
      "Epoch 231: 100%|██████████| 1/1 [00:00<00:00, 199.30it/s, Loss: 1.573, Accuracy: 0.740]\n"
     ]
    },
    {
     "name": "stdout",
     "output_type": "stream",
     "text": [
      "Epoch 231: Train Loss: 1.519, Train Accuracy: 0.551, Test Loss: 1.573, Test Accuracy: 0.740\n"
     ]
    },
    {
     "name": "stderr",
     "output_type": "stream",
     "text": [
      "Epoch 232: 100%|██████████| 4/4 [00:00<00:00, 125.41it/s, Loss: 0.866, Accuracy: 0.962]\n",
      "Epoch 232: 100%|██████████| 1/1 [00:00<00:00, 200.75it/s, Loss: 1.572, Accuracy: 0.740]\n"
     ]
    },
    {
     "name": "stdout",
     "output_type": "stream",
     "text": [
      "Epoch 232: Train Loss: 1.472, Train Accuracy: 0.555, Test Loss: 1.572, Test Accuracy: 0.740\n"
     ]
    },
    {
     "name": "stderr",
     "output_type": "stream",
     "text": [
      "Epoch 233: 100%|██████████| 4/4 [00:00<00:00, 105.01it/s, Loss: 1.490, Accuracy: 0.459]\n",
      "Epoch 233: 100%|██████████| 1/1 [00:00<00:00, 199.72it/s, Loss: 1.564, Accuracy: 0.740]\n"
     ]
    },
    {
     "name": "stdout",
     "output_type": "stream",
     "text": [
      "Epoch 233: Train Loss: 1.501, Train Accuracy: 0.536, Test Loss: 1.564, Test Accuracy: 0.740\n"
     ]
    },
    {
     "name": "stderr",
     "output_type": "stream",
     "text": [
      "Epoch 234: 100%|██████████| 4/4 [00:00<00:00, 124.77it/s, Loss: 1.470, Accuracy: 0.429]\n",
      "Epoch 234: 100%|██████████| 1/1 [00:00<00:00, 199.05it/s, Loss: 1.555, Accuracy: 0.740]\n"
     ]
    },
    {
     "name": "stdout",
     "output_type": "stream",
     "text": [
      "Epoch 234: Train Loss: 1.469, Train Accuracy: 0.549, Test Loss: 1.555, Test Accuracy: 0.740\n"
     ]
    },
    {
     "name": "stderr",
     "output_type": "stream",
     "text": [
      "Epoch 235: 100%|██████████| 4/4 [00:00<00:00, 120.09it/s, Loss: 0.895, Accuracy: 0.748]\n",
      "Epoch 235: 100%|██████████| 1/1 [00:00<00:00, 199.43it/s, Loss: 1.554, Accuracy: 0.740]\n"
     ]
    },
    {
     "name": "stdout",
     "output_type": "stream",
     "text": [
      "Epoch 235: Train Loss: 1.450, Train Accuracy: 0.558, Test Loss: 1.554, Test Accuracy: 0.740\n"
     ]
    },
    {
     "name": "stderr",
     "output_type": "stream",
     "text": [
      "Epoch 236: 100%|██████████| 4/4 [00:00<00:00, 103.38it/s, Loss: 1.974, Accuracy: 0.355]\n",
      "Epoch 236: 100%|██████████| 1/1 [00:00<00:00, 111.14it/s, Loss: 1.551, Accuracy: 0.740]\n"
     ]
    },
    {
     "name": "stdout",
     "output_type": "stream",
     "text": [
      "Epoch 236: Train Loss: 1.585, Train Accuracy: 0.500, Test Loss: 1.551, Test Accuracy: 0.740\n"
     ]
    },
    {
     "name": "stderr",
     "output_type": "stream",
     "text": [
      "Epoch 237: 100%|██████████| 4/4 [00:00<00:00, 114.69it/s, Loss: 1.328, Accuracy: 0.494]\n",
      "Epoch 237: 100%|██████████| 1/1 [00:00<00:00, 200.74it/s, Loss: 1.551, Accuracy: 0.740]\n"
     ]
    },
    {
     "name": "stdout",
     "output_type": "stream",
     "text": [
      "Epoch 237: Train Loss: 1.556, Train Accuracy: 0.510, Test Loss: 1.551, Test Accuracy: 0.740\n"
     ]
    },
    {
     "name": "stderr",
     "output_type": "stream",
     "text": [
      "Epoch 238: 100%|██████████| 4/4 [00:00<00:00, 114.75it/s, Loss: 1.663, Accuracy: 0.590]\n",
      "Epoch 238: 100%|██████████| 1/1 [00:00<00:00, 199.93it/s, Loss: 1.554, Accuracy: 0.740]\n"
     ]
    },
    {
     "name": "stdout",
     "output_type": "stream",
     "text": [
      "Epoch 238: Train Loss: 1.486, Train Accuracy: 0.553, Test Loss: 1.554, Test Accuracy: 0.740\n"
     ]
    },
    {
     "name": "stderr",
     "output_type": "stream",
     "text": [
      "Epoch 239: 100%|██████████| 4/4 [00:00<00:00, 108.30it/s, Loss: 1.494, Accuracy: 0.625]\n",
      "Epoch 239: 100%|██████████| 1/1 [00:00<00:00, 195.44it/s, Loss: 1.556, Accuracy: 0.740]\n"
     ]
    },
    {
     "name": "stdout",
     "output_type": "stream",
     "text": [
      "Epoch 239: Train Loss: 1.458, Train Accuracy: 0.545, Test Loss: 1.556, Test Accuracy: 0.740\n"
     ]
    },
    {
     "name": "stderr",
     "output_type": "stream",
     "text": [
      "Epoch 240: 100%|██████████| 4/4 [00:00<00:00, 134.12it/s, Loss: 1.449, Accuracy: 0.619]\n",
      "Epoch 240: 100%|██████████| 1/1 [00:00<00:00, 199.97it/s, Loss: 1.556, Accuracy: 0.740]\n"
     ]
    },
    {
     "name": "stdout",
     "output_type": "stream",
     "text": [
      "Epoch 240: Train Loss: 1.448, Train Accuracy: 0.554, Test Loss: 1.556, Test Accuracy: 0.740\n"
     ]
    },
    {
     "name": "stderr",
     "output_type": "stream",
     "text": [
      "Epoch 241: 100%|██████████| 4/4 [00:00<00:00, 108.26it/s, Loss: 1.196, Accuracy: 0.610]\n",
      "Epoch 241: 100%|██████████| 1/1 [00:00<00:00, 212.13it/s, Loss: 1.559, Accuracy: 0.740]\n"
     ]
    },
    {
     "name": "stdout",
     "output_type": "stream",
     "text": [
      "Epoch 241: Train Loss: 1.472, Train Accuracy: 0.548, Test Loss: 1.559, Test Accuracy: 0.740\n"
     ]
    },
    {
     "name": "stderr",
     "output_type": "stream",
     "text": [
      "Epoch 242: 100%|██████████| 4/4 [00:00<00:00, 99.97it/s, Loss: 1.817, Accuracy: 0.570]\n",
      "Epoch 242: 100%|██████████| 1/1 [00:00<00:00, 125.19it/s, Loss: 1.565, Accuracy: 0.740]\n"
     ]
    },
    {
     "name": "stdout",
     "output_type": "stream",
     "text": [
      "Epoch 242: Train Loss: 1.464, Train Accuracy: 0.544, Test Loss: 1.565, Test Accuracy: 0.740\n"
     ]
    },
    {
     "name": "stderr",
     "output_type": "stream",
     "text": [
      "Epoch 243: 100%|██████████| 4/4 [00:00<00:00, 114.03it/s, Loss: 2.036, Accuracy: 0.275]\n",
      "Epoch 243: 100%|██████████| 1/1 [00:00<00:00, 200.21it/s, Loss: 1.552, Accuracy: 0.740]\n"
     ]
    },
    {
     "name": "stdout",
     "output_type": "stream",
     "text": [
      "Epoch 243: Train Loss: 1.582, Train Accuracy: 0.493, Test Loss: 1.552, Test Accuracy: 0.740\n"
     ]
    },
    {
     "name": "stderr",
     "output_type": "stream",
     "text": [
      "Epoch 244: 100%|██████████| 4/4 [00:00<00:00, 116.37it/s, Loss: 1.479, Accuracy: 0.449]\n",
      "Epoch 244: 100%|██████████| 1/1 [00:00<00:00, 242.82it/s, Loss: 1.553, Accuracy: 0.740]\n"
     ]
    },
    {
     "name": "stdout",
     "output_type": "stream",
     "text": [
      "Epoch 244: Train Loss: 1.468, Train Accuracy: 0.553, Test Loss: 1.553, Test Accuracy: 0.740\n"
     ]
    },
    {
     "name": "stderr",
     "output_type": "stream",
     "text": [
      "Epoch 245: 100%|██████████| 4/4 [00:00<00:00, 117.80it/s, Loss: 1.477, Accuracy: 0.473]\n",
      "Epoch 245: 100%|██████████| 1/1 [00:00<00:00, 199.96it/s, Loss: 1.555, Accuracy: 0.740]\n"
     ]
    },
    {
     "name": "stdout",
     "output_type": "stream",
     "text": [
      "Epoch 245: Train Loss: 1.413, Train Accuracy: 0.575, Test Loss: 1.555, Test Accuracy: 0.740\n"
     ]
    },
    {
     "name": "stderr",
     "output_type": "stream",
     "text": [
      "Epoch 246: 100%|██████████| 4/4 [00:00<00:00, 124.16it/s, Loss: 1.620, Accuracy: 0.597]\n",
      "Epoch 246: 100%|██████████| 1/1 [00:00<00:00, 164.06it/s, Loss: 1.562, Accuracy: 0.740]\n"
     ]
    },
    {
     "name": "stdout",
     "output_type": "stream",
     "text": [
      "Epoch 246: Train Loss: 1.446, Train Accuracy: 0.548, Test Loss: 1.562, Test Accuracy: 0.740\n"
     ]
    },
    {
     "name": "stderr",
     "output_type": "stream",
     "text": [
      "Epoch 247: 100%|██████████| 4/4 [00:00<00:00, 122.09it/s, Loss: 0.767, Accuracy: 0.733]\n",
      "Epoch 247: 100%|██████████| 1/1 [00:00<00:00, 166.89it/s, Loss: 1.559, Accuracy: 0.740]\n"
     ]
    },
    {
     "name": "stdout",
     "output_type": "stream",
     "text": [
      "Epoch 247: Train Loss: 1.484, Train Accuracy: 0.535, Test Loss: 1.559, Test Accuracy: 0.740\n"
     ]
    },
    {
     "name": "stderr",
     "output_type": "stream",
     "text": [
      "Epoch 248: 100%|██████████| 4/4 [00:00<00:00, 120.94it/s, Loss: 1.329, Accuracy: 0.583]\n",
      "Epoch 248: 100%|██████████| 1/1 [00:00<00:00, 202.40it/s, Loss: 1.560, Accuracy: 0.740]\n"
     ]
    },
    {
     "name": "stdout",
     "output_type": "stream",
     "text": [
      "Epoch 248: Train Loss: 1.478, Train Accuracy: 0.548, Test Loss: 1.560, Test Accuracy: 0.740\n"
     ]
    },
    {
     "name": "stderr",
     "output_type": "stream",
     "text": [
      "Epoch 249: 100%|██████████| 4/4 [00:00<00:00, 94.61it/s, Loss: 1.613, Accuracy: 0.411]\n",
      "Epoch 249: 100%|██████████| 1/1 [00:00<00:00, 178.77it/s, Loss: 1.553, Accuracy: 0.740]\n"
     ]
    },
    {
     "name": "stdout",
     "output_type": "stream",
     "text": [
      "Epoch 249: Train Loss: 1.524, Train Accuracy: 0.531, Test Loss: 1.553, Test Accuracy: 0.740\n"
     ]
    },
    {
     "name": "stderr",
     "output_type": "stream",
     "text": [
      "Epoch 250: 100%|██████████| 4/4 [00:00<00:00, 108.02it/s, Loss: 1.538, Accuracy: 0.448]\n",
      "Epoch 250: 100%|██████████| 1/1 [00:00<00:00, 197.29it/s, Loss: 1.547, Accuracy: 0.740]\n"
     ]
    },
    {
     "name": "stdout",
     "output_type": "stream",
     "text": [
      "Epoch 250: Train Loss: 1.502, Train Accuracy: 0.530, Test Loss: 1.547, Test Accuracy: 0.740\n"
     ]
    },
    {
     "name": "stderr",
     "output_type": "stream",
     "text": [
      "Epoch 251: 100%|██████████| 4/4 [00:00<00:00, 121.62it/s, Loss: 1.429, Accuracy: 0.496]\n",
      "Epoch 251: 100%|██████████| 1/1 [00:00<00:00, 200.01it/s, Loss: 1.547, Accuracy: 0.740]\n"
     ]
    },
    {
     "name": "stdout",
     "output_type": "stream",
     "text": [
      "Epoch 251: Train Loss: 1.526, Train Accuracy: 0.525, Test Loss: 1.547, Test Accuracy: 0.740\n"
     ]
    },
    {
     "name": "stderr",
     "output_type": "stream",
     "text": [
      "Epoch 252: 100%|██████████| 4/4 [00:00<00:00, 121.02it/s, Loss: 1.289, Accuracy: 0.515]\n",
      "Epoch 252: 100%|██████████| 1/1 [00:00<00:00, 199.82it/s, Loss: 1.540, Accuracy: 0.740]\n"
     ]
    },
    {
     "name": "stdout",
     "output_type": "stream",
     "text": [
      "Epoch 252: Train Loss: 1.472, Train Accuracy: 0.571, Test Loss: 1.540, Test Accuracy: 0.740\n"
     ]
    },
    {
     "name": "stderr",
     "output_type": "stream",
     "text": [
      "Epoch 253: 100%|██████████| 4/4 [00:00<00:00, 128.75it/s, Loss: 1.240, Accuracy: 0.547]\n",
      "Epoch 253: 100%|██████████| 1/1 [00:00<00:00, 227.15it/s, Loss: 1.530, Accuracy: 0.740]\n"
     ]
    },
    {
     "name": "stdout",
     "output_type": "stream",
     "text": [
      "Epoch 253: Train Loss: 1.479, Train Accuracy: 0.547, Test Loss: 1.530, Test Accuracy: 0.740\n"
     ]
    },
    {
     "name": "stderr",
     "output_type": "stream",
     "text": [
      "Epoch 254: 100%|██████████| 4/4 [00:00<00:00, 137.46it/s, Loss: 1.133, Accuracy: 0.695]\n",
      "Epoch 254: 100%|██████████| 1/1 [00:00<00:00, 199.67it/s, Loss: 1.531, Accuracy: 0.740]\n"
     ]
    },
    {
     "name": "stdout",
     "output_type": "stream",
     "text": [
      "Epoch 254: Train Loss: 1.526, Train Accuracy: 0.515, Test Loss: 1.531, Test Accuracy: 0.740\n"
     ]
    },
    {
     "name": "stderr",
     "output_type": "stream",
     "text": [
      "Epoch 255: 100%|██████████| 4/4 [00:00<00:00, 128.82it/s, Loss: 1.243, Accuracy: 0.683]\n",
      "Epoch 255: 100%|██████████| 1/1 [00:00<00:00, 169.41it/s, Loss: 1.537, Accuracy: 0.740]\n"
     ]
    },
    {
     "name": "stdout",
     "output_type": "stream",
     "text": [
      "Epoch 255: Train Loss: 1.535, Train Accuracy: 0.515, Test Loss: 1.537, Test Accuracy: 0.740\n"
     ]
    },
    {
     "name": "stderr",
     "output_type": "stream",
     "text": [
      "Epoch 256: 100%|██████████| 4/4 [00:00<00:00, 95.81it/s, Loss: 1.123, Accuracy: 0.649]\n",
      "Epoch 256: 100%|██████████| 1/1 [00:00<00:00, 197.82it/s, Loss: 1.538, Accuracy: 0.740]\n"
     ]
    },
    {
     "name": "stdout",
     "output_type": "stream",
     "text": [
      "Epoch 256: Train Loss: 1.523, Train Accuracy: 0.527, Test Loss: 1.538, Test Accuracy: 0.740\n"
     ]
    },
    {
     "name": "stderr",
     "output_type": "stream",
     "text": [
      "Epoch 257: 100%|██████████| 4/4 [00:00<00:00, 117.22it/s, Loss: 1.511, Accuracy: 0.472]\n",
      "Epoch 257: 100%|██████████| 1/1 [00:00<00:00, 201.48it/s, Loss: 1.540, Accuracy: 0.740]\n"
     ]
    },
    {
     "name": "stdout",
     "output_type": "stream",
     "text": [
      "Epoch 257: Train Loss: 1.429, Train Accuracy: 0.560, Test Loss: 1.540, Test Accuracy: 0.740\n"
     ]
    },
    {
     "name": "stderr",
     "output_type": "stream",
     "text": [
      "Epoch 258: 100%|██████████| 4/4 [00:00<00:00, 118.85it/s, Loss: 1.789, Accuracy: 0.434]\n",
      "Epoch 258: 100%|██████████| 1/1 [00:00<00:00, 250.15it/s, Loss: 1.536, Accuracy: 0.740]\n"
     ]
    },
    {
     "name": "stdout",
     "output_type": "stream",
     "text": [
      "Epoch 258: Train Loss: 1.473, Train Accuracy: 0.573, Test Loss: 1.536, Test Accuracy: 0.740\n"
     ]
    },
    {
     "name": "stderr",
     "output_type": "stream",
     "text": [
      "Epoch 259: 100%|██████████| 4/4 [00:00<00:00, 121.14it/s, Loss: 1.865, Accuracy: 0.479]\n",
      "Epoch 259: 100%|██████████| 1/1 [00:00<00:00, 249.88it/s, Loss: 1.529, Accuracy: 0.740]\n"
     ]
    },
    {
     "name": "stdout",
     "output_type": "stream",
     "text": [
      "Epoch 259: Train Loss: 1.542, Train Accuracy: 0.523, Test Loss: 1.529, Test Accuracy: 0.740\n"
     ]
    },
    {
     "name": "stderr",
     "output_type": "stream",
     "text": [
      "Epoch 260: 100%|██████████| 4/4 [00:00<00:00, 110.48it/s, Loss: 1.368, Accuracy: 0.654]\n",
      "Epoch 260: 100%|██████████| 1/1 [00:00<00:00, 186.93it/s, Loss: 1.528, Accuracy: 0.740]\n"
     ]
    },
    {
     "name": "stdout",
     "output_type": "stream",
     "text": [
      "Epoch 260: Train Loss: 1.406, Train Accuracy: 0.579, Test Loss: 1.528, Test Accuracy: 0.740\n"
     ]
    },
    {
     "name": "stderr",
     "output_type": "stream",
     "text": [
      "Epoch 261: 100%|██████████| 4/4 [00:00<00:00, 128.96it/s, Loss: 1.538, Accuracy: 0.462]\n",
      "Epoch 261: 100%|██████████| 1/1 [00:00<00:00, 251.05it/s, Loss: 1.522, Accuracy: 0.740]\n"
     ]
    },
    {
     "name": "stdout",
     "output_type": "stream",
     "text": [
      "Epoch 261: Train Loss: 1.515, Train Accuracy: 0.543, Test Loss: 1.522, Test Accuracy: 0.740\n"
     ]
    },
    {
     "name": "stderr",
     "output_type": "stream",
     "text": [
      "Epoch 262: 100%|██████████| 4/4 [00:00<00:00, 105.52it/s, Loss: 0.825, Accuracy: 0.748]\n",
      "Epoch 262: 100%|██████████| 1/1 [00:00<00:00, 199.24it/s, Loss: 1.517, Accuracy: 0.740]\n"
     ]
    },
    {
     "name": "stdout",
     "output_type": "stream",
     "text": [
      "Epoch 262: Train Loss: 1.474, Train Accuracy: 0.542, Test Loss: 1.517, Test Accuracy: 0.740\n"
     ]
    },
    {
     "name": "stderr",
     "output_type": "stream",
     "text": [
      "Epoch 263: 100%|██████████| 4/4 [00:00<00:00, 102.63it/s, Loss: 1.716, Accuracy: 0.512]\n",
      "Epoch 263: 100%|██████████| 1/1 [00:00<00:00, 142.87it/s, Loss: 1.513, Accuracy: 0.740]\n"
     ]
    },
    {
     "name": "stdout",
     "output_type": "stream",
     "text": [
      "Epoch 263: Train Loss: 1.491, Train Accuracy: 0.555, Test Loss: 1.513, Test Accuracy: 0.740\n"
     ]
    },
    {
     "name": "stderr",
     "output_type": "stream",
     "text": [
      "Epoch 264: 100%|██████████| 4/4 [00:00<00:00, 113.83it/s, Loss: 1.741, Accuracy: 0.636]\n",
      "Epoch 264: 100%|██████████| 1/1 [00:00<00:00, 185.70it/s, Loss: 1.512, Accuracy: 0.740]\n"
     ]
    },
    {
     "name": "stdout",
     "output_type": "stream",
     "text": [
      "Epoch 264: Train Loss: 1.479, Train Accuracy: 0.558, Test Loss: 1.512, Test Accuracy: 0.740\n"
     ]
    },
    {
     "name": "stderr",
     "output_type": "stream",
     "text": [
      "Epoch 265: 100%|██████████| 4/4 [00:00<00:00, 128.48it/s, Loss: 1.438, Accuracy: 0.541]\n",
      "Epoch 265: 100%|██████████| 1/1 [00:00<00:00, 164.78it/s, Loss: 1.506, Accuracy: 0.720]\n"
     ]
    },
    {
     "name": "stdout",
     "output_type": "stream",
     "text": [
      "Epoch 265: Train Loss: 1.443, Train Accuracy: 0.556, Test Loss: 1.506, Test Accuracy: 0.720\n"
     ]
    },
    {
     "name": "stderr",
     "output_type": "stream",
     "text": [
      "Epoch 266: 100%|██████████| 4/4 [00:00<00:00, 124.77it/s, Loss: 1.510, Accuracy: 0.507]\n",
      "Epoch 266: 100%|██████████| 1/1 [00:00<00:00, 250.21it/s, Loss: 1.506, Accuracy: 0.720]\n"
     ]
    },
    {
     "name": "stdout",
     "output_type": "stream",
     "text": [
      "Epoch 266: Train Loss: 1.476, Train Accuracy: 0.532, Test Loss: 1.506, Test Accuracy: 0.720\n"
     ]
    },
    {
     "name": "stderr",
     "output_type": "stream",
     "text": [
      "Epoch 267: 100%|██████████| 4/4 [00:00<00:00, 132.95it/s, Loss: 1.317, Accuracy: 0.505]\n",
      "Epoch 267: 100%|██████████| 1/1 [00:00<00:00, 200.03it/s, Loss: 1.500, Accuracy: 0.720]\n"
     ]
    },
    {
     "name": "stdout",
     "output_type": "stream",
     "text": [
      "Epoch 267: Train Loss: 1.457, Train Accuracy: 0.541, Test Loss: 1.500, Test Accuracy: 0.720\n"
     ]
    },
    {
     "name": "stderr",
     "output_type": "stream",
     "text": [
      "Epoch 268: 100%|██████████| 4/4 [00:00<00:00, 124.71it/s, Loss: 1.473, Accuracy: 0.470]\n",
      "Epoch 268: 100%|██████████| 1/1 [00:00<00:00, 200.94it/s, Loss: 1.498, Accuracy: 0.720]\n"
     ]
    },
    {
     "name": "stdout",
     "output_type": "stream",
     "text": [
      "Epoch 268: Train Loss: 1.508, Train Accuracy: 0.520, Test Loss: 1.498, Test Accuracy: 0.720\n"
     ]
    },
    {
     "name": "stderr",
     "output_type": "stream",
     "text": [
      "Epoch 269: 100%|██████████| 4/4 [00:00<00:00, 118.65it/s, Loss: 1.857, Accuracy: 0.451]\n",
      "Epoch 269: 100%|██████████| 1/1 [00:00<00:00, 199.68it/s, Loss: 1.499, Accuracy: 0.720]\n"
     ]
    },
    {
     "name": "stdout",
     "output_type": "stream",
     "text": [
      "Epoch 269: Train Loss: 1.502, Train Accuracy: 0.527, Test Loss: 1.499, Test Accuracy: 0.720\n"
     ]
    },
    {
     "name": "stderr",
     "output_type": "stream",
     "text": [
      "Epoch 270: 100%|██████████| 4/4 [00:00<00:00, 94.07it/s, Loss: 1.695, Accuracy: 0.470]\n",
      "Epoch 270: 100%|██████████| 1/1 [00:00<00:00, 197.62it/s, Loss: 1.497, Accuracy: 0.720]\n"
     ]
    },
    {
     "name": "stdout",
     "output_type": "stream",
     "text": [
      "Epoch 270: Train Loss: 1.411, Train Accuracy: 0.550, Test Loss: 1.497, Test Accuracy: 0.720\n"
     ]
    },
    {
     "name": "stderr",
     "output_type": "stream",
     "text": [
      "Epoch 271: 100%|██████████| 4/4 [00:00<00:00, 107.93it/s, Loss: 1.829, Accuracy: 0.469]\n",
      "Epoch 271: 100%|██████████| 1/1 [00:00<00:00, 198.61it/s, Loss: 1.498, Accuracy: 0.740]\n"
     ]
    },
    {
     "name": "stdout",
     "output_type": "stream",
     "text": [
      "Epoch 271: Train Loss: 1.492, Train Accuracy: 0.535, Test Loss: 1.498, Test Accuracy: 0.740\n"
     ]
    },
    {
     "name": "stderr",
     "output_type": "stream",
     "text": [
      "Epoch 272: 100%|██████████| 4/4 [00:00<00:00, 106.74it/s, Loss: 1.335, Accuracy: 0.592]\n",
      "Epoch 272: 100%|██████████| 1/1 [00:00<00:00, 166.65it/s, Loss: 1.493, Accuracy: 0.740]\n"
     ]
    },
    {
     "name": "stdout",
     "output_type": "stream",
     "text": [
      "Epoch 272: Train Loss: 1.458, Train Accuracy: 0.550, Test Loss: 1.493, Test Accuracy: 0.740\n"
     ]
    },
    {
     "name": "stderr",
     "output_type": "stream",
     "text": [
      "Epoch 273: 100%|██████████| 4/4 [00:00<00:00, 117.49it/s, Loss: 1.411, Accuracy: 0.565]\n",
      "Epoch 273: 100%|██████████| 1/1 [00:00<00:00, 178.07it/s, Loss: 1.492, Accuracy: 0.740]\n"
     ]
    },
    {
     "name": "stdout",
     "output_type": "stream",
     "text": [
      "Epoch 273: Train Loss: 1.451, Train Accuracy: 0.553, Test Loss: 1.492, Test Accuracy: 0.740\n"
     ]
    },
    {
     "name": "stderr",
     "output_type": "stream",
     "text": [
      "Epoch 274: 100%|██████████| 4/4 [00:00<00:00, 112.18it/s, Loss: 1.246, Accuracy: 0.538]\n",
      "Epoch 274: 100%|██████████| 1/1 [00:00<00:00, 166.73it/s, Loss: 1.491, Accuracy: 0.740]\n"
     ]
    },
    {
     "name": "stdout",
     "output_type": "stream",
     "text": [
      "Epoch 274: Train Loss: 1.401, Train Accuracy: 0.552, Test Loss: 1.491, Test Accuracy: 0.740\n"
     ]
    },
    {
     "name": "stderr",
     "output_type": "stream",
     "text": [
      "Epoch 275: 100%|██████████| 4/4 [00:00<00:00, 121.23it/s, Loss: 1.770, Accuracy: 0.379]\n",
      "Epoch 275: 100%|██████████| 1/1 [00:00<00:00, 198.58it/s, Loss: 1.491, Accuracy: 0.740]\n"
     ]
    },
    {
     "name": "stdout",
     "output_type": "stream",
     "text": [
      "Epoch 275: Train Loss: 1.475, Train Accuracy: 0.529, Test Loss: 1.491, Test Accuracy: 0.740\n"
     ]
    },
    {
     "name": "stderr",
     "output_type": "stream",
     "text": [
      "Epoch 276: 100%|██████████| 4/4 [00:00<00:00, 85.40it/s, Loss: 1.237, Accuracy: 0.589]\n",
      "Epoch 276: 100%|██████████| 1/1 [00:00<00:00, 200.00it/s, Loss: 1.494, Accuracy: 0.740]\n"
     ]
    },
    {
     "name": "stdout",
     "output_type": "stream",
     "text": [
      "Epoch 276: Train Loss: 1.485, Train Accuracy: 0.535, Test Loss: 1.494, Test Accuracy: 0.740\n"
     ]
    },
    {
     "name": "stderr",
     "output_type": "stream",
     "text": [
      "Epoch 277: 100%|██████████| 4/4 [00:00<00:00, 117.30it/s, Loss: 1.756, Accuracy: 0.443]\n",
      "Epoch 277: 100%|██████████| 1/1 [00:00<00:00, 124.57it/s, Loss: 1.495, Accuracy: 0.740]\n"
     ]
    },
    {
     "name": "stdout",
     "output_type": "stream",
     "text": [
      "Epoch 277: Train Loss: 1.380, Train Accuracy: 0.571, Test Loss: 1.495, Test Accuracy: 0.740\n"
     ]
    },
    {
     "name": "stderr",
     "output_type": "stream",
     "text": [
      "Epoch 278: 100%|██████████| 4/4 [00:00<00:00, 97.30it/s, Loss: 1.565, Accuracy: 0.675]\n",
      "Epoch 278: 100%|██████████| 1/1 [00:00<00:00, 165.43it/s, Loss: 1.493, Accuracy: 0.740]\n"
     ]
    },
    {
     "name": "stdout",
     "output_type": "stream",
     "text": [
      "Epoch 278: Train Loss: 1.449, Train Accuracy: 0.558, Test Loss: 1.493, Test Accuracy: 0.740\n"
     ]
    },
    {
     "name": "stderr",
     "output_type": "stream",
     "text": [
      "Epoch 279: 100%|██████████| 4/4 [00:00<00:00, 111.14it/s, Loss: 1.932, Accuracy: 0.286]\n",
      "Epoch 279: 100%|██████████| 1/1 [00:00<00:00, 200.05it/s, Loss: 1.483, Accuracy: 0.740]\n"
     ]
    },
    {
     "name": "stdout",
     "output_type": "stream",
     "text": [
      "Epoch 279: Train Loss: 1.466, Train Accuracy: 0.536, Test Loss: 1.483, Test Accuracy: 0.740\n"
     ]
    },
    {
     "name": "stderr",
     "output_type": "stream",
     "text": [
      "Epoch 280: 100%|██████████| 4/4 [00:00<00:00, 122.31it/s, Loss: 0.919, Accuracy: 0.703]\n",
      "Epoch 280: 100%|██████████| 1/1 [00:00<00:00, 212.45it/s, Loss: 1.707, Accuracy: 0.640]\n"
     ]
    },
    {
     "name": "stdout",
     "output_type": "stream",
     "text": [
      "Epoch 280: Train Loss: 1.427, Train Accuracy: 0.587, Test Loss: 1.707, Test Accuracy: 0.640\n"
     ]
    },
    {
     "name": "stderr",
     "output_type": "stream",
     "text": [
      "Epoch 281: 100%|██████████| 4/4 [00:00<00:00, 125.14it/s, Loss: 1.383, Accuracy: 0.551]\n",
      "Epoch 281: 100%|██████████| 1/1 [00:00<00:00, 199.24it/s, Loss: 1.700, Accuracy: 0.650]\n"
     ]
    },
    {
     "name": "stdout",
     "output_type": "stream",
     "text": [
      "Epoch 281: Train Loss: 1.503, Train Accuracy: 0.481, Test Loss: 1.700, Test Accuracy: 0.650\n"
     ]
    },
    {
     "name": "stderr",
     "output_type": "stream",
     "text": [
      "Epoch 282: 100%|██████████| 4/4 [00:00<00:00, 86.47it/s, Loss: 2.122, Accuracy: 0.281]\n",
      "Epoch 282: 100%|██████████| 1/1 [00:00<00:00, 216.68it/s, Loss: 1.680, Accuracy: 0.720]\n"
     ]
    },
    {
     "name": "stdout",
     "output_type": "stream",
     "text": [
      "Epoch 282: Train Loss: 1.487, Train Accuracy: 0.504, Test Loss: 1.680, Test Accuracy: 0.720\n"
     ]
    },
    {
     "name": "stderr",
     "output_type": "stream",
     "text": [
      "Epoch 283: 100%|██████████| 4/4 [00:00<00:00, 125.03it/s, Loss: 1.808, Accuracy: 0.325]\n",
      "Epoch 283: 100%|██████████| 1/1 [00:00<00:00, 250.20it/s, Loss: 1.650, Accuracy: 0.730]\n"
     ]
    },
    {
     "name": "stdout",
     "output_type": "stream",
     "text": [
      "Epoch 283: Train Loss: 1.501, Train Accuracy: 0.563, Test Loss: 1.650, Test Accuracy: 0.730\n"
     ]
    },
    {
     "name": "stderr",
     "output_type": "stream",
     "text": [
      "Epoch 284: 100%|██████████| 4/4 [00:00<00:00, 121.86it/s, Loss: 1.548, Accuracy: 0.470]\n",
      "Epoch 284: 100%|██████████| 1/1 [00:00<00:00, 197.40it/s, Loss: 1.636, Accuracy: 0.730]\n"
     ]
    },
    {
     "name": "stdout",
     "output_type": "stream",
     "text": [
      "Epoch 284: Train Loss: 1.529, Train Accuracy: 0.518, Test Loss: 1.636, Test Accuracy: 0.730\n"
     ]
    },
    {
     "name": "stderr",
     "output_type": "stream",
     "text": [
      "Epoch 285: 100%|██████████| 4/4 [00:00<00:00, 127.32it/s, Loss: 1.567, Accuracy: 0.457]\n",
      "Epoch 285: 100%|██████████| 1/1 [00:00<00:00, 250.32it/s, Loss: 1.571, Accuracy: 0.730]\n"
     ]
    },
    {
     "name": "stdout",
     "output_type": "stream",
     "text": [
      "Epoch 285: Train Loss: 1.530, Train Accuracy: 0.521, Test Loss: 1.571, Test Accuracy: 0.730\n"
     ]
    },
    {
     "name": "stderr",
     "output_type": "stream",
     "text": [
      "Epoch 286: 100%|██████████| 4/4 [00:00<00:00, 121.20it/s, Loss: 1.321, Accuracy: 0.535]\n",
      "Epoch 286: 100%|██████████| 1/1 [00:00<00:00, 200.12it/s, Loss: 1.603, Accuracy: 0.730]\n"
     ]
    },
    {
     "name": "stdout",
     "output_type": "stream",
     "text": [
      "Epoch 286: Train Loss: 1.486, Train Accuracy: 0.528, Test Loss: 1.603, Test Accuracy: 0.730\n"
     ]
    },
    {
     "name": "stderr",
     "output_type": "stream",
     "text": [
      "Epoch 287: 100%|██████████| 4/4 [00:00<00:00, 140.80it/s, Loss: 1.290, Accuracy: 0.465]\n",
      "Epoch 287: 100%|██████████| 1/1 [00:00<00:00, 200.04it/s, Loss: 1.584, Accuracy: 0.730]\n"
     ]
    },
    {
     "name": "stdout",
     "output_type": "stream",
     "text": [
      "Epoch 287: Train Loss: 1.477, Train Accuracy: 0.540, Test Loss: 1.584, Test Accuracy: 0.730\n"
     ]
    },
    {
     "name": "stderr",
     "output_type": "stream",
     "text": [
      "Epoch 288: 100%|██████████| 4/4 [00:00<00:00, 132.89it/s, Loss: 1.003, Accuracy: 0.776]\n",
      "Epoch 288: 100%|██████████| 1/1 [00:00<00:00, 125.65it/s, Loss: 1.571, Accuracy: 0.730]\n"
     ]
    },
    {
     "name": "stdout",
     "output_type": "stream",
     "text": [
      "Epoch 288: Train Loss: 1.527, Train Accuracy: 0.496, Test Loss: 1.571, Test Accuracy: 0.730\n"
     ]
    },
    {
     "name": "stderr",
     "output_type": "stream",
     "text": [
      "Epoch 289: 100%|██████████| 4/4 [00:00<00:00, 101.85it/s, Loss: 1.282, Accuracy: 0.719]\n",
      "Epoch 289: 100%|██████████| 1/1 [00:00<00:00, 200.39it/s, Loss: 1.634, Accuracy: 0.710]\n"
     ]
    },
    {
     "name": "stdout",
     "output_type": "stream",
     "text": [
      "Epoch 289: Train Loss: 1.646, Train Accuracy: 0.488, Test Loss: 1.634, Test Accuracy: 0.710\n"
     ]
    },
    {
     "name": "stderr",
     "output_type": "stream",
     "text": [
      "Epoch 290: 100%|██████████| 4/4 [00:00<00:00, 121.45it/s, Loss: 1.059, Accuracy: 0.655]\n",
      "Epoch 290: 100%|██████████| 1/1 [00:00<00:00, 168.66it/s, Loss: 1.626, Accuracy: 0.710]\n"
     ]
    },
    {
     "name": "stdout",
     "output_type": "stream",
     "text": [
      "Epoch 290: Train Loss: 1.576, Train Accuracy: 0.526, Test Loss: 1.626, Test Accuracy: 0.710\n"
     ]
    },
    {
     "name": "stderr",
     "output_type": "stream",
     "text": [
      "Epoch 291: 100%|██████████| 4/4 [00:00<00:00, 125.63it/s, Loss: 1.331, Accuracy: 0.632]\n",
      "Epoch 291: 100%|██████████| 1/1 [00:00<00:00, 250.65it/s, Loss: 1.656, Accuracy: 0.670]\n"
     ]
    },
    {
     "name": "stdout",
     "output_type": "stream",
     "text": [
      "Epoch 291: Train Loss: 1.586, Train Accuracy: 0.513, Test Loss: 1.656, Test Accuracy: 0.670\n"
     ]
    },
    {
     "name": "stderr",
     "output_type": "stream",
     "text": [
      "Epoch 292: 100%|██████████| 4/4 [00:00<00:00, 123.04it/s, Loss: 1.322, Accuracy: 0.588]\n",
      "Epoch 292: 100%|██████████| 1/1 [00:00<00:00, 199.96it/s, Loss: 1.646, Accuracy: 0.670]\n"
     ]
    },
    {
     "name": "stdout",
     "output_type": "stream",
     "text": [
      "Epoch 292: Train Loss: 1.607, Train Accuracy: 0.518, Test Loss: 1.646, Test Accuracy: 0.670\n"
     ]
    },
    {
     "name": "stderr",
     "output_type": "stream",
     "text": [
      "Epoch 293: 100%|██████████| 4/4 [00:00<00:00, 133.33it/s, Loss: 1.858, Accuracy: 0.584]\n",
      "Epoch 293: 100%|██████████| 1/1 [00:00<00:00, 197.82it/s, Loss: 1.644, Accuracy: 0.670]\n"
     ]
    },
    {
     "name": "stdout",
     "output_type": "stream",
     "text": [
      "Epoch 293: Train Loss: 1.589, Train Accuracy: 0.533, Test Loss: 1.644, Test Accuracy: 0.670\n"
     ]
    },
    {
     "name": "stderr",
     "output_type": "stream",
     "text": [
      "Epoch 294: 100%|██████████| 4/4 [00:00<00:00, 122.23it/s, Loss: 1.439, Accuracy: 0.465]\n",
      "Epoch 294: 100%|██████████| 1/1 [00:00<00:00, 155.34it/s, Loss: 1.629, Accuracy: 0.670]\n"
     ]
    },
    {
     "name": "stdout",
     "output_type": "stream",
     "text": [
      "Epoch 294: Train Loss: 1.552, Train Accuracy: 0.528, Test Loss: 1.629, Test Accuracy: 0.670\n"
     ]
    },
    {
     "name": "stderr",
     "output_type": "stream",
     "text": [
      "Epoch 295: 100%|██████████| 4/4 [00:00<00:00, 92.90it/s, Loss: 1.383, Accuracy: 0.723]\n",
      "Epoch 295: 100%|██████████| 1/1 [00:00<00:00, 166.59it/s, Loss: 1.591, Accuracy: 0.710]\n"
     ]
    },
    {
     "name": "stdout",
     "output_type": "stream",
     "text": [
      "Epoch 295: Train Loss: 1.636, Train Accuracy: 0.483, Test Loss: 1.591, Test Accuracy: 0.710\n"
     ]
    },
    {
     "name": "stderr",
     "output_type": "stream",
     "text": [
      "Epoch 296: 100%|██████████| 4/4 [00:00<00:00, 123.54it/s, Loss: 1.894, Accuracy: 0.535]\n",
      "Epoch 296: 100%|██████████| 1/1 [00:00<00:00, 199.26it/s, Loss: 1.584, Accuracy: 0.710]\n"
     ]
    },
    {
     "name": "stdout",
     "output_type": "stream",
     "text": [
      "Epoch 296: Train Loss: 1.532, Train Accuracy: 0.539, Test Loss: 1.584, Test Accuracy: 0.710\n"
     ]
    },
    {
     "name": "stderr",
     "output_type": "stream",
     "text": [
      "Epoch 297: 100%|██████████| 4/4 [00:00<00:00, 125.58it/s, Loss: 1.113, Accuracy: 0.534]\n",
      "Epoch 297: 100%|██████████| 1/1 [00:00<00:00, 246.78it/s, Loss: 1.529, Accuracy: 0.710]\n"
     ]
    },
    {
     "name": "stdout",
     "output_type": "stream",
     "text": [
      "Epoch 297: Train Loss: 1.457, Train Accuracy: 0.561, Test Loss: 1.529, Test Accuracy: 0.710\n"
     ]
    },
    {
     "name": "stderr",
     "output_type": "stream",
     "text": [
      "Epoch 298: 100%|██████████| 4/4 [00:00<00:00, 125.64it/s, Loss: 2.635, Accuracy: 0.037]\n",
      "Epoch 298: 100%|██████████| 1/1 [00:00<00:00, 200.81it/s, Loss: 2.071, Accuracy: 0.180]\n"
     ]
    },
    {
     "name": "stdout",
     "output_type": "stream",
     "text": [
      "Epoch 298: Train Loss: 1.690, Train Accuracy: 0.430, Test Loss: 2.071, Test Accuracy: 0.180\n"
     ]
    },
    {
     "name": "stderr",
     "output_type": "stream",
     "text": [
      "Epoch 299: 100%|██████████| 4/4 [00:00<00:00, 115.39it/s, Loss: 0.917, Accuracy: 0.779]\n",
      "Epoch 299: 100%|██████████| 1/1 [00:00<00:00, 200.07it/s, Loss: 2.037, Accuracy: 0.180]\n"
     ]
    },
    {
     "name": "stdout",
     "output_type": "stream",
     "text": [
      "Epoch 299: Train Loss: 1.684, Train Accuracy: 0.389, Test Loss: 2.037, Test Accuracy: 0.180\n"
     ]
    },
    {
     "name": "stderr",
     "output_type": "stream",
     "text": [
      "Epoch 300: 100%|██████████| 4/4 [00:00<00:00, 82.49it/s, Loss: 1.880, Accuracy: 0.297]\n",
      "Epoch 300: 100%|██████████| 1/1 [00:00<00:00, 142.93it/s, Loss: 1.989, Accuracy: 0.180]\n"
     ]
    },
    {
     "name": "stdout",
     "output_type": "stream",
     "text": [
      "Epoch 300: Train Loss: 1.729, Train Accuracy: 0.348, Test Loss: 1.989, Test Accuracy: 0.180\n"
     ]
    },
    {
     "name": "stderr",
     "output_type": "stream",
     "text": [
      "Epoch 301: 100%|██████████| 4/4 [00:00<00:00, 114.39it/s, Loss: 2.426, Accuracy: 0.133]\n",
      "Epoch 301: 100%|██████████| 1/1 [00:00<00:00, 199.99it/s, Loss: 1.931, Accuracy: 0.180]\n"
     ]
    },
    {
     "name": "stdout",
     "output_type": "stream",
     "text": [
      "Epoch 301: Train Loss: 1.718, Train Accuracy: 0.358, Test Loss: 1.931, Test Accuracy: 0.180\n"
     ]
    },
    {
     "name": "stderr",
     "output_type": "stream",
     "text": [
      "Epoch 302: 100%|██████████| 4/4 [00:00<00:00, 127.86it/s, Loss: 1.089, Accuracy: 0.618]\n",
      "Epoch 302: 100%|██████████| 1/1 [00:00<00:00, 252.41it/s, Loss: 1.887, Accuracy: 0.180]\n"
     ]
    },
    {
     "name": "stdout",
     "output_type": "stream",
     "text": [
      "Epoch 302: Train Loss: 1.774, Train Accuracy: 0.350, Test Loss: 1.887, Test Accuracy: 0.180\n"
     ]
    },
    {
     "name": "stderr",
     "output_type": "stream",
     "text": [
      "Epoch 303: 100%|██████████| 4/4 [00:00<00:00, 130.74it/s, Loss: 1.784, Accuracy: 0.345]\n",
      "Epoch 303: 100%|██████████| 1/1 [00:00<00:00, 197.91it/s, Loss: 1.851, Accuracy: 0.180]\n"
     ]
    },
    {
     "name": "stdout",
     "output_type": "stream",
     "text": [
      "Epoch 303: Train Loss: 1.745, Train Accuracy: 0.387, Test Loss: 1.851, Test Accuracy: 0.180\n"
     ]
    },
    {
     "name": "stderr",
     "output_type": "stream",
     "text": [
      "Epoch 304: 100%|██████████| 4/4 [00:00<00:00, 101.88it/s, Loss: 1.867, Accuracy: 0.330]\n",
      "Epoch 304: 100%|██████████| 1/1 [00:00<00:00, 166.50it/s, Loss: 1.821, Accuracy: 0.180]\n"
     ]
    },
    {
     "name": "stdout",
     "output_type": "stream",
     "text": [
      "Epoch 304: Train Loss: 1.638, Train Accuracy: 0.398, Test Loss: 1.821, Test Accuracy: 0.180\n"
     ]
    },
    {
     "name": "stderr",
     "output_type": "stream",
     "text": [
      "Epoch 305: 100%|██████████| 4/4 [00:00<00:00, 106.51it/s, Loss: 1.464, Accuracy: 0.491]\n",
      "Epoch 305: 100%|██████████| 1/1 [00:00<00:00, 108.11it/s, Loss: 1.786, Accuracy: 0.190]\n"
     ]
    },
    {
     "name": "stdout",
     "output_type": "stream",
     "text": [
      "Epoch 305: Train Loss: 1.728, Train Accuracy: 0.378, Test Loss: 1.786, Test Accuracy: 0.190\n"
     ]
    },
    {
     "name": "stderr",
     "output_type": "stream",
     "text": [
      "Epoch 306: 100%|██████████| 4/4 [00:00<00:00, 99.98it/s, Loss: 1.713, Accuracy: 0.305]\n",
      "Epoch 306: 100%|██████████| 1/1 [00:00<00:00, 166.68it/s, Loss: 1.768, Accuracy: 0.280]\n"
     ]
    },
    {
     "name": "stdout",
     "output_type": "stream",
     "text": [
      "Epoch 306: Train Loss: 1.615, Train Accuracy: 0.362, Test Loss: 1.768, Test Accuracy: 0.280\n"
     ]
    },
    {
     "name": "stderr",
     "output_type": "stream",
     "text": [
      "Epoch 307: 100%|██████████| 4/4 [00:00<00:00, 123.03it/s, Loss: 1.461, Accuracy: 0.627]\n",
      "Epoch 307: 100%|██████████| 1/1 [00:00<00:00, 141.69it/s, Loss: 1.752, Accuracy: 0.780]\n"
     ]
    },
    {
     "name": "stdout",
     "output_type": "stream",
     "text": [
      "Epoch 307: Train Loss: 1.613, Train Accuracy: 0.518, Test Loss: 1.752, Test Accuracy: 0.780\n"
     ]
    },
    {
     "name": "stderr",
     "output_type": "stream",
     "text": [
      "Epoch 308: 100%|██████████| 4/4 [00:00<00:00, 117.19it/s, Loss: 1.237, Accuracy: 0.621]\n",
      "Epoch 308: 100%|██████████| 1/1 [00:00<00:00, 165.60it/s, Loss: 1.731, Accuracy: 0.800]\n"
     ]
    },
    {
     "name": "stdout",
     "output_type": "stream",
     "text": [
      "Epoch 308: Train Loss: 1.544, Train Accuracy: 0.542, Test Loss: 1.731, Test Accuracy: 0.800\n"
     ]
    },
    {
     "name": "stderr",
     "output_type": "stream",
     "text": [
      "Epoch 309: 100%|██████████| 4/4 [00:00<00:00, 122.15it/s, Loss: 1.282, Accuracy: 0.595]\n",
      "Epoch 309: 100%|██████████| 1/1 [00:00<00:00, 216.91it/s, Loss: 1.715, Accuracy: 0.800]\n"
     ]
    },
    {
     "name": "stdout",
     "output_type": "stream",
     "text": [
      "Epoch 309: Train Loss: 1.570, Train Accuracy: 0.558, Test Loss: 1.715, Test Accuracy: 0.800\n"
     ]
    },
    {
     "name": "stderr",
     "output_type": "stream",
     "text": [
      "Epoch 310: 100%|██████████| 4/4 [00:00<00:00, 117.20it/s, Loss: 2.069, Accuracy: 0.466]\n",
      "Epoch 310: 100%|██████████| 1/1 [00:00<00:00, 166.47it/s, Loss: 1.707, Accuracy: 0.780]\n"
     ]
    },
    {
     "name": "stdout",
     "output_type": "stream",
     "text": [
      "Epoch 310: Train Loss: 1.567, Train Accuracy: 0.542, Test Loss: 1.707, Test Accuracy: 0.780\n"
     ]
    },
    {
     "name": "stderr",
     "output_type": "stream",
     "text": [
      "Epoch 311: 100%|██████████| 4/4 [00:00<00:00, 115.59it/s, Loss: 1.821, Accuracy: 0.629]\n",
      "Epoch 311: 100%|██████████| 1/1 [00:00<00:00, 125.54it/s, Loss: 1.704, Accuracy: 0.780]\n"
     ]
    },
    {
     "name": "stdout",
     "output_type": "stream",
     "text": [
      "Epoch 311: Train Loss: 1.597, Train Accuracy: 0.522, Test Loss: 1.704, Test Accuracy: 0.780\n"
     ]
    },
    {
     "name": "stderr",
     "output_type": "stream",
     "text": [
      "Epoch 312: 100%|██████████| 4/4 [00:00<00:00, 108.65it/s, Loss: 1.970, Accuracy: 0.310]\n",
      "Epoch 312: 100%|██████████| 1/1 [00:00<00:00, 200.00it/s, Loss: 1.689, Accuracy: 0.760]\n"
     ]
    },
    {
     "name": "stdout",
     "output_type": "stream",
     "text": [
      "Epoch 312: Train Loss: 1.518, Train Accuracy: 0.557, Test Loss: 1.689, Test Accuracy: 0.760\n"
     ]
    },
    {
     "name": "stderr",
     "output_type": "stream",
     "text": [
      "Epoch 313: 100%|██████████| 4/4 [00:00<00:00, 116.71it/s, Loss: 1.000, Accuracy: 0.667]\n",
      "Epoch 313: 100%|██████████| 1/1 [00:00<00:00, 194.59it/s, Loss: 1.678, Accuracy: 0.710]\n"
     ]
    },
    {
     "name": "stdout",
     "output_type": "stream",
     "text": [
      "Epoch 313: Train Loss: 1.672, Train Accuracy: 0.485, Test Loss: 1.678, Test Accuracy: 0.710\n"
     ]
    },
    {
     "name": "stderr",
     "output_type": "stream",
     "text": [
      "Epoch 314: 100%|██████████| 4/4 [00:00<00:00, 125.07it/s, Loss: 0.993, Accuracy: 0.673]\n",
      "Epoch 314: 100%|██████████| 1/1 [00:00<00:00, 199.76it/s, Loss: 1.657, Accuracy: 0.710]\n"
     ]
    },
    {
     "name": "stdout",
     "output_type": "stream",
     "text": [
      "Epoch 314: Train Loss: 1.540, Train Accuracy: 0.564, Test Loss: 1.657, Test Accuracy: 0.710\n"
     ]
    },
    {
     "name": "stderr",
     "output_type": "stream",
     "text": [
      "Epoch 315: 100%|██████████| 4/4 [00:00<00:00, 115.31it/s, Loss: 1.679, Accuracy: 0.734]\n",
      "Epoch 315: 100%|██████████| 1/1 [00:00<00:00, 163.85it/s, Loss: 1.652, Accuracy: 0.710]\n"
     ]
    },
    {
     "name": "stdout",
     "output_type": "stream",
     "text": [
      "Epoch 315: Train Loss: 1.577, Train Accuracy: 0.557, Test Loss: 1.652, Test Accuracy: 0.710\n"
     ]
    },
    {
     "name": "stderr",
     "output_type": "stream",
     "text": [
      "Epoch 316: 100%|██████████| 4/4 [00:00<00:00, 122.22it/s, Loss: 1.669, Accuracy: 0.766]\n",
      "Epoch 316: 100%|██████████| 1/1 [00:00<00:00, 222.23it/s, Loss: 1.639, Accuracy: 0.710]\n"
     ]
    },
    {
     "name": "stdout",
     "output_type": "stream",
     "text": [
      "Epoch 316: Train Loss: 1.569, Train Accuracy: 0.541, Test Loss: 1.639, Test Accuracy: 0.710\n"
     ]
    },
    {
     "name": "stderr",
     "output_type": "stream",
     "text": [
      "Epoch 317: 100%|██████████| 4/4 [00:00<00:00, 108.17it/s, Loss: 1.769, Accuracy: 0.642]\n",
      "Epoch 317: 100%|██████████| 1/1 [00:00<00:00, 165.70it/s, Loss: 1.622, Accuracy: 0.710]\n"
     ]
    },
    {
     "name": "stdout",
     "output_type": "stream",
     "text": [
      "Epoch 317: Train Loss: 1.537, Train Accuracy: 0.521, Test Loss: 1.622, Test Accuracy: 0.710\n"
     ]
    },
    {
     "name": "stderr",
     "output_type": "stream",
     "text": [
      "Epoch 318: 100%|██████████| 4/4 [00:00<00:00, 104.47it/s, Loss: 1.719, Accuracy: 0.420]\n",
      "Epoch 318: 100%|██████████| 1/1 [00:00<00:00, 250.06it/s, Loss: 1.611, Accuracy: 0.710]\n"
     ]
    },
    {
     "name": "stdout",
     "output_type": "stream",
     "text": [
      "Epoch 318: Train Loss: 1.544, Train Accuracy: 0.543, Test Loss: 1.611, Test Accuracy: 0.710\n"
     ]
    },
    {
     "name": "stderr",
     "output_type": "stream",
     "text": [
      "Epoch 319: 100%|██████████| 4/4 [00:00<00:00, 133.71it/s, Loss: 1.677, Accuracy: 0.448]\n",
      "Epoch 319: 100%|██████████| 1/1 [00:00<00:00, 249.90it/s, Loss: 1.603, Accuracy: 0.720]\n"
     ]
    },
    {
     "name": "stdout",
     "output_type": "stream",
     "text": [
      "Epoch 319: Train Loss: 1.669, Train Accuracy: 0.473, Test Loss: 1.603, Test Accuracy: 0.720\n"
     ]
    },
    {
     "name": "stderr",
     "output_type": "stream",
     "text": [
      "Epoch 320: 100%|██████████| 4/4 [00:00<00:00, 121.89it/s, Loss: 1.554, Accuracy: 0.492]\n",
      "Epoch 320: 100%|██████████| 1/1 [00:00<00:00, 200.22it/s, Loss: 1.596, Accuracy: 0.730]\n"
     ]
    },
    {
     "name": "stdout",
     "output_type": "stream",
     "text": [
      "Epoch 320: Train Loss: 1.601, Train Accuracy: 0.505, Test Loss: 1.596, Test Accuracy: 0.730\n"
     ]
    },
    {
     "name": "stderr",
     "output_type": "stream",
     "text": [
      "Epoch 321: 100%|██████████| 4/4 [00:00<00:00, 121.32it/s, Loss: 0.921, Accuracy: 0.631]\n",
      "Epoch 321: 100%|██████████| 1/1 [00:00<00:00, 200.20it/s, Loss: 1.594, Accuracy: 0.730]\n"
     ]
    },
    {
     "name": "stdout",
     "output_type": "stream",
     "text": [
      "Epoch 321: Train Loss: 1.486, Train Accuracy: 0.546, Test Loss: 1.594, Test Accuracy: 0.730\n"
     ]
    },
    {
     "name": "stderr",
     "output_type": "stream",
     "text": [
      "Epoch 322: 100%|██████████| 4/4 [00:00<00:00, 120.94it/s, Loss: 2.000, Accuracy: 0.476]\n",
      "Epoch 322: 100%|██████████| 1/1 [00:00<00:00, 196.31it/s, Loss: 1.598, Accuracy: 0.730]\n"
     ]
    },
    {
     "name": "stdout",
     "output_type": "stream",
     "text": [
      "Epoch 322: Train Loss: 1.645, Train Accuracy: 0.489, Test Loss: 1.598, Test Accuracy: 0.730\n"
     ]
    },
    {
     "name": "stderr",
     "output_type": "stream",
     "text": [
      "Epoch 323: 100%|██████████| 4/4 [00:00<00:00, 103.65it/s, Loss: 1.870, Accuracy: 0.459]\n",
      "Epoch 323: 100%|██████████| 1/1 [00:00<00:00, 166.64it/s, Loss: 1.600, Accuracy: 0.730]\n"
     ]
    },
    {
     "name": "stdout",
     "output_type": "stream",
     "text": [
      "Epoch 323: Train Loss: 1.542, Train Accuracy: 0.536, Test Loss: 1.600, Test Accuracy: 0.730\n"
     ]
    },
    {
     "name": "stderr",
     "output_type": "stream",
     "text": [
      "Epoch 324: 100%|██████████| 4/4 [00:00<00:00, 126.63it/s, Loss: 1.261, Accuracy: 0.740]\n",
      "Epoch 324: 100%|██████████| 1/1 [00:00<00:00, 244.38it/s, Loss: 1.625, Accuracy: 0.730]\n"
     ]
    },
    {
     "name": "stdout",
     "output_type": "stream",
     "text": [
      "Epoch 324: Train Loss: 1.537, Train Accuracy: 0.531, Test Loss: 1.625, Test Accuracy: 0.730\n"
     ]
    },
    {
     "name": "stderr",
     "output_type": "stream",
     "text": [
      "Epoch 325: 100%|██████████| 4/4 [00:00<00:00, 122.00it/s, Loss: 1.153, Accuracy: 0.694]\n",
      "Epoch 325: 100%|██████████| 1/1 [00:00<00:00, 200.29it/s, Loss: 1.630, Accuracy: 0.730]\n"
     ]
    },
    {
     "name": "stdout",
     "output_type": "stream",
     "text": [
      "Epoch 325: Train Loss: 1.557, Train Accuracy: 0.514, Test Loss: 1.630, Test Accuracy: 0.730\n"
     ]
    },
    {
     "name": "stderr",
     "output_type": "stream",
     "text": [
      "Epoch 326: 100%|██████████| 4/4 [00:00<00:00, 137.93it/s, Loss: 1.335, Accuracy: 0.543]\n",
      "Epoch 326: 100%|██████████| 1/1 [00:00<00:00, 228.04it/s, Loss: 1.627, Accuracy: 0.730]\n"
     ]
    },
    {
     "name": "stdout",
     "output_type": "stream",
     "text": [
      "Epoch 326: Train Loss: 1.619, Train Accuracy: 0.496, Test Loss: 1.627, Test Accuracy: 0.730\n"
     ]
    },
    {
     "name": "stderr",
     "output_type": "stream",
     "text": [
      "Epoch 327: 100%|██████████| 4/4 [00:00<00:00, 132.76it/s, Loss: 1.438, Accuracy: 0.567]\n",
      "Epoch 327: 100%|██████████| 1/1 [00:00<00:00, 178.01it/s, Loss: 1.618, Accuracy: 0.730]\n"
     ]
    },
    {
     "name": "stdout",
     "output_type": "stream",
     "text": [
      "Epoch 327: Train Loss: 1.552, Train Accuracy: 0.559, Test Loss: 1.618, Test Accuracy: 0.730\n"
     ]
    },
    {
     "name": "stderr",
     "output_type": "stream",
     "text": [
      "Epoch 328: 100%|██████████| 4/4 [00:00<00:00, 129.03it/s, Loss: 1.165, Accuracy: 0.831]\n",
      "Epoch 328: 100%|██████████| 1/1 [00:00<00:00, 232.45it/s, Loss: 1.619, Accuracy: 0.730]\n"
     ]
    },
    {
     "name": "stdout",
     "output_type": "stream",
     "text": [
      "Epoch 328: Train Loss: 1.511, Train Accuracy: 0.556, Test Loss: 1.619, Test Accuracy: 0.730\n"
     ]
    },
    {
     "name": "stderr",
     "output_type": "stream",
     "text": [
      "Epoch 329: 100%|██████████| 4/4 [00:00<00:00, 104.65it/s, Loss: 1.218, Accuracy: 0.726]\n",
      "Epoch 329: 100%|██████████| 1/1 [00:00<00:00, 199.68it/s, Loss: 1.610, Accuracy: 0.730]\n"
     ]
    },
    {
     "name": "stdout",
     "output_type": "stream",
     "text": [
      "Epoch 329: Train Loss: 1.579, Train Accuracy: 0.531, Test Loss: 1.610, Test Accuracy: 0.730\n"
     ]
    },
    {
     "name": "stderr",
     "output_type": "stream",
     "text": [
      "Epoch 330: 100%|██████████| 4/4 [00:00<00:00, 118.87it/s, Loss: 2.066, Accuracy: 0.331]\n",
      "Epoch 330: 100%|██████████| 1/1 [00:00<00:00, 246.48it/s, Loss: 1.599, Accuracy: 0.730]\n"
     ]
    },
    {
     "name": "stdout",
     "output_type": "stream",
     "text": [
      "Epoch 330: Train Loss: 1.582, Train Accuracy: 0.551, Test Loss: 1.599, Test Accuracy: 0.730\n"
     ]
    },
    {
     "name": "stderr",
     "output_type": "stream",
     "text": [
      "Epoch 331: 100%|██████████| 4/4 [00:00<00:00, 128.76it/s, Loss: 1.189, Accuracy: 0.765]\n",
      "Epoch 331: 100%|██████████| 1/1 [00:00<00:00, 205.16it/s, Loss: 1.593, Accuracy: 0.710]\n"
     ]
    },
    {
     "name": "stdout",
     "output_type": "stream",
     "text": [
      "Epoch 331: Train Loss: 1.553, Train Accuracy: 0.526, Test Loss: 1.593, Test Accuracy: 0.710\n"
     ]
    },
    {
     "name": "stderr",
     "output_type": "stream",
     "text": [
      "Epoch 332: 100%|██████████| 4/4 [00:00<00:00, 133.77it/s, Loss: 0.955, Accuracy: 0.741]\n",
      "Epoch 332: 100%|██████████| 1/1 [00:00<00:00, 245.51it/s, Loss: 1.587, Accuracy: 0.710]\n"
     ]
    },
    {
     "name": "stdout",
     "output_type": "stream",
     "text": [
      "Epoch 332: Train Loss: 1.586, Train Accuracy: 0.500, Test Loss: 1.587, Test Accuracy: 0.710\n"
     ]
    },
    {
     "name": "stderr",
     "output_type": "stream",
     "text": [
      "Epoch 333: 100%|██████████| 4/4 [00:00<00:00, 132.91it/s, Loss: 1.543, Accuracy: 0.442]\n",
      "Epoch 333: 100%|██████████| 1/1 [00:00<00:00, 216.57it/s, Loss: 1.583, Accuracy: 0.710]\n"
     ]
    },
    {
     "name": "stdout",
     "output_type": "stream",
     "text": [
      "Epoch 333: Train Loss: 1.508, Train Accuracy: 0.546, Test Loss: 1.583, Test Accuracy: 0.710\n"
     ]
    },
    {
     "name": "stderr",
     "output_type": "stream",
     "text": [
      "Epoch 334: 100%|██████████| 4/4 [00:00<00:00, 121.00it/s, Loss: 2.022, Accuracy: 0.227]\n",
      "Epoch 334: 100%|██████████| 1/1 [00:00<00:00, 249.13it/s, Loss: 1.579, Accuracy: 0.710]\n"
     ]
    },
    {
     "name": "stdout",
     "output_type": "stream",
     "text": [
      "Epoch 334: Train Loss: 1.613, Train Accuracy: 0.503, Test Loss: 1.579, Test Accuracy: 0.710\n"
     ]
    },
    {
     "name": "stderr",
     "output_type": "stream",
     "text": [
      "Epoch 335: 100%|██████████| 4/4 [00:00<00:00, 108.96it/s, Loss: 1.260, Accuracy: 0.468]\n",
      "Epoch 335: 100%|██████████| 1/1 [00:00<00:00, 125.98it/s, Loss: 1.582, Accuracy: 0.710]\n"
     ]
    },
    {
     "name": "stdout",
     "output_type": "stream",
     "text": [
      "Epoch 335: Train Loss: 1.545, Train Accuracy: 0.517, Test Loss: 1.582, Test Accuracy: 0.710\n"
     ]
    },
    {
     "name": "stderr",
     "output_type": "stream",
     "text": [
      "Epoch 336: 100%|██████████| 4/4 [00:00<00:00, 115.61it/s, Loss: 1.742, Accuracy: 0.299]\n",
      "Epoch 336: 100%|██████████| 1/1 [00:00<00:00, 166.63it/s, Loss: 1.580, Accuracy: 0.710]\n"
     ]
    },
    {
     "name": "stdout",
     "output_type": "stream",
     "text": [
      "Epoch 336: Train Loss: 1.480, Train Accuracy: 0.570, Test Loss: 1.580, Test Accuracy: 0.710\n"
     ]
    },
    {
     "name": "stderr",
     "output_type": "stream",
     "text": [
      "Epoch 337: 100%|██████████| 4/4 [00:00<00:00, 125.58it/s, Loss: 1.839, Accuracy: 0.652]\n",
      "Epoch 337: 100%|██████████| 1/1 [00:00<00:00, 245.67it/s, Loss: 1.580, Accuracy: 0.710]\n"
     ]
    },
    {
     "name": "stdout",
     "output_type": "stream",
     "text": [
      "Epoch 337: Train Loss: 1.569, Train Accuracy: 0.519, Test Loss: 1.580, Test Accuracy: 0.710\n"
     ]
    },
    {
     "name": "stderr",
     "output_type": "stream",
     "text": [
      "Epoch 338: 100%|██████████| 4/4 [00:00<00:00, 124.73it/s, Loss: 1.223, Accuracy: 0.576]\n",
      "Epoch 338: 100%|██████████| 1/1 [00:00<00:00, 250.95it/s, Loss: 1.577, Accuracy: 0.710]\n"
     ]
    },
    {
     "name": "stdout",
     "output_type": "stream",
     "text": [
      "Epoch 338: Train Loss: 1.509, Train Accuracy: 0.558, Test Loss: 1.577, Test Accuracy: 0.710\n"
     ]
    },
    {
     "name": "stderr",
     "output_type": "stream",
     "text": [
      "Epoch 339: 100%|██████████| 4/4 [00:00<00:00, 147.03it/s, Loss: 1.436, Accuracy: 0.671]\n",
      "Epoch 339: 100%|██████████| 1/1 [00:00<00:00, 249.68it/s, Loss: 1.574, Accuracy: 0.710]\n"
     ]
    },
    {
     "name": "stdout",
     "output_type": "stream",
     "text": [
      "Epoch 339: Train Loss: 1.631, Train Accuracy: 0.503, Test Loss: 1.574, Test Accuracy: 0.710\n"
     ]
    },
    {
     "name": "stderr",
     "output_type": "stream",
     "text": [
      "Epoch 340: 100%|██████████| 4/4 [00:00<00:00, 134.53it/s, Loss: 1.482, Accuracy: 0.600]\n",
      "Epoch 340: 100%|██████████| 1/1 [00:00<00:00, 166.92it/s, Loss: 1.571, Accuracy: 0.710]\n"
     ]
    },
    {
     "name": "stdout",
     "output_type": "stream",
     "text": [
      "Epoch 340: Train Loss: 1.485, Train Accuracy: 0.539, Test Loss: 1.571, Test Accuracy: 0.710\n"
     ]
    },
    {
     "name": "stderr",
     "output_type": "stream",
     "text": [
      "Epoch 341: 100%|██████████| 4/4 [00:00<00:00, 102.28it/s, Loss: 1.386, Accuracy: 0.534]\n",
      "Epoch 341: 100%|██████████| 1/1 [00:00<00:00, 165.13it/s, Loss: 1.563, Accuracy: 0.710]\n"
     ]
    },
    {
     "name": "stdout",
     "output_type": "stream",
     "text": [
      "Epoch 341: Train Loss: 1.537, Train Accuracy: 0.540, Test Loss: 1.563, Test Accuracy: 0.710\n"
     ]
    },
    {
     "name": "stderr",
     "output_type": "stream",
     "text": [
      "Epoch 342: 100%|██████████| 4/4 [00:00<00:00, 116.14it/s, Loss: 1.378, Accuracy: 0.729]\n",
      "Epoch 342: 100%|██████████| 1/1 [00:00<00:00, 197.58it/s, Loss: 1.568, Accuracy: 0.710]\n"
     ]
    },
    {
     "name": "stdout",
     "output_type": "stream",
     "text": [
      "Epoch 342: Train Loss: 1.552, Train Accuracy: 0.534, Test Loss: 1.568, Test Accuracy: 0.710\n"
     ]
    },
    {
     "name": "stderr",
     "output_type": "stream",
     "text": [
      "Epoch 343: 100%|██████████| 4/4 [00:00<00:00, 124.87it/s, Loss: 1.903, Accuracy: 0.339]\n",
      "Epoch 343: 100%|██████████| 1/1 [00:00<00:00, 203.35it/s, Loss: 1.560, Accuracy: 0.710]\n"
     ]
    },
    {
     "name": "stdout",
     "output_type": "stream",
     "text": [
      "Epoch 343: Train Loss: 1.560, Train Accuracy: 0.531, Test Loss: 1.560, Test Accuracy: 0.710\n"
     ]
    },
    {
     "name": "stderr",
     "output_type": "stream",
     "text": [
      "Epoch 344: 100%|██████████| 4/4 [00:00<00:00, 126.10it/s, Loss: 1.827, Accuracy: 0.416]\n",
      "Epoch 344: 100%|██████████| 1/1 [00:00<00:00, 197.30it/s, Loss: 1.553, Accuracy: 0.710]\n"
     ]
    },
    {
     "name": "stdout",
     "output_type": "stream",
     "text": [
      "Epoch 344: Train Loss: 1.549, Train Accuracy: 0.534, Test Loss: 1.553, Test Accuracy: 0.710\n"
     ]
    },
    {
     "name": "stderr",
     "output_type": "stream",
     "text": [
      "Epoch 345: 100%|██████████| 4/4 [00:00<00:00, 125.19it/s, Loss: 1.326, Accuracy: 0.565]\n",
      "Epoch 345: 100%|██████████| 1/1 [00:00<00:00, 249.54it/s, Loss: 1.553, Accuracy: 0.710]\n"
     ]
    },
    {
     "name": "stdout",
     "output_type": "stream",
     "text": [
      "Epoch 345: Train Loss: 1.566, Train Accuracy: 0.517, Test Loss: 1.553, Test Accuracy: 0.710\n"
     ]
    },
    {
     "name": "stderr",
     "output_type": "stream",
     "text": [
      "Epoch 346: 100%|██████████| 4/4 [00:00<00:00, 126.11it/s, Loss: 2.408, Accuracy: 0.074]\n",
      "Epoch 346: 100%|██████████| 1/1 [00:00<00:00, 245.90it/s, Loss: 1.555, Accuracy: 0.710]\n"
     ]
    },
    {
     "name": "stdout",
     "output_type": "stream",
     "text": [
      "Epoch 346: Train Loss: 1.612, Train Accuracy: 0.493, Test Loss: 1.555, Test Accuracy: 0.710\n"
     ]
    },
    {
     "name": "stderr",
     "output_type": "stream",
     "text": [
      "Epoch 347: 100%|██████████| 4/4 [00:00<00:00, 111.98it/s, Loss: 1.498, Accuracy: 0.376]\n",
      "Epoch 347: 100%|██████████| 1/1 [00:00<00:00, 124.76it/s, Loss: 1.555, Accuracy: 0.710]\n"
     ]
    },
    {
     "name": "stdout",
     "output_type": "stream",
     "text": [
      "Epoch 347: Train Loss: 1.523, Train Accuracy: 0.562, Test Loss: 1.555, Test Accuracy: 0.710\n"
     ]
    },
    {
     "name": "stderr",
     "output_type": "stream",
     "text": [
      "Epoch 348: 100%|██████████| 4/4 [00:00<00:00, 109.65it/s, Loss: 1.305, Accuracy: 0.638]\n",
      "Epoch 348: 100%|██████████| 1/1 [00:00<00:00, 249.82it/s, Loss: 1.558, Accuracy: 0.710]\n"
     ]
    },
    {
     "name": "stdout",
     "output_type": "stream",
     "text": [
      "Epoch 348: Train Loss: 1.559, Train Accuracy: 0.525, Test Loss: 1.558, Test Accuracy: 0.710\n"
     ]
    },
    {
     "name": "stderr",
     "output_type": "stream",
     "text": [
      "Epoch 349: 100%|██████████| 4/4 [00:00<00:00, 126.16it/s, Loss: 1.630, Accuracy: 0.552]\n",
      "Epoch 349: 100%|██████████| 1/1 [00:00<00:00, 166.68it/s, Loss: 1.556, Accuracy: 0.710]\n"
     ]
    },
    {
     "name": "stdout",
     "output_type": "stream",
     "text": [
      "Epoch 349: Train Loss: 1.475, Train Accuracy: 0.555, Test Loss: 1.556, Test Accuracy: 0.710\n"
     ]
    },
    {
     "name": "stderr",
     "output_type": "stream",
     "text": [
      "Epoch 350: 100%|██████████| 4/4 [00:00<00:00, 125.05it/s, Loss: 1.811, Accuracy: 0.690]\n",
      "Epoch 350: 100%|██████████| 1/1 [00:00<00:00, 248.60it/s, Loss: 1.557, Accuracy: 0.710]\n"
     ]
    },
    {
     "name": "stdout",
     "output_type": "stream",
     "text": [
      "Epoch 350: Train Loss: 1.537, Train Accuracy: 0.539, Test Loss: 1.557, Test Accuracy: 0.710\n"
     ]
    },
    {
     "name": "stderr",
     "output_type": "stream",
     "text": [
      "Epoch 351: 100%|██████████| 4/4 [00:00<00:00, 122.12it/s, Loss: 1.512, Accuracy: 0.584]\n",
      "Epoch 351: 100%|██████████| 1/1 [00:00<00:00, 200.81it/s, Loss: 1.554, Accuracy: 0.710]\n"
     ]
    },
    {
     "name": "stdout",
     "output_type": "stream",
     "text": [
      "Epoch 351: Train Loss: 1.611, Train Accuracy: 0.499, Test Loss: 1.554, Test Accuracy: 0.710\n"
     ]
    },
    {
     "name": "stderr",
     "output_type": "stream",
     "text": [
      "Epoch 352: 100%|██████████| 4/4 [00:00<00:00, 129.03it/s, Loss: 2.146, Accuracy: 0.160]\n",
      "Epoch 352: 100%|██████████| 1/1 [00:00<00:00, 259.32it/s, Loss: 1.551, Accuracy: 0.710]\n"
     ]
    },
    {
     "name": "stdout",
     "output_type": "stream",
     "text": [
      "Epoch 352: Train Loss: 1.593, Train Accuracy: 0.502, Test Loss: 1.551, Test Accuracy: 0.710\n"
     ]
    },
    {
     "name": "stderr",
     "output_type": "stream",
     "text": [
      "Epoch 353: 100%|██████████| 4/4 [00:00<00:00, 103.08it/s, Loss: 1.530, Accuracy: 0.506]\n",
      "Epoch 353: 100%|██████████| 1/1 [00:00<00:00, 143.40it/s, Loss: 1.547, Accuracy: 0.710]\n"
     ]
    },
    {
     "name": "stdout",
     "output_type": "stream",
     "text": [
      "Epoch 353: Train Loss: 1.454, Train Accuracy: 0.571, Test Loss: 1.547, Test Accuracy: 0.710\n"
     ]
    },
    {
     "name": "stderr",
     "output_type": "stream",
     "text": [
      "Epoch 354: 100%|██████████| 4/4 [00:00<00:00, 123.58it/s, Loss: 1.502, Accuracy: 0.624]\n",
      "Epoch 354: 100%|██████████| 1/1 [00:00<00:00, 199.80it/s, Loss: 1.541, Accuracy: 0.710]\n"
     ]
    },
    {
     "name": "stdout",
     "output_type": "stream",
     "text": [
      "Epoch 354: Train Loss: 1.529, Train Accuracy: 0.534, Test Loss: 1.541, Test Accuracy: 0.710\n"
     ]
    },
    {
     "name": "stderr",
     "output_type": "stream",
     "text": [
      "Epoch 355: 100%|██████████| 4/4 [00:00<00:00, 133.50it/s, Loss: 0.671, Accuracy: 0.782]\n",
      "Epoch 355: 100%|██████████| 1/1 [00:00<00:00, 200.19it/s, Loss: 1.541, Accuracy: 0.710]\n"
     ]
    },
    {
     "name": "stdout",
     "output_type": "stream",
     "text": [
      "Epoch 355: Train Loss: 1.510, Train Accuracy: 0.538, Test Loss: 1.541, Test Accuracy: 0.710\n"
     ]
    },
    {
     "name": "stderr",
     "output_type": "stream",
     "text": [
      "Epoch 356: 100%|██████████| 4/4 [00:00<00:00, 125.84it/s, Loss: 0.715, Accuracy: 0.759]\n",
      "Epoch 356: 100%|██████████| 1/1 [00:00<00:00, 246.01it/s, Loss: 1.543, Accuracy: 0.710]\n"
     ]
    },
    {
     "name": "stdout",
     "output_type": "stream",
     "text": [
      "Epoch 356: Train Loss: 1.500, Train Accuracy: 0.552, Test Loss: 1.543, Test Accuracy: 0.710\n"
     ]
    },
    {
     "name": "stderr",
     "output_type": "stream",
     "text": [
      "Epoch 357: 100%|██████████| 4/4 [00:00<00:00, 142.90it/s, Loss: 0.958, Accuracy: 0.639]\n",
      "Epoch 357: 100%|██████████| 1/1 [00:00<00:00, 247.48it/s, Loss: 1.539, Accuracy: 0.710]\n"
     ]
    },
    {
     "name": "stdout",
     "output_type": "stream",
     "text": [
      "Epoch 357: Train Loss: 1.639, Train Accuracy: 0.498, Test Loss: 1.539, Test Accuracy: 0.710\n"
     ]
    },
    {
     "name": "stderr",
     "output_type": "stream",
     "text": [
      "Epoch 358: 100%|██████████| 4/4 [00:00<00:00, 124.78it/s, Loss: 0.923, Accuracy: 0.794]\n",
      "Epoch 358: 100%|██████████| 1/1 [00:00<00:00, 251.05it/s, Loss: 1.544, Accuracy: 0.710]\n"
     ]
    },
    {
     "name": "stdout",
     "output_type": "stream",
     "text": [
      "Epoch 358: Train Loss: 1.624, Train Accuracy: 0.487, Test Loss: 1.544, Test Accuracy: 0.710\n"
     ]
    },
    {
     "name": "stderr",
     "output_type": "stream",
     "text": [
      "Epoch 359: 100%|██████████| 4/4 [00:00<00:00, 97.53it/s, Loss: 1.392, Accuracy: 0.619]\n",
      "Epoch 359: 100%|██████████| 1/1 [00:00<00:00, 249.05it/s, Loss: 1.543, Accuracy: 0.710]\n"
     ]
    },
    {
     "name": "stdout",
     "output_type": "stream",
     "text": [
      "Epoch 359: Train Loss: 1.507, Train Accuracy: 0.551, Test Loss: 1.543, Test Accuracy: 0.710\n"
     ]
    },
    {
     "name": "stderr",
     "output_type": "stream",
     "text": [
      "Epoch 360: 100%|██████████| 4/4 [00:00<00:00, 116.60it/s, Loss: 0.886, Accuracy: 0.680]\n",
      "Epoch 360: 100%|██████████| 1/1 [00:00<00:00, 249.39it/s, Loss: 1.545, Accuracy: 0.710]\n"
     ]
    },
    {
     "name": "stdout",
     "output_type": "stream",
     "text": [
      "Epoch 360: Train Loss: 1.486, Train Accuracy: 0.539, Test Loss: 1.545, Test Accuracy: 0.710\n"
     ]
    },
    {
     "name": "stderr",
     "output_type": "stream",
     "text": [
      "Epoch 361: 100%|██████████| 4/4 [00:00<00:00, 124.55it/s, Loss: 1.106, Accuracy: 0.720]\n",
      "Epoch 361: 100%|██████████| 1/1 [00:00<00:00, 196.99it/s, Loss: 1.541, Accuracy: 0.710]\n"
     ]
    },
    {
     "name": "stdout",
     "output_type": "stream",
     "text": [
      "Epoch 361: Train Loss: 1.509, Train Accuracy: 0.554, Test Loss: 1.541, Test Accuracy: 0.710\n"
     ]
    },
    {
     "name": "stderr",
     "output_type": "stream",
     "text": [
      "Epoch 362: 100%|██████████| 4/4 [00:00<00:00, 124.73it/s, Loss: 2.101, Accuracy: 0.170]\n",
      "Epoch 362: 100%|██████████| 1/1 [00:00<00:00, 245.99it/s, Loss: 1.541, Accuracy: 0.710]\n"
     ]
    },
    {
     "name": "stdout",
     "output_type": "stream",
     "text": [
      "Epoch 362: Train Loss: 1.570, Train Accuracy: 0.499, Test Loss: 1.541, Test Accuracy: 0.710\n"
     ]
    },
    {
     "name": "stderr",
     "output_type": "stream",
     "text": [
      "Epoch 363: 100%|██████████| 4/4 [00:00<00:00, 131.76it/s, Loss: 1.698, Accuracy: 0.452]\n",
      "Epoch 363: 100%|██████████| 1/1 [00:00<00:00, 250.87it/s, Loss: 1.544, Accuracy: 0.710]\n"
     ]
    },
    {
     "name": "stdout",
     "output_type": "stream",
     "text": [
      "Epoch 363: Train Loss: 1.547, Train Accuracy: 0.515, Test Loss: 1.544, Test Accuracy: 0.710\n"
     ]
    },
    {
     "name": "stderr",
     "output_type": "stream",
     "text": [
      "Epoch 364: 100%|██████████| 4/4 [00:00<00:00, 105.07it/s, Loss: 1.485, Accuracy: 0.443]\n",
      "Epoch 364: 100%|██████████| 1/1 [00:00<00:00, 142.89it/s, Loss: 1.544, Accuracy: 0.710]\n"
     ]
    },
    {
     "name": "stdout",
     "output_type": "stream",
     "text": [
      "Epoch 364: Train Loss: 1.543, Train Accuracy: 0.541, Test Loss: 1.544, Test Accuracy: 0.710\n"
     ]
    },
    {
     "name": "stderr",
     "output_type": "stream",
     "text": [
      "Epoch 365: 100%|██████████| 4/4 [00:00<00:00, 111.91it/s, Loss: 1.119, Accuracy: 0.712]\n",
      "Epoch 365: 100%|██████████| 1/1 [00:00<00:00, 198.00it/s, Loss: 1.544, Accuracy: 0.710]\n"
     ]
    },
    {
     "name": "stdout",
     "output_type": "stream",
     "text": [
      "Epoch 365: Train Loss: 1.433, Train Accuracy: 0.569, Test Loss: 1.544, Test Accuracy: 0.710\n"
     ]
    },
    {
     "name": "stderr",
     "output_type": "stream",
     "text": [
      "Epoch 366: 100%|██████████| 4/4 [00:00<00:00, 127.46it/s, Loss: 2.245, Accuracy: 0.101]\n",
      "Epoch 366: 100%|██████████| 1/1 [00:00<00:00, 198.54it/s, Loss: 1.540, Accuracy: 0.710]\n"
     ]
    },
    {
     "name": "stdout",
     "output_type": "stream",
     "text": [
      "Epoch 366: Train Loss: 1.659, Train Accuracy: 0.466, Test Loss: 1.540, Test Accuracy: 0.710\n"
     ]
    },
    {
     "name": "stderr",
     "output_type": "stream",
     "text": [
      "Epoch 367: 100%|██████████| 4/4 [00:00<00:00, 129.11it/s, Loss: 1.953, Accuracy: 0.259]\n",
      "Epoch 367: 100%|██████████| 1/1 [00:00<00:00, 200.79it/s, Loss: 1.541, Accuracy: 0.710]\n"
     ]
    },
    {
     "name": "stdout",
     "output_type": "stream",
     "text": [
      "Epoch 367: Train Loss: 1.512, Train Accuracy: 0.523, Test Loss: 1.541, Test Accuracy: 0.710\n"
     ]
    },
    {
     "name": "stderr",
     "output_type": "stream",
     "text": [
      "Epoch 368: 100%|██████████| 4/4 [00:00<00:00, 115.19it/s, Loss: 1.202, Accuracy: 0.746]\n",
      "Epoch 368: 100%|██████████| 1/1 [00:00<00:00, 249.69it/s, Loss: 1.548, Accuracy: 0.710]\n"
     ]
    },
    {
     "name": "stdout",
     "output_type": "stream",
     "text": [
      "Epoch 368: Train Loss: 1.597, Train Accuracy: 0.502, Test Loss: 1.548, Test Accuracy: 0.710\n"
     ]
    },
    {
     "name": "stderr",
     "output_type": "stream",
     "text": [
      "Epoch 369: 100%|██████████| 4/4 [00:00<00:00, 133.88it/s, Loss: 1.802, Accuracy: 0.561]\n",
      "Epoch 369: 100%|██████████| 1/1 [00:00<00:00, 145.54it/s, Loss: 1.551, Accuracy: 0.730]\n"
     ]
    },
    {
     "name": "stdout",
     "output_type": "stream",
     "text": [
      "Epoch 369: Train Loss: 1.544, Train Accuracy: 0.520, Test Loss: 1.551, Test Accuracy: 0.730\n"
     ]
    },
    {
     "name": "stderr",
     "output_type": "stream",
     "text": [
      "Epoch 370: 100%|██████████| 4/4 [00:00<00:00, 100.08it/s, Loss: 1.525, Accuracy: 0.587]\n",
      "Epoch 370: 100%|██████████| 1/1 [00:00<00:00, 203.08it/s, Loss: 1.540, Accuracy: 0.730]\n"
     ]
    },
    {
     "name": "stdout",
     "output_type": "stream",
     "text": [
      "Epoch 370: Train Loss: 1.491, Train Accuracy: 0.557, Test Loss: 1.540, Test Accuracy: 0.730\n"
     ]
    },
    {
     "name": "stderr",
     "output_type": "stream",
     "text": [
      "Epoch 371: 100%|██████████| 4/4 [00:00<00:00, 121.27it/s, Loss: 1.976, Accuracy: 0.357]\n",
      "Epoch 371: 100%|██████████| 1/1 [00:00<00:00, 198.31it/s, Loss: 1.537, Accuracy: 0.730]\n"
     ]
    },
    {
     "name": "stdout",
     "output_type": "stream",
     "text": [
      "Epoch 371: Train Loss: 1.517, Train Accuracy: 0.530, Test Loss: 1.537, Test Accuracy: 0.730\n"
     ]
    },
    {
     "name": "stderr",
     "output_type": "stream",
     "text": [
      "Epoch 372: 100%|██████████| 4/4 [00:00<00:00, 123.84it/s, Loss: 0.960, Accuracy: 0.819]\n",
      "Epoch 372: 100%|██████████| 1/1 [00:00<00:00, 244.97it/s, Loss: 1.540, Accuracy: 0.730]\n"
     ]
    },
    {
     "name": "stdout",
     "output_type": "stream",
     "text": [
      "Epoch 372: Train Loss: 1.558, Train Accuracy: 0.529, Test Loss: 1.540, Test Accuracy: 0.730\n"
     ]
    },
    {
     "name": "stderr",
     "output_type": "stream",
     "text": [
      "Epoch 373: 100%|██████████| 4/4 [00:00<00:00, 142.78it/s, Loss: 1.256, Accuracy: 0.709]\n",
      "Epoch 373: 100%|██████████| 1/1 [00:00<00:00, 246.07it/s, Loss: 1.537, Accuracy: 0.730]\n"
     ]
    },
    {
     "name": "stdout",
     "output_type": "stream",
     "text": [
      "Epoch 373: Train Loss: 1.567, Train Accuracy: 0.514, Test Loss: 1.537, Test Accuracy: 0.730\n"
     ]
    },
    {
     "name": "stderr",
     "output_type": "stream",
     "text": [
      "Epoch 374: 100%|██████████| 4/4 [00:00<00:00, 124.79it/s, Loss: 1.688, Accuracy: 0.642]\n",
      "Epoch 374: 100%|██████████| 1/1 [00:00<00:00, 198.11it/s, Loss: 1.540, Accuracy: 0.730]\n"
     ]
    },
    {
     "name": "stdout",
     "output_type": "stream",
     "text": [
      "Epoch 374: Train Loss: 1.527, Train Accuracy: 0.531, Test Loss: 1.540, Test Accuracy: 0.730\n"
     ]
    },
    {
     "name": "stderr",
     "output_type": "stream",
     "text": [
      "Epoch 375: 100%|██████████| 4/4 [00:00<00:00, 125.40it/s, Loss: 1.768, Accuracy: 0.395]\n",
      "Epoch 375: 100%|██████████| 1/1 [00:00<00:00, 243.35it/s, Loss: 1.530, Accuracy: 0.730]\n"
     ]
    },
    {
     "name": "stdout",
     "output_type": "stream",
     "text": [
      "Epoch 375: Train Loss: 1.505, Train Accuracy: 0.575, Test Loss: 1.530, Test Accuracy: 0.730\n"
     ]
    },
    {
     "name": "stderr",
     "output_type": "stream",
     "text": [
      "Epoch 376: 100%|██████████| 4/4 [00:00<00:00, 102.05it/s, Loss: 1.659, Accuracy: 0.379]\n",
      "Epoch 376: 100%|██████████| 1/1 [00:00<00:00, 142.59it/s, Loss: 1.529, Accuracy: 0.730]\n"
     ]
    },
    {
     "name": "stdout",
     "output_type": "stream",
     "text": [
      "Epoch 376: Train Loss: 1.522, Train Accuracy: 0.541, Test Loss: 1.529, Test Accuracy: 0.730\n"
     ]
    },
    {
     "name": "stderr",
     "output_type": "stream",
     "text": [
      "Epoch 377: 100%|██████████| 4/4 [00:00<00:00, 143.58it/s, Loss: 1.109, Accuracy: 0.639]\n",
      "Epoch 377: 100%|██████████| 1/1 [00:00<00:00, 275.47it/s, Loss: 1.528, Accuracy: 0.730]\n"
     ]
    },
    {
     "name": "stdout",
     "output_type": "stream",
     "text": [
      "Epoch 377: Train Loss: 1.517, Train Accuracy: 0.504, Test Loss: 1.528, Test Accuracy: 0.730\n"
     ]
    },
    {
     "name": "stderr",
     "output_type": "stream",
     "text": [
      "Epoch 378: 100%|██████████| 4/4 [00:00<00:00, 120.78it/s, Loss: 1.860, Accuracy: 0.330]\n",
      "Epoch 378: 100%|██████████| 1/1 [00:00<00:00, 199.37it/s, Loss: 1.532, Accuracy: 0.730]\n"
     ]
    },
    {
     "name": "stdout",
     "output_type": "stream",
     "text": [
      "Epoch 378: Train Loss: 1.503, Train Accuracy: 0.537, Test Loss: 1.532, Test Accuracy: 0.730\n"
     ]
    },
    {
     "name": "stderr",
     "output_type": "stream",
     "text": [
      "Epoch 379: 100%|██████████| 4/4 [00:00<00:00, 137.38it/s, Loss: 1.146, Accuracy: 0.634]\n",
      "Epoch 379: 100%|██████████| 1/1 [00:00<00:00, 166.19it/s, Loss: 1.532, Accuracy: 0.730]\n"
     ]
    },
    {
     "name": "stdout",
     "output_type": "stream",
     "text": [
      "Epoch 379: Train Loss: 1.423, Train Accuracy: 0.558, Test Loss: 1.532, Test Accuracy: 0.730\n"
     ]
    },
    {
     "name": "stderr",
     "output_type": "stream",
     "text": [
      "Epoch 380: 100%|██████████| 4/4 [00:00<00:00, 124.56it/s, Loss: 1.856, Accuracy: 0.639]\n",
      "Epoch 380: 100%|██████████| 1/1 [00:00<00:00, 194.89it/s, Loss: 1.539, Accuracy: 0.730]\n"
     ]
    },
    {
     "name": "stdout",
     "output_type": "stream",
     "text": [
      "Epoch 380: Train Loss: 1.498, Train Accuracy: 0.567, Test Loss: 1.539, Test Accuracy: 0.730\n"
     ]
    },
    {
     "name": "stderr",
     "output_type": "stream",
     "text": [
      "Epoch 381: 100%|██████████| 4/4 [00:00<00:00, 121.81it/s, Loss: 2.078, Accuracy: 0.210]\n",
      "Epoch 381: 100%|██████████| 1/1 [00:00<00:00, 200.47it/s, Loss: 1.529, Accuracy: 0.730]\n"
     ]
    },
    {
     "name": "stdout",
     "output_type": "stream",
     "text": [
      "Epoch 381: Train Loss: 1.558, Train Accuracy: 0.533, Test Loss: 1.529, Test Accuracy: 0.730\n"
     ]
    },
    {
     "name": "stderr",
     "output_type": "stream",
     "text": [
      "Epoch 382: 100%|██████████| 4/4 [00:00<00:00, 116.92it/s, Loss: 1.324, Accuracy: 0.686]\n",
      "Epoch 382: 100%|██████████| 1/1 [00:00<00:00, 130.45it/s, Loss: 1.528, Accuracy: 0.730]\n"
     ]
    },
    {
     "name": "stdout",
     "output_type": "stream",
     "text": [
      "Epoch 382: Train Loss: 1.515, Train Accuracy: 0.544, Test Loss: 1.528, Test Accuracy: 0.730\n"
     ]
    },
    {
     "name": "stderr",
     "output_type": "stream",
     "text": [
      "Epoch 383: 100%|██████████| 4/4 [00:00<00:00, 110.83it/s, Loss: 1.170, Accuracy: 0.686]\n",
      "Epoch 383: 100%|██████████| 1/1 [00:00<00:00, 182.81it/s, Loss: 1.528, Accuracy: 0.710]\n"
     ]
    },
    {
     "name": "stdout",
     "output_type": "stream",
     "text": [
      "Epoch 383: Train Loss: 1.520, Train Accuracy: 0.527, Test Loss: 1.528, Test Accuracy: 0.710\n"
     ]
    },
    {
     "name": "stderr",
     "output_type": "stream",
     "text": [
      "Epoch 384: 100%|██████████| 4/4 [00:00<00:00, 134.16it/s, Loss: 1.094, Accuracy: 0.574]\n",
      "Epoch 384: 100%|██████████| 1/1 [00:00<00:00, 243.66it/s, Loss: 1.527, Accuracy: 0.710]\n"
     ]
    },
    {
     "name": "stdout",
     "output_type": "stream",
     "text": [
      "Epoch 384: Train Loss: 1.470, Train Accuracy: 0.548, Test Loss: 1.527, Test Accuracy: 0.710\n"
     ]
    },
    {
     "name": "stderr",
     "output_type": "stream",
     "text": [
      "Epoch 385: 100%|██████████| 4/4 [00:00<00:00, 133.55it/s, Loss: 1.398, Accuracy: 0.671]\n",
      "Epoch 385: 100%|██████████| 1/1 [00:00<00:00, 252.71it/s, Loss: 1.528, Accuracy: 0.710]\n"
     ]
    },
    {
     "name": "stdout",
     "output_type": "stream",
     "text": [
      "Epoch 385: Train Loss: 1.514, Train Accuracy: 0.545, Test Loss: 1.528, Test Accuracy: 0.710\n"
     ]
    },
    {
     "name": "stderr",
     "output_type": "stream",
     "text": [
      "Epoch 386: 100%|██████████| 4/4 [00:00<00:00, 124.08it/s, Loss: 1.878, Accuracy: 0.525]\n",
      "Epoch 386: 100%|██████████| 1/1 [00:00<00:00, 195.89it/s, Loss: 1.527, Accuracy: 0.710]\n"
     ]
    },
    {
     "name": "stdout",
     "output_type": "stream",
     "text": [
      "Epoch 386: Train Loss: 1.557, Train Accuracy: 0.525, Test Loss: 1.527, Test Accuracy: 0.710\n"
     ]
    },
    {
     "name": "stderr",
     "output_type": "stream",
     "text": [
      "Epoch 387: 100%|██████████| 4/4 [00:00<00:00, 123.97it/s, Loss: 1.816, Accuracy: 0.311]\n",
      "Epoch 387: 100%|██████████| 1/1 [00:00<00:00, 199.27it/s, Loss: 1.516, Accuracy: 0.710]\n"
     ]
    },
    {
     "name": "stdout",
     "output_type": "stream",
     "text": [
      "Epoch 387: Train Loss: 1.492, Train Accuracy: 0.546, Test Loss: 1.516, Test Accuracy: 0.710\n"
     ]
    },
    {
     "name": "stderr",
     "output_type": "stream",
     "text": [
      "Epoch 388: 100%|██████████| 4/4 [00:00<00:00, 100.27it/s, Loss: 1.734, Accuracy: 0.284]\n",
      "Epoch 388: 100%|██████████| 1/1 [00:00<00:00, 140.82it/s, Loss: 1.511, Accuracy: 0.710]\n"
     ]
    },
    {
     "name": "stdout",
     "output_type": "stream",
     "text": [
      "Epoch 388: Train Loss: 1.550, Train Accuracy: 0.500, Test Loss: 1.511, Test Accuracy: 0.710\n"
     ]
    },
    {
     "name": "stderr",
     "output_type": "stream",
     "text": [
      "Epoch 389: 100%|██████████| 4/4 [00:00<00:00, 121.56it/s, Loss: 1.404, Accuracy: 0.571]\n",
      "Epoch 389: 100%|██████████| 1/1 [00:00<00:00, 208.69it/s, Loss: 1.512, Accuracy: 0.710]\n"
     ]
    },
    {
     "name": "stdout",
     "output_type": "stream",
     "text": [
      "Epoch 389: Train Loss: 1.525, Train Accuracy: 0.542, Test Loss: 1.512, Test Accuracy: 0.710\n"
     ]
    },
    {
     "name": "stderr",
     "output_type": "stream",
     "text": [
      "Epoch 390: 100%|██████████| 4/4 [00:00<00:00, 129.01it/s, Loss: 2.025, Accuracy: 0.357]\n",
      "Epoch 390: 100%|██████████| 1/1 [00:00<00:00, 198.08it/s, Loss: 1.515, Accuracy: 0.710]\n"
     ]
    },
    {
     "name": "stdout",
     "output_type": "stream",
     "text": [
      "Epoch 390: Train Loss: 1.565, Train Accuracy: 0.510, Test Loss: 1.515, Test Accuracy: 0.710\n"
     ]
    },
    {
     "name": "stderr",
     "output_type": "stream",
     "text": [
      "Epoch 391: 100%|██████████| 4/4 [00:00<00:00, 130.22it/s, Loss: 1.734, Accuracy: 0.484]\n",
      "Epoch 391: 100%|██████████| 1/1 [00:00<00:00, 195.89it/s, Loss: 1.520, Accuracy: 0.710]\n"
     ]
    },
    {
     "name": "stdout",
     "output_type": "stream",
     "text": [
      "Epoch 391: Train Loss: 1.486, Train Accuracy: 0.538, Test Loss: 1.520, Test Accuracy: 0.710\n"
     ]
    },
    {
     "name": "stderr",
     "output_type": "stream",
     "text": [
      "Epoch 392: 100%|██████████| 4/4 [00:00<00:00, 121.97it/s, Loss: 1.722, Accuracy: 0.598]\n",
      "Epoch 392: 100%|██████████| 1/1 [00:00<00:00, 251.23it/s, Loss: 1.520, Accuracy: 0.710]\n"
     ]
    },
    {
     "name": "stdout",
     "output_type": "stream",
     "text": [
      "Epoch 392: Train Loss: 1.545, Train Accuracy: 0.550, Test Loss: 1.520, Test Accuracy: 0.710\n"
     ]
    },
    {
     "name": "stderr",
     "output_type": "stream",
     "text": [
      "Epoch 393: 100%|██████████| 4/4 [00:00<00:00, 122.28it/s, Loss: 1.253, Accuracy: 0.539]\n",
      "Epoch 393: 100%|██████████| 1/1 [00:00<00:00, 169.69it/s, Loss: 1.513, Accuracy: 0.710]\n"
     ]
    },
    {
     "name": "stdout",
     "output_type": "stream",
     "text": [
      "Epoch 393: Train Loss: 1.500, Train Accuracy: 0.535, Test Loss: 1.513, Test Accuracy: 0.710\n"
     ]
    },
    {
     "name": "stderr",
     "output_type": "stream",
     "text": [
      "Epoch 394: 100%|██████████| 4/4 [00:00<00:00, 101.14it/s, Loss: 1.762, Accuracy: 0.253]\n",
      "Epoch 394: 100%|██████████| 1/1 [00:00<00:00, 199.36it/s, Loss: 1.508, Accuracy: 0.710]\n"
     ]
    },
    {
     "name": "stdout",
     "output_type": "stream",
     "text": [
      "Epoch 394: Train Loss: 1.487, Train Accuracy: 0.510, Test Loss: 1.508, Test Accuracy: 0.710\n"
     ]
    },
    {
     "name": "stderr",
     "output_type": "stream",
     "text": [
      "Epoch 395: 100%|██████████| 4/4 [00:00<00:00, 124.49it/s, Loss: 1.423, Accuracy: 0.601]\n",
      "Epoch 395: 100%|██████████| 1/1 [00:00<00:00, 249.68it/s, Loss: 1.508, Accuracy: 0.710]\n"
     ]
    },
    {
     "name": "stdout",
     "output_type": "stream",
     "text": [
      "Epoch 395: Train Loss: 1.566, Train Accuracy: 0.508, Test Loss: 1.508, Test Accuracy: 0.710\n"
     ]
    },
    {
     "name": "stderr",
     "output_type": "stream",
     "text": [
      "Epoch 396: 100%|██████████| 4/4 [00:00<00:00, 128.96it/s, Loss: 1.865, Accuracy: 0.472]\n",
      "Epoch 396: 100%|██████████| 1/1 [00:00<00:00, 203.14it/s, Loss: 1.507, Accuracy: 0.710]\n"
     ]
    },
    {
     "name": "stdout",
     "output_type": "stream",
     "text": [
      "Epoch 396: Train Loss: 1.551, Train Accuracy: 0.504, Test Loss: 1.507, Test Accuracy: 0.710\n"
     ]
    },
    {
     "name": "stderr",
     "output_type": "stream",
     "text": [
      "Epoch 397: 100%|██████████| 4/4 [00:00<00:00, 114.23it/s, Loss: 1.254, Accuracy: 0.819]\n",
      "Epoch 397: 100%|██████████| 1/1 [00:00<00:00, 195.82it/s, Loss: 1.514, Accuracy: 0.710]\n"
     ]
    },
    {
     "name": "stdout",
     "output_type": "stream",
     "text": [
      "Epoch 397: Train Loss: 1.609, Train Accuracy: 0.489, Test Loss: 1.514, Test Accuracy: 0.710\n"
     ]
    },
    {
     "name": "stderr",
     "output_type": "stream",
     "text": [
      "Epoch 398: 100%|██████████| 4/4 [00:00<00:00, 117.78it/s, Loss: 1.738, Accuracy: 0.593]\n",
      "Epoch 398: 100%|██████████| 1/1 [00:00<00:00, 200.03it/s, Loss: 1.514, Accuracy: 0.710]\n"
     ]
    },
    {
     "name": "stdout",
     "output_type": "stream",
     "text": [
      "Epoch 398: Train Loss: 1.515, Train Accuracy: 0.531, Test Loss: 1.514, Test Accuracy: 0.710\n"
     ]
    },
    {
     "name": "stderr",
     "output_type": "stream",
     "text": [
      "Epoch 399: 100%|██████████| 4/4 [00:00<00:00, 103.19it/s, Loss: 1.246, Accuracy: 0.711]\n",
      "Epoch 399: 100%|██████████| 1/1 [00:00<00:00, 124.81it/s, Loss: 1.512, Accuracy: 0.710]\n"
     ]
    },
    {
     "name": "stdout",
     "output_type": "stream",
     "text": [
      "Epoch 399: Train Loss: 1.483, Train Accuracy: 0.544, Test Loss: 1.512, Test Accuracy: 0.710\n"
     ]
    },
    {
     "name": "stderr",
     "output_type": "stream",
     "text": [
      "Epoch 400: 100%|██████████| 4/4 [00:00<00:00, 117.53it/s, Loss: 0.856, Accuracy: 0.696]\n",
      "Epoch 400: 100%|██████████| 1/1 [00:00<00:00, 166.49it/s, Loss: 1.519, Accuracy: 0.710]\n"
     ]
    },
    {
     "name": "stdout",
     "output_type": "stream",
     "text": [
      "Epoch 400: Train Loss: 1.455, Train Accuracy: 0.552, Test Loss: 1.519, Test Accuracy: 0.710\n"
     ]
    },
    {
     "name": "stderr",
     "output_type": "stream",
     "text": [
      "Epoch 401: 100%|██████████| 4/4 [00:00<00:00, 122.17it/s, Loss: 1.775, Accuracy: 0.542]\n",
      "Epoch 401: 100%|██████████| 1/1 [00:00<00:00, 201.03it/s, Loss: 1.516, Accuracy: 0.710]\n"
     ]
    },
    {
     "name": "stdout",
     "output_type": "stream",
     "text": [
      "Epoch 401: Train Loss: 1.558, Train Accuracy: 0.537, Test Loss: 1.516, Test Accuracy: 0.710\n"
     ]
    },
    {
     "name": "stderr",
     "output_type": "stream",
     "text": [
      "Epoch 402: 100%|██████████| 4/4 [00:00<00:00, 121.16it/s, Loss: 2.038, Accuracy: 0.294]\n",
      "Epoch 402: 100%|██████████| 1/1 [00:00<00:00, 200.51it/s, Loss: 1.508, Accuracy: 0.710]\n"
     ]
    },
    {
     "name": "stdout",
     "output_type": "stream",
     "text": [
      "Epoch 402: Train Loss: 1.561, Train Accuracy: 0.518, Test Loss: 1.508, Test Accuracy: 0.710\n"
     ]
    },
    {
     "name": "stderr",
     "output_type": "stream",
     "text": [
      "Epoch 403: 100%|██████████| 4/4 [00:00<00:00, 130.19it/s, Loss: 1.032, Accuracy: 0.588]\n",
      "Epoch 403: 100%|██████████| 1/1 [00:00<00:00, 229.36it/s, Loss: 1.507, Accuracy: 0.710]\n"
     ]
    },
    {
     "name": "stdout",
     "output_type": "stream",
     "text": [
      "Epoch 403: Train Loss: 1.529, Train Accuracy: 0.532, Test Loss: 1.507, Test Accuracy: 0.710\n"
     ]
    },
    {
     "name": "stderr",
     "output_type": "stream",
     "text": [
      "Epoch 404: 100%|██████████| 4/4 [00:00<00:00, 114.31it/s, Loss: 1.634, Accuracy: 0.414]\n",
      "Epoch 404: 100%|██████████| 1/1 [00:00<00:00, 197.62it/s, Loss: 1.500, Accuracy: 0.710]\n"
     ]
    },
    {
     "name": "stdout",
     "output_type": "stream",
     "text": [
      "Epoch 404: Train Loss: 1.451, Train Accuracy: 0.558, Test Loss: 1.500, Test Accuracy: 0.710\n"
     ]
    },
    {
     "name": "stderr",
     "output_type": "stream",
     "text": [
      "Epoch 405: 100%|██████████| 4/4 [00:00<00:00, 102.38it/s, Loss: 1.289, Accuracy: 0.693]\n",
      "Epoch 405: 100%|██████████| 1/1 [00:00<00:00, 199.94it/s, Loss: 1.503, Accuracy: 0.710]\n"
     ]
    },
    {
     "name": "stdout",
     "output_type": "stream",
     "text": [
      "Epoch 405: Train Loss: 1.515, Train Accuracy: 0.547, Test Loss: 1.503, Test Accuracy: 0.710\n"
     ]
    },
    {
     "name": "stderr",
     "output_type": "stream",
     "text": [
      "Epoch 406: 100%|██████████| 4/4 [00:00<00:00, 111.79it/s, Loss: 1.844, Accuracy: 0.418]\n",
      "Epoch 406: 100%|██████████| 1/1 [00:00<00:00, 199.32it/s, Loss: 1.496, Accuracy: 0.710]\n"
     ]
    },
    {
     "name": "stdout",
     "output_type": "stream",
     "text": [
      "Epoch 406: Train Loss: 1.450, Train Accuracy: 0.560, Test Loss: 1.496, Test Accuracy: 0.710\n"
     ]
    },
    {
     "name": "stderr",
     "output_type": "stream",
     "text": [
      "Epoch 407: 100%|██████████| 4/4 [00:00<00:00, 114.48it/s, Loss: 1.834, Accuracy: 0.428]\n",
      "Epoch 407: 100%|██████████| 1/1 [00:00<00:00, 250.05it/s, Loss: 1.492, Accuracy: 0.710]\n"
     ]
    },
    {
     "name": "stdout",
     "output_type": "stream",
     "text": [
      "Epoch 407: Train Loss: 1.459, Train Accuracy: 0.547, Test Loss: 1.492, Test Accuracy: 0.710\n"
     ]
    },
    {
     "name": "stderr",
     "output_type": "stream",
     "text": [
      "Epoch 408: 100%|██████████| 4/4 [00:00<00:00, 130.06it/s, Loss: 2.190, Accuracy: 0.261]\n",
      "Epoch 408: 100%|██████████| 1/1 [00:00<00:00, 199.28it/s, Loss: 1.490, Accuracy: 0.710]\n"
     ]
    },
    {
     "name": "stdout",
     "output_type": "stream",
     "text": [
      "Epoch 408: Train Loss: 1.501, Train Accuracy: 0.541, Test Loss: 1.490, Test Accuracy: 0.710\n"
     ]
    },
    {
     "name": "stderr",
     "output_type": "stream",
     "text": [
      "Epoch 409: 100%|██████████| 4/4 [00:00<00:00, 124.21it/s, Loss: 0.813, Accuracy: 0.780]\n",
      "Epoch 409: 100%|██████████| 1/1 [00:00<00:00, 200.05it/s, Loss: 1.492, Accuracy: 0.710]\n"
     ]
    },
    {
     "name": "stdout",
     "output_type": "stream",
     "text": [
      "Epoch 409: Train Loss: 1.473, Train Accuracy: 0.528, Test Loss: 1.492, Test Accuracy: 0.710\n"
     ]
    },
    {
     "name": "stderr",
     "output_type": "stream",
     "text": [
      "Epoch 410: 100%|██████████| 4/4 [00:00<00:00, 118.62it/s, Loss: 1.445, Accuracy: 0.479]\n",
      "Epoch 410: 100%|██████████| 1/1 [00:00<00:00, 222.21it/s, Loss: 1.484, Accuracy: 0.710]\n"
     ]
    },
    {
     "name": "stdout",
     "output_type": "stream",
     "text": [
      "Epoch 410: Train Loss: 1.489, Train Accuracy: 0.553, Test Loss: 1.484, Test Accuracy: 0.710\n"
     ]
    },
    {
     "name": "stderr",
     "output_type": "stream",
     "text": [
      "Epoch 411: 100%|██████████| 4/4 [00:00<00:00, 129.83it/s, Loss: 1.573, Accuracy: 0.742]\n",
      "Epoch 411: 100%|██████████| 1/1 [00:00<00:00, 125.01it/s, Loss: 1.486, Accuracy: 0.710]\n"
     ]
    },
    {
     "name": "stdout",
     "output_type": "stream",
     "text": [
      "Epoch 411: Train Loss: 1.417, Train Accuracy: 0.548, Test Loss: 1.486, Test Accuracy: 0.710\n"
     ]
    },
    {
     "name": "stderr",
     "output_type": "stream",
     "text": [
      "Epoch 412: 100%|██████████| 4/4 [00:00<00:00, 103.73it/s, Loss: 1.811, Accuracy: 0.456]\n",
      "Epoch 412: 100%|██████████| 1/1 [00:00<00:00, 249.79it/s, Loss: 1.482, Accuracy: 0.730]\n"
     ]
    },
    {
     "name": "stdout",
     "output_type": "stream",
     "text": [
      "Epoch 412: Train Loss: 1.517, Train Accuracy: 0.527, Test Loss: 1.482, Test Accuracy: 0.730\n"
     ]
    },
    {
     "name": "stderr",
     "output_type": "stream",
     "text": [
      "Epoch 413: 100%|██████████| 4/4 [00:00<00:00, 127.72it/s, Loss: 1.316, Accuracy: 0.595]\n",
      "Epoch 413: 100%|██████████| 1/1 [00:00<00:00, 197.44it/s, Loss: 1.477, Accuracy: 0.730]\n"
     ]
    },
    {
     "name": "stdout",
     "output_type": "stream",
     "text": [
      "Epoch 413: Train Loss: 1.502, Train Accuracy: 0.559, Test Loss: 1.477, Test Accuracy: 0.730\n"
     ]
    },
    {
     "name": "stderr",
     "output_type": "stream",
     "text": [
      "Epoch 414: 100%|██████████| 4/4 [00:00<00:00, 118.56it/s, Loss: 1.982, Accuracy: 0.343]\n",
      "Epoch 414: 100%|██████████| 1/1 [00:00<00:00, 198.18it/s, Loss: 1.472, Accuracy: 0.730]\n"
     ]
    },
    {
     "name": "stdout",
     "output_type": "stream",
     "text": [
      "Epoch 414: Train Loss: 1.462, Train Accuracy: 0.532, Test Loss: 1.472, Test Accuracy: 0.730\n"
     ]
    },
    {
     "name": "stderr",
     "output_type": "stream",
     "text": [
      "Epoch 415: 100%|██████████| 4/4 [00:00<00:00, 122.53it/s, Loss: 2.021, Accuracy: 0.346]\n",
      "Epoch 415: 100%|██████████| 1/1 [00:00<00:00, 200.05it/s, Loss: 1.476, Accuracy: 0.730]\n"
     ]
    },
    {
     "name": "stdout",
     "output_type": "stream",
     "text": [
      "Epoch 415: Train Loss: 1.529, Train Accuracy: 0.537, Test Loss: 1.476, Test Accuracy: 0.730\n"
     ]
    },
    {
     "name": "stderr",
     "output_type": "stream",
     "text": [
      "Epoch 416: 100%|██████████| 4/4 [00:00<00:00, 131.04it/s, Loss: 1.325, Accuracy: 0.616]\n",
      "Epoch 416: 100%|██████████| 1/1 [00:00<00:00, 105.01it/s, Loss: 1.476, Accuracy: 0.730]\n"
     ]
    },
    {
     "name": "stdout",
     "output_type": "stream",
     "text": [
      "Epoch 416: Train Loss: 1.465, Train Accuracy: 0.560, Test Loss: 1.476, Test Accuracy: 0.730\n"
     ]
    },
    {
     "name": "stderr",
     "output_type": "stream",
     "text": [
      "Epoch 417: 100%|██████████| 4/4 [00:00<00:00, 94.03it/s, Loss: 1.732, Accuracy: 0.333]\n",
      "Epoch 417: 100%|██████████| 1/1 [00:00<00:00, 166.71it/s, Loss: 1.474, Accuracy: 0.730]\n"
     ]
    },
    {
     "name": "stdout",
     "output_type": "stream",
     "text": [
      "Epoch 417: Train Loss: 1.482, Train Accuracy: 0.548, Test Loss: 1.474, Test Accuracy: 0.730\n"
     ]
    },
    {
     "name": "stderr",
     "output_type": "stream",
     "text": [
      "Epoch 418: 100%|██████████| 4/4 [00:00<00:00, 117.43it/s, Loss: 0.852, Accuracy: 0.778]\n",
      "Epoch 418: 100%|██████████| 1/1 [00:00<00:00, 281.40it/s, Loss: 1.472, Accuracy: 0.710]\n"
     ]
    },
    {
     "name": "stdout",
     "output_type": "stream",
     "text": [
      "Epoch 418: Train Loss: 1.574, Train Accuracy: 0.496, Test Loss: 1.472, Test Accuracy: 0.710\n"
     ]
    },
    {
     "name": "stderr",
     "output_type": "stream",
     "text": [
      "Epoch 419: 100%|██████████| 4/4 [00:00<00:00, 128.85it/s, Loss: 1.394, Accuracy: 0.518]\n",
      "Epoch 419: 100%|██████████| 1/1 [00:00<00:00, 186.26it/s, Loss: 1.476, Accuracy: 0.710]\n"
     ]
    },
    {
     "name": "stdout",
     "output_type": "stream",
     "text": [
      "Epoch 419: Train Loss: 1.559, Train Accuracy: 0.497, Test Loss: 1.476, Test Accuracy: 0.710\n"
     ]
    },
    {
     "name": "stderr",
     "output_type": "stream",
     "text": [
      "Epoch 420: 100%|██████████| 4/4 [00:00<00:00, 142.70it/s, Loss: 1.982, Accuracy: 0.333]\n",
      "Epoch 420: 100%|██████████| 1/1 [00:00<00:00, 204.60it/s, Loss: 1.483, Accuracy: 0.710]\n"
     ]
    },
    {
     "name": "stdout",
     "output_type": "stream",
     "text": [
      "Epoch 420: Train Loss: 1.618, Train Accuracy: 0.483, Test Loss: 1.483, Test Accuracy: 0.710\n"
     ]
    },
    {
     "name": "stderr",
     "output_type": "stream",
     "text": [
      "Epoch 421: 100%|██████████| 4/4 [00:00<00:00, 122.53it/s, Loss: 1.437, Accuracy: 0.609]\n",
      "Epoch 421: 100%|██████████| 1/1 [00:00<00:00, 202.14it/s, Loss: 1.495, Accuracy: 0.710]\n"
     ]
    },
    {
     "name": "stdout",
     "output_type": "stream",
     "text": [
      "Epoch 421: Train Loss: 1.499, Train Accuracy: 0.538, Test Loss: 1.495, Test Accuracy: 0.710\n"
     ]
    },
    {
     "name": "stderr",
     "output_type": "stream",
     "text": [
      "Epoch 422: 100%|██████████| 4/4 [00:00<00:00, 105.76it/s, Loss: 2.034, Accuracy: 0.314]\n",
      "Epoch 422: 100%|██████████| 1/1 [00:00<00:00, 124.59it/s, Loss: 1.497, Accuracy: 0.710]\n"
     ]
    },
    {
     "name": "stdout",
     "output_type": "stream",
     "text": [
      "Epoch 422: Train Loss: 1.392, Train Accuracy: 0.571, Test Loss: 1.497, Test Accuracy: 0.710\n"
     ]
    },
    {
     "name": "stderr",
     "output_type": "stream",
     "text": [
      "Epoch 423: 100%|██████████| 4/4 [00:00<00:00, 109.50it/s, Loss: 0.573, Accuracy: 0.850]\n",
      "Epoch 423: 100%|██████████| 1/1 [00:00<00:00, 205.75it/s, Loss: 1.497, Accuracy: 0.710]\n"
     ]
    },
    {
     "name": "stdout",
     "output_type": "stream",
     "text": [
      "Epoch 423: Train Loss: 1.467, Train Accuracy: 0.548, Test Loss: 1.497, Test Accuracy: 0.710\n"
     ]
    },
    {
     "name": "stderr",
     "output_type": "stream",
     "text": [
      "Epoch 424: 100%|██████████| 4/4 [00:00<00:00, 122.52it/s, Loss: 1.149, Accuracy: 0.622]\n",
      "Epoch 424: 100%|██████████| 1/1 [00:00<00:00, 248.71it/s, Loss: 1.497, Accuracy: 0.710]"
     ]
    },
    {
     "name": "stdout",
     "output_type": "stream",
     "text": [
      "Epoch 424: Train Loss: 1.443, Train Accuracy: 0.546, Test Loss: 1.497, Test Accuracy: 0.710\n"
     ]
    },
    {
     "name": "stderr",
     "output_type": "stream",
     "text": [
      "\n",
      "Epoch 425: 100%|██████████| 4/4 [00:00<00:00, 100.15it/s, Loss: 1.450, Accuracy: 0.685]\n",
      "Epoch 425: 100%|██████████| 1/1 [00:00<00:00, 200.67it/s, Loss: 1.502, Accuracy: 0.710]\n"
     ]
    },
    {
     "name": "stdout",
     "output_type": "stream",
     "text": [
      "Epoch 425: Train Loss: 1.489, Train Accuracy: 0.520, Test Loss: 1.502, Test Accuracy: 0.710\n"
     ]
    },
    {
     "name": "stderr",
     "output_type": "stream",
     "text": [
      "Epoch 426: 100%|██████████| 4/4 [00:00<00:00, 120.82it/s, Loss: 1.288, Accuracy: 0.690]\n",
      "Epoch 426: 100%|██████████| 1/1 [00:00<00:00, 159.36it/s, Loss: 1.505, Accuracy: 0.710]\n"
     ]
    },
    {
     "name": "stdout",
     "output_type": "stream",
     "text": [
      "Epoch 426: Train Loss: 1.471, Train Accuracy: 0.544, Test Loss: 1.505, Test Accuracy: 0.710\n"
     ]
    },
    {
     "name": "stderr",
     "output_type": "stream",
     "text": [
      "Epoch 427: 100%|██████████| 4/4 [00:00<00:00, 114.38it/s, Loss: 1.339, Accuracy: 0.500]\n",
      "Epoch 427: 100%|██████████| 1/1 [00:00<00:00, 165.66it/s, Loss: 1.506, Accuracy: 0.710]\n"
     ]
    },
    {
     "name": "stdout",
     "output_type": "stream",
     "text": [
      "Epoch 427: Train Loss: 1.477, Train Accuracy: 0.542, Test Loss: 1.506, Test Accuracy: 0.710\n"
     ]
    },
    {
     "name": "stderr",
     "output_type": "stream",
     "text": [
      "Epoch 428: 100%|██████████| 4/4 [00:00<00:00, 93.03it/s, Loss: 2.006, Accuracy: 0.327]\n",
      "Epoch 428: 100%|██████████| 1/1 [00:00<00:00, 197.08it/s, Loss: 1.505, Accuracy: 0.710]\n"
     ]
    },
    {
     "name": "stdout",
     "output_type": "stream",
     "text": [
      "Epoch 428: Train Loss: 1.515, Train Accuracy: 0.524, Test Loss: 1.505, Test Accuracy: 0.710\n"
     ]
    },
    {
     "name": "stderr",
     "output_type": "stream",
     "text": [
      "Epoch 429: 100%|██████████| 4/4 [00:00<00:00, 102.55it/s, Loss: 1.188, Accuracy: 0.739]\n",
      "Epoch 429: 100%|██████████| 1/1 [00:00<00:00, 181.24it/s, Loss: 1.508, Accuracy: 0.710]\n"
     ]
    },
    {
     "name": "stdout",
     "output_type": "stream",
     "text": [
      "Epoch 429: Train Loss: 1.474, Train Accuracy: 0.547, Test Loss: 1.508, Test Accuracy: 0.710\n"
     ]
    },
    {
     "name": "stderr",
     "output_type": "stream",
     "text": [
      "Epoch 430: 100%|██████████| 4/4 [00:00<00:00, 104.89it/s, Loss: 1.743, Accuracy: 0.364]\n",
      "Epoch 430: 100%|██████████| 1/1 [00:00<00:00, 215.37it/s, Loss: 1.506, Accuracy: 0.710]\n"
     ]
    },
    {
     "name": "stdout",
     "output_type": "stream",
     "text": [
      "Epoch 430: Train Loss: 1.560, Train Accuracy: 0.496, Test Loss: 1.506, Test Accuracy: 0.710\n"
     ]
    },
    {
     "name": "stderr",
     "output_type": "stream",
     "text": [
      "Epoch 431: 100%|██████████| 4/4 [00:00<00:00, 108.09it/s, Loss: 1.053, Accuracy: 0.704]\n",
      "Epoch 431: 100%|██████████| 1/1 [00:00<00:00, 200.00it/s, Loss: 1.501, Accuracy: 0.710]\n"
     ]
    },
    {
     "name": "stdout",
     "output_type": "stream",
     "text": [
      "Epoch 431: Train Loss: 1.534, Train Accuracy: 0.510, Test Loss: 1.501, Test Accuracy: 0.710\n"
     ]
    },
    {
     "name": "stderr",
     "output_type": "stream",
     "text": [
      "Epoch 432: 100%|██████████| 4/4 [00:00<00:00, 110.82it/s, Loss: 1.510, Accuracy: 0.710]\n",
      "Epoch 432: 100%|██████████| 1/1 [00:00<00:00, 91.49it/s, Loss: 1.507, Accuracy: 0.710]\n"
     ]
    },
    {
     "name": "stdout",
     "output_type": "stream",
     "text": [
      "Epoch 432: Train Loss: 1.562, Train Accuracy: 0.535, Test Loss: 1.507, Test Accuracy: 0.710\n"
     ]
    },
    {
     "name": "stderr",
     "output_type": "stream",
     "text": [
      "Epoch 433: 100%|██████████| 4/4 [00:00<00:00, 91.15it/s, Loss: 1.696, Accuracy: 0.644]\n",
      "Epoch 433: 100%|██████████| 1/1 [00:00<00:00, 199.73it/s, Loss: 1.497, Accuracy: 0.710]\n"
     ]
    },
    {
     "name": "stdout",
     "output_type": "stream",
     "text": [
      "Epoch 433: Train Loss: 1.481, Train Accuracy: 0.564, Test Loss: 1.497, Test Accuracy: 0.710\n"
     ]
    },
    {
     "name": "stderr",
     "output_type": "stream",
     "text": [
      "Epoch 434: 100%|██████████| 4/4 [00:00<00:00, 100.88it/s, Loss: 0.845, Accuracy: 0.806]\n",
      "Epoch 434: 100%|██████████| 1/1 [00:00<00:00, 210.52it/s, Loss: 1.486, Accuracy: 0.710]\n"
     ]
    },
    {
     "name": "stdout",
     "output_type": "stream",
     "text": [
      "Epoch 434: Train Loss: 1.563, Train Accuracy: 0.491, Test Loss: 1.486, Test Accuracy: 0.710\n"
     ]
    },
    {
     "name": "stderr",
     "output_type": "stream",
     "text": [
      "Epoch 435: 100%|██████████| 4/4 [00:00<00:00, 117.57it/s, Loss: 0.934, Accuracy: 0.733]\n",
      "Epoch 435: 100%|██████████| 1/1 [00:00<00:00, 249.08it/s, Loss: 1.472, Accuracy: 0.710]\n"
     ]
    },
    {
     "name": "stdout",
     "output_type": "stream",
     "text": [
      "Epoch 435: Train Loss: 1.429, Train Accuracy: 0.569, Test Loss: 1.472, Test Accuracy: 0.710\n"
     ]
    },
    {
     "name": "stderr",
     "output_type": "stream",
     "text": [
      "Epoch 436: 100%|██████████| 4/4 [00:00<00:00, 134.93it/s, Loss: 1.220, Accuracy: 0.694]\n",
      "Epoch 436: 100%|██████████| 1/1 [00:00<00:00, 199.79it/s, Loss: 1.468, Accuracy: 0.710]\n"
     ]
    },
    {
     "name": "stdout",
     "output_type": "stream",
     "text": [
      "Epoch 436: Train Loss: 1.566, Train Accuracy: 0.498, Test Loss: 1.468, Test Accuracy: 0.710\n"
     ]
    },
    {
     "name": "stderr",
     "output_type": "stream",
     "text": [
      "Epoch 437: 100%|██████████| 4/4 [00:00<00:00, 120.24it/s, Loss: 1.631, Accuracy: 0.363]\n",
      "Epoch 437: 100%|██████████| 1/1 [00:00<00:00, 167.36it/s, Loss: 1.462, Accuracy: 0.710]\n"
     ]
    },
    {
     "name": "stdout",
     "output_type": "stream",
     "text": [
      "Epoch 437: Train Loss: 1.442, Train Accuracy: 0.552, Test Loss: 1.462, Test Accuracy: 0.710\n"
     ]
    },
    {
     "name": "stderr",
     "output_type": "stream",
     "text": [
      "Epoch 438: 100%|██████████| 4/4 [00:00<00:00, 110.22it/s, Loss: 1.609, Accuracy: 0.477]\n",
      "Epoch 438: 100%|██████████| 1/1 [00:00<00:00, 167.71it/s, Loss: 1.458, Accuracy: 0.710]\n"
     ]
    },
    {
     "name": "stdout",
     "output_type": "stream",
     "text": [
      "Epoch 438: Train Loss: 1.481, Train Accuracy: 0.533, Test Loss: 1.458, Test Accuracy: 0.710\n"
     ]
    },
    {
     "name": "stderr",
     "output_type": "stream",
     "text": [
      "Epoch 439: 100%|██████████| 4/4 [00:00<00:00, 120.29it/s, Loss: 1.135, Accuracy: 0.746]\n",
      "Epoch 439: 100%|██████████| 1/1 [00:00<00:00, 165.57it/s, Loss: 1.462, Accuracy: 0.710]\n"
     ]
    },
    {
     "name": "stdout",
     "output_type": "stream",
     "text": [
      "Epoch 439: Train Loss: 1.502, Train Accuracy: 0.511, Test Loss: 1.462, Test Accuracy: 0.710\n"
     ]
    },
    {
     "name": "stderr",
     "output_type": "stream",
     "text": [
      "Epoch 440: 100%|██████████| 4/4 [00:00<00:00, 126.85it/s, Loss: 0.698, Accuracy: 0.722]\n",
      "Epoch 440: 100%|██████████| 1/1 [00:00<00:00, 199.94it/s, Loss: 1.462, Accuracy: 0.710]\n"
     ]
    },
    {
     "name": "stdout",
     "output_type": "stream",
     "text": [
      "Epoch 440: Train Loss: 1.461, Train Accuracy: 0.533, Test Loss: 1.462, Test Accuracy: 0.710\n"
     ]
    },
    {
     "name": "stderr",
     "output_type": "stream",
     "text": [
      "Epoch 441: 100%|██████████| 4/4 [00:00<00:00, 114.13it/s, Loss: 1.064, Accuracy: 0.854]\n",
      "Epoch 441: 100%|██████████| 1/1 [00:00<00:00, 199.66it/s, Loss: 1.467, Accuracy: 0.710]\n"
     ]
    },
    {
     "name": "stdout",
     "output_type": "stream",
     "text": [
      "Epoch 441: Train Loss: 1.482, Train Accuracy: 0.556, Test Loss: 1.467, Test Accuracy: 0.710\n"
     ]
    },
    {
     "name": "stderr",
     "output_type": "stream",
     "text": [
      "Epoch 442: 100%|██████████| 4/4 [00:00<00:00, 143.95it/s, Loss: 1.426, Accuracy: 0.569]\n",
      "Epoch 442: 100%|██████████| 1/1 [00:00<00:00, 195.79it/s, Loss: 1.466, Accuracy: 0.710]\n"
     ]
    },
    {
     "name": "stdout",
     "output_type": "stream",
     "text": [
      "Epoch 442: Train Loss: 1.536, Train Accuracy: 0.516, Test Loss: 1.466, Test Accuracy: 0.710\n"
     ]
    },
    {
     "name": "stderr",
     "output_type": "stream",
     "text": [
      "Epoch 443: 100%|██████████| 4/4 [00:00<00:00, 126.18it/s, Loss: 1.663, Accuracy: 0.607]\n",
      "Epoch 443: 100%|██████████| 1/1 [00:00<00:00, 201.13it/s, Loss: 1.457, Accuracy: 0.730]\n"
     ]
    },
    {
     "name": "stdout",
     "output_type": "stream",
     "text": [
      "Epoch 443: Train Loss: 1.514, Train Accuracy: 0.544, Test Loss: 1.457, Test Accuracy: 0.730\n"
     ]
    },
    {
     "name": "stderr",
     "output_type": "stream",
     "text": [
      "Epoch 444: 100%|██████████| 4/4 [00:00<00:00, 103.13it/s, Loss: 1.790, Accuracy: 0.591]\n",
      "Epoch 444: 100%|██████████| 1/1 [00:00<00:00, 167.18it/s, Loss: 1.454, Accuracy: 0.730]\n"
     ]
    },
    {
     "name": "stdout",
     "output_type": "stream",
     "text": [
      "Epoch 444: Train Loss: 1.486, Train Accuracy: 0.542, Test Loss: 1.454, Test Accuracy: 0.730\n"
     ]
    },
    {
     "name": "stderr",
     "output_type": "stream",
     "text": [
      "Epoch 445: 100%|██████████| 4/4 [00:00<00:00, 109.36it/s, Loss: 1.357, Accuracy: 0.584]\n",
      "Epoch 445: 100%|██████████| 1/1 [00:00<00:00, 168.58it/s, Loss: 1.445, Accuracy: 0.730]\n"
     ]
    },
    {
     "name": "stdout",
     "output_type": "stream",
     "text": [
      "Epoch 445: Train Loss: 1.424, Train Accuracy: 0.568, Test Loss: 1.445, Test Accuracy: 0.730\n"
     ]
    },
    {
     "name": "stderr",
     "output_type": "stream",
     "text": [
      "Epoch 446: 100%|██████████| 4/4 [00:00<00:00, 128.84it/s, Loss: 1.933, Accuracy: 0.333]\n",
      "Epoch 446: 100%|██████████| 1/1 [00:00<00:00, 186.37it/s, Loss: 1.440, Accuracy: 0.730]\n"
     ]
    },
    {
     "name": "stdout",
     "output_type": "stream",
     "text": [
      "Epoch 446: Train Loss: 1.544, Train Accuracy: 0.511, Test Loss: 1.440, Test Accuracy: 0.730\n"
     ]
    },
    {
     "name": "stderr",
     "output_type": "stream",
     "text": [
      "Epoch 447: 100%|██████████| 4/4 [00:00<00:00, 118.55it/s, Loss: 1.804, Accuracy: 0.330]\n",
      "Epoch 447: 100%|██████████| 1/1 [00:00<00:00, 245.63it/s, Loss: 1.443, Accuracy: 0.730]\n"
     ]
    },
    {
     "name": "stdout",
     "output_type": "stream",
     "text": [
      "Epoch 447: Train Loss: 1.528, Train Accuracy: 0.515, Test Loss: 1.443, Test Accuracy: 0.730\n"
     ]
    },
    {
     "name": "stderr",
     "output_type": "stream",
     "text": [
      "Epoch 448: 100%|██████████| 4/4 [00:00<00:00, 124.77it/s, Loss: 1.351, Accuracy: 0.450]\n",
      "Epoch 448: 100%|██████████| 1/1 [00:00<00:00, 200.36it/s, Loss: 1.446, Accuracy: 0.730]\n"
     ]
    },
    {
     "name": "stdout",
     "output_type": "stream",
     "text": [
      "Epoch 448: Train Loss: 1.508, Train Accuracy: 0.530, Test Loss: 1.446, Test Accuracy: 0.730\n"
     ]
    },
    {
     "name": "stderr",
     "output_type": "stream",
     "text": [
      "Epoch 449: 100%|██████████| 4/4 [00:00<00:00, 122.02it/s, Loss: 2.259, Accuracy: 0.148]\n",
      "Epoch 449: 100%|██████████| 1/1 [00:00<00:00, 196.85it/s, Loss: 1.448, Accuracy: 0.730]\n"
     ]
    },
    {
     "name": "stdout",
     "output_type": "stream",
     "text": [
      "Epoch 449: Train Loss: 1.482, Train Accuracy: 0.542, Test Loss: 1.448, Test Accuracy: 0.730\n"
     ]
    },
    {
     "name": "stderr",
     "output_type": "stream",
     "text": [
      "Epoch 450: 100%|██████████| 4/4 [00:00<00:00, 119.84it/s, Loss: 1.704, Accuracy: 0.513]\n",
      "Epoch 450: 100%|██████████| 1/1 [00:00<00:00, 111.10it/s, Loss: 1.447, Accuracy: 0.730]\n"
     ]
    },
    {
     "name": "stdout",
     "output_type": "stream",
     "text": [
      "Epoch 450: Train Loss: 1.484, Train Accuracy: 0.546, Test Loss: 1.447, Test Accuracy: 0.730\n"
     ]
    },
    {
     "name": "stderr",
     "output_type": "stream",
     "text": [
      "Epoch 451: 100%|██████████| 4/4 [00:00<00:00, 103.17it/s, Loss: 1.929, Accuracy: 0.227]\n",
      "Epoch 451: 100%|██████████| 1/1 [00:00<00:00, 198.78it/s, Loss: 1.449, Accuracy: 0.710]\n"
     ]
    },
    {
     "name": "stdout",
     "output_type": "stream",
     "text": [
      "Epoch 451: Train Loss: 1.519, Train Accuracy: 0.511, Test Loss: 1.449, Test Accuracy: 0.710\n"
     ]
    },
    {
     "name": "stderr",
     "output_type": "stream",
     "text": [
      "Epoch 452: 100%|██████████| 4/4 [00:00<00:00, 113.42it/s, Loss: 2.301, Accuracy: 0.122]\n",
      "Epoch 452: 100%|██████████| 1/1 [00:00<00:00, 197.99it/s, Loss: 1.449, Accuracy: 0.710]\n"
     ]
    },
    {
     "name": "stdout",
     "output_type": "stream",
     "text": [
      "Epoch 452: Train Loss: 1.534, Train Accuracy: 0.524, Test Loss: 1.449, Test Accuracy: 0.710\n"
     ]
    },
    {
     "name": "stderr",
     "output_type": "stream",
     "text": [
      "Epoch 453: 100%|██████████| 4/4 [00:00<00:00, 124.93it/s, Loss: 0.873, Accuracy: 0.804]\n",
      "Epoch 453: 100%|██████████| 1/1 [00:00<00:00, 178.40it/s, Loss: 1.446, Accuracy: 0.710]\n"
     ]
    },
    {
     "name": "stdout",
     "output_type": "stream",
     "text": [
      "Epoch 453: Train Loss: 1.467, Train Accuracy: 0.553, Test Loss: 1.446, Test Accuracy: 0.710\n"
     ]
    },
    {
     "name": "stderr",
     "output_type": "stream",
     "text": [
      "Epoch 454: 100%|██████████| 4/4 [00:00<00:00, 108.83it/s, Loss: 0.902, Accuracy: 0.794]\n",
      "Epoch 454: 100%|██████████| 1/1 [00:00<00:00, 200.97it/s, Loss: 1.442, Accuracy: 0.710]\n"
     ]
    },
    {
     "name": "stdout",
     "output_type": "stream",
     "text": [
      "Epoch 454: Train Loss: 1.525, Train Accuracy: 0.517, Test Loss: 1.442, Test Accuracy: 0.710\n"
     ]
    },
    {
     "name": "stderr",
     "output_type": "stream",
     "text": [
      "Epoch 455: 100%|██████████| 4/4 [00:00<00:00, 117.51it/s, Loss: 1.714, Accuracy: 0.338]\n",
      "Epoch 455: 100%|██████████| 1/1 [00:00<00:00, 203.36it/s, Loss: 1.445, Accuracy: 0.710]\n"
     ]
    },
    {
     "name": "stdout",
     "output_type": "stream",
     "text": [
      "Epoch 455: Train Loss: 1.493, Train Accuracy: 0.517, Test Loss: 1.445, Test Accuracy: 0.710\n"
     ]
    },
    {
     "name": "stderr",
     "output_type": "stream",
     "text": [
      "Epoch 456: 100%|██████████| 4/4 [00:00<00:00, 91.33it/s, Loss: 1.433, Accuracy: 0.727]\n",
      "Epoch 456: 100%|██████████| 1/1 [00:00<00:00, 166.14it/s, Loss: 1.451, Accuracy: 0.710]\n"
     ]
    },
    {
     "name": "stdout",
     "output_type": "stream",
     "text": [
      "Epoch 456: Train Loss: 1.466, Train Accuracy: 0.546, Test Loss: 1.451, Test Accuracy: 0.710\n"
     ]
    },
    {
     "name": "stderr",
     "output_type": "stream",
     "text": [
      "Epoch 457: 100%|██████████| 4/4 [00:00<00:00, 122.31it/s, Loss: 0.915, Accuracy: 0.885]\n",
      "Epoch 457: 100%|██████████| 1/1 [00:00<00:00, 250.09it/s, Loss: 1.454, Accuracy: 0.710]\n"
     ]
    },
    {
     "name": "stdout",
     "output_type": "stream",
     "text": [
      "Epoch 457: Train Loss: 1.419, Train Accuracy: 0.551, Test Loss: 1.454, Test Accuracy: 0.710\n"
     ]
    },
    {
     "name": "stderr",
     "output_type": "stream",
     "text": [
      "Epoch 458: 100%|██████████| 4/4 [00:00<00:00, 108.48it/s, Loss: 1.282, Accuracy: 0.605]\n",
      "Epoch 458: 100%|██████████| 1/1 [00:00<00:00, 180.21it/s, Loss: 1.447, Accuracy: 0.710]\n"
     ]
    },
    {
     "name": "stdout",
     "output_type": "stream",
     "text": [
      "Epoch 458: Train Loss: 1.379, Train Accuracy: 0.582, Test Loss: 1.447, Test Accuracy: 0.710\n"
     ]
    },
    {
     "name": "stderr",
     "output_type": "stream",
     "text": [
      "Epoch 459: 100%|██████████| 4/4 [00:00<00:00, 120.81it/s, Loss: 1.213, Accuracy: 0.731]\n",
      "Epoch 459: 100%|██████████| 1/1 [00:00<00:00, 245.60it/s, Loss: 1.443, Accuracy: 0.710]\n"
     ]
    },
    {
     "name": "stdout",
     "output_type": "stream",
     "text": [
      "Epoch 459: Train Loss: 1.508, Train Accuracy: 0.534, Test Loss: 1.443, Test Accuracy: 0.710\n"
     ]
    },
    {
     "name": "stderr",
     "output_type": "stream",
     "text": [
      "Epoch 460: 100%|██████████| 4/4 [00:00<00:00, 122.24it/s, Loss: 2.098, Accuracy: 0.164]\n",
      "Epoch 460: 100%|██████████| 1/1 [00:00<00:00, 197.07it/s, Loss: 1.436, Accuracy: 0.710]\n"
     ]
    },
    {
     "name": "stdout",
     "output_type": "stream",
     "text": [
      "Epoch 460: Train Loss: 1.495, Train Accuracy: 0.518, Test Loss: 1.436, Test Accuracy: 0.710\n"
     ]
    },
    {
     "name": "stderr",
     "output_type": "stream",
     "text": [
      "Epoch 461: 100%|██████████| 4/4 [00:00<00:00, 92.77it/s, Loss: 1.188, Accuracy: 0.566]\n",
      "Epoch 461: 100%|██████████| 1/1 [00:00<00:00, 166.69it/s, Loss: 1.430, Accuracy: 0.710]\n"
     ]
    },
    {
     "name": "stdout",
     "output_type": "stream",
     "text": [
      "Epoch 461: Train Loss: 1.478, Train Accuracy: 0.534, Test Loss: 1.430, Test Accuracy: 0.710\n"
     ]
    },
    {
     "name": "stderr",
     "output_type": "stream",
     "text": [
      "Epoch 462: 100%|██████████| 4/4 [00:00<00:00, 113.77it/s, Loss: 1.361, Accuracy: 0.496]\n",
      "Epoch 462: 100%|██████████| 1/1 [00:00<00:00, 196.31it/s, Loss: 1.436, Accuracy: 0.710]\n"
     ]
    },
    {
     "name": "stdout",
     "output_type": "stream",
     "text": [
      "Epoch 462: Train Loss: 1.470, Train Accuracy: 0.523, Test Loss: 1.436, Test Accuracy: 0.710\n"
     ]
    },
    {
     "name": "stderr",
     "output_type": "stream",
     "text": [
      "Epoch 463: 100%|██████████| 4/4 [00:00<00:00, 106.63it/s, Loss: 1.569, Accuracy: 0.434]\n",
      "Epoch 463: 100%|██████████| 1/1 [00:00<00:00, 199.38it/s, Loss: 1.435, Accuracy: 0.710]\n"
     ]
    },
    {
     "name": "stdout",
     "output_type": "stream",
     "text": [
      "Epoch 463: Train Loss: 1.470, Train Accuracy: 0.543, Test Loss: 1.435, Test Accuracy: 0.710\n"
     ]
    },
    {
     "name": "stderr",
     "output_type": "stream",
     "text": [
      "Epoch 464: 100%|██████████| 4/4 [00:00<00:00, 107.69it/s, Loss: 1.092, Accuracy: 0.601]\n",
      "Epoch 464: 100%|██████████| 1/1 [00:00<00:00, 250.02it/s, Loss: 1.437, Accuracy: 0.710]\n"
     ]
    },
    {
     "name": "stdout",
     "output_type": "stream",
     "text": [
      "Epoch 464: Train Loss: 1.537, Train Accuracy: 0.518, Test Loss: 1.437, Test Accuracy: 0.710\n"
     ]
    },
    {
     "name": "stderr",
     "output_type": "stream",
     "text": [
      "Epoch 465: 100%|██████████| 4/4 [00:00<00:00, 118.86it/s, Loss: 1.027, Accuracy: 0.609]\n",
      "Epoch 465: 100%|██████████| 1/1 [00:00<00:00, 200.06it/s, Loss: 1.428, Accuracy: 0.710]\n"
     ]
    },
    {
     "name": "stdout",
     "output_type": "stream",
     "text": [
      "Epoch 465: Train Loss: 1.459, Train Accuracy: 0.565, Test Loss: 1.428, Test Accuracy: 0.710\n"
     ]
    },
    {
     "name": "stderr",
     "output_type": "stream",
     "text": [
      "Epoch 466: 100%|██████████| 4/4 [00:00<00:00, 121.09it/s, Loss: 1.564, Accuracy: 0.459]\n",
      "Epoch 466: 100%|██████████| 1/1 [00:00<00:00, 234.86it/s, Loss: 1.424, Accuracy: 0.710]\n"
     ]
    },
    {
     "name": "stdout",
     "output_type": "stream",
     "text": [
      "Epoch 466: Train Loss: 1.419, Train Accuracy: 0.553, Test Loss: 1.424, Test Accuracy: 0.710\n"
     ]
    },
    {
     "name": "stderr",
     "output_type": "stream",
     "text": [
      "Epoch 467: 100%|██████████| 4/4 [00:00<00:00, 85.91it/s, Loss: 1.782, Accuracy: 0.450]\n",
      "Epoch 467: 100%|██████████| 1/1 [00:00<00:00, 166.69it/s, Loss: 1.422, Accuracy: 0.710]\n"
     ]
    },
    {
     "name": "stdout",
     "output_type": "stream",
     "text": [
      "Epoch 467: Train Loss: 1.463, Train Accuracy: 0.555, Test Loss: 1.422, Test Accuracy: 0.710\n"
     ]
    },
    {
     "name": "stderr",
     "output_type": "stream",
     "text": [
      "Epoch 468: 100%|██████████| 4/4 [00:00<00:00, 111.22it/s, Loss: 1.402, Accuracy: 0.471]\n",
      "Epoch 468: 100%|██████████| 1/1 [00:00<00:00, 196.26it/s, Loss: 1.419, Accuracy: 0.710]\n"
     ]
    },
    {
     "name": "stdout",
     "output_type": "stream",
     "text": [
      "Epoch 468: Train Loss: 1.423, Train Accuracy: 0.546, Test Loss: 1.419, Test Accuracy: 0.710\n"
     ]
    },
    {
     "name": "stderr",
     "output_type": "stream",
     "text": [
      "Epoch 469: 100%|██████████| 4/4 [00:00<00:00, 118.90it/s, Loss: 1.455, Accuracy: 0.584]\n",
      "Epoch 469: 100%|██████████| 1/1 [00:00<00:00, 199.30it/s, Loss: 1.424, Accuracy: 0.730]\n"
     ]
    },
    {
     "name": "stdout",
     "output_type": "stream",
     "text": [
      "Epoch 469: Train Loss: 1.472, Train Accuracy: 0.536, Test Loss: 1.424, Test Accuracy: 0.730\n"
     ]
    },
    {
     "name": "stderr",
     "output_type": "stream",
     "text": [
      "Epoch 470: 100%|██████████| 4/4 [00:00<00:00, 117.59it/s, Loss: 1.204, Accuracy: 0.771]\n",
      "Epoch 470: 100%|██████████| 1/1 [00:00<00:00, 166.59it/s, Loss: 1.426, Accuracy: 0.730]\n"
     ]
    },
    {
     "name": "stdout",
     "output_type": "stream",
     "text": [
      "Epoch 470: Train Loss: 1.504, Train Accuracy: 0.526, Test Loss: 1.426, Test Accuracy: 0.730\n"
     ]
    },
    {
     "name": "stderr",
     "output_type": "stream",
     "text": [
      "Epoch 471: 100%|██████████| 4/4 [00:00<00:00, 117.56it/s, Loss: 1.047, Accuracy: 0.685]\n",
      "Epoch 471: 100%|██████████| 1/1 [00:00<00:00, 224.27it/s, Loss: 1.426, Accuracy: 0.730]\n"
     ]
    },
    {
     "name": "stdout",
     "output_type": "stream",
     "text": [
      "Epoch 471: Train Loss: 1.391, Train Accuracy: 0.561, Test Loss: 1.426, Test Accuracy: 0.730\n"
     ]
    },
    {
     "name": "stderr",
     "output_type": "stream",
     "text": [
      "Epoch 472: 100%|██████████| 4/4 [00:00<00:00, 122.64it/s, Loss: 1.274, Accuracy: 0.667]\n",
      "Epoch 472: 100%|██████████| 1/1 [00:00<00:00, 149.72it/s, Loss: 1.427, Accuracy: 0.730]\n"
     ]
    },
    {
     "name": "stdout",
     "output_type": "stream",
     "text": [
      "Epoch 472: Train Loss: 1.522, Train Accuracy: 0.512, Test Loss: 1.427, Test Accuracy: 0.730\n"
     ]
    },
    {
     "name": "stderr",
     "output_type": "stream",
     "text": [
      "Epoch 473: 100%|██████████| 4/4 [00:00<00:00, 102.15it/s, Loss: 1.799, Accuracy: 0.321]\n",
      "Epoch 473: 100%|██████████| 1/1 [00:00<00:00, 172.75it/s, Loss: 1.427, Accuracy: 0.710]\n"
     ]
    },
    {
     "name": "stdout",
     "output_type": "stream",
     "text": [
      "Epoch 473: Train Loss: 1.431, Train Accuracy: 0.538, Test Loss: 1.427, Test Accuracy: 0.710\n"
     ]
    },
    {
     "name": "stderr",
     "output_type": "stream",
     "text": [
      "Epoch 474: 100%|██████████| 4/4 [00:00<00:00, 118.45it/s, Loss: 0.689, Accuracy: 0.724]\n",
      "Epoch 474: 100%|██████████| 1/1 [00:00<00:00, 199.30it/s, Loss: 1.428, Accuracy: 0.710]\n"
     ]
    },
    {
     "name": "stdout",
     "output_type": "stream",
     "text": [
      "Epoch 474: Train Loss: 1.462, Train Accuracy: 0.550, Test Loss: 1.428, Test Accuracy: 0.710\n"
     ]
    },
    {
     "name": "stderr",
     "output_type": "stream",
     "text": [
      "Epoch 475: 100%|██████████| 4/4 [00:00<00:00, 124.47it/s, Loss: 1.395, Accuracy: 0.491]\n",
      "Epoch 475: 100%|██████████| 1/1 [00:00<00:00, 199.88it/s, Loss: 1.422, Accuracy: 0.730]\n"
     ]
    },
    {
     "name": "stdout",
     "output_type": "stream",
     "text": [
      "Epoch 475: Train Loss: 1.441, Train Accuracy: 0.560, Test Loss: 1.422, Test Accuracy: 0.730\n"
     ]
    },
    {
     "name": "stderr",
     "output_type": "stream",
     "text": [
      "Epoch 476: 100%|██████████| 4/4 [00:00<00:00, 111.93it/s, Loss: 1.939, Accuracy: 0.358]\n",
      "Epoch 476: 100%|██████████| 1/1 [00:00<00:00, 198.55it/s, Loss: 1.417, Accuracy: 0.730]\n"
     ]
    },
    {
     "name": "stdout",
     "output_type": "stream",
     "text": [
      "Epoch 476: Train Loss: 1.479, Train Accuracy: 0.537, Test Loss: 1.417, Test Accuracy: 0.730\n"
     ]
    },
    {
     "name": "stderr",
     "output_type": "stream",
     "text": [
      "Epoch 477: 100%|██████████| 4/4 [00:00<00:00, 117.42it/s, Loss: 1.046, Accuracy: 0.850]\n",
      "Epoch 477: 100%|██████████| 1/1 [00:00<00:00, 264.08it/s, Loss: 1.419, Accuracy: 0.730]\n"
     ]
    },
    {
     "name": "stdout",
     "output_type": "stream",
     "text": [
      "Epoch 477: Train Loss: 1.448, Train Accuracy: 0.555, Test Loss: 1.419, Test Accuracy: 0.730\n"
     ]
    },
    {
     "name": "stderr",
     "output_type": "stream",
     "text": [
      "Epoch 478: 100%|██████████| 4/4 [00:00<00:00, 103.57it/s, Loss: 1.604, Accuracy: 0.607]\n",
      "Epoch 478: 100%|██████████| 1/1 [00:00<00:00, 142.88it/s, Loss: 1.419, Accuracy: 0.730]\n"
     ]
    },
    {
     "name": "stdout",
     "output_type": "stream",
     "text": [
      "Epoch 478: Train Loss: 1.511, Train Accuracy: 0.516, Test Loss: 1.419, Test Accuracy: 0.730\n"
     ]
    },
    {
     "name": "stderr",
     "output_type": "stream",
     "text": [
      "Epoch 479: 100%|██████████| 4/4 [00:00<00:00, 100.75it/s, Loss: 1.948, Accuracy: 0.280]\n",
      "Epoch 479: 100%|██████████| 1/1 [00:00<00:00, 201.89it/s, Loss: 1.418, Accuracy: 0.730]\n"
     ]
    },
    {
     "name": "stdout",
     "output_type": "stream",
     "text": [
      "Epoch 479: Train Loss: 1.453, Train Accuracy: 0.544, Test Loss: 1.418, Test Accuracy: 0.730\n"
     ]
    },
    {
     "name": "stderr",
     "output_type": "stream",
     "text": [
      "Epoch 480: 100%|██████████| 4/4 [00:00<00:00, 119.18it/s, Loss: 1.518, Accuracy: 0.559]\n",
      "Epoch 480: 100%|██████████| 1/1 [00:00<00:00, 184.54it/s, Loss: 1.423, Accuracy: 0.730]\n"
     ]
    },
    {
     "name": "stdout",
     "output_type": "stream",
     "text": [
      "Epoch 480: Train Loss: 1.490, Train Accuracy: 0.509, Test Loss: 1.423, Test Accuracy: 0.730\n"
     ]
    },
    {
     "name": "stderr",
     "output_type": "stream",
     "text": [
      "Epoch 481: 100%|██████████| 4/4 [00:00<00:00, 117.51it/s, Loss: 1.369, Accuracy: 0.767]\n",
      "Epoch 481: 100%|██████████| 1/1 [00:00<00:00, 200.68it/s, Loss: 1.433, Accuracy: 0.710]\n"
     ]
    },
    {
     "name": "stdout",
     "output_type": "stream",
     "text": [
      "Epoch 481: Train Loss: 1.486, Train Accuracy: 0.507, Test Loss: 1.433, Test Accuracy: 0.710\n"
     ]
    },
    {
     "name": "stderr",
     "output_type": "stream",
     "text": [
      "Epoch 482: 100%|██████████| 4/4 [00:00<00:00, 120.65it/s, Loss: 0.824, Accuracy: 0.802]\n",
      "Epoch 482: 100%|██████████| 1/1 [00:00<00:00, 249.81it/s, Loss: 1.437, Accuracy: 0.710]\n"
     ]
    },
    {
     "name": "stdout",
     "output_type": "stream",
     "text": [
      "Epoch 482: Train Loss: 1.497, Train Accuracy: 0.529, Test Loss: 1.437, Test Accuracy: 0.710\n"
     ]
    },
    {
     "name": "stderr",
     "output_type": "stream",
     "text": [
      "Epoch 483: 100%|██████████| 4/4 [00:00<00:00, 114.04it/s, Loss: 2.048, Accuracy: 0.132]\n",
      "Epoch 483: 100%|██████████| 1/1 [00:00<00:00, 166.51it/s, Loss: 1.432, Accuracy: 0.710]\n"
     ]
    },
    {
     "name": "stdout",
     "output_type": "stream",
     "text": [
      "Epoch 483: Train Loss: 1.482, Train Accuracy: 0.551, Test Loss: 1.432, Test Accuracy: 0.710\n"
     ]
    },
    {
     "name": "stderr",
     "output_type": "stream",
     "text": [
      "Epoch 484: 100%|██████████| 4/4 [00:00<00:00, 119.88it/s, Loss: 1.323, Accuracy: 0.652]\n",
      "Epoch 484: 100%|██████████| 1/1 [00:00<00:00, 124.87it/s, Loss: 1.436, Accuracy: 0.710]\n"
     ]
    },
    {
     "name": "stdout",
     "output_type": "stream",
     "text": [
      "Epoch 484: Train Loss: 1.448, Train Accuracy: 0.540, Test Loss: 1.436, Test Accuracy: 0.710\n"
     ]
    },
    {
     "name": "stderr",
     "output_type": "stream",
     "text": [
      "Epoch 485: 100%|██████████| 4/4 [00:00<00:00, 97.66it/s, Loss: 1.448, Accuracy: 0.797]\n",
      "Epoch 485: 100%|██████████| 1/1 [00:00<00:00, 143.23it/s, Loss: 1.439, Accuracy: 0.710]\n"
     ]
    },
    {
     "name": "stdout",
     "output_type": "stream",
     "text": [
      "Epoch 485: Train Loss: 1.436, Train Accuracy: 0.556, Test Loss: 1.439, Test Accuracy: 0.710\n"
     ]
    },
    {
     "name": "stderr",
     "output_type": "stream",
     "text": [
      "Epoch 486: 100%|██████████| 4/4 [00:00<00:00, 124.89it/s, Loss: 0.839, Accuracy: 0.637]\n",
      "Epoch 486: 100%|██████████| 1/1 [00:00<00:00, 251.59it/s, Loss: 1.437, Accuracy: 0.710]\n"
     ]
    },
    {
     "name": "stdout",
     "output_type": "stream",
     "text": [
      "Epoch 486: Train Loss: 1.384, Train Accuracy: 0.557, Test Loss: 1.437, Test Accuracy: 0.710\n"
     ]
    },
    {
     "name": "stderr",
     "output_type": "stream",
     "text": [
      "Epoch 487: 100%|██████████| 4/4 [00:00<00:00, 118.98it/s, Loss: 2.159, Accuracy: 0.186]\n",
      "Epoch 487: 100%|██████████| 1/1 [00:00<00:00, 199.30it/s, Loss: 1.436, Accuracy: 0.710]\n"
     ]
    },
    {
     "name": "stdout",
     "output_type": "stream",
     "text": [
      "Epoch 487: Train Loss: 1.532, Train Accuracy: 0.496, Test Loss: 1.436, Test Accuracy: 0.710\n"
     ]
    },
    {
     "name": "stderr",
     "output_type": "stream",
     "text": [
      "Epoch 488: 100%|██████████| 4/4 [00:00<00:00, 108.50it/s, Loss: 1.345, Accuracy: 0.444]\n",
      "Epoch 488: 100%|██████████| 1/1 [00:00<00:00, 166.20it/s, Loss: 1.433, Accuracy: 0.710]\n"
     ]
    },
    {
     "name": "stdout",
     "output_type": "stream",
     "text": [
      "Epoch 488: Train Loss: 1.461, Train Accuracy: 0.543, Test Loss: 1.433, Test Accuracy: 0.710\n"
     ]
    },
    {
     "name": "stderr",
     "output_type": "stream",
     "text": [
      "Epoch 489: 100%|██████████| 4/4 [00:00<00:00, 118.04it/s, Loss: 1.303, Accuracy: 0.480]\n",
      "Epoch 489: 100%|██████████| 1/1 [00:00<00:00, 250.36it/s, Loss: 1.428, Accuracy: 0.730]\n"
     ]
    },
    {
     "name": "stdout",
     "output_type": "stream",
     "text": [
      "Epoch 489: Train Loss: 1.455, Train Accuracy: 0.546, Test Loss: 1.428, Test Accuracy: 0.730\n"
     ]
    },
    {
     "name": "stderr",
     "output_type": "stream",
     "text": [
      "Epoch 490: 100%|██████████| 4/4 [00:00<00:00, 93.81it/s, Loss: 1.362, Accuracy: 0.697]\n",
      "Epoch 490: 100%|██████████| 1/1 [00:00<00:00, 200.80it/s, Loss: 1.433, Accuracy: 0.730]\n"
     ]
    },
    {
     "name": "stdout",
     "output_type": "stream",
     "text": [
      "Epoch 490: Train Loss: 1.524, Train Accuracy: 0.534, Test Loss: 1.433, Test Accuracy: 0.730\n"
     ]
    },
    {
     "name": "stderr",
     "output_type": "stream",
     "text": [
      "Epoch 491: 100%|██████████| 4/4 [00:00<00:00, 109.68it/s, Loss: 1.103, Accuracy: 0.632]\n",
      "Epoch 491: 100%|██████████| 1/1 [00:00<00:00, 199.89it/s, Loss: 1.429, Accuracy: 0.710]\n"
     ]
    },
    {
     "name": "stdout",
     "output_type": "stream",
     "text": [
      "Epoch 491: Train Loss: 1.433, Train Accuracy: 0.554, Test Loss: 1.429, Test Accuracy: 0.710\n"
     ]
    },
    {
     "name": "stderr",
     "output_type": "stream",
     "text": [
      "Epoch 492: 100%|██████████| 4/4 [00:00<00:00, 100.15it/s, Loss: 1.387, Accuracy: 0.577]\n",
      "Epoch 492: 100%|██████████| 1/1 [00:00<00:00, 166.62it/s, Loss: 1.426, Accuracy: 0.710]\n"
     ]
    },
    {
     "name": "stdout",
     "output_type": "stream",
     "text": [
      "Epoch 492: Train Loss: 1.474, Train Accuracy: 0.532, Test Loss: 1.426, Test Accuracy: 0.710\n"
     ]
    },
    {
     "name": "stderr",
     "output_type": "stream",
     "text": [
      "Epoch 493: 100%|██████████| 4/4 [00:00<00:00, 110.97it/s, Loss: 1.394, Accuracy: 0.446]\n",
      "Epoch 493: 100%|██████████| 1/1 [00:00<00:00, 201.79it/s, Loss: 1.429, Accuracy: 0.710]\n"
     ]
    },
    {
     "name": "stdout",
     "output_type": "stream",
     "text": [
      "Epoch 493: Train Loss: 1.438, Train Accuracy: 0.551, Test Loss: 1.429, Test Accuracy: 0.710\n"
     ]
    },
    {
     "name": "stderr",
     "output_type": "stream",
     "text": [
      "Epoch 494: 100%|██████████| 4/4 [00:00<00:00, 115.63it/s, Loss: 1.134, Accuracy: 0.531]\n",
      "Epoch 494: 100%|██████████| 1/1 [00:00<00:00, 199.47it/s, Loss: 1.429, Accuracy: 0.710]\n"
     ]
    },
    {
     "name": "stdout",
     "output_type": "stream",
     "text": [
      "Epoch 494: Train Loss: 1.439, Train Accuracy: 0.546, Test Loss: 1.429, Test Accuracy: 0.710\n"
     ]
    },
    {
     "name": "stderr",
     "output_type": "stream",
     "text": [
      "Epoch 495: 100%|██████████| 4/4 [00:00<00:00, 100.67it/s, Loss: 1.112, Accuracy: 0.691]\n",
      "Epoch 495: 100%|██████████| 1/1 [00:00<00:00, 142.90it/s, Loss: 1.430, Accuracy: 0.710]\n"
     ]
    },
    {
     "name": "stdout",
     "output_type": "stream",
     "text": [
      "Epoch 495: Train Loss: 1.479, Train Accuracy: 0.522, Test Loss: 1.430, Test Accuracy: 0.710\n"
     ]
    },
    {
     "name": "stderr",
     "output_type": "stream",
     "text": [
      "Epoch 496: 100%|██████████| 4/4 [00:00<00:00, 102.39it/s, Loss: 1.243, Accuracy: 0.550]\n",
      "Epoch 496: 100%|██████████| 1/1 [00:00<00:00, 249.96it/s, Loss: 1.424, Accuracy: 0.710]\n"
     ]
    },
    {
     "name": "stdout",
     "output_type": "stream",
     "text": [
      "Epoch 496: Train Loss: 1.465, Train Accuracy: 0.542, Test Loss: 1.424, Test Accuracy: 0.710\n"
     ]
    },
    {
     "name": "stderr",
     "output_type": "stream",
     "text": [
      "Epoch 497: 100%|██████████| 4/4 [00:00<00:00, 111.12it/s, Loss: 1.330, Accuracy: 0.512]\n",
      "Epoch 497: 100%|██████████| 1/1 [00:00<00:00, 174.49it/s, Loss: 1.419, Accuracy: 0.730]\n"
     ]
    },
    {
     "name": "stdout",
     "output_type": "stream",
     "text": [
      "Epoch 497: Train Loss: 1.434, Train Accuracy: 0.556, Test Loss: 1.419, Test Accuracy: 0.730\n"
     ]
    },
    {
     "name": "stderr",
     "output_type": "stream",
     "text": [
      "Epoch 498: 100%|██████████| 4/4 [00:00<00:00, 100.66it/s, Loss: 1.542, Accuracy: 0.434]\n",
      "Epoch 498: 100%|██████████| 1/1 [00:00<00:00, 167.64it/s, Loss: 1.423, Accuracy: 0.710]\n"
     ]
    },
    {
     "name": "stdout",
     "output_type": "stream",
     "text": [
      "Epoch 498: Train Loss: 1.434, Train Accuracy: 0.534, Test Loss: 1.423, Test Accuracy: 0.710\n"
     ]
    },
    {
     "name": "stderr",
     "output_type": "stream",
     "text": [
      "Epoch 499: 100%|██████████| 4/4 [00:00<00:00, 114.39it/s, Loss: 1.313, Accuracy: 0.455]\n",
      "Epoch 499: 100%|██████████| 1/1 [00:00<00:00, 179.87it/s, Loss: 1.419, Accuracy: 0.710]\n"
     ]
    },
    {
     "name": "stdout",
     "output_type": "stream",
     "text": [
      "Epoch 499: Train Loss: 1.486, Train Accuracy: 0.536, Test Loss: 1.419, Test Accuracy: 0.710\n"
     ]
    },
    {
     "name": "stderr",
     "output_type": "stream",
     "text": [
      "Epoch 500: 100%|██████████| 4/4 [00:00<00:00, 89.85it/s, Loss: 1.943, Accuracy: 0.221]\n",
      "Epoch 500: 100%|██████████| 1/1 [00:00<00:00, 166.67it/s, Loss: 1.418, Accuracy: 0.730]\n"
     ]
    },
    {
     "name": "stdout",
     "output_type": "stream",
     "text": [
      "Epoch 500: Train Loss: 1.485, Train Accuracy: 0.523, Test Loss: 1.418, Test Accuracy: 0.730\n"
     ]
    },
    {
     "name": "stderr",
     "output_type": "stream",
     "text": [
      "Epoch 501: 100%|██████████| 4/4 [00:00<00:00, 100.00it/s, Loss: 1.134, Accuracy: 0.538]\n",
      "Epoch 501: 100%|██████████| 1/1 [00:00<00:00, 148.44it/s, Loss: 1.420, Accuracy: 0.710]\n"
     ]
    },
    {
     "name": "stdout",
     "output_type": "stream",
     "text": [
      "Epoch 501: Train Loss: 1.431, Train Accuracy: 0.550, Test Loss: 1.420, Test Accuracy: 0.710\n"
     ]
    },
    {
     "name": "stderr",
     "output_type": "stream",
     "text": [
      "Epoch 502: 100%|██████████| 4/4 [00:00<00:00, 102.29it/s, Loss: 1.147, Accuracy: 0.623]\n",
      "Epoch 502: 100%|██████████| 1/1 [00:00<00:00, 199.24it/s, Loss: 1.420, Accuracy: 0.710]\n"
     ]
    },
    {
     "name": "stdout",
     "output_type": "stream",
     "text": [
      "Epoch 502: Train Loss: 1.422, Train Accuracy: 0.556, Test Loss: 1.420, Test Accuracy: 0.710\n"
     ]
    },
    {
     "name": "stderr",
     "output_type": "stream",
     "text": [
      "Epoch 503: 100%|██████████| 4/4 [00:00<00:00, 108.21it/s, Loss: 1.108, Accuracy: 0.543]\n",
      "Epoch 503: 100%|██████████| 1/1 [00:00<00:00, 239.63it/s, Loss: 1.420, Accuracy: 0.710]\n"
     ]
    },
    {
     "name": "stdout",
     "output_type": "stream",
     "text": [
      "Epoch 503: Train Loss: 1.390, Train Accuracy: 0.543, Test Loss: 1.420, Test Accuracy: 0.710\n"
     ]
    },
    {
     "name": "stderr",
     "output_type": "stream",
     "text": [
      "Epoch 504: 100%|██████████| 4/4 [00:00<00:00, 112.36it/s, Loss: 1.553, Accuracy: 0.658]\n",
      "Epoch 504: 100%|██████████| 1/1 [00:00<00:00, 186.19it/s, Loss: 1.423, Accuracy: 0.710]\n"
     ]
    },
    {
     "name": "stdout",
     "output_type": "stream",
     "text": [
      "Epoch 504: Train Loss: 1.431, Train Accuracy: 0.565, Test Loss: 1.423, Test Accuracy: 0.710\n"
     ]
    },
    {
     "name": "stderr",
     "output_type": "stream",
     "text": [
      "Epoch 505: 100%|██████████| 4/4 [00:00<00:00, 97.56it/s, Loss: 1.954, Accuracy: 0.222]\n",
      "Epoch 505: 100%|██████████| 1/1 [00:00<00:00, 99.99it/s, Loss: 1.418, Accuracy: 0.710]\n"
     ]
    },
    {
     "name": "stdout",
     "output_type": "stream",
     "text": [
      "Epoch 505: Train Loss: 1.488, Train Accuracy: 0.511, Test Loss: 1.418, Test Accuracy: 0.710\n"
     ]
    },
    {
     "name": "stderr",
     "output_type": "stream",
     "text": [
      "Epoch 506: 100%|██████████| 4/4 [00:00<00:00, 104.87it/s, Loss: 1.904, Accuracy: 0.431]\n",
      "Epoch 506: 100%|██████████| 1/1 [00:00<00:00, 250.03it/s, Loss: 1.417, Accuracy: 0.710]\n"
     ]
    },
    {
     "name": "stdout",
     "output_type": "stream",
     "text": [
      "Epoch 506: Train Loss: 1.440, Train Accuracy: 0.553, Test Loss: 1.417, Test Accuracy: 0.710\n"
     ]
    },
    {
     "name": "stderr",
     "output_type": "stream",
     "text": [
      "Epoch 507: 100%|██████████| 4/4 [00:00<00:00, 108.11it/s, Loss: 1.984, Accuracy: 0.287]\n",
      "Epoch 507: 100%|██████████| 1/1 [00:00<00:00, 166.59it/s, Loss: 1.417, Accuracy: 0.730]\n"
     ]
    },
    {
     "name": "stdout",
     "output_type": "stream",
     "text": [
      "Epoch 507: Train Loss: 1.438, Train Accuracy: 0.548, Test Loss: 1.417, Test Accuracy: 0.730\n"
     ]
    },
    {
     "name": "stderr",
     "output_type": "stream",
     "text": [
      "Epoch 508: 100%|██████████| 4/4 [00:00<00:00, 112.77it/s, Loss: 1.457, Accuracy: 0.392]\n",
      "Epoch 508: 100%|██████████| 1/1 [00:00<00:00, 199.83it/s, Loss: 1.418, Accuracy: 0.730]\n"
     ]
    },
    {
     "name": "stdout",
     "output_type": "stream",
     "text": [
      "Epoch 508: Train Loss: 1.451, Train Accuracy: 0.537, Test Loss: 1.418, Test Accuracy: 0.730\n"
     ]
    },
    {
     "name": "stderr",
     "output_type": "stream",
     "text": [
      "Epoch 509: 100%|██████████| 4/4 [00:00<00:00, 114.27it/s, Loss: 1.851, Accuracy: 0.389]\n",
      "Epoch 509: 100%|██████████| 1/1 [00:00<00:00, 198.73it/s, Loss: 1.419, Accuracy: 0.730]\n"
     ]
    },
    {
     "name": "stdout",
     "output_type": "stream",
     "text": [
      "Epoch 509: Train Loss: 1.558, Train Accuracy: 0.482, Test Loss: 1.419, Test Accuracy: 0.730\n"
     ]
    },
    {
     "name": "stderr",
     "output_type": "stream",
     "text": [
      "Epoch 510: 100%|██████████| 4/4 [00:00<00:00, 108.73it/s, Loss: 0.703, Accuracy: 0.753]\n",
      "Epoch 510: 100%|██████████| 1/1 [00:00<00:00, 166.42it/s, Loss: 1.425, Accuracy: 0.730]\n"
     ]
    },
    {
     "name": "stdout",
     "output_type": "stream",
     "text": [
      "Epoch 510: Train Loss: 1.475, Train Accuracy: 0.537, Test Loss: 1.425, Test Accuracy: 0.730\n"
     ]
    },
    {
     "name": "stderr",
     "output_type": "stream",
     "text": [
      "Epoch 511: 100%|██████████| 4/4 [00:00<00:00, 87.88it/s, Loss: 1.526, Accuracy: 0.434]\n",
      "Epoch 511: 100%|██████████| 1/1 [00:00<00:00, 198.73it/s, Loss: 1.429, Accuracy: 0.730]\n"
     ]
    },
    {
     "name": "stdout",
     "output_type": "stream",
     "text": [
      "Epoch 511: Train Loss: 1.433, Train Accuracy: 0.534, Test Loss: 1.429, Test Accuracy: 0.730\n"
     ]
    },
    {
     "name": "stderr",
     "output_type": "stream",
     "text": [
      "Epoch 512: 100%|██████████| 4/4 [00:00<00:00, 118.44it/s, Loss: 1.784, Accuracy: 0.430]\n",
      "Epoch 512: 100%|██████████| 1/1 [00:00<00:00, 194.58it/s, Loss: 1.429, Accuracy: 0.730]\n"
     ]
    },
    {
     "name": "stdout",
     "output_type": "stream",
     "text": [
      "Epoch 512: Train Loss: 1.343, Train Accuracy: 0.574, Test Loss: 1.429, Test Accuracy: 0.730\n"
     ]
    },
    {
     "name": "stderr",
     "output_type": "stream",
     "text": [
      "Epoch 513: 100%|██████████| 4/4 [00:00<00:00, 112.25it/s, Loss: 1.581, Accuracy: 0.487]\n",
      "Epoch 513: 100%|██████████| 1/1 [00:00<00:00, 167.33it/s, Loss: 1.426, Accuracy: 0.730]\n"
     ]
    },
    {
     "name": "stdout",
     "output_type": "stream",
     "text": [
      "Epoch 513: Train Loss: 1.420, Train Accuracy: 0.560, Test Loss: 1.426, Test Accuracy: 0.730\n"
     ]
    },
    {
     "name": "stderr",
     "output_type": "stream",
     "text": [
      "Epoch 514: 100%|██████████| 4/4 [00:00<00:00, 114.30it/s, Loss: 2.100, Accuracy: 0.324]\n",
      "Epoch 514: 100%|██████████| 1/1 [00:00<00:00, 225.71it/s, Loss: 1.426, Accuracy: 0.730]\n"
     ]
    },
    {
     "name": "stdout",
     "output_type": "stream",
     "text": [
      "Epoch 514: Train Loss: 1.475, Train Accuracy: 0.533, Test Loss: 1.426, Test Accuracy: 0.730\n"
     ]
    },
    {
     "name": "stderr",
     "output_type": "stream",
     "text": [
      "Epoch 515: 100%|██████████| 4/4 [00:00<00:00, 115.89it/s, Loss: 1.055, Accuracy: 0.821]\n",
      "Epoch 515: 100%|██████████| 1/1 [00:00<00:00, 164.02it/s, Loss: 1.428, Accuracy: 0.730]\n"
     ]
    },
    {
     "name": "stdout",
     "output_type": "stream",
     "text": [
      "Epoch 515: Train Loss: 1.431, Train Accuracy: 0.557, Test Loss: 1.428, Test Accuracy: 0.730\n"
     ]
    },
    {
     "name": "stderr",
     "output_type": "stream",
     "text": [
      "Epoch 516: 100%|██████████| 4/4 [00:00<00:00, 86.99it/s, Loss: 1.320, Accuracy: 0.439]\n",
      "Epoch 516: 100%|██████████| 1/1 [00:00<00:00, 166.50it/s, Loss: 1.424, Accuracy: 0.730]\n"
     ]
    },
    {
     "name": "stdout",
     "output_type": "stream",
     "text": [
      "Epoch 516: Train Loss: 1.508, Train Accuracy: 0.529, Test Loss: 1.424, Test Accuracy: 0.730\n"
     ]
    },
    {
     "name": "stderr",
     "output_type": "stream",
     "text": [
      "Epoch 517: 100%|██████████| 4/4 [00:00<00:00, 109.25it/s, Loss: 1.457, Accuracy: 0.497]\n",
      "Epoch 517: 100%|██████████| 1/1 [00:00<00:00, 248.73it/s, Loss: 1.419, Accuracy: 0.730]\n"
     ]
    },
    {
     "name": "stdout",
     "output_type": "stream",
     "text": [
      "Epoch 517: Train Loss: 1.466, Train Accuracy: 0.511, Test Loss: 1.419, Test Accuracy: 0.730\n"
     ]
    },
    {
     "name": "stderr",
     "output_type": "stream",
     "text": [
      "Epoch 518: 100%|██████████| 4/4 [00:00<00:00, 111.05it/s, Loss: 0.831, Accuracy: 0.807]\n",
      "Epoch 518: 100%|██████████| 1/1 [00:00<00:00, 197.30it/s, Loss: 1.418, Accuracy: 0.730]\n"
     ]
    },
    {
     "name": "stdout",
     "output_type": "stream",
     "text": [
      "Epoch 518: Train Loss: 1.462, Train Accuracy: 0.536, Test Loss: 1.418, Test Accuracy: 0.730\n"
     ]
    },
    {
     "name": "stderr",
     "output_type": "stream",
     "text": [
      "Epoch 519: 100%|██████████| 4/4 [00:00<00:00, 112.10it/s, Loss: 1.154, Accuracy: 0.645]\n",
      "Epoch 519: 100%|██████████| 1/1 [00:00<00:00, 165.87it/s, Loss: 1.415, Accuracy: 0.730]\n"
     ]
    },
    {
     "name": "stdout",
     "output_type": "stream",
     "text": [
      "Epoch 519: Train Loss: 1.345, Train Accuracy: 0.576, Test Loss: 1.415, Test Accuracy: 0.730\n"
     ]
    },
    {
     "name": "stderr",
     "output_type": "stream",
     "text": [
      "Epoch 520: 100%|██████████| 4/4 [00:00<00:00, 111.11it/s, Loss: 1.589, Accuracy: 0.418]\n",
      "Epoch 520: 100%|██████████| 1/1 [00:00<00:00, 166.46it/s, Loss: 1.410, Accuracy: 0.730]\n"
     ]
    },
    {
     "name": "stdout",
     "output_type": "stream",
     "text": [
      "Epoch 520: Train Loss: 1.464, Train Accuracy: 0.548, Test Loss: 1.410, Test Accuracy: 0.730\n"
     ]
    },
    {
     "name": "stderr",
     "output_type": "stream",
     "text": [
      "Epoch 521: 100%|██████████| 4/4 [00:00<00:00, 90.53it/s, Loss: 0.743, Accuracy: 0.699]\n",
      "Epoch 521: 100%|██████████| 1/1 [00:00<00:00, 142.77it/s, Loss: 1.407, Accuracy: 0.730]\n"
     ]
    },
    {
     "name": "stdout",
     "output_type": "stream",
     "text": [
      "Epoch 521: Train Loss: 1.402, Train Accuracy: 0.538, Test Loss: 1.407, Test Accuracy: 0.730\n"
     ]
    },
    {
     "name": "stderr",
     "output_type": "stream",
     "text": [
      "Epoch 522: 100%|██████████| 4/4 [00:00<00:00, 121.22it/s, Loss: 1.412, Accuracy: 0.526]\n",
      "Epoch 522: 100%|██████████| 1/1 [00:00<00:00, 166.67it/s, Loss: 1.403, Accuracy: 0.730]\n"
     ]
    },
    {
     "name": "stdout",
     "output_type": "stream",
     "text": [
      "Epoch 522: Train Loss: 1.422, Train Accuracy: 0.554, Test Loss: 1.403, Test Accuracy: 0.730\n"
     ]
    },
    {
     "name": "stderr",
     "output_type": "stream",
     "text": [
      "Epoch 523: 100%|██████████| 4/4 [00:00<00:00, 117.92it/s, Loss: 1.294, Accuracy: 0.728]\n",
      "Epoch 523: 100%|██████████| 1/1 [00:00<00:00, 200.04it/s, Loss: 1.396, Accuracy: 0.730]\n"
     ]
    },
    {
     "name": "stdout",
     "output_type": "stream",
     "text": [
      "Epoch 523: Train Loss: 1.473, Train Accuracy: 0.540, Test Loss: 1.396, Test Accuracy: 0.730\n"
     ]
    },
    {
     "name": "stderr",
     "output_type": "stream",
     "text": [
      "Epoch 524: 100%|██████████| 4/4 [00:00<00:00, 117.65it/s, Loss: 0.914, Accuracy: 0.689]\n",
      "Epoch 524: 100%|██████████| 1/1 [00:00<00:00, 199.10it/s, Loss: 1.384, Accuracy: 0.730]\n"
     ]
    },
    {
     "name": "stdout",
     "output_type": "stream",
     "text": [
      "Epoch 524: Train Loss: 1.409, Train Accuracy: 0.577, Test Loss: 1.384, Test Accuracy: 0.730\n"
     ]
    },
    {
     "name": "stderr",
     "output_type": "stream",
     "text": [
      "Epoch 525: 100%|██████████| 4/4 [00:00<00:00, 111.39it/s, Loss: 2.072, Accuracy: 0.175]\n",
      "Epoch 525: 100%|██████████| 1/1 [00:00<00:00, 166.19it/s, Loss: 1.375, Accuracy: 0.730]\n"
     ]
    },
    {
     "name": "stdout",
     "output_type": "stream",
     "text": [
      "Epoch 525: Train Loss: 1.465, Train Accuracy: 0.531, Test Loss: 1.375, Test Accuracy: 0.730\n"
     ]
    },
    {
     "name": "stderr",
     "output_type": "stream",
     "text": [
      "Epoch 526: 100%|██████████| 4/4 [00:00<00:00, 117.65it/s, Loss: 0.569, Accuracy: 0.744]\n",
      "Epoch 526: 100%|██████████| 1/1 [00:00<00:00, 200.02it/s, Loss: 1.362, Accuracy: 0.730]\n"
     ]
    },
    {
     "name": "stdout",
     "output_type": "stream",
     "text": [
      "Epoch 526: Train Loss: 1.447, Train Accuracy: 0.542, Test Loss: 1.362, Test Accuracy: 0.730\n"
     ]
    },
    {
     "name": "stderr",
     "output_type": "stream",
     "text": [
      "Epoch 527: 100%|██████████| 4/4 [00:00<00:00, 123.70it/s, Loss: 1.532, Accuracy: 0.606]\n",
      "Epoch 527: 100%|██████████| 1/1 [00:00<00:00, 124.42it/s, Loss: 1.355, Accuracy: 0.730]\n"
     ]
    },
    {
     "name": "stdout",
     "output_type": "stream",
     "text": [
      "Epoch 527: Train Loss: 1.434, Train Accuracy: 0.556, Test Loss: 1.355, Test Accuracy: 0.730\n"
     ]
    },
    {
     "name": "stderr",
     "output_type": "stream",
     "text": [
      "Epoch 528: 100%|██████████| 4/4 [00:00<00:00, 111.74it/s, Loss: 1.676, Accuracy: 0.510]\n",
      "Epoch 528: 100%|██████████| 1/1 [00:00<00:00, 188.29it/s, Loss: 1.349, Accuracy: 0.730]\n"
     ]
    },
    {
     "name": "stdout",
     "output_type": "stream",
     "text": [
      "Epoch 528: Train Loss: 1.446, Train Accuracy: 0.539, Test Loss: 1.349, Test Accuracy: 0.730\n"
     ]
    },
    {
     "name": "stderr",
     "output_type": "stream",
     "text": [
      "Epoch 529: 100%|██████████| 4/4 [00:00<00:00, 106.62it/s, Loss: 0.899, Accuracy: 0.711]\n",
      "Epoch 529: 100%|██████████| 1/1 [00:00<00:00, 166.65it/s, Loss: 1.346, Accuracy: 0.730]\n"
     ]
    },
    {
     "name": "stdout",
     "output_type": "stream",
     "text": [
      "Epoch 529: Train Loss: 1.487, Train Accuracy: 0.526, Test Loss: 1.346, Test Accuracy: 0.730\n"
     ]
    },
    {
     "name": "stderr",
     "output_type": "stream",
     "text": [
      "Epoch 530: 100%|██████████| 4/4 [00:00<00:00, 106.98it/s, Loss: 1.775, Accuracy: 0.524]\n",
      "Epoch 530: 100%|██████████| 1/1 [00:00<00:00, 205.82it/s, Loss: 1.353, Accuracy: 0.730]\n"
     ]
    },
    {
     "name": "stdout",
     "output_type": "stream",
     "text": [
      "Epoch 530: Train Loss: 1.421, Train Accuracy: 0.541, Test Loss: 1.353, Test Accuracy: 0.730\n"
     ]
    },
    {
     "name": "stderr",
     "output_type": "stream",
     "text": [
      "Epoch 531: 100%|██████████| 4/4 [00:00<00:00, 114.30it/s, Loss: 1.875, Accuracy: 0.282]\n",
      "Epoch 531: 100%|██████████| 1/1 [00:00<00:00, 199.53it/s, Loss: 1.357, Accuracy: 0.730]\n"
     ]
    },
    {
     "name": "stdout",
     "output_type": "stream",
     "text": [
      "Epoch 531: Train Loss: 1.432, Train Accuracy: 0.530, Test Loss: 1.357, Test Accuracy: 0.730\n"
     ]
    },
    {
     "name": "stderr",
     "output_type": "stream",
     "text": [
      "Epoch 532: 100%|██████████| 4/4 [00:00<00:00, 102.65it/s, Loss: 1.592, Accuracy: 0.307]\n",
      "Epoch 532: 100%|██████████| 1/1 [00:00<00:00, 113.34it/s, Loss: 1.359, Accuracy: 0.730]\n"
     ]
    },
    {
     "name": "stdout",
     "output_type": "stream",
     "text": [
      "Epoch 532: Train Loss: 1.418, Train Accuracy: 0.559, Test Loss: 1.359, Test Accuracy: 0.730\n"
     ]
    },
    {
     "name": "stderr",
     "output_type": "stream",
     "text": [
      "Epoch 533: 100%|██████████| 4/4 [00:00<00:00, 102.29it/s, Loss: 0.445, Accuracy: 0.819]\n",
      "Epoch 533: 100%|██████████| 1/1 [00:00<00:00, 166.17it/s, Loss: 1.365, Accuracy: 0.730]\n"
     ]
    },
    {
     "name": "stdout",
     "output_type": "stream",
     "text": [
      "Epoch 533: Train Loss: 1.428, Train Accuracy: 0.563, Test Loss: 1.365, Test Accuracy: 0.730\n"
     ]
    },
    {
     "name": "stderr",
     "output_type": "stream",
     "text": [
      "Epoch 534: 100%|██████████| 4/4 [00:00<00:00, 120.90it/s, Loss: 1.583, Accuracy: 0.379]\n",
      "Epoch 534: 100%|██████████| 1/1 [00:00<00:00, 164.19it/s, Loss: 1.365, Accuracy: 0.730]\n"
     ]
    },
    {
     "name": "stdout",
     "output_type": "stream",
     "text": [
      "Epoch 534: Train Loss: 1.417, Train Accuracy: 0.561, Test Loss: 1.365, Test Accuracy: 0.730\n"
     ]
    },
    {
     "name": "stderr",
     "output_type": "stream",
     "text": [
      "Epoch 535: 100%|██████████| 4/4 [00:00<00:00, 118.98it/s, Loss: 0.940, Accuracy: 0.814]\n",
      "Epoch 535: 100%|██████████| 1/1 [00:00<00:00, 166.01it/s, Loss: 1.370, Accuracy: 0.730]\n"
     ]
    },
    {
     "name": "stdout",
     "output_type": "stream",
     "text": [
      "Epoch 535: Train Loss: 1.424, Train Accuracy: 0.554, Test Loss: 1.370, Test Accuracy: 0.730\n"
     ]
    },
    {
     "name": "stderr",
     "output_type": "stream",
     "text": [
      "Epoch 536: 100%|██████████| 4/4 [00:00<00:00, 114.20it/s, Loss: 1.699, Accuracy: 0.544]\n",
      "Epoch 536: 100%|██████████| 1/1 [00:00<00:00, 250.09it/s, Loss: 1.371, Accuracy: 0.730]\n"
     ]
    },
    {
     "name": "stdout",
     "output_type": "stream",
     "text": [
      "Epoch 536: Train Loss: 1.392, Train Accuracy: 0.558, Test Loss: 1.371, Test Accuracy: 0.730\n"
     ]
    },
    {
     "name": "stderr",
     "output_type": "stream",
     "text": [
      "Epoch 537: 100%|██████████| 4/4 [00:00<00:00, 109.08it/s, Loss: 1.725, Accuracy: 0.426]\n",
      "Epoch 537: 100%|██████████| 1/1 [00:00<00:00, 142.87it/s, Loss: 1.367, Accuracy: 0.730]\n"
     ]
    },
    {
     "name": "stdout",
     "output_type": "stream",
     "text": [
      "Epoch 537: Train Loss: 1.498, Train Accuracy: 0.519, Test Loss: 1.367, Test Accuracy: 0.730\n"
     ]
    },
    {
     "name": "stderr",
     "output_type": "stream",
     "text": [
      "Epoch 538: 100%|██████████| 4/4 [00:00<00:00, 97.52it/s, Loss: 1.761, Accuracy: 0.290]\n",
      "Epoch 538: 100%|██████████| 1/1 [00:00<00:00, 199.43it/s, Loss: 1.365, Accuracy: 0.730]\n"
     ]
    },
    {
     "name": "stdout",
     "output_type": "stream",
     "text": [
      "Epoch 538: Train Loss: 1.510, Train Accuracy: 0.539, Test Loss: 1.365, Test Accuracy: 0.730\n"
     ]
    },
    {
     "name": "stderr",
     "output_type": "stream",
     "text": [
      "Epoch 539: 100%|██████████| 4/4 [00:00<00:00, 103.65it/s, Loss: 1.237, Accuracy: 0.606]\n",
      "Epoch 539: 100%|██████████| 1/1 [00:00<00:00, 202.51it/s, Loss: 1.366, Accuracy: 0.730]\n"
     ]
    },
    {
     "name": "stdout",
     "output_type": "stream",
     "text": [
      "Epoch 539: Train Loss: 1.407, Train Accuracy: 0.559, Test Loss: 1.366, Test Accuracy: 0.730\n"
     ]
    },
    {
     "name": "stderr",
     "output_type": "stream",
     "text": [
      "Epoch 540: 100%|██████████| 4/4 [00:00<00:00, 114.28it/s, Loss: 0.864, Accuracy: 0.684]\n",
      "Epoch 540: 100%|██████████| 1/1 [00:00<00:00, 166.59it/s, Loss: 1.366, Accuracy: 0.730]\n"
     ]
    },
    {
     "name": "stdout",
     "output_type": "stream",
     "text": [
      "Epoch 540: Train Loss: 1.472, Train Accuracy: 0.532, Test Loss: 1.366, Test Accuracy: 0.730\n"
     ]
    },
    {
     "name": "stderr",
     "output_type": "stream",
     "text": [
      "Epoch 541: 100%|██████████| 4/4 [00:00<00:00, 115.52it/s, Loss: 1.484, Accuracy: 0.521]\n",
      "Epoch 541: 100%|██████████| 1/1 [00:00<00:00, 199.94it/s, Loss: 1.367, Accuracy: 0.730]\n"
     ]
    },
    {
     "name": "stdout",
     "output_type": "stream",
     "text": [
      "Epoch 541: Train Loss: 1.381, Train Accuracy: 0.548, Test Loss: 1.367, Test Accuracy: 0.730\n"
     ]
    },
    {
     "name": "stderr",
     "output_type": "stream",
     "text": [
      "Epoch 542: 100%|██████████| 4/4 [00:00<00:00, 108.11it/s, Loss: 1.924, Accuracy: 0.403]\n",
      "Epoch 542: 100%|██████████| 1/1 [00:00<00:00, 166.27it/s, Loss: 1.365, Accuracy: 0.730]\n"
     ]
    },
    {
     "name": "stdout",
     "output_type": "stream",
     "text": [
      "Epoch 542: Train Loss: 1.350, Train Accuracy: 0.568, Test Loss: 1.365, Test Accuracy: 0.730\n"
     ]
    },
    {
     "name": "stderr",
     "output_type": "stream",
     "text": [
      "Epoch 543: 100%|██████████| 4/4 [00:00<00:00, 87.87it/s, Loss: 1.278, Accuracy: 0.728]\n",
      "Epoch 543: 100%|██████████| 1/1 [00:00<00:00, 138.09it/s, Loss: 1.370, Accuracy: 0.730]\n"
     ]
    },
    {
     "name": "stdout",
     "output_type": "stream",
     "text": [
      "Epoch 543: Train Loss: 1.462, Train Accuracy: 0.521, Test Loss: 1.370, Test Accuracy: 0.730\n"
     ]
    },
    {
     "name": "stderr",
     "output_type": "stream",
     "text": [
      "Epoch 544: 100%|██████████| 4/4 [00:00<00:00, 102.83it/s, Loss: 1.388, Accuracy: 0.566]\n",
      "Epoch 544: 100%|██████████| 1/1 [00:00<00:00, 199.97it/s, Loss: 1.371, Accuracy: 0.730]\n"
     ]
    },
    {
     "name": "stdout",
     "output_type": "stream",
     "text": [
      "Epoch 544: Train Loss: 1.468, Train Accuracy: 0.522, Test Loss: 1.371, Test Accuracy: 0.730\n"
     ]
    },
    {
     "name": "stderr",
     "output_type": "stream",
     "text": [
      "Epoch 545: 100%|██████████| 4/4 [00:00<00:00, 110.68it/s, Loss: 0.950, Accuracy: 0.679]\n",
      "Epoch 545: 100%|██████████| 1/1 [00:00<00:00, 250.17it/s, Loss: 1.374, Accuracy: 0.730]\n"
     ]
    },
    {
     "name": "stdout",
     "output_type": "stream",
     "text": [
      "Epoch 545: Train Loss: 1.383, Train Accuracy: 0.558, Test Loss: 1.374, Test Accuracy: 0.730\n"
     ]
    },
    {
     "name": "stderr",
     "output_type": "stream",
     "text": [
      "Epoch 546: 100%|██████████| 4/4 [00:00<00:00, 117.56it/s, Loss: 0.885, Accuracy: 0.704]\n",
      "Epoch 546: 100%|██████████| 1/1 [00:00<00:00, 199.01it/s, Loss: 1.370, Accuracy: 0.730]\n"
     ]
    },
    {
     "name": "stdout",
     "output_type": "stream",
     "text": [
      "Epoch 546: Train Loss: 1.528, Train Accuracy: 0.512, Test Loss: 1.370, Test Accuracy: 0.730\n"
     ]
    },
    {
     "name": "stderr",
     "output_type": "stream",
     "text": [
      "Epoch 547: 100%|██████████| 4/4 [00:00<00:00, 111.04it/s, Loss: 1.089, Accuracy: 0.767]\n",
      "Epoch 547: 100%|██████████| 1/1 [00:00<00:00, 179.59it/s, Loss: 1.373, Accuracy: 0.730]\n"
     ]
    },
    {
     "name": "stdout",
     "output_type": "stream",
     "text": [
      "Epoch 547: Train Loss: 1.452, Train Accuracy: 0.529, Test Loss: 1.373, Test Accuracy: 0.730\n"
     ]
    },
    {
     "name": "stderr",
     "output_type": "stream",
     "text": [
      "Epoch 548: 100%|██████████| 4/4 [00:00<00:00, 81.18it/s, Loss: 0.841, Accuracy: 0.588]\n",
      "Epoch 548: 100%|██████████| 1/1 [00:00<00:00, 166.82it/s, Loss: 1.370, Accuracy: 0.730]\n"
     ]
    },
    {
     "name": "stdout",
     "output_type": "stream",
     "text": [
      "Epoch 548: Train Loss: 1.418, Train Accuracy: 0.538, Test Loss: 1.370, Test Accuracy: 0.730\n"
     ]
    },
    {
     "name": "stderr",
     "output_type": "stream",
     "text": [
      "Epoch 549: 100%|██████████| 4/4 [00:00<00:00, 102.37it/s, Loss: 1.839, Accuracy: 0.409]\n",
      "Epoch 549: 100%|██████████| 1/1 [00:00<00:00, 199.18it/s, Loss: 1.373, Accuracy: 0.730]\n"
     ]
    },
    {
     "name": "stdout",
     "output_type": "stream",
     "text": [
      "Epoch 549: Train Loss: 1.423, Train Accuracy: 0.552, Test Loss: 1.373, Test Accuracy: 0.730\n"
     ]
    },
    {
     "name": "stderr",
     "output_type": "stream",
     "text": [
      "Epoch 550: 100%|██████████| 4/4 [00:00<00:00, 107.04it/s, Loss: 1.238, Accuracy: 0.495]\n",
      "Epoch 550: 100%|██████████| 1/1 [00:00<00:00, 200.02it/s, Loss: 1.370, Accuracy: 0.730]\n"
     ]
    },
    {
     "name": "stdout",
     "output_type": "stream",
     "text": [
      "Epoch 550: Train Loss: 1.450, Train Accuracy: 0.515, Test Loss: 1.370, Test Accuracy: 0.730\n"
     ]
    },
    {
     "name": "stderr",
     "output_type": "stream",
     "text": [
      "Epoch 551: 100%|██████████| 4/4 [00:00<00:00, 121.20it/s, Loss: 1.601, Accuracy: 0.321]\n",
      "Epoch 551: 100%|██████████| 1/1 [00:00<00:00, 153.14it/s, Loss: 1.373, Accuracy: 0.730]\n"
     ]
    },
    {
     "name": "stdout",
     "output_type": "stream",
     "text": [
      "Epoch 551: Train Loss: 1.435, Train Accuracy: 0.531, Test Loss: 1.373, Test Accuracy: 0.730\n"
     ]
    },
    {
     "name": "stderr",
     "output_type": "stream",
     "text": [
      "Epoch 552: 100%|██████████| 4/4 [00:00<00:00, 115.78it/s, Loss: 0.811, Accuracy: 0.641]\n",
      "Epoch 552: 100%|██████████| 1/1 [00:00<00:00, 199.39it/s, Loss: 1.375, Accuracy: 0.730]\n"
     ]
    },
    {
     "name": "stdout",
     "output_type": "stream",
     "text": [
      "Epoch 552: Train Loss: 1.406, Train Accuracy: 0.554, Test Loss: 1.375, Test Accuracy: 0.730\n"
     ]
    },
    {
     "name": "stderr",
     "output_type": "stream",
     "text": [
      "Epoch 553: 100%|██████████| 4/4 [00:00<00:00, 114.28it/s, Loss: 1.662, Accuracy: 0.512]\n",
      "Epoch 553: 100%|██████████| 1/1 [00:00<00:00, 199.14it/s, Loss: 1.380, Accuracy: 0.730]\n"
     ]
    },
    {
     "name": "stdout",
     "output_type": "stream",
     "text": [
      "Epoch 553: Train Loss: 1.403, Train Accuracy: 0.552, Test Loss: 1.380, Test Accuracy: 0.730\n"
     ]
    },
    {
     "name": "stderr",
     "output_type": "stream",
     "text": [
      "Epoch 554: 100%|██████████| 4/4 [00:00<00:00, 90.90it/s, Loss: 1.994, Accuracy: 0.323]\n",
      "Epoch 554: 100%|██████████| 1/1 [00:00<00:00, 199.99it/s, Loss: 1.383, Accuracy: 0.730]\n"
     ]
    },
    {
     "name": "stdout",
     "output_type": "stream",
     "text": [
      "Epoch 554: Train Loss: 1.423, Train Accuracy: 0.528, Test Loss: 1.383, Test Accuracy: 0.730\n"
     ]
    },
    {
     "name": "stderr",
     "output_type": "stream",
     "text": [
      "Epoch 555: 100%|██████████| 4/4 [00:00<00:00, 117.74it/s, Loss: 1.317, Accuracy: 0.517]\n",
      "Epoch 555: 100%|██████████| 1/1 [00:00<00:00, 199.96it/s, Loss: 1.386, Accuracy: 0.730]\n"
     ]
    },
    {
     "name": "stdout",
     "output_type": "stream",
     "text": [
      "Epoch 555: Train Loss: 1.438, Train Accuracy: 0.550, Test Loss: 1.386, Test Accuracy: 0.730\n"
     ]
    },
    {
     "name": "stderr",
     "output_type": "stream",
     "text": [
      "Epoch 556: 100%|██████████| 4/4 [00:00<00:00, 120.34it/s, Loss: 0.998, Accuracy: 0.710]\n",
      "Epoch 556: 100%|██████████| 1/1 [00:00<00:00, 238.12it/s, Loss: 1.386, Accuracy: 0.730]\n"
     ]
    },
    {
     "name": "stdout",
     "output_type": "stream",
     "text": [
      "Epoch 556: Train Loss: 1.544, Train Accuracy: 0.474, Test Loss: 1.386, Test Accuracy: 0.730\n"
     ]
    },
    {
     "name": "stderr",
     "output_type": "stream",
     "text": [
      "Epoch 557: 100%|██████████| 4/4 [00:00<00:00, 124.94it/s, Loss: 1.503, Accuracy: 0.659]\n",
      "Epoch 557: 100%|██████████| 1/1 [00:00<00:00, 199.30it/s, Loss: 1.392, Accuracy: 0.730]\n"
     ]
    },
    {
     "name": "stdout",
     "output_type": "stream",
     "text": [
      "Epoch 557: Train Loss: 1.479, Train Accuracy: 0.550, Test Loss: 1.392, Test Accuracy: 0.730\n"
     ]
    },
    {
     "name": "stderr",
     "output_type": "stream",
     "text": [
      "Epoch 558: 100%|██████████| 4/4 [00:00<00:00, 126.75it/s, Loss: 1.015, Accuracy: 0.655]\n",
      "Epoch 558: 100%|██████████| 1/1 [00:00<00:00, 250.05it/s, Loss: 1.387, Accuracy: 0.730]\n"
     ]
    },
    {
     "name": "stdout",
     "output_type": "stream",
     "text": [
      "Epoch 558: Train Loss: 1.412, Train Accuracy: 0.552, Test Loss: 1.387, Test Accuracy: 0.730\n"
     ]
    },
    {
     "name": "stderr",
     "output_type": "stream",
     "text": [
      "Epoch 559: 100%|██████████| 4/4 [00:00<00:00, 112.23it/s, Loss: 1.294, Accuracy: 0.750]\n",
      "Epoch 559: 100%|██████████| 1/1 [00:00<00:00, 166.22it/s, Loss: 1.386, Accuracy: 0.730]\n"
     ]
    },
    {
     "name": "stdout",
     "output_type": "stream",
     "text": [
      "Epoch 559: Train Loss: 1.422, Train Accuracy: 0.539, Test Loss: 1.386, Test Accuracy: 0.730\n"
     ]
    },
    {
     "name": "stderr",
     "output_type": "stream",
     "text": [
      "Epoch 560: 100%|██████████| 4/4 [00:00<00:00, 91.90it/s, Loss: 1.510, Accuracy: 0.500]\n",
      "Epoch 560: 100%|██████████| 1/1 [00:00<00:00, 142.74it/s, Loss: 1.379, Accuracy: 0.730]\n"
     ]
    },
    {
     "name": "stdout",
     "output_type": "stream",
     "text": [
      "Epoch 560: Train Loss: 1.443, Train Accuracy: 0.521, Test Loss: 1.379, Test Accuracy: 0.730\n"
     ]
    },
    {
     "name": "stderr",
     "output_type": "stream",
     "text": [
      "Epoch 561: 100%|██████████| 4/4 [00:00<00:00, 116.75it/s, Loss: 1.608, Accuracy: 0.539]\n",
      "Epoch 561: 100%|██████████| 1/1 [00:00<00:00, 166.69it/s, Loss: 1.388, Accuracy: 0.730]\n"
     ]
    },
    {
     "name": "stdout",
     "output_type": "stream",
     "text": [
      "Epoch 561: Train Loss: 1.511, Train Accuracy: 0.490, Test Loss: 1.388, Test Accuracy: 0.730\n"
     ]
    },
    {
     "name": "stderr",
     "output_type": "stream",
     "text": [
      "Epoch 562: 100%|██████████| 4/4 [00:00<00:00, 122.70it/s, Loss: 0.723, Accuracy: 0.774]\n",
      "Epoch 562: 100%|██████████| 1/1 [00:00<00:00, 199.40it/s, Loss: 1.388, Accuracy: 0.730]\n"
     ]
    },
    {
     "name": "stdout",
     "output_type": "stream",
     "text": [
      "Epoch 562: Train Loss: 1.463, Train Accuracy: 0.515, Test Loss: 1.388, Test Accuracy: 0.730\n"
     ]
    },
    {
     "name": "stderr",
     "output_type": "stream",
     "text": [
      "Epoch 563: 100%|██████████| 4/4 [00:00<00:00, 119.37it/s, Loss: 1.210, Accuracy: 0.525]\n",
      "Epoch 563: 100%|██████████| 1/1 [00:00<00:00, 199.32it/s, Loss: 1.382, Accuracy: 0.730]\n"
     ]
    },
    {
     "name": "stdout",
     "output_type": "stream",
     "text": [
      "Epoch 563: Train Loss: 1.411, Train Accuracy: 0.555, Test Loss: 1.382, Test Accuracy: 0.730\n"
     ]
    },
    {
     "name": "stderr",
     "output_type": "stream",
     "text": [
      "Epoch 564: 100%|██████████| 4/4 [00:00<00:00, 126.83it/s, Loss: 1.157, Accuracy: 0.771]\n",
      "Epoch 564: 100%|██████████| 1/1 [00:00<00:00, 166.65it/s, Loss: 1.386, Accuracy: 0.730]\n"
     ]
    },
    {
     "name": "stdout",
     "output_type": "stream",
     "text": [
      "Epoch 564: Train Loss: 1.411, Train Accuracy: 0.538, Test Loss: 1.386, Test Accuracy: 0.730\n"
     ]
    },
    {
     "name": "stderr",
     "output_type": "stream",
     "text": [
      "Epoch 565: 100%|██████████| 4/4 [00:00<00:00, 119.26it/s, Loss: 1.101, Accuracy: 0.752]\n",
      "Epoch 565: 100%|██████████| 1/1 [00:00<00:00, 200.03it/s, Loss: 1.385, Accuracy: 0.730]\n"
     ]
    },
    {
     "name": "stdout",
     "output_type": "stream",
     "text": [
      "Epoch 565: Train Loss: 1.405, Train Accuracy: 0.552, Test Loss: 1.385, Test Accuracy: 0.730\n"
     ]
    },
    {
     "name": "stderr",
     "output_type": "stream",
     "text": [
      "Epoch 566: 100%|██████████| 4/4 [00:00<00:00, 111.37it/s, Loss: 1.584, Accuracy: 0.596]\n",
      "Epoch 566: 100%|██████████| 1/1 [00:00<00:00, 142.84it/s, Loss: 1.386, Accuracy: 0.730]\n"
     ]
    },
    {
     "name": "stdout",
     "output_type": "stream",
     "text": [
      "Epoch 566: Train Loss: 1.426, Train Accuracy: 0.550, Test Loss: 1.386, Test Accuracy: 0.730\n"
     ]
    },
    {
     "name": "stderr",
     "output_type": "stream",
     "text": [
      "Epoch 567: 100%|██████████| 4/4 [00:00<00:00, 96.25it/s, Loss: 1.515, Accuracy: 0.414]\n",
      "Epoch 567: 100%|██████████| 1/1 [00:00<00:00, 199.44it/s, Loss: 1.384, Accuracy: 0.730]\n"
     ]
    },
    {
     "name": "stdout",
     "output_type": "stream",
     "text": [
      "Epoch 567: Train Loss: 1.403, Train Accuracy: 0.561, Test Loss: 1.384, Test Accuracy: 0.730\n"
     ]
    },
    {
     "name": "stderr",
     "output_type": "stream",
     "text": [
      "Epoch 568: 100%|██████████| 4/4 [00:00<00:00, 119.30it/s, Loss: 2.153, Accuracy: 0.279]\n",
      "Epoch 568: 100%|██████████| 1/1 [00:00<00:00, 199.98it/s, Loss: 1.376, Accuracy: 0.730]\n"
     ]
    },
    {
     "name": "stdout",
     "output_type": "stream",
     "text": [
      "Epoch 568: Train Loss: 1.369, Train Accuracy: 0.564, Test Loss: 1.376, Test Accuracy: 0.730\n"
     ]
    },
    {
     "name": "stderr",
     "output_type": "stream",
     "text": [
      "Epoch 569: 100%|██████████| 4/4 [00:00<00:00, 121.10it/s, Loss: 1.364, Accuracy: 0.471]\n",
      "Epoch 569: 100%|██████████| 1/1 [00:00<00:00, 221.00it/s, Loss: 1.366, Accuracy: 0.730]\n"
     ]
    },
    {
     "name": "stdout",
     "output_type": "stream",
     "text": [
      "Epoch 569: Train Loss: 1.418, Train Accuracy: 0.552, Test Loss: 1.366, Test Accuracy: 0.730\n"
     ]
    },
    {
     "name": "stderr",
     "output_type": "stream",
     "text": [
      "Epoch 570: 100%|██████████| 4/4 [00:00<00:00, 124.97it/s, Loss: 1.967, Accuracy: 0.344]\n",
      "Epoch 570: 100%|██████████| 1/1 [00:00<00:00, 186.18it/s, Loss: 1.363, Accuracy: 0.730]\n"
     ]
    },
    {
     "name": "stdout",
     "output_type": "stream",
     "text": [
      "Epoch 570: Train Loss: 1.405, Train Accuracy: 0.552, Test Loss: 1.363, Test Accuracy: 0.730\n"
     ]
    },
    {
     "name": "stderr",
     "output_type": "stream",
     "text": [
      "Epoch 571: 100%|██████████| 4/4 [00:00<00:00, 121.15it/s, Loss: 1.420, Accuracy: 0.564]\n",
      "Epoch 571: 100%|██████████| 1/1 [00:00<00:00, 246.64it/s, Loss: 1.358, Accuracy: 0.730]\n"
     ]
    },
    {
     "name": "stdout",
     "output_type": "stream",
     "text": [
      "Epoch 571: Train Loss: 1.507, Train Accuracy: 0.507, Test Loss: 1.358, Test Accuracy: 0.730\n"
     ]
    },
    {
     "name": "stderr",
     "output_type": "stream",
     "text": [
      "Epoch 572: 100%|██████████| 4/4 [00:00<00:00, 91.86it/s, Loss: 0.861, Accuracy: 0.684]\n",
      "Epoch 572: 100%|██████████| 1/1 [00:00<00:00, 166.75it/s, Loss: 1.349, Accuracy: 0.730]\n"
     ]
    },
    {
     "name": "stdout",
     "output_type": "stream",
     "text": [
      "Epoch 572: Train Loss: 1.438, Train Accuracy: 0.550, Test Loss: 1.349, Test Accuracy: 0.730\n"
     ]
    },
    {
     "name": "stderr",
     "output_type": "stream",
     "text": [
      "Epoch 573: 100%|██████████| 4/4 [00:00<00:00, 106.39it/s, Loss: 1.896, Accuracy: 0.444]\n",
      "Epoch 573: 100%|██████████| 1/1 [00:00<00:00, 249.74it/s, Loss: 1.340, Accuracy: 0.730]\n"
     ]
    },
    {
     "name": "stdout",
     "output_type": "stream",
     "text": [
      "Epoch 573: Train Loss: 1.386, Train Accuracy: 0.570, Test Loss: 1.340, Test Accuracy: 0.730\n"
     ]
    },
    {
     "name": "stderr",
     "output_type": "stream",
     "text": [
      "Epoch 574: 100%|██████████| 4/4 [00:00<00:00, 114.20it/s, Loss: 1.772, Accuracy: 0.430]\n",
      "Epoch 574: 100%|██████████| 1/1 [00:00<00:00, 200.03it/s, Loss: 1.334, Accuracy: 0.730]\n"
     ]
    },
    {
     "name": "stdout",
     "output_type": "stream",
     "text": [
      "Epoch 574: Train Loss: 1.389, Train Accuracy: 0.556, Test Loss: 1.334, Test Accuracy: 0.730\n"
     ]
    },
    {
     "name": "stderr",
     "output_type": "stream",
     "text": [
      "Epoch 575: 100%|██████████| 4/4 [00:00<00:00, 125.00it/s, Loss: 1.177, Accuracy: 0.674]\n",
      "Epoch 575: 100%|██████████| 1/1 [00:00<00:00, 200.05it/s, Loss: 1.334, Accuracy: 0.730]\n"
     ]
    },
    {
     "name": "stdout",
     "output_type": "stream",
     "text": [
      "Epoch 575: Train Loss: 1.404, Train Accuracy: 0.531, Test Loss: 1.334, Test Accuracy: 0.730\n"
     ]
    },
    {
     "name": "stderr",
     "output_type": "stream",
     "text": [
      "Epoch 576: 100%|██████████| 4/4 [00:00<00:00, 113.89it/s, Loss: 1.362, Accuracy: 0.569]\n",
      "Epoch 576: 100%|██████████| 1/1 [00:00<00:00, 165.74it/s, Loss: 1.330, Accuracy: 0.730]\n"
     ]
    },
    {
     "name": "stdout",
     "output_type": "stream",
     "text": [
      "Epoch 576: Train Loss: 1.416, Train Accuracy: 0.554, Test Loss: 1.330, Test Accuracy: 0.730\n"
     ]
    },
    {
     "name": "stderr",
     "output_type": "stream",
     "text": [
      "Epoch 577: 100%|██████████| 4/4 [00:00<00:00, 107.50it/s, Loss: 0.963, Accuracy: 0.674]\n",
      "Epoch 577: 100%|██████████| 1/1 [00:00<00:00, 124.57it/s, Loss: 1.327, Accuracy: 0.730]\n"
     ]
    },
    {
     "name": "stdout",
     "output_type": "stream",
     "text": [
      "Epoch 577: Train Loss: 1.326, Train Accuracy: 0.573, Test Loss: 1.327, Test Accuracy: 0.730\n"
     ]
    },
    {
     "name": "stderr",
     "output_type": "stream",
     "text": [
      "Epoch 578: 100%|██████████| 4/4 [00:00<00:00, 106.92it/s, Loss: 1.757, Accuracy: 0.504]\n",
      "Epoch 578: 100%|██████████| 1/1 [00:00<00:00, 142.48it/s, Loss: 1.325, Accuracy: 0.730]\n"
     ]
    },
    {
     "name": "stdout",
     "output_type": "stream",
     "text": [
      "Epoch 578: Train Loss: 1.428, Train Accuracy: 0.553, Test Loss: 1.325, Test Accuracy: 0.730\n"
     ]
    },
    {
     "name": "stderr",
     "output_type": "stream",
     "text": [
      "Epoch 579: 100%|██████████| 4/4 [00:00<00:00, 109.34it/s, Loss: 1.643, Accuracy: 0.641]\n",
      "Epoch 579: 100%|██████████| 1/1 [00:00<00:00, 200.05it/s, Loss: 1.328, Accuracy: 0.730]\n"
     ]
    },
    {
     "name": "stdout",
     "output_type": "stream",
     "text": [
      "Epoch 579: Train Loss: 1.399, Train Accuracy: 0.562, Test Loss: 1.328, Test Accuracy: 0.730\n"
     ]
    },
    {
     "name": "stderr",
     "output_type": "stream",
     "text": [
      "Epoch 580: 100%|██████████| 4/4 [00:00<00:00, 121.20it/s, Loss: 1.701, Accuracy: 0.484]\n",
      "Epoch 580: 100%|██████████| 1/1 [00:00<00:00, 212.28it/s, Loss: 1.327, Accuracy: 0.730]\n"
     ]
    },
    {
     "name": "stdout",
     "output_type": "stream",
     "text": [
      "Epoch 580: Train Loss: 1.390, Train Accuracy: 0.555, Test Loss: 1.327, Test Accuracy: 0.730\n"
     ]
    },
    {
     "name": "stderr",
     "output_type": "stream",
     "text": [
      "Epoch 581: 100%|██████████| 4/4 [00:00<00:00, 119.51it/s, Loss: 1.962, Accuracy: 0.200]\n",
      "Epoch 581: 100%|██████████| 1/1 [00:00<00:00, 200.36it/s, Loss: 1.320, Accuracy: 0.730]\n"
     ]
    },
    {
     "name": "stdout",
     "output_type": "stream",
     "text": [
      "Epoch 581: Train Loss: 1.391, Train Accuracy: 0.529, Test Loss: 1.320, Test Accuracy: 0.730\n"
     ]
    },
    {
     "name": "stderr",
     "output_type": "stream",
     "text": [
      "Epoch 582: 100%|██████████| 4/4 [00:00<00:00, 90.90it/s, Loss: 1.236, Accuracy: 0.681]\n",
      "Epoch 582: 100%|██████████| 1/1 [00:00<00:00, 142.88it/s, Loss: 1.323, Accuracy: 0.730]\n"
     ]
    },
    {
     "name": "stdout",
     "output_type": "stream",
     "text": [
      "Epoch 582: Train Loss: 1.410, Train Accuracy: 0.526, Test Loss: 1.323, Test Accuracy: 0.730\n"
     ]
    },
    {
     "name": "stderr",
     "output_type": "stream",
     "text": [
      "Epoch 583: 100%|██████████| 4/4 [00:00<00:00, 106.29it/s, Loss: 1.110, Accuracy: 0.664]\n",
      "Epoch 583: 100%|██████████| 1/1 [00:00<00:00, 166.23it/s, Loss: 1.328, Accuracy: 0.730]\n"
     ]
    },
    {
     "name": "stdout",
     "output_type": "stream",
     "text": [
      "Epoch 583: Train Loss: 1.435, Train Accuracy: 0.533, Test Loss: 1.328, Test Accuracy: 0.730\n"
     ]
    },
    {
     "name": "stderr",
     "output_type": "stream",
     "text": [
      "Epoch 584: 100%|██████████| 4/4 [00:00<00:00, 121.32it/s, Loss: 0.856, Accuracy: 0.679]\n",
      "Epoch 584: 100%|██████████| 1/1 [00:00<00:00, 154.27it/s, Loss: 1.329, Accuracy: 0.730]\n"
     ]
    },
    {
     "name": "stdout",
     "output_type": "stream",
     "text": [
      "Epoch 584: Train Loss: 1.359, Train Accuracy: 0.573, Test Loss: 1.329, Test Accuracy: 0.730\n"
     ]
    },
    {
     "name": "stderr",
     "output_type": "stream",
     "text": [
      "Epoch 585: 100%|██████████| 4/4 [00:00<00:00, 109.43it/s, Loss: 1.947, Accuracy: 0.317]\n",
      "Epoch 585: 100%|██████████| 1/1 [00:00<00:00, 198.74it/s, Loss: 1.332, Accuracy: 0.730]\n"
     ]
    },
    {
     "name": "stdout",
     "output_type": "stream",
     "text": [
      "Epoch 585: Train Loss: 1.428, Train Accuracy: 0.549, Test Loss: 1.332, Test Accuracy: 0.730\n"
     ]
    },
    {
     "name": "stderr",
     "output_type": "stream",
     "text": [
      "Epoch 586: 100%|██████████| 4/4 [00:00<00:00, 105.26it/s, Loss: 1.961, Accuracy: 0.287]\n",
      "Epoch 586: 100%|██████████| 1/1 [00:00<00:00, 249.78it/s, Loss: 1.328, Accuracy: 0.730]\n"
     ]
    },
    {
     "name": "stdout",
     "output_type": "stream",
     "text": [
      "Epoch 586: Train Loss: 1.389, Train Accuracy: 0.550, Test Loss: 1.328, Test Accuracy: 0.730\n"
     ]
    },
    {
     "name": "stderr",
     "output_type": "stream",
     "text": [
      "Epoch 587: 100%|██████████| 4/4 [00:00<00:00, 90.73it/s, Loss: 1.981, Accuracy: 0.167]\n",
      "Epoch 587: 100%|██████████| 1/1 [00:00<00:00, 200.23it/s, Loss: 1.325, Accuracy: 0.730]\n"
     ]
    },
    {
     "name": "stdout",
     "output_type": "stream",
     "text": [
      "Epoch 587: Train Loss: 1.401, Train Accuracy: 0.550, Test Loss: 1.325, Test Accuracy: 0.730\n"
     ]
    },
    {
     "name": "stderr",
     "output_type": "stream",
     "text": [
      "Epoch 588: 100%|██████████| 4/4 [00:00<00:00, 124.56it/s, Loss: 1.285, Accuracy: 0.702]\n",
      "Epoch 588: 100%|██████████| 1/1 [00:00<00:00, 199.67it/s, Loss: 1.326, Accuracy: 0.730]\n"
     ]
    },
    {
     "name": "stdout",
     "output_type": "stream",
     "text": [
      "Epoch 588: Train Loss: 1.441, Train Accuracy: 0.517, Test Loss: 1.326, Test Accuracy: 0.730\n"
     ]
    },
    {
     "name": "stderr",
     "output_type": "stream",
     "text": [
      "Epoch 589: 100%|██████████| 4/4 [00:00<00:00, 114.14it/s, Loss: 0.832, Accuracy: 0.804]\n",
      "Epoch 589: 100%|██████████| 1/1 [00:00<00:00, 196.19it/s, Loss: 1.328, Accuracy: 0.730]\n"
     ]
    },
    {
     "name": "stdout",
     "output_type": "stream",
     "text": [
      "Epoch 589: Train Loss: 1.386, Train Accuracy: 0.558, Test Loss: 1.328, Test Accuracy: 0.730\n"
     ]
    },
    {
     "name": "stderr",
     "output_type": "stream",
     "text": [
      "Epoch 590: 100%|██████████| 4/4 [00:00<00:00, 117.74it/s, Loss: 1.623, Accuracy: 0.492]\n",
      "Epoch 590: 100%|██████████| 1/1 [00:00<00:00, 199.24it/s, Loss: 1.325, Accuracy: 0.730]\n"
     ]
    },
    {
     "name": "stdout",
     "output_type": "stream",
     "text": [
      "Epoch 590: Train Loss: 1.400, Train Accuracy: 0.558, Test Loss: 1.325, Test Accuracy: 0.730\n"
     ]
    },
    {
     "name": "stderr",
     "output_type": "stream",
     "text": [
      "Epoch 591: 100%|██████████| 4/4 [00:00<00:00, 120.28it/s, Loss: 0.694, Accuracy: 0.913]\n",
      "Epoch 591: 100%|██████████| 1/1 [00:00<00:00, 199.74it/s, Loss: 1.329, Accuracy: 0.730]\n"
     ]
    },
    {
     "name": "stdout",
     "output_type": "stream",
     "text": [
      "Epoch 591: Train Loss: 1.341, Train Accuracy: 0.576, Test Loss: 1.329, Test Accuracy: 0.730\n"
     ]
    },
    {
     "name": "stderr",
     "output_type": "stream",
     "text": [
      "Epoch 592: 100%|██████████| 4/4 [00:00<00:00, 107.03it/s, Loss: 1.045, Accuracy: 0.700]\n",
      "Epoch 592: 100%|██████████| 1/1 [00:00<00:00, 166.61it/s, Loss: 1.333, Accuracy: 0.730]\n"
     ]
    },
    {
     "name": "stdout",
     "output_type": "stream",
     "text": [
      "Epoch 592: Train Loss: 1.492, Train Accuracy: 0.507, Test Loss: 1.333, Test Accuracy: 0.730\n"
     ]
    },
    {
     "name": "stderr",
     "output_type": "stream",
     "text": [
      "Epoch 593: 100%|██████████| 4/4 [00:00<00:00, 104.98it/s, Loss: 1.828, Accuracy: 0.350]\n",
      "Epoch 593: 100%|██████████| 1/1 [00:00<00:00, 151.54it/s, Loss: 1.335, Accuracy: 0.730]\n"
     ]
    },
    {
     "name": "stdout",
     "output_type": "stream",
     "text": [
      "Epoch 593: Train Loss: 1.452, Train Accuracy: 0.523, Test Loss: 1.335, Test Accuracy: 0.730\n"
     ]
    },
    {
     "name": "stderr",
     "output_type": "stream",
     "text": [
      "Epoch 594: 100%|██████████| 4/4 [00:00<00:00, 106.62it/s, Loss: 0.950, Accuracy: 0.757]\n",
      "Epoch 594: 100%|██████████| 1/1 [00:00<00:00, 199.13it/s, Loss: 1.341, Accuracy: 0.730]\n"
     ]
    },
    {
     "name": "stdout",
     "output_type": "stream",
     "text": [
      "Epoch 594: Train Loss: 1.450, Train Accuracy: 0.511, Test Loss: 1.341, Test Accuracy: 0.730\n"
     ]
    },
    {
     "name": "stderr",
     "output_type": "stream",
     "text": [
      "Epoch 595: 100%|██████████| 4/4 [00:00<00:00, 124.92it/s, Loss: 1.067, Accuracy: 0.632]\n",
      "Epoch 595: 100%|██████████| 1/1 [00:00<00:00, 199.37it/s, Loss: 1.341, Accuracy: 0.730]\n"
     ]
    },
    {
     "name": "stdout",
     "output_type": "stream",
     "text": [
      "Epoch 595: Train Loss: 1.360, Train Accuracy: 0.564, Test Loss: 1.341, Test Accuracy: 0.730\n"
     ]
    },
    {
     "name": "stderr",
     "output_type": "stream",
     "text": [
      "Epoch 596: 100%|██████████| 4/4 [00:00<00:00, 129.03it/s, Loss: 1.711, Accuracy: 0.290]\n",
      "Epoch 596: 100%|██████████| 1/1 [00:00<00:00, 244.12it/s, Loss: 1.336, Accuracy: 0.730]\n"
     ]
    },
    {
     "name": "stdout",
     "output_type": "stream",
     "text": [
      "Epoch 596: Train Loss: 1.442, Train Accuracy: 0.530, Test Loss: 1.336, Test Accuracy: 0.730\n"
     ]
    },
    {
     "name": "stderr",
     "output_type": "stream",
     "text": [
      "Epoch 597: 100%|██████████| 4/4 [00:00<00:00, 114.26it/s, Loss: 1.198, Accuracy: 0.526]\n",
      "Epoch 597: 100%|██████████| 1/1 [00:00<00:00, 166.82it/s, Loss: 1.342, Accuracy: 0.730]\n"
     ]
    },
    {
     "name": "stdout",
     "output_type": "stream",
     "text": [
      "Epoch 597: Train Loss: 1.410, Train Accuracy: 0.531, Test Loss: 1.342, Test Accuracy: 0.730\n"
     ]
    },
    {
     "name": "stderr",
     "output_type": "stream",
     "text": [
      "Epoch 598: 100%|██████████| 4/4 [00:00<00:00, 93.43it/s, Loss: 0.958, Accuracy: 0.588]\n",
      "Epoch 598: 100%|██████████| 1/1 [00:00<00:00, 125.30it/s, Loss: 1.343, Accuracy: 0.730]\n"
     ]
    },
    {
     "name": "stdout",
     "output_type": "stream",
     "text": [
      "Epoch 598: Train Loss: 1.452, Train Accuracy: 0.501, Test Loss: 1.343, Test Accuracy: 0.730\n"
     ]
    },
    {
     "name": "stderr",
     "output_type": "stream",
     "text": [
      "Epoch 599: 100%|██████████| 4/4 [00:00<00:00, 111.09it/s, Loss: 1.735, Accuracy: 0.308]\n",
      "Epoch 599: 100%|██████████| 1/1 [00:00<00:00, 166.63it/s, Loss: 1.344, Accuracy: 0.730]\n"
     ]
    },
    {
     "name": "stdout",
     "output_type": "stream",
     "text": [
      "Epoch 599: Train Loss: 1.329, Train Accuracy: 0.585, Test Loss: 1.344, Test Accuracy: 0.730\n"
     ]
    },
    {
     "name": "stderr",
     "output_type": "stream",
     "text": [
      "Epoch 600: 100%|██████████| 4/4 [00:00<00:00, 110.44it/s, Loss: 1.292, Accuracy: 0.679]\n",
      "Epoch 600: 100%|██████████| 1/1 [00:00<00:00, 200.07it/s, Loss: 1.352, Accuracy: 0.730]\n"
     ]
    },
    {
     "name": "stdout",
     "output_type": "stream",
     "text": [
      "Epoch 600: Train Loss: 1.397, Train Accuracy: 0.556, Test Loss: 1.352, Test Accuracy: 0.730\n"
     ]
    },
    {
     "name": "stderr",
     "output_type": "stream",
     "text": [
      "Epoch 601: 100%|██████████| 4/4 [00:00<00:00, 114.23it/s, Loss: 1.617, Accuracy: 0.276]\n",
      "Epoch 601: 100%|██████████| 1/1 [00:00<00:00, 166.52it/s, Loss: 1.344, Accuracy: 0.730]\n"
     ]
    },
    {
     "name": "stdout",
     "output_type": "stream",
     "text": [
      "Epoch 601: Train Loss: 1.328, Train Accuracy: 0.568, Test Loss: 1.344, Test Accuracy: 0.730\n"
     ]
    },
    {
     "name": "stderr",
     "output_type": "stream",
     "text": [
      "Epoch 602: 100%|██████████| 4/4 [00:00<00:00, 108.05it/s, Loss: 1.130, Accuracy: 0.725]\n",
      "Epoch 602: 100%|██████████| 1/1 [00:00<00:00, 190.06it/s, Loss: 1.344, Accuracy: 0.730]\n"
     ]
    },
    {
     "name": "stdout",
     "output_type": "stream",
     "text": [
      "Epoch 602: Train Loss: 1.388, Train Accuracy: 0.562, Test Loss: 1.344, Test Accuracy: 0.730\n"
     ]
    },
    {
     "name": "stderr",
     "output_type": "stream",
     "text": [
      "Epoch 603: 100%|██████████| 4/4 [00:00<00:00, 86.78it/s, Loss: 1.697, Accuracy: 0.426]\n",
      "Epoch 603: 100%|██████████| 1/1 [00:00<00:00, 166.62it/s, Loss: 1.333, Accuracy: 0.730]\n"
     ]
    },
    {
     "name": "stdout",
     "output_type": "stream",
     "text": [
      "Epoch 603: Train Loss: 1.398, Train Accuracy: 0.563, Test Loss: 1.333, Test Accuracy: 0.730\n"
     ]
    },
    {
     "name": "stderr",
     "output_type": "stream",
     "text": [
      "Epoch 604: 100%|██████████| 4/4 [00:00<00:00, 121.06it/s, Loss: 1.101, Accuracy: 0.774]\n",
      "Epoch 604: 100%|██████████| 1/1 [00:00<00:00, 185.84it/s, Loss: 1.331, Accuracy: 0.730]\n"
     ]
    },
    {
     "name": "stdout",
     "output_type": "stream",
     "text": [
      "Epoch 604: Train Loss: 1.416, Train Accuracy: 0.526, Test Loss: 1.331, Test Accuracy: 0.730\n"
     ]
    },
    {
     "name": "stderr",
     "output_type": "stream",
     "text": [
      "Epoch 605: 100%|██████████| 4/4 [00:00<00:00, 108.03it/s, Loss: 1.926, Accuracy: 0.370]\n",
      "Epoch 605: 100%|██████████| 1/1 [00:00<00:00, 199.92it/s, Loss: 1.333, Accuracy: 0.730]\n"
     ]
    },
    {
     "name": "stdout",
     "output_type": "stream",
     "text": [
      "Epoch 605: Train Loss: 1.385, Train Accuracy: 0.541, Test Loss: 1.333, Test Accuracy: 0.730\n"
     ]
    },
    {
     "name": "stderr",
     "output_type": "stream",
     "text": [
      "Epoch 606: 100%|██████████| 4/4 [00:00<00:00, 111.11it/s, Loss: 1.205, Accuracy: 0.545]\n",
      "Epoch 606: 100%|██████████| 1/1 [00:00<00:00, 200.03it/s, Loss: 1.335, Accuracy: 0.730]\n"
     ]
    },
    {
     "name": "stdout",
     "output_type": "stream",
     "text": [
      "Epoch 606: Train Loss: 1.364, Train Accuracy: 0.550, Test Loss: 1.335, Test Accuracy: 0.730\n"
     ]
    },
    {
     "name": "stderr",
     "output_type": "stream",
     "text": [
      "Epoch 607: 100%|██████████| 4/4 [00:00<00:00, 109.52it/s, Loss: 1.272, Accuracy: 0.491]\n",
      "Epoch 607: 100%|██████████| 1/1 [00:00<00:00, 198.51it/s, Loss: 1.333, Accuracy: 0.730]\n"
     ]
    },
    {
     "name": "stdout",
     "output_type": "stream",
     "text": [
      "Epoch 607: Train Loss: 1.400, Train Accuracy: 0.552, Test Loss: 1.333, Test Accuracy: 0.730\n"
     ]
    },
    {
     "name": "stderr",
     "output_type": "stream",
     "text": [
      "Epoch 608: 100%|██████████| 4/4 [00:00<00:00, 93.23it/s, Loss: 0.423, Accuracy: 0.819]\n",
      "Epoch 608: 100%|██████████| 1/1 [00:00<00:00, 166.67it/s, Loss: 1.337, Accuracy: 0.730]\n"
     ]
    },
    {
     "name": "stdout",
     "output_type": "stream",
     "text": [
      "Epoch 608: Train Loss: 1.422, Train Accuracy: 0.529, Test Loss: 1.337, Test Accuracy: 0.730\n"
     ]
    },
    {
     "name": "stderr",
     "output_type": "stream",
     "text": [
      "Epoch 609: 100%|██████████| 4/4 [00:00<00:00, 94.90it/s, Loss: 1.014, Accuracy: 0.719]\n",
      "Epoch 609: 100%|██████████| 1/1 [00:00<00:00, 142.87it/s, Loss: 1.336, Accuracy: 0.730]\n"
     ]
    },
    {
     "name": "stdout",
     "output_type": "stream",
     "text": [
      "Epoch 609: Train Loss: 1.434, Train Accuracy: 0.531, Test Loss: 1.336, Test Accuracy: 0.730\n"
     ]
    },
    {
     "name": "stderr",
     "output_type": "stream",
     "text": [
      "Epoch 610: 100%|██████████| 4/4 [00:00<00:00, 117.65it/s, Loss: 1.210, Accuracy: 0.596]\n",
      "Epoch 610: 100%|██████████| 1/1 [00:00<00:00, 178.03it/s, Loss: 1.330, Accuracy: 0.730]\n"
     ]
    },
    {
     "name": "stdout",
     "output_type": "stream",
     "text": [
      "Epoch 610: Train Loss: 1.384, Train Accuracy: 0.554, Test Loss: 1.330, Test Accuracy: 0.730\n"
     ]
    },
    {
     "name": "stderr",
     "output_type": "stream",
     "text": [
      "Epoch 611: 100%|██████████| 4/4 [00:00<00:00, 105.26it/s, Loss: 2.010, Accuracy: 0.136]\n",
      "Epoch 611: 100%|██████████| 1/1 [00:00<00:00, 142.45it/s, Loss: 1.326, Accuracy: 0.730]\n"
     ]
    },
    {
     "name": "stdout",
     "output_type": "stream",
     "text": [
      "Epoch 611: Train Loss: 1.419, Train Accuracy: 0.516, Test Loss: 1.326, Test Accuracy: 0.730\n"
     ]
    },
    {
     "name": "stderr",
     "output_type": "stream",
     "text": [
      "Epoch 612: 100%|██████████| 4/4 [00:00<00:00, 121.21it/s, Loss: 1.448, Accuracy: 0.492]\n",
      "Epoch 612: 100%|██████████| 1/1 [00:00<00:00, 195.57it/s, Loss: 1.335, Accuracy: 0.680]\n"
     ]
    },
    {
     "name": "stdout",
     "output_type": "stream",
     "text": [
      "Epoch 612: Train Loss: 1.382, Train Accuracy: 0.557, Test Loss: 1.335, Test Accuracy: 0.680\n"
     ]
    },
    {
     "name": "stderr",
     "output_type": "stream",
     "text": [
      "Epoch 613: 100%|██████████| 4/4 [00:00<00:00, 99.54it/s, Loss: 1.549, Accuracy: 0.656]\n",
      "Epoch 613: 100%|██████████| 1/1 [00:00<00:00, 166.70it/s, Loss: 1.355, Accuracy: 0.680]\n"
     ]
    },
    {
     "name": "stdout",
     "output_type": "stream",
     "text": [
      "Epoch 613: Train Loss: 1.464, Train Accuracy: 0.513, Test Loss: 1.355, Test Accuracy: 0.680\n"
     ]
    },
    {
     "name": "stderr",
     "output_type": "stream",
     "text": [
      "Epoch 614: 100%|██████████| 4/4 [00:00<00:00, 102.57it/s, Loss: 0.480, Accuracy: 0.821]\n",
      "Epoch 614: 100%|██████████| 1/1 [00:00<00:00, 141.98it/s, Loss: 1.335, Accuracy: 0.730]\n"
     ]
    },
    {
     "name": "stdout",
     "output_type": "stream",
     "text": [
      "Epoch 614: Train Loss: 1.332, Train Accuracy: 0.584, Test Loss: 1.335, Test Accuracy: 0.730\n"
     ]
    },
    {
     "name": "stderr",
     "output_type": "stream",
     "text": [
      "Epoch 615: 100%|██████████| 4/4 [00:00<00:00, 115.98it/s, Loss: 1.362, Accuracy: 0.708]\n",
      "Epoch 615: 100%|██████████| 1/1 [00:00<00:00, 241.98it/s, Loss: 1.333, Accuracy: 0.730]\n"
     ]
    },
    {
     "name": "stdout",
     "output_type": "stream",
     "text": [
      "Epoch 615: Train Loss: 1.378, Train Accuracy: 0.532, Test Loss: 1.333, Test Accuracy: 0.730\n"
     ]
    },
    {
     "name": "stderr",
     "output_type": "stream",
     "text": [
      "Epoch 616: 100%|██████████| 4/4 [00:00<00:00, 113.96it/s, Loss: 1.777, Accuracy: 0.380]\n",
      "Epoch 616: 100%|██████████| 1/1 [00:00<00:00, 251.52it/s, Loss: 1.333, Accuracy: 0.730]\n"
     ]
    },
    {
     "name": "stdout",
     "output_type": "stream",
     "text": [
      "Epoch 616: Train Loss: 1.402, Train Accuracy: 0.555, Test Loss: 1.333, Test Accuracy: 0.730\n"
     ]
    },
    {
     "name": "stderr",
     "output_type": "stream",
     "text": [
      "Epoch 617: 100%|██████████| 4/4 [00:00<00:00, 115.58it/s, Loss: 1.626, Accuracy: 0.487]\n",
      "Epoch 617: 100%|██████████| 1/1 [00:00<00:00, 199.76it/s, Loss: 1.330, Accuracy: 0.730]\n"
     ]
    },
    {
     "name": "stdout",
     "output_type": "stream",
     "text": [
      "Epoch 617: Train Loss: 1.416, Train Accuracy: 0.541, Test Loss: 1.330, Test Accuracy: 0.730\n"
     ]
    },
    {
     "name": "stderr",
     "output_type": "stream",
     "text": [
      "Epoch 618: 100%|██████████| 4/4 [00:00<00:00, 114.43it/s, Loss: 1.647, Accuracy: 0.508]\n",
      "Epoch 618: 100%|██████████| 1/1 [00:00<00:00, 250.81it/s, Loss: 1.326, Accuracy: 0.730]\n"
     ]
    },
    {
     "name": "stdout",
     "output_type": "stream",
     "text": [
      "Epoch 618: Train Loss: 1.424, Train Accuracy: 0.533, Test Loss: 1.326, Test Accuracy: 0.730\n"
     ]
    },
    {
     "name": "stderr",
     "output_type": "stream",
     "text": [
      "Epoch 619: 100%|██████████| 4/4 [00:00<00:00, 105.56it/s, Loss: 1.590, Accuracy: 0.390]\n",
      "Epoch 619: 100%|██████████| 1/1 [00:00<00:00, 200.11it/s, Loss: 1.323, Accuracy: 0.730]\n"
     ]
    },
    {
     "name": "stdout",
     "output_type": "stream",
     "text": [
      "Epoch 619: Train Loss: 1.444, Train Accuracy: 0.520, Test Loss: 1.323, Test Accuracy: 0.730\n"
     ]
    },
    {
     "name": "stderr",
     "output_type": "stream",
     "text": [
      "Epoch 620: 100%|██████████| 4/4 [00:00<00:00, 106.41it/s, Loss: 1.653, Accuracy: 0.426]\n",
      "Epoch 620: 100%|██████████| 1/1 [00:00<00:00, 166.71it/s, Loss: 1.318, Accuracy: 0.730]\n"
     ]
    },
    {
     "name": "stdout",
     "output_type": "stream",
     "text": [
      "Epoch 620: Train Loss: 1.367, Train Accuracy: 0.540, Test Loss: 1.318, Test Accuracy: 0.730\n"
     ]
    },
    {
     "name": "stderr",
     "output_type": "stream",
     "text": [
      "Epoch 621: 100%|██████████| 4/4 [00:00<00:00, 96.87it/s, Loss: 0.819, Accuracy: 0.811]\n",
      "Epoch 621: 100%|██████████| 1/1 [00:00<00:00, 176.25it/s, Loss: 1.317, Accuracy: 0.730]\n"
     ]
    },
    {
     "name": "stdout",
     "output_type": "stream",
     "text": [
      "Epoch 621: Train Loss: 1.406, Train Accuracy: 0.543, Test Loss: 1.317, Test Accuracy: 0.730\n"
     ]
    },
    {
     "name": "stderr",
     "output_type": "stream",
     "text": [
      "Epoch 622: 100%|██████████| 4/4 [00:00<00:00, 118.87it/s, Loss: 1.316, Accuracy: 0.673]\n",
      "Epoch 622: 100%|██████████| 1/1 [00:00<00:00, 200.70it/s, Loss: 1.312, Accuracy: 0.730]\n"
     ]
    },
    {
     "name": "stdout",
     "output_type": "stream",
     "text": [
      "Epoch 622: Train Loss: 1.424, Train Accuracy: 0.518, Test Loss: 1.312, Test Accuracy: 0.730\n"
     ]
    },
    {
     "name": "stderr",
     "output_type": "stream",
     "text": [
      "Epoch 623: 100%|██████████| 4/4 [00:00<00:00, 111.77it/s, Loss: 1.874, Accuracy: 0.404]\n",
      "Epoch 623: 100%|██████████| 1/1 [00:00<00:00, 207.99it/s, Loss: 1.309, Accuracy: 0.730]\n"
     ]
    },
    {
     "name": "stdout",
     "output_type": "stream",
     "text": [
      "Epoch 623: Train Loss: 1.452, Train Accuracy: 0.534, Test Loss: 1.309, Test Accuracy: 0.730\n"
     ]
    },
    {
     "name": "stderr",
     "output_type": "stream",
     "text": [
      "Epoch 624: 100%|██████████| 4/4 [00:00<00:00, 108.10it/s, Loss: 1.197, Accuracy: 0.650]\n",
      "Epoch 624: 100%|██████████| 1/1 [00:00<00:00, 143.58it/s, Loss: 1.315, Accuracy: 0.730]\n"
     ]
    },
    {
     "name": "stdout",
     "output_type": "stream",
     "text": [
      "Epoch 624: Train Loss: 1.334, Train Accuracy: 0.561, Test Loss: 1.315, Test Accuracy: 0.730\n"
     ]
    },
    {
     "name": "stderr",
     "output_type": "stream",
     "text": [
      "Epoch 625: 100%|██████████| 4/4 [00:00<00:00, 95.97it/s, Loss: 2.120, Accuracy: 0.117]\n",
      "Epoch 625: 100%|██████████| 1/1 [00:00<00:00, 166.91it/s, Loss: 1.312, Accuracy: 0.730]\n"
     ]
    },
    {
     "name": "stdout",
     "output_type": "stream",
     "text": [
      "Epoch 625: Train Loss: 1.424, Train Accuracy: 0.502, Test Loss: 1.312, Test Accuracy: 0.730\n"
     ]
    },
    {
     "name": "stderr",
     "output_type": "stream",
     "text": [
      "Epoch 626: 100%|██████████| 4/4 [00:00<00:00, 111.13it/s, Loss: 1.481, Accuracy: 0.709]\n",
      "Epoch 626: 100%|██████████| 1/1 [00:00<00:00, 246.36it/s, Loss: 1.318, Accuracy: 0.730]\n"
     ]
    },
    {
     "name": "stdout",
     "output_type": "stream",
     "text": [
      "Epoch 626: Train Loss: 1.425, Train Accuracy: 0.539, Test Loss: 1.318, Test Accuracy: 0.730\n"
     ]
    },
    {
     "name": "stderr",
     "output_type": "stream",
     "text": [
      "Epoch 627: 100%|██████████| 4/4 [00:00<00:00, 121.90it/s, Loss: 1.361, Accuracy: 0.557]\n",
      "Epoch 627: 100%|██████████| 1/1 [00:00<00:00, 188.24it/s, Loss: 1.320, Accuracy: 0.730]\n"
     ]
    },
    {
     "name": "stdout",
     "output_type": "stream",
     "text": [
      "Epoch 627: Train Loss: 1.408, Train Accuracy: 0.549, Test Loss: 1.320, Test Accuracy: 0.730\n"
     ]
    },
    {
     "name": "stderr",
     "output_type": "stream",
     "text": [
      "Epoch 628: 100%|██████████| 4/4 [00:00<00:00, 114.54it/s, Loss: 1.097, Accuracy: 0.549]\n",
      "Epoch 628: 100%|██████████| 1/1 [00:00<00:00, 143.08it/s, Loss: 1.318, Accuracy: 0.730]\n"
     ]
    },
    {
     "name": "stdout",
     "output_type": "stream",
     "text": [
      "Epoch 628: Train Loss: 1.453, Train Accuracy: 0.522, Test Loss: 1.318, Test Accuracy: 0.730\n"
     ]
    },
    {
     "name": "stderr",
     "output_type": "stream",
     "text": [
      "Epoch 629: 100%|██████████| 4/4 [00:00<00:00, 118.13it/s, Loss: 1.572, Accuracy: 0.637]\n",
      "Epoch 629: 100%|██████████| 1/1 [00:00<00:00, 200.01it/s, Loss: 1.316, Accuracy: 0.730]\n"
     ]
    },
    {
     "name": "stdout",
     "output_type": "stream",
     "text": [
      "Epoch 629: Train Loss: 1.369, Train Accuracy: 0.566, Test Loss: 1.316, Test Accuracy: 0.730\n"
     ]
    },
    {
     "name": "stderr",
     "output_type": "stream",
     "text": [
      "Epoch 630: 100%|██████████| 4/4 [00:00<00:00, 86.09it/s, Loss: 1.147, Accuracy: 0.617]\n",
      "Epoch 630: 100%|██████████| 1/1 [00:00<00:00, 163.40it/s, Loss: 1.312, Accuracy: 0.730]\n"
     ]
    },
    {
     "name": "stdout",
     "output_type": "stream",
     "text": [
      "Epoch 630: Train Loss: 1.385, Train Accuracy: 0.544, Test Loss: 1.312, Test Accuracy: 0.730\n"
     ]
    },
    {
     "name": "stderr",
     "output_type": "stream",
     "text": [
      "Epoch 631: 100%|██████████| 4/4 [00:00<00:00, 118.03it/s, Loss: 1.082, Accuracy: 0.550]\n",
      "Epoch 631: 100%|██████████| 1/1 [00:00<00:00, 200.14it/s, Loss: 1.308, Accuracy: 0.730]\n"
     ]
    },
    {
     "name": "stdout",
     "output_type": "stream",
     "text": [
      "Epoch 631: Train Loss: 1.381, Train Accuracy: 0.533, Test Loss: 1.308, Test Accuracy: 0.730\n"
     ]
    },
    {
     "name": "stderr",
     "output_type": "stream",
     "text": [
      "Epoch 632: 100%|██████████| 4/4 [00:00<00:00, 109.71it/s, Loss: 1.672, Accuracy: 0.408]\n",
      "Epoch 632: 100%|██████████| 1/1 [00:00<00:00, 164.35it/s, Loss: 1.308, Accuracy: 0.730]\n"
     ]
    },
    {
     "name": "stdout",
     "output_type": "stream",
     "text": [
      "Epoch 632: Train Loss: 1.482, Train Accuracy: 0.505, Test Loss: 1.308, Test Accuracy: 0.730\n"
     ]
    },
    {
     "name": "stderr",
     "output_type": "stream",
     "text": [
      "Epoch 633: 100%|██████████| 4/4 [00:00<00:00, 109.03it/s, Loss: 1.367, Accuracy: 0.537]\n",
      "Epoch 633: 100%|██████████| 1/1 [00:00<00:00, 199.96it/s, Loss: 1.312, Accuracy: 0.730]\n"
     ]
    },
    {
     "name": "stdout",
     "output_type": "stream",
     "text": [
      "Epoch 633: Train Loss: 1.392, Train Accuracy: 0.534, Test Loss: 1.312, Test Accuracy: 0.730\n"
     ]
    },
    {
     "name": "stderr",
     "output_type": "stream",
     "text": [
      "Epoch 634: 100%|██████████| 4/4 [00:00<00:00, 114.46it/s, Loss: 1.682, Accuracy: 0.402]\n",
      "Epoch 634: 100%|██████████| 1/1 [00:00<00:00, 141.60it/s, Loss: 1.313, Accuracy: 0.730]\n"
     ]
    },
    {
     "name": "stdout",
     "output_type": "stream",
     "text": [
      "Epoch 634: Train Loss: 1.397, Train Accuracy: 0.542, Test Loss: 1.313, Test Accuracy: 0.730\n"
     ]
    },
    {
     "name": "stderr",
     "output_type": "stream",
     "text": [
      "Epoch 635: 100%|██████████| 4/4 [00:00<00:00, 125.05it/s, Loss: 0.773, Accuracy: 0.847]\n",
      "Epoch 635: 100%|██████████| 1/1 [00:00<00:00, 124.86it/s, Loss: 1.310, Accuracy: 0.730]\n"
     ]
    },
    {
     "name": "stdout",
     "output_type": "stream",
     "text": [
      "Epoch 635: Train Loss: 1.401, Train Accuracy: 0.536, Test Loss: 1.310, Test Accuracy: 0.730\n"
     ]
    },
    {
     "name": "stderr",
     "output_type": "stream",
     "text": [
      "Epoch 636: 100%|██████████| 4/4 [00:00<00:00, 101.70it/s, Loss: 1.654, Accuracy: 0.222]\n",
      "Epoch 636: 100%|██████████| 1/1 [00:00<00:00, 197.38it/s, Loss: 1.304, Accuracy: 0.730]\n"
     ]
    },
    {
     "name": "stdout",
     "output_type": "stream",
     "text": [
      "Epoch 636: Train Loss: 1.433, Train Accuracy: 0.497, Test Loss: 1.304, Test Accuracy: 0.730\n"
     ]
    },
    {
     "name": "stderr",
     "output_type": "stream",
     "text": [
      "Epoch 637: 100%|██████████| 4/4 [00:00<00:00, 124.48it/s, Loss: 1.193, Accuracy: 0.507]\n",
      "Epoch 637: 100%|██████████| 1/1 [00:00<00:00, 152.91it/s, Loss: 1.297, Accuracy: 0.730]\n"
     ]
    },
    {
     "name": "stdout",
     "output_type": "stream",
     "text": [
      "Epoch 637: Train Loss: 1.387, Train Accuracy: 0.565, Test Loss: 1.297, Test Accuracy: 0.730\n"
     ]
    },
    {
     "name": "stderr",
     "output_type": "stream",
     "text": [
      "Epoch 638: 100%|██████████| 4/4 [00:00<00:00, 112.67it/s, Loss: 1.043, Accuracy: 0.477]\n",
      "Epoch 638: 100%|██████████| 1/1 [00:00<00:00, 246.39it/s, Loss: 1.294, Accuracy: 0.730]\n"
     ]
    },
    {
     "name": "stdout",
     "output_type": "stream",
     "text": [
      "Epoch 638: Train Loss: 1.344, Train Accuracy: 0.530, Test Loss: 1.294, Test Accuracy: 0.730\n"
     ]
    },
    {
     "name": "stderr",
     "output_type": "stream",
     "text": [
      "Epoch 639: 100%|██████████| 4/4 [00:00<00:00, 124.23it/s, Loss: 1.199, Accuracy: 0.622]\n",
      "Epoch 639: 100%|██████████| 1/1 [00:00<00:00, 197.41it/s, Loss: 1.304, Accuracy: 0.730]\n"
     ]
    },
    {
     "name": "stdout",
     "output_type": "stream",
     "text": [
      "Epoch 639: Train Loss: 1.493, Train Accuracy: 0.486, Test Loss: 1.304, Test Accuracy: 0.730\n"
     ]
    },
    {
     "name": "stderr",
     "output_type": "stream",
     "text": [
      "Epoch 640: 100%|██████████| 4/4 [00:00<00:00, 121.03it/s, Loss: 1.583, Accuracy: 0.280]\n",
      "Epoch 640: 100%|██████████| 1/1 [00:00<00:00, 202.38it/s, Loss: 1.307, Accuracy: 0.730]\n"
     ]
    },
    {
     "name": "stdout",
     "output_type": "stream",
     "text": [
      "Epoch 640: Train Loss: 1.389, Train Accuracy: 0.527, Test Loss: 1.307, Test Accuracy: 0.730\n"
     ]
    },
    {
     "name": "stderr",
     "output_type": "stream",
     "text": [
      "Epoch 641: 100%|██████████| 4/4 [00:00<00:00, 95.16it/s, Loss: 1.945, Accuracy: 0.345]\n",
      "Epoch 641: 100%|██████████| 1/1 [00:00<00:00, 248.85it/s, Loss: 1.307, Accuracy: 0.730]\n"
     ]
    },
    {
     "name": "stdout",
     "output_type": "stream",
     "text": [
      "Epoch 641: Train Loss: 1.352, Train Accuracy: 0.565, Test Loss: 1.307, Test Accuracy: 0.730\n"
     ]
    },
    {
     "name": "stderr",
     "output_type": "stream",
     "text": [
      "Epoch 642: 100%|██████████| 4/4 [00:00<00:00, 118.68it/s, Loss: 1.797, Accuracy: 0.304]\n",
      "Epoch 642: 100%|██████████| 1/1 [00:00<00:00, 202.55it/s, Loss: 1.309, Accuracy: 0.730]\n"
     ]
    },
    {
     "name": "stdout",
     "output_type": "stream",
     "text": [
      "Epoch 642: Train Loss: 1.341, Train Accuracy: 0.557, Test Loss: 1.309, Test Accuracy: 0.730\n"
     ]
    },
    {
     "name": "stderr",
     "output_type": "stream",
     "text": [
      "Epoch 643: 100%|██████████| 4/4 [00:00<00:00, 112.03it/s, Loss: 0.933, Accuracy: 0.812]\n",
      "Epoch 643: 100%|██████████| 1/1 [00:00<00:00, 198.12it/s, Loss: 1.314, Accuracy: 0.730]\n"
     ]
    },
    {
     "name": "stdout",
     "output_type": "stream",
     "text": [
      "Epoch 643: Train Loss: 1.395, Train Accuracy: 0.555, Test Loss: 1.314, Test Accuracy: 0.730\n"
     ]
    },
    {
     "name": "stderr",
     "output_type": "stream",
     "text": [
      "Epoch 644: 100%|██████████| 4/4 [00:00<00:00, 117.04it/s, Loss: 1.204, Accuracy: 0.587]\n",
      "Epoch 644: 100%|██████████| 1/1 [00:00<00:00, 142.47it/s, Loss: 1.315, Accuracy: 0.730]\n"
     ]
    },
    {
     "name": "stdout",
     "output_type": "stream",
     "text": [
      "Epoch 644: Train Loss: 1.404, Train Accuracy: 0.530, Test Loss: 1.315, Test Accuracy: 0.730\n"
     ]
    },
    {
     "name": "stderr",
     "output_type": "stream",
     "text": [
      "Epoch 645: 100%|██████████| 4/4 [00:00<00:00, 111.67it/s, Loss: 1.358, Accuracy: 0.634]\n",
      "Epoch 645: 100%|██████████| 1/1 [00:00<00:00, 164.44it/s, Loss: 1.318, Accuracy: 0.730]\n"
     ]
    },
    {
     "name": "stdout",
     "output_type": "stream",
     "text": [
      "Epoch 645: Train Loss: 1.371, Train Accuracy: 0.566, Test Loss: 1.318, Test Accuracy: 0.730\n"
     ]
    },
    {
     "name": "stderr",
     "output_type": "stream",
     "text": [
      "Epoch 646: 100%|██████████| 4/4 [00:00<00:00, 112.24it/s, Loss: 1.163, Accuracy: 0.648]\n",
      "Epoch 646: 100%|██████████| 1/1 [00:00<00:00, 250.26it/s, Loss: 1.313, Accuracy: 0.730]\n"
     ]
    },
    {
     "name": "stdout",
     "output_type": "stream",
     "text": [
      "Epoch 646: Train Loss: 1.399, Train Accuracy: 0.544, Test Loss: 1.313, Test Accuracy: 0.730\n"
     ]
    },
    {
     "name": "stderr",
     "output_type": "stream",
     "text": [
      "Epoch 647: 100%|██████████| 4/4 [00:00<00:00, 109.76it/s, Loss: 1.449, Accuracy: 0.318]\n",
      "Epoch 647: 100%|██████████| 1/1 [00:00<00:00, 165.02it/s, Loss: 1.312, Accuracy: 0.730]\n"
     ]
    },
    {
     "name": "stdout",
     "output_type": "stream",
     "text": [
      "Epoch 647: Train Loss: 1.493, Train Accuracy: 0.472, Test Loss: 1.312, Test Accuracy: 0.730\n"
     ]
    },
    {
     "name": "stderr",
     "output_type": "stream",
     "text": [
      "Epoch 648: 100%|██████████| 4/4 [00:00<00:00, 103.83it/s, Loss: 1.605, Accuracy: 0.604]\n",
      "Epoch 648: 100%|██████████| 1/1 [00:00<00:00, 166.69it/s, Loss: 1.324, Accuracy: 0.730]\n"
     ]
    },
    {
     "name": "stdout",
     "output_type": "stream",
     "text": [
      "Epoch 648: Train Loss: 1.495, Train Accuracy: 0.517, Test Loss: 1.324, Test Accuracy: 0.730\n"
     ]
    },
    {
     "name": "stderr",
     "output_type": "stream",
     "text": [
      "Epoch 649: 100%|██████████| 4/4 [00:00<00:00, 103.88it/s, Loss: 0.779, Accuracy: 0.817]\n",
      "Epoch 649: 100%|██████████| 1/1 [00:00<00:00, 199.31it/s, Loss: 1.323, Accuracy: 0.730]\n"
     ]
    },
    {
     "name": "stdout",
     "output_type": "stream",
     "text": [
      "Epoch 649: Train Loss: 1.473, Train Accuracy: 0.512, Test Loss: 1.323, Test Accuracy: 0.730\n"
     ]
    },
    {
     "name": "stderr",
     "output_type": "stream",
     "text": [
      "Epoch 650: 100%|██████████| 4/4 [00:00<00:00, 122.77it/s, Loss: 1.233, Accuracy: 0.689]\n",
      "Epoch 650: 100%|██████████| 1/1 [00:00<00:00, 199.32it/s, Loss: 1.330, Accuracy: 0.730]\n"
     ]
    },
    {
     "name": "stdout",
     "output_type": "stream",
     "text": [
      "Epoch 650: Train Loss: 1.393, Train Accuracy: 0.558, Test Loss: 1.330, Test Accuracy: 0.730\n"
     ]
    },
    {
     "name": "stderr",
     "output_type": "stream",
     "text": [
      "Epoch 651: 100%|██████████| 4/4 [00:00<00:00, 111.04it/s, Loss: 1.551, Accuracy: 0.530]\n",
      "Epoch 651: 100%|██████████| 1/1 [00:00<00:00, 173.37it/s, Loss: 1.332, Accuracy: 0.730]\n"
     ]
    },
    {
     "name": "stdout",
     "output_type": "stream",
     "text": [
      "Epoch 651: Train Loss: 1.383, Train Accuracy: 0.548, Test Loss: 1.332, Test Accuracy: 0.730\n"
     ]
    },
    {
     "name": "stderr",
     "output_type": "stream",
     "text": [
      "Epoch 652: 100%|██████████| 4/4 [00:00<00:00, 105.36it/s, Loss: 1.181, Accuracy: 0.731]\n",
      "Epoch 652: 100%|██████████| 1/1 [00:00<00:00, 142.89it/s, Loss: 1.324, Accuracy: 0.730]\n"
     ]
    },
    {
     "name": "stdout",
     "output_type": "stream",
     "text": [
      "Epoch 652: Train Loss: 1.351, Train Accuracy: 0.570, Test Loss: 1.324, Test Accuracy: 0.730\n"
     ]
    },
    {
     "name": "stderr",
     "output_type": "stream",
     "text": [
      "Epoch 653: 100%|██████████| 4/4 [00:00<00:00, 112.85it/s, Loss: 0.844, Accuracy: 0.779]\n",
      "Epoch 653: 100%|██████████| 1/1 [00:00<00:00, 166.45it/s, Loss: 1.321, Accuracy: 0.730]\n"
     ]
    },
    {
     "name": "stdout",
     "output_type": "stream",
     "text": [
      "Epoch 653: Train Loss: 1.400, Train Accuracy: 0.559, Test Loss: 1.321, Test Accuracy: 0.730\n"
     ]
    },
    {
     "name": "stderr",
     "output_type": "stream",
     "text": [
      "Epoch 654: 100%|██████████| 4/4 [00:00<00:00, 97.35it/s, Loss: 1.768, Accuracy: 0.268]\n",
      "Epoch 654: 100%|██████████| 1/1 [00:00<00:00, 209.62it/s, Loss: 1.316, Accuracy: 0.730]\n"
     ]
    },
    {
     "name": "stdout",
     "output_type": "stream",
     "text": [
      "Epoch 654: Train Loss: 1.413, Train Accuracy: 0.538, Test Loss: 1.316, Test Accuracy: 0.730\n"
     ]
    },
    {
     "name": "stderr",
     "output_type": "stream",
     "text": [
      "Epoch 655: 100%|██████████| 4/4 [00:00<00:00, 112.05it/s, Loss: 1.637, Accuracy: 0.375]\n",
      "Epoch 655: 100%|██████████| 1/1 [00:00<00:00, 201.14it/s, Loss: 1.310, Accuracy: 0.730]\n"
     ]
    },
    {
     "name": "stdout",
     "output_type": "stream",
     "text": [
      "Epoch 655: Train Loss: 1.444, Train Accuracy: 0.523, Test Loss: 1.310, Test Accuracy: 0.730\n"
     ]
    },
    {
     "name": "stderr",
     "output_type": "stream",
     "text": [
      "Epoch 656: 100%|██████████| 4/4 [00:00<00:00, 92.14it/s, Loss: 1.401, Accuracy: 0.443]\n",
      "Epoch 656: 100%|██████████| 1/1 [00:00<00:00, 117.17it/s, Loss: 1.308, Accuracy: 0.730]\n"
     ]
    },
    {
     "name": "stdout",
     "output_type": "stream",
     "text": [
      "Epoch 656: Train Loss: 1.446, Train Accuracy: 0.518, Test Loss: 1.308, Test Accuracy: 0.730\n"
     ]
    },
    {
     "name": "stderr",
     "output_type": "stream",
     "text": [
      "Epoch 657: 100%|██████████| 4/4 [00:00<00:00, 102.32it/s, Loss: 1.190, Accuracy: 0.677]\n",
      "Epoch 657: 100%|██████████| 1/1 [00:00<00:00, 198.79it/s, Loss: 1.307, Accuracy: 0.730]\n"
     ]
    },
    {
     "name": "stdout",
     "output_type": "stream",
     "text": [
      "Epoch 657: Train Loss: 1.361, Train Accuracy: 0.565, Test Loss: 1.307, Test Accuracy: 0.730\n"
     ]
    },
    {
     "name": "stderr",
     "output_type": "stream",
     "text": [
      "Epoch 658: 100%|██████████| 4/4 [00:00<00:00, 110.56it/s, Loss: 1.219, Accuracy: 0.455]\n",
      "Epoch 658: 100%|██████████| 1/1 [00:00<00:00, 197.64it/s, Loss: 1.302, Accuracy: 0.730]\n"
     ]
    },
    {
     "name": "stdout",
     "output_type": "stream",
     "text": [
      "Epoch 658: Train Loss: 1.346, Train Accuracy: 0.546, Test Loss: 1.302, Test Accuracy: 0.730\n"
     ]
    },
    {
     "name": "stderr",
     "output_type": "stream",
     "text": [
      "Epoch 659: 100%|██████████| 4/4 [00:00<00:00, 102.71it/s, Loss: 1.180, Accuracy: 0.741]\n",
      "Epoch 659: 100%|██████████| 1/1 [00:00<00:00, 199.82it/s, Loss: 1.300, Accuracy: 0.730]\n"
     ]
    },
    {
     "name": "stdout",
     "output_type": "stream",
     "text": [
      "Epoch 659: Train Loss: 1.446, Train Accuracy: 0.501, Test Loss: 1.300, Test Accuracy: 0.730\n"
     ]
    },
    {
     "name": "stderr",
     "output_type": "stream",
     "text": [
      "Epoch 660: 100%|██████████| 4/4 [00:00<00:00, 103.78it/s, Loss: 1.878, Accuracy: 0.230]\n",
      "Epoch 660: 100%|██████████| 1/1 [00:00<00:00, 166.73it/s, Loss: 1.314, Accuracy: 0.710]\n"
     ]
    },
    {
     "name": "stdout",
     "output_type": "stream",
     "text": [
      "Epoch 660: Train Loss: 1.446, Train Accuracy: 0.505, Test Loss: 1.314, Test Accuracy: 0.710\n"
     ]
    },
    {
     "name": "stderr",
     "output_type": "stream",
     "text": [
      "Epoch 661: 100%|██████████| 4/4 [00:00<00:00, 101.04it/s, Loss: 1.434, Accuracy: 0.415]\n",
      "Epoch 661: 100%|██████████| 1/1 [00:00<00:00, 166.15it/s, Loss: 1.298, Accuracy: 0.730]\n"
     ]
    },
    {
     "name": "stdout",
     "output_type": "stream",
     "text": [
      "Epoch 661: Train Loss: 1.355, Train Accuracy: 0.549, Test Loss: 1.298, Test Accuracy: 0.730\n"
     ]
    },
    {
     "name": "stderr",
     "output_type": "stream",
     "text": [
      "Epoch 662: 100%|██████████| 4/4 [00:00<00:00, 101.40it/s, Loss: 1.389, Accuracy: 0.561]\n",
      "Epoch 662: 100%|██████████| 1/1 [00:00<00:00, 124.96it/s, Loss: 1.231, Accuracy: 0.810]\n"
     ]
    },
    {
     "name": "stdout",
     "output_type": "stream",
     "text": [
      "Epoch 662: Train Loss: 1.347, Train Accuracy: 0.555, Test Loss: 1.231, Test Accuracy: 0.810\n"
     ]
    },
    {
     "name": "stderr",
     "output_type": "stream",
     "text": [
      "Epoch 663: 100%|██████████| 4/4 [00:00<00:00, 108.61it/s, Loss: 2.010, Accuracy: 0.376]\n",
      "Epoch 663: 100%|██████████| 1/1 [00:00<00:00, 249.82it/s, Loss: 1.312, Accuracy: 0.810]\n"
     ]
    },
    {
     "name": "stdout",
     "output_type": "stream",
     "text": [
      "Epoch 663: Train Loss: 1.334, Train Accuracy: 0.578, Test Loss: 1.312, Test Accuracy: 0.810\n"
     ]
    },
    {
     "name": "stderr",
     "output_type": "stream",
     "text": [
      "Epoch 664: 100%|██████████| 4/4 [00:00<00:00, 116.75it/s, Loss: 1.332, Accuracy: 0.647]\n",
      "Epoch 664: 100%|██████████| 1/1 [00:00<00:00, 177.22it/s, Loss: 1.363, Accuracy: 0.800]\n"
     ]
    },
    {
     "name": "stdout",
     "output_type": "stream",
     "text": [
      "Epoch 664: Train Loss: 1.413, Train Accuracy: 0.545, Test Loss: 1.363, Test Accuracy: 0.800\n"
     ]
    },
    {
     "name": "stderr",
     "output_type": "stream",
     "text": [
      "Epoch 665: 100%|██████████| 4/4 [00:00<00:00, 108.84it/s, Loss: 1.850, Accuracy: 0.414]\n",
      "Epoch 665: 100%|██████████| 1/1 [00:00<00:00, 136.75it/s, Loss: 1.364, Accuracy: 0.800]\n"
     ]
    },
    {
     "name": "stdout",
     "output_type": "stream",
     "text": [
      "Epoch 665: Train Loss: 1.406, Train Accuracy: 0.562, Test Loss: 1.364, Test Accuracy: 0.800\n"
     ]
    },
    {
     "name": "stderr",
     "output_type": "stream",
     "text": [
      "Epoch 666: 100%|██████████| 4/4 [00:00<00:00, 112.38it/s, Loss: 1.996, Accuracy: 0.375]\n",
      "Epoch 666: 100%|██████████| 1/1 [00:00<00:00, 198.42it/s, Loss: 1.358, Accuracy: 0.780]\n"
     ]
    },
    {
     "name": "stdout",
     "output_type": "stream",
     "text": [
      "Epoch 666: Train Loss: 1.448, Train Accuracy: 0.547, Test Loss: 1.358, Test Accuracy: 0.780\n"
     ]
    },
    {
     "name": "stderr",
     "output_type": "stream",
     "text": [
      "Epoch 667: 100%|██████████| 4/4 [00:00<00:00, 122.96it/s, Loss: 1.349, Accuracy: 0.590]\n",
      "Epoch 667: 100%|██████████| 1/1 [00:00<00:00, 202.10it/s, Loss: 1.356, Accuracy: 0.780]\n"
     ]
    },
    {
     "name": "stdout",
     "output_type": "stream",
     "text": [
      "Epoch 667: Train Loss: 1.451, Train Accuracy: 0.538, Test Loss: 1.356, Test Accuracy: 0.780\n"
     ]
    },
    {
     "name": "stderr",
     "output_type": "stream",
     "text": [
      "Epoch 668: 100%|██████████| 4/4 [00:00<00:00, 110.94it/s, Loss: 1.052, Accuracy: 0.546]\n",
      "Epoch 668: 100%|██████████| 1/1 [00:00<00:00, 169.79it/s, Loss: 1.353, Accuracy: 0.780]\n"
     ]
    },
    {
     "name": "stdout",
     "output_type": "stream",
     "text": [
      "Epoch 668: Train Loss: 1.351, Train Accuracy: 0.579, Test Loss: 1.353, Test Accuracy: 0.780\n"
     ]
    },
    {
     "name": "stderr",
     "output_type": "stream",
     "text": [
      "Epoch 669: 100%|██████████| 4/4 [00:00<00:00, 96.16it/s, Loss: 0.490, Accuracy: 0.846]\n",
      "Epoch 669: 100%|██████████| 1/1 [00:00<00:00, 111.14it/s, Loss: 1.347, Accuracy: 0.760]\n"
     ]
    },
    {
     "name": "stdout",
     "output_type": "stream",
     "text": [
      "Epoch 669: Train Loss: 1.386, Train Accuracy: 0.549, Test Loss: 1.347, Test Accuracy: 0.760\n"
     ]
    },
    {
     "name": "stderr",
     "output_type": "stream",
     "text": [
      "Epoch 670: 100%|██████████| 4/4 [00:00<00:00, 97.52it/s, Loss: 1.508, Accuracy: 0.562]\n",
      "Epoch 670: 100%|██████████| 1/1 [00:00<00:00, 208.60it/s, Loss: 1.347, Accuracy: 0.760]\n"
     ]
    },
    {
     "name": "stdout",
     "output_type": "stream",
     "text": [
      "Epoch 670: Train Loss: 1.414, Train Accuracy: 0.550, Test Loss: 1.347, Test Accuracy: 0.760\n"
     ]
    },
    {
     "name": "stderr",
     "output_type": "stream",
     "text": [
      "Epoch 671: 100%|██████████| 4/4 [00:00<00:00, 119.29it/s, Loss: 1.346, Accuracy: 0.567]\n",
      "Epoch 671: 100%|██████████| 1/1 [00:00<00:00, 199.90it/s, Loss: 1.345, Accuracy: 0.710]\n"
     ]
    },
    {
     "name": "stdout",
     "output_type": "stream",
     "text": [
      "Epoch 671: Train Loss: 1.418, Train Accuracy: 0.543, Test Loss: 1.345, Test Accuracy: 0.710\n"
     ]
    },
    {
     "name": "stderr",
     "output_type": "stream",
     "text": [
      "Epoch 672: 100%|██████████| 4/4 [00:00<00:00, 108.10it/s, Loss: 1.193, Accuracy: 0.779]\n",
      "Epoch 672: 100%|██████████| 1/1 [00:00<00:00, 197.40it/s, Loss: 1.345, Accuracy: 0.710]\n"
     ]
    },
    {
     "name": "stdout",
     "output_type": "stream",
     "text": [
      "Epoch 672: Train Loss: 1.405, Train Accuracy: 0.534, Test Loss: 1.345, Test Accuracy: 0.710\n"
     ]
    },
    {
     "name": "stderr",
     "output_type": "stream",
     "text": [
      "Epoch 673: 100%|██████████| 4/4 [00:00<00:00, 96.24it/s, Loss: 1.441, Accuracy: 0.424]\n",
      "Epoch 673: 100%|██████████| 1/1 [00:00<00:00, 196.37it/s, Loss: 1.338, Accuracy: 0.710]\n"
     ]
    },
    {
     "name": "stdout",
     "output_type": "stream",
     "text": [
      "Epoch 673: Train Loss: 1.385, Train Accuracy: 0.551, Test Loss: 1.338, Test Accuracy: 0.710\n"
     ]
    },
    {
     "name": "stderr",
     "output_type": "stream",
     "text": [
      "Epoch 674: 100%|██████████| 4/4 [00:00<00:00, 114.14it/s, Loss: 1.738, Accuracy: 0.314]\n",
      "Epoch 674: 100%|██████████| 1/1 [00:00<00:00, 249.93it/s, Loss: 1.327, Accuracy: 0.710]\n"
     ]
    },
    {
     "name": "stdout",
     "output_type": "stream",
     "text": [
      "Epoch 674: Train Loss: 1.351, Train Accuracy: 0.568, Test Loss: 1.327, Test Accuracy: 0.710\n"
     ]
    },
    {
     "name": "stderr",
     "output_type": "stream",
     "text": [
      "Epoch 675: 100%|██████████| 4/4 [00:00<00:00, 115.93it/s, Loss: 1.309, Accuracy: 0.600]\n",
      "Epoch 675: 100%|██████████| 1/1 [00:00<00:00, 166.92it/s, Loss: 1.328, Accuracy: 0.710]\n"
     ]
    },
    {
     "name": "stdout",
     "output_type": "stream",
     "text": [
      "Epoch 675: Train Loss: 1.470, Train Accuracy: 0.499, Test Loss: 1.328, Test Accuracy: 0.710\n"
     ]
    },
    {
     "name": "stderr",
     "output_type": "stream",
     "text": [
      "Epoch 676: 100%|██████████| 4/4 [00:00<00:00, 96.11it/s, Loss: 1.539, Accuracy: 0.358]\n",
      "Epoch 676: 100%|██████████| 1/1 [00:00<00:00, 100.02it/s, Loss: 1.320, Accuracy: 0.710]\n"
     ]
    },
    {
     "name": "stdout",
     "output_type": "stream",
     "text": [
      "Epoch 676: Train Loss: 1.402, Train Accuracy: 0.536, Test Loss: 1.320, Test Accuracy: 0.710\n"
     ]
    },
    {
     "name": "stderr",
     "output_type": "stream",
     "text": [
      "Epoch 677: 100%|██████████| 4/4 [00:00<00:00, 105.48it/s, Loss: 0.832, Accuracy: 0.800]\n",
      "Epoch 677: 100%|██████████| 1/1 [00:00<00:00, 200.06it/s, Loss: 1.316, Accuracy: 0.710]\n"
     ]
    },
    {
     "name": "stdout",
     "output_type": "stream",
     "text": [
      "Epoch 677: Train Loss: 1.423, Train Accuracy: 0.525, Test Loss: 1.316, Test Accuracy: 0.710\n"
     ]
    },
    {
     "name": "stderr",
     "output_type": "stream",
     "text": [
      "Epoch 678: 100%|██████████| 4/4 [00:00<00:00, 105.16it/s, Loss: 1.356, Accuracy: 0.527]\n",
      "Epoch 678: 100%|██████████| 1/1 [00:00<00:00, 201.19it/s, Loss: 1.311, Accuracy: 0.710]\n"
     ]
    },
    {
     "name": "stdout",
     "output_type": "stream",
     "text": [
      "Epoch 678: Train Loss: 1.361, Train Accuracy: 0.556, Test Loss: 1.311, Test Accuracy: 0.710\n"
     ]
    },
    {
     "name": "stderr",
     "output_type": "stream",
     "text": [
      "Epoch 679: 100%|██████████| 4/4 [00:00<00:00, 117.69it/s, Loss: 1.521, Accuracy: 0.466]\n",
      "Epoch 679: 100%|██████████| 1/1 [00:00<00:00, 200.44it/s, Loss: 1.310, Accuracy: 0.710]\n"
     ]
    },
    {
     "name": "stdout",
     "output_type": "stream",
     "text": [
      "Epoch 679: Train Loss: 1.494, Train Accuracy: 0.496, Test Loss: 1.310, Test Accuracy: 0.710\n"
     ]
    },
    {
     "name": "stderr",
     "output_type": "stream",
     "text": [
      "Epoch 680: 100%|██████████| 4/4 [00:00<00:00, 125.27it/s, Loss: 1.102, Accuracy: 0.749]\n",
      "Epoch 680: 100%|██████████| 1/1 [00:00<00:00, 196.29it/s, Loss: 1.310, Accuracy: 0.710]\n"
     ]
    },
    {
     "name": "stdout",
     "output_type": "stream",
     "text": [
      "Epoch 680: Train Loss: 1.504, Train Accuracy: 0.466, Test Loss: 1.310, Test Accuracy: 0.710\n"
     ]
    },
    {
     "name": "stderr",
     "output_type": "stream",
     "text": [
      "Epoch 681: 100%|██████████| 4/4 [00:00<00:00, 108.28it/s, Loss: 0.925, Accuracy: 0.573]\n",
      "Epoch 681: 100%|██████████| 1/1 [00:00<00:00, 155.30it/s, Loss: 1.311, Accuracy: 0.710]\n"
     ]
    },
    {
     "name": "stdout",
     "output_type": "stream",
     "text": [
      "Epoch 681: Train Loss: 1.330, Train Accuracy: 0.542, Test Loss: 1.311, Test Accuracy: 0.710\n"
     ]
    },
    {
     "name": "stderr",
     "output_type": "stream",
     "text": [
      "Epoch 682: 100%|██████████| 4/4 [00:00<00:00, 114.46it/s, Loss: 1.640, Accuracy: 0.404]\n",
      "Epoch 682: 100%|██████████| 1/1 [00:00<00:00, 200.20it/s, Loss: 1.316, Accuracy: 0.710]\n"
     ]
    },
    {
     "name": "stdout",
     "output_type": "stream",
     "text": [
      "Epoch 682: Train Loss: 1.443, Train Accuracy: 0.472, Test Loss: 1.316, Test Accuracy: 0.710\n"
     ]
    },
    {
     "name": "stderr",
     "output_type": "stream",
     "text": [
      "Epoch 683: 100%|██████████| 4/4 [00:00<00:00, 83.40it/s, Loss: 1.142, Accuracy: 0.669]\n",
      "Epoch 683: 100%|██████████| 1/1 [00:00<00:00, 153.46it/s, Loss: 1.319, Accuracy: 0.710]\n"
     ]
    },
    {
     "name": "stdout",
     "output_type": "stream",
     "text": [
      "Epoch 683: Train Loss: 1.456, Train Accuracy: 0.521, Test Loss: 1.319, Test Accuracy: 0.710\n"
     ]
    },
    {
     "name": "stderr",
     "output_type": "stream",
     "text": [
      "Epoch 684: 100%|██████████| 4/4 [00:00<00:00, 105.16it/s, Loss: 1.603, Accuracy: 0.536]\n",
      "Epoch 684: 100%|██████████| 1/1 [00:00<00:00, 200.17it/s, Loss: 1.317, Accuracy: 0.710]\n"
     ]
    },
    {
     "name": "stdout",
     "output_type": "stream",
     "text": [
      "Epoch 684: Train Loss: 1.331, Train Accuracy: 0.576, Test Loss: 1.317, Test Accuracy: 0.710\n"
     ]
    },
    {
     "name": "stderr",
     "output_type": "stream",
     "text": [
      "Epoch 685: 100%|██████████| 4/4 [00:00<00:00, 112.17it/s, Loss: 1.339, Accuracy: 0.757]\n",
      "Epoch 685: 100%|██████████| 1/1 [00:00<00:00, 200.08it/s, Loss: 1.318, Accuracy: 0.710]\n"
     ]
    },
    {
     "name": "stdout",
     "output_type": "stream",
     "text": [
      "Epoch 685: Train Loss: 1.438, Train Accuracy: 0.532, Test Loss: 1.318, Test Accuracy: 0.710\n"
     ]
    },
    {
     "name": "stderr",
     "output_type": "stream",
     "text": [
      "Epoch 686: 100%|██████████| 4/4 [00:00<00:00, 116.15it/s, Loss: 1.169, Accuracy: 0.530]\n",
      "Epoch 686: 100%|██████████| 1/1 [00:00<00:00, 199.96it/s, Loss: 1.313, Accuracy: 0.710]\n"
     ]
    },
    {
     "name": "stdout",
     "output_type": "stream",
     "text": [
      "Epoch 686: Train Loss: 1.337, Train Accuracy: 0.550, Test Loss: 1.313, Test Accuracy: 0.710\n"
     ]
    },
    {
     "name": "stderr",
     "output_type": "stream",
     "text": [
      "Epoch 687: 100%|██████████| 4/4 [00:00<00:00, 124.98it/s, Loss: 1.655, Accuracy: 0.470]\n",
      "Epoch 687: 100%|██████████| 1/1 [00:00<00:00, 164.80it/s, Loss: 1.312, Accuracy: 0.710]\n"
     ]
    },
    {
     "name": "stdout",
     "output_type": "stream",
     "text": [
      "Epoch 687: Train Loss: 1.371, Train Accuracy: 0.528, Test Loss: 1.312, Test Accuracy: 0.710\n"
     ]
    },
    {
     "name": "stderr",
     "output_type": "stream",
     "text": [
      "Epoch 688: 100%|██████████| 4/4 [00:00<00:00, 115.77it/s, Loss: 1.676, Accuracy: 0.417]\n",
      "Epoch 688: 100%|██████████| 1/1 [00:00<00:00, 198.34it/s, Loss: 1.315, Accuracy: 0.710]\n"
     ]
    },
    {
     "name": "stdout",
     "output_type": "stream",
     "text": [
      "Epoch 688: Train Loss: 1.398, Train Accuracy: 0.504, Test Loss: 1.315, Test Accuracy: 0.710\n"
     ]
    },
    {
     "name": "stderr",
     "output_type": "stream",
     "text": [
      "Epoch 689: 100%|██████████| 4/4 [00:00<00:00, 124.76it/s, Loss: 1.479, Accuracy: 0.636]\n",
      "Epoch 689: 100%|██████████| 1/1 [00:00<00:00, 142.09it/s, Loss: 1.314, Accuracy: 0.710]\n"
     ]
    },
    {
     "name": "stdout",
     "output_type": "stream",
     "text": [
      "Epoch 689: Train Loss: 1.420, Train Accuracy: 0.571, Test Loss: 1.314, Test Accuracy: 0.710\n"
     ]
    },
    {
     "name": "stderr",
     "output_type": "stream",
     "text": [
      "Epoch 690: 100%|██████████| 4/4 [00:00<00:00, 95.47it/s, Loss: 1.207, Accuracy: 0.611]\n",
      "Epoch 690: 100%|██████████| 1/1 [00:00<00:00, 248.93it/s, Loss: 1.299, Accuracy: 0.710]\n"
     ]
    },
    {
     "name": "stdout",
     "output_type": "stream",
     "text": [
      "Epoch 690: Train Loss: 1.385, Train Accuracy: 0.571, Test Loss: 1.299, Test Accuracy: 0.710\n"
     ]
    },
    {
     "name": "stderr",
     "output_type": "stream",
     "text": [
      "Epoch 691: 100%|██████████| 4/4 [00:00<00:00, 102.47it/s, Loss: 1.377, Accuracy: 0.596]\n",
      "Epoch 691: 100%|██████████| 1/1 [00:00<00:00, 250.47it/s, Loss: 1.295, Accuracy: 0.710]\n"
     ]
    },
    {
     "name": "stdout",
     "output_type": "stream",
     "text": [
      "Epoch 691: Train Loss: 1.416, Train Accuracy: 0.524, Test Loss: 1.295, Test Accuracy: 0.710\n"
     ]
    },
    {
     "name": "stderr",
     "output_type": "stream",
     "text": [
      "Epoch 692: 100%|██████████| 4/4 [00:00<00:00, 113.33it/s, Loss: 1.537, Accuracy: 0.368]\n",
      "Epoch 692: 100%|██████████| 1/1 [00:00<00:00, 197.99it/s, Loss: 1.291, Accuracy: 0.710]\n"
     ]
    },
    {
     "name": "stdout",
     "output_type": "stream",
     "text": [
      "Epoch 692: Train Loss: 1.355, Train Accuracy: 0.537, Test Loss: 1.291, Test Accuracy: 0.710\n"
     ]
    },
    {
     "name": "stderr",
     "output_type": "stream",
     "text": [
      "Epoch 693: 100%|██████████| 4/4 [00:00<00:00, 121.21it/s, Loss: 0.903, Accuracy: 0.764]\n",
      "Epoch 693: 100%|██████████| 1/1 [00:00<00:00, 200.01it/s, Loss: 1.291, Accuracy: 0.710]\n"
     ]
    },
    {
     "name": "stdout",
     "output_type": "stream",
     "text": [
      "Epoch 693: Train Loss: 1.411, Train Accuracy: 0.504, Test Loss: 1.291, Test Accuracy: 0.710\n"
     ]
    },
    {
     "name": "stderr",
     "output_type": "stream",
     "text": [
      "Epoch 694: 100%|██████████| 4/4 [00:00<00:00, 108.61it/s, Loss: 1.298, Accuracy: 0.674]\n",
      "Epoch 694: 100%|██████████| 1/1 [00:00<00:00, 246.51it/s, Loss: 1.290, Accuracy: 0.710]\n"
     ]
    },
    {
     "name": "stdout",
     "output_type": "stream",
     "text": [
      "Epoch 694: Train Loss: 1.372, Train Accuracy: 0.538, Test Loss: 1.290, Test Accuracy: 0.710\n"
     ]
    },
    {
     "name": "stderr",
     "output_type": "stream",
     "text": [
      "Epoch 695: 100%|██████████| 4/4 [00:00<00:00, 105.04it/s, Loss: 1.201, Accuracy: 0.426]\n",
      "Epoch 695: 100%|██████████| 1/1 [00:00<00:00, 100.00it/s, Loss: 1.287, Accuracy: 0.710]\n"
     ]
    },
    {
     "name": "stdout",
     "output_type": "stream",
     "text": [
      "Epoch 695: Train Loss: 1.405, Train Accuracy: 0.507, Test Loss: 1.287, Test Accuracy: 0.710\n"
     ]
    },
    {
     "name": "stderr",
     "output_type": "stream",
     "text": [
      "Epoch 696: 100%|██████████| 4/4 [00:00<00:00, 96.67it/s, Loss: 0.935, Accuracy: 0.597]\n",
      "Epoch 696: 100%|██████████| 1/1 [00:00<00:00, 143.12it/s, Loss: 1.287, Accuracy: 0.710]\n"
     ]
    },
    {
     "name": "stdout",
     "output_type": "stream",
     "text": [
      "Epoch 696: Train Loss: 1.385, Train Accuracy: 0.542, Test Loss: 1.287, Test Accuracy: 0.710\n"
     ]
    },
    {
     "name": "stderr",
     "output_type": "stream",
     "text": [
      "Epoch 697: 100%|██████████| 4/4 [00:00<00:00, 115.86it/s, Loss: 1.613, Accuracy: 0.471]\n",
      "Epoch 697: 100%|██████████| 1/1 [00:00<00:00, 200.51it/s, Loss: 1.289, Accuracy: 0.710]\n"
     ]
    },
    {
     "name": "stdout",
     "output_type": "stream",
     "text": [
      "Epoch 697: Train Loss: 1.391, Train Accuracy: 0.542, Test Loss: 1.289, Test Accuracy: 0.710\n"
     ]
    },
    {
     "name": "stderr",
     "output_type": "stream",
     "text": [
      "Epoch 698: 100%|██████████| 4/4 [00:00<00:00, 108.12it/s, Loss: 1.057, Accuracy: 0.688]\n",
      "Epoch 698: 100%|██████████| 1/1 [00:00<00:00, 188.94it/s, Loss: 1.291, Accuracy: 0.710]\n"
     ]
    },
    {
     "name": "stdout",
     "output_type": "stream",
     "text": [
      "Epoch 698: Train Loss: 1.436, Train Accuracy: 0.527, Test Loss: 1.291, Test Accuracy: 0.710\n"
     ]
    },
    {
     "name": "stderr",
     "output_type": "stream",
     "text": [
      "Epoch 699: 100%|██████████| 4/4 [00:00<00:00, 106.16it/s, Loss: 1.421, Accuracy: 0.363]\n",
      "Epoch 699: 100%|██████████| 1/1 [00:00<00:00, 197.87it/s, Loss: 1.294, Accuracy: 0.710]\n"
     ]
    },
    {
     "name": "stdout",
     "output_type": "stream",
     "text": [
      "Epoch 699: Train Loss: 1.444, Train Accuracy: 0.487, Test Loss: 1.294, Test Accuracy: 0.710\n"
     ]
    },
    {
     "name": "stderr",
     "output_type": "stream",
     "text": [
      "Epoch 700: 100%|██████████| 4/4 [00:00<00:00, 117.53it/s, Loss: 1.384, Accuracy: 0.623]\n",
      "Epoch 700: 100%|██████████| 1/1 [00:00<00:00, 164.97it/s, Loss: 1.302, Accuracy: 0.710]\n"
     ]
    },
    {
     "name": "stdout",
     "output_type": "stream",
     "text": [
      "Epoch 700: Train Loss: 1.454, Train Accuracy: 0.501, Test Loss: 1.302, Test Accuracy: 0.710\n"
     ]
    },
    {
     "name": "stderr",
     "output_type": "stream",
     "text": [
      "Epoch 701: 100%|██████████| 4/4 [00:00<00:00, 92.15it/s, Loss: 0.751, Accuracy: 0.831]\n",
      "Epoch 701: 100%|██████████| 1/1 [00:00<00:00, 142.85it/s, Loss: 1.308, Accuracy: 0.710]\n"
     ]
    },
    {
     "name": "stdout",
     "output_type": "stream",
     "text": [
      "Epoch 701: Train Loss: 1.305, Train Accuracy: 0.589, Test Loss: 1.308, Test Accuracy: 0.710\n"
     ]
    },
    {
     "name": "stderr",
     "output_type": "stream",
     "text": [
      "Epoch 702: 100%|██████████| 4/4 [00:00<00:00, 105.25it/s, Loss: 2.116, Accuracy: 0.134]\n",
      "Epoch 702: 100%|██████████| 1/1 [00:00<00:00, 181.02it/s, Loss: 1.302, Accuracy: 0.710]\n"
     ]
    },
    {
     "name": "stdout",
     "output_type": "stream",
     "text": [
      "Epoch 702: Train Loss: 1.391, Train Accuracy: 0.548, Test Loss: 1.302, Test Accuracy: 0.710\n"
     ]
    },
    {
     "name": "stderr",
     "output_type": "stream",
     "text": [
      "Epoch 703: 100%|██████████| 4/4 [00:00<00:00, 103.97it/s, Loss: 1.669, Accuracy: 0.455]\n",
      "Epoch 703: 100%|██████████| 1/1 [00:00<00:00, 142.89it/s, Loss: 1.304, Accuracy: 0.710]\n"
     ]
    },
    {
     "name": "stdout",
     "output_type": "stream",
     "text": [
      "Epoch 703: Train Loss: 1.377, Train Accuracy: 0.563, Test Loss: 1.304, Test Accuracy: 0.710\n"
     ]
    },
    {
     "name": "stderr",
     "output_type": "stream",
     "text": [
      "Epoch 704: 100%|██████████| 4/4 [00:00<00:00, 100.88it/s, Loss: 0.686, Accuracy: 0.701]\n",
      "Epoch 704: 100%|██████████| 1/1 [00:00<00:00, 166.75it/s, Loss: 1.301, Accuracy: 0.710]\n"
     ]
    },
    {
     "name": "stdout",
     "output_type": "stream",
     "text": [
      "Epoch 704: Train Loss: 1.384, Train Accuracy: 0.552, Test Loss: 1.301, Test Accuracy: 0.710\n"
     ]
    },
    {
     "name": "stderr",
     "output_type": "stream",
     "text": [
      "Epoch 705: 100%|██████████| 4/4 [00:00<00:00, 105.55it/s, Loss: 1.198, Accuracy: 0.548]\n",
      "Epoch 705: 100%|██████████| 1/1 [00:00<00:00, 168.27it/s, Loss: 1.299, Accuracy: 0.710]\n"
     ]
    },
    {
     "name": "stdout",
     "output_type": "stream",
     "text": [
      "Epoch 705: Train Loss: 1.440, Train Accuracy: 0.510, Test Loss: 1.299, Test Accuracy: 0.710\n"
     ]
    },
    {
     "name": "stderr",
     "output_type": "stream",
     "text": [
      "Epoch 706: 100%|██████████| 4/4 [00:00<00:00, 80.56it/s, Loss: 1.638, Accuracy: 0.365]\n",
      "Epoch 706: 100%|██████████| 1/1 [00:00<00:00, 140.23it/s, Loss: 1.302, Accuracy: 0.710]\n"
     ]
    },
    {
     "name": "stdout",
     "output_type": "stream",
     "text": [
      "Epoch 706: Train Loss: 1.417, Train Accuracy: 0.546, Test Loss: 1.302, Test Accuracy: 0.710\n"
     ]
    },
    {
     "name": "stderr",
     "output_type": "stream",
     "text": [
      "Epoch 707: 100%|██████████| 4/4 [00:00<00:00, 114.31it/s, Loss: 1.293, Accuracy: 0.806]\n",
      "Epoch 707: 100%|██████████| 1/1 [00:00<00:00, 177.11it/s, Loss: 1.309, Accuracy: 0.710]\n"
     ]
    },
    {
     "name": "stdout",
     "output_type": "stream",
     "text": [
      "Epoch 707: Train Loss: 1.377, Train Accuracy: 0.556, Test Loss: 1.309, Test Accuracy: 0.710\n"
     ]
    },
    {
     "name": "stderr",
     "output_type": "stream",
     "text": [
      "Epoch 708: 100%|██████████| 4/4 [00:00<00:00, 117.79it/s, Loss: 1.181, Accuracy: 0.538]\n",
      "Epoch 708: 100%|██████████| 1/1 [00:00<00:00, 211.08it/s, Loss: 1.307, Accuracy: 0.710]\n"
     ]
    },
    {
     "name": "stdout",
     "output_type": "stream",
     "text": [
      "Epoch 708: Train Loss: 1.396, Train Accuracy: 0.545, Test Loss: 1.307, Test Accuracy: 0.710\n"
     ]
    },
    {
     "name": "stderr",
     "output_type": "stream",
     "text": [
      "Epoch 709: 100%|██████████| 4/4 [00:00<00:00, 114.62it/s, Loss: 0.974, Accuracy: 0.620]\n",
      "Epoch 709: 100%|██████████| 1/1 [00:00<00:00, 186.46it/s, Loss: 1.305, Accuracy: 0.710]\n"
     ]
    },
    {
     "name": "stdout",
     "output_type": "stream",
     "text": [
      "Epoch 709: Train Loss: 1.300, Train Accuracy: 0.565, Test Loss: 1.305, Test Accuracy: 0.710\n"
     ]
    },
    {
     "name": "stderr",
     "output_type": "stream",
     "text": [
      "Epoch 710: 100%|██████████| 4/4 [00:00<00:00, 120.39it/s, Loss: 1.656, Accuracy: 0.360]\n",
      "Epoch 710: 100%|██████████| 1/1 [00:00<00:00, 197.75it/s, Loss: 1.307, Accuracy: 0.710]\n"
     ]
    },
    {
     "name": "stdout",
     "output_type": "stream",
     "text": [
      "Epoch 710: Train Loss: 1.388, Train Accuracy: 0.538, Test Loss: 1.307, Test Accuracy: 0.710\n"
     ]
    },
    {
     "name": "stderr",
     "output_type": "stream",
     "text": [
      "Epoch 711: 100%|██████████| 4/4 [00:00<00:00, 90.17it/s, Loss: 0.909, Accuracy: 0.786]\n",
      "Epoch 711: 100%|██████████| 1/1 [00:00<00:00, 132.29it/s, Loss: 1.307, Accuracy: 0.710]\n"
     ]
    },
    {
     "name": "stdout",
     "output_type": "stream",
     "text": [
      "Epoch 711: Train Loss: 1.404, Train Accuracy: 0.543, Test Loss: 1.307, Test Accuracy: 0.710\n"
     ]
    },
    {
     "name": "stderr",
     "output_type": "stream",
     "text": [
      "Epoch 712: 100%|██████████| 4/4 [00:00<00:00, 111.95it/s, Loss: 1.996, Accuracy: 0.138]\n",
      "Epoch 712: 100%|██████████| 1/1 [00:00<00:00, 164.81it/s, Loss: 1.298, Accuracy: 0.710]\n"
     ]
    },
    {
     "name": "stdout",
     "output_type": "stream",
     "text": [
      "Epoch 712: Train Loss: 1.392, Train Accuracy: 0.565, Test Loss: 1.298, Test Accuracy: 0.710\n"
     ]
    },
    {
     "name": "stderr",
     "output_type": "stream",
     "text": [
      "Epoch 713: 100%|██████████| 4/4 [00:00<00:00, 112.87it/s, Loss: 1.180, Accuracy: 0.519]\n",
      "Epoch 713: 100%|██████████| 1/1 [00:00<00:00, 199.89it/s, Loss: 1.287, Accuracy: 0.710]\n"
     ]
    },
    {
     "name": "stdout",
     "output_type": "stream",
     "text": [
      "Epoch 713: Train Loss: 1.328, Train Accuracy: 0.588, Test Loss: 1.287, Test Accuracy: 0.710\n"
     ]
    },
    {
     "name": "stderr",
     "output_type": "stream",
     "text": [
      "Epoch 714: 100%|██████████| 4/4 [00:00<00:00, 112.14it/s, Loss: 1.828, Accuracy: 0.387]\n",
      "Epoch 714: 100%|██████████| 1/1 [00:00<00:00, 166.24it/s, Loss: 1.275, Accuracy: 0.710]\n"
     ]
    },
    {
     "name": "stdout",
     "output_type": "stream",
     "text": [
      "Epoch 714: Train Loss: 1.397, Train Accuracy: 0.534, Test Loss: 1.275, Test Accuracy: 0.710\n"
     ]
    },
    {
     "name": "stderr",
     "output_type": "stream",
     "text": [
      "Epoch 715: 100%|██████████| 4/4 [00:00<00:00, 110.83it/s, Loss: 1.711, Accuracy: 0.541]\n",
      "Epoch 715: 100%|██████████| 1/1 [00:00<00:00, 167.10it/s, Loss: 1.278, Accuracy: 0.710]\n"
     ]
    },
    {
     "name": "stdout",
     "output_type": "stream",
     "text": [
      "Epoch 715: Train Loss: 1.468, Train Accuracy: 0.476, Test Loss: 1.278, Test Accuracy: 0.710\n"
     ]
    },
    {
     "name": "stderr",
     "output_type": "stream",
     "text": [
      "Epoch 716: 100%|██████████| 4/4 [00:00<00:00, 118.17it/s, Loss: 1.626, Accuracy: 0.533]\n",
      "Epoch 716: 100%|██████████| 1/1 [00:00<00:00, 152.63it/s, Loss: 1.275, Accuracy: 0.710]\n"
     ]
    },
    {
     "name": "stdout",
     "output_type": "stream",
     "text": [
      "Epoch 716: Train Loss: 1.407, Train Accuracy: 0.532, Test Loss: 1.275, Test Accuracy: 0.710\n"
     ]
    },
    {
     "name": "stderr",
     "output_type": "stream",
     "text": [
      "Epoch 717: 100%|██████████| 4/4 [00:00<00:00, 101.05it/s, Loss: 1.282, Accuracy: 0.728]\n",
      "Epoch 717: 100%|██████████| 1/1 [00:00<00:00, 200.03it/s, Loss: 1.279, Accuracy: 0.710]\n"
     ]
    },
    {
     "name": "stdout",
     "output_type": "stream",
     "text": [
      "Epoch 717: Train Loss: 1.471, Train Accuracy: 0.499, Test Loss: 1.279, Test Accuracy: 0.710\n"
     ]
    },
    {
     "name": "stderr",
     "output_type": "stream",
     "text": [
      "Epoch 718: 100%|██████████| 4/4 [00:00<00:00, 110.44it/s, Loss: 1.495, Accuracy: 0.527]\n",
      "Epoch 718: 100%|██████████| 1/1 [00:00<00:00, 248.45it/s, Loss: 1.281, Accuracy: 0.710]\n"
     ]
    },
    {
     "name": "stdout",
     "output_type": "stream",
     "text": [
      "Epoch 718: Train Loss: 1.401, Train Accuracy: 0.530, Test Loss: 1.281, Test Accuracy: 0.710\n"
     ]
    },
    {
     "name": "stderr",
     "output_type": "stream",
     "text": [
      "Epoch 719: 100%|██████████| 4/4 [00:00<00:00, 124.98it/s, Loss: 1.669, Accuracy: 0.433]\n",
      "Epoch 719: 100%|██████████| 1/1 [00:00<00:00, 249.33it/s, Loss: 1.276, Accuracy: 0.710]\n"
     ]
    },
    {
     "name": "stdout",
     "output_type": "stream",
     "text": [
      "Epoch 719: Train Loss: 1.387, Train Accuracy: 0.571, Test Loss: 1.276, Test Accuracy: 0.710\n"
     ]
    },
    {
     "name": "stderr",
     "output_type": "stream",
     "text": [
      "Epoch 720: 100%|██████████| 4/4 [00:00<00:00, 121.25it/s, Loss: 0.645, Accuracy: 0.793]\n",
      "Epoch 720: 100%|██████████| 1/1 [00:00<00:00, 243.67it/s, Loss: 1.272, Accuracy: 0.710]\n"
     ]
    },
    {
     "name": "stdout",
     "output_type": "stream",
     "text": [
      "Epoch 720: Train Loss: 1.331, Train Accuracy: 0.576, Test Loss: 1.272, Test Accuracy: 0.710\n"
     ]
    },
    {
     "name": "stderr",
     "output_type": "stream",
     "text": [
      "Epoch 721: 100%|██████████| 4/4 [00:00<00:00, 116.15it/s, Loss: 1.188, Accuracy: 0.741]\n",
      "Epoch 721: 100%|██████████| 1/1 [00:00<00:00, 250.23it/s, Loss: 1.277, Accuracy: 0.710]\n"
     ]
    },
    {
     "name": "stdout",
     "output_type": "stream",
     "text": [
      "Epoch 721: Train Loss: 1.403, Train Accuracy: 0.529, Test Loss: 1.277, Test Accuracy: 0.710\n"
     ]
    },
    {
     "name": "stderr",
     "output_type": "stream",
     "text": [
      "Epoch 722: 100%|██████████| 4/4 [00:00<00:00, 107.73it/s, Loss: 1.920, Accuracy: 0.217]\n",
      "Epoch 722: 100%|██████████| 1/1 [00:00<00:00, 246.56it/s, Loss: 1.272, Accuracy: 0.710]\n"
     ]
    },
    {
     "name": "stdout",
     "output_type": "stream",
     "text": [
      "Epoch 722: Train Loss: 1.384, Train Accuracy: 0.533, Test Loss: 1.272, Test Accuracy: 0.710\n"
     ]
    },
    {
     "name": "stderr",
     "output_type": "stream",
     "text": [
      "Epoch 723: 100%|██████████| 4/4 [00:00<00:00, 98.95it/s, Loss: 0.872, Accuracy: 0.701]\n",
      "Epoch 723: 100%|██████████| 1/1 [00:00<00:00, 167.11it/s, Loss: 1.271, Accuracy: 0.710]\n"
     ]
    },
    {
     "name": "stdout",
     "output_type": "stream",
     "text": [
      "Epoch 723: Train Loss: 1.386, Train Accuracy: 0.544, Test Loss: 1.271, Test Accuracy: 0.710\n"
     ]
    },
    {
     "name": "stderr",
     "output_type": "stream",
     "text": [
      "Epoch 724: 100%|██████████| 4/4 [00:00<00:00, 113.92it/s, Loss: 1.749, Accuracy: 0.432]\n",
      "Epoch 724: 100%|██████████| 1/1 [00:00<00:00, 166.76it/s, Loss: 1.274, Accuracy: 0.710]\n"
     ]
    },
    {
     "name": "stdout",
     "output_type": "stream",
     "text": [
      "Epoch 724: Train Loss: 1.413, Train Accuracy: 0.539, Test Loss: 1.274, Test Accuracy: 0.710\n"
     ]
    },
    {
     "name": "stderr",
     "output_type": "stream",
     "text": [
      "Epoch 725: 100%|██████████| 4/4 [00:00<00:00, 111.97it/s, Loss: 1.594, Accuracy: 0.541]\n",
      "Epoch 725: 100%|██████████| 1/1 [00:00<00:00, 251.20it/s, Loss: 1.276, Accuracy: 0.710]\n"
     ]
    },
    {
     "name": "stdout",
     "output_type": "stream",
     "text": [
      "Epoch 725: Train Loss: 1.448, Train Accuracy: 0.542, Test Loss: 1.276, Test Accuracy: 0.710\n"
     ]
    },
    {
     "name": "stderr",
     "output_type": "stream",
     "text": [
      "Epoch 726: 100%|██████████| 4/4 [00:00<00:00, 114.19it/s, Loss: 1.550, Accuracy: 0.380]\n",
      "Epoch 726: 100%|██████████| 1/1 [00:00<00:00, 248.18it/s, Loss: 1.275, Accuracy: 0.710]\n"
     ]
    },
    {
     "name": "stdout",
     "output_type": "stream",
     "text": [
      "Epoch 726: Train Loss: 1.401, Train Accuracy: 0.555, Test Loss: 1.275, Test Accuracy: 0.710\n"
     ]
    },
    {
     "name": "stderr",
     "output_type": "stream",
     "text": [
      "Epoch 727: 100%|██████████| 4/4 [00:00<00:00, 114.07it/s, Loss: 0.842, Accuracy: 0.815]\n",
      "Epoch 727: 100%|██████████| 1/1 [00:00<00:00, 212.77it/s, Loss: 1.279, Accuracy: 0.710]\n"
     ]
    },
    {
     "name": "stdout",
     "output_type": "stream",
     "text": [
      "Epoch 727: Train Loss: 1.388, Train Accuracy: 0.555, Test Loss: 1.279, Test Accuracy: 0.710\n"
     ]
    },
    {
     "name": "stderr",
     "output_type": "stream",
     "text": [
      "Epoch 728: 100%|██████████| 4/4 [00:00<00:00, 105.76it/s, Loss: 1.401, Accuracy: 0.551]\n",
      "Epoch 728: 100%|██████████| 1/1 [00:00<00:00, 215.36it/s, Loss: 1.279, Accuracy: 0.710]\n"
     ]
    },
    {
     "name": "stdout",
     "output_type": "stream",
     "text": [
      "Epoch 728: Train Loss: 1.394, Train Accuracy: 0.541, Test Loss: 1.279, Test Accuracy: 0.710\n"
     ]
    },
    {
     "name": "stderr",
     "output_type": "stream",
     "text": [
      "Epoch 729: 100%|██████████| 4/4 [00:00<00:00, 120.53it/s, Loss: 1.185, Accuracy: 0.720]\n",
      "Epoch 729: 100%|██████████| 1/1 [00:00<00:00, 164.70it/s, Loss: 1.277, Accuracy: 0.710]\n"
     ]
    },
    {
     "name": "stdout",
     "output_type": "stream",
     "text": [
      "Epoch 729: Train Loss: 1.477, Train Accuracy: 0.499, Test Loss: 1.277, Test Accuracy: 0.710\n"
     ]
    },
    {
     "name": "stderr",
     "output_type": "stream",
     "text": [
      "Epoch 730: 100%|██████████| 4/4 [00:00<00:00, 97.15it/s, Loss: 0.960, Accuracy: 0.716]\n",
      "Epoch 730: 100%|██████████| 1/1 [00:00<00:00, 166.18it/s, Loss: 1.279, Accuracy: 0.710]\n"
     ]
    },
    {
     "name": "stdout",
     "output_type": "stream",
     "text": [
      "Epoch 730: Train Loss: 1.339, Train Accuracy: 0.554, Test Loss: 1.279, Test Accuracy: 0.710\n"
     ]
    },
    {
     "name": "stderr",
     "output_type": "stream",
     "text": [
      "Epoch 731: 100%|██████████| 4/4 [00:00<00:00, 109.35it/s, Loss: 1.544, Accuracy: 0.550]\n",
      "Epoch 731: 100%|██████████| 1/1 [00:00<00:00, 199.25it/s, Loss: 1.284, Accuracy: 0.710]\n"
     ]
    },
    {
     "name": "stdout",
     "output_type": "stream",
     "text": [
      "Epoch 731: Train Loss: 1.441, Train Accuracy: 0.529, Test Loss: 1.284, Test Accuracy: 0.710\n"
     ]
    },
    {
     "name": "stderr",
     "output_type": "stream",
     "text": [
      "Epoch 732: 100%|██████████| 4/4 [00:00<00:00, 109.89it/s, Loss: 1.553, Accuracy: 0.531]\n",
      "Epoch 732: 100%|██████████| 1/1 [00:00<00:00, 250.59it/s, Loss: 1.282, Accuracy: 0.710]\n"
     ]
    },
    {
     "name": "stdout",
     "output_type": "stream",
     "text": [
      "Epoch 732: Train Loss: 1.386, Train Accuracy: 0.549, Test Loss: 1.282, Test Accuracy: 0.710\n"
     ]
    },
    {
     "name": "stderr",
     "output_type": "stream",
     "text": [
      "Epoch 733: 100%|██████████| 4/4 [00:00<00:00, 111.00it/s, Loss: 1.970, Accuracy: 0.284]\n",
      "Epoch 733: 100%|██████████| 1/1 [00:00<00:00, 244.04it/s, Loss: 1.284, Accuracy: 0.710]\n"
     ]
    },
    {
     "name": "stdout",
     "output_type": "stream",
     "text": [
      "Epoch 733: Train Loss: 1.465, Train Accuracy: 0.518, Test Loss: 1.284, Test Accuracy: 0.710\n"
     ]
    },
    {
     "name": "stderr",
     "output_type": "stream",
     "text": [
      "Epoch 734: 100%|██████████| 4/4 [00:00<00:00, 105.85it/s, Loss: 0.824, Accuracy: 0.763]\n",
      "Epoch 734: 100%|██████████| 1/1 [00:00<00:00, 197.94it/s, Loss: 1.283, Accuracy: 0.710]\n"
     ]
    },
    {
     "name": "stdout",
     "output_type": "stream",
     "text": [
      "Epoch 734: Train Loss: 1.411, Train Accuracy: 0.543, Test Loss: 1.283, Test Accuracy: 0.710\n"
     ]
    },
    {
     "name": "stderr",
     "output_type": "stream",
     "text": [
      "Epoch 735: 100%|██████████| 4/4 [00:00<00:00, 114.31it/s, Loss: 1.826, Accuracy: 0.298]\n",
      "Epoch 735: 100%|██████████| 1/1 [00:00<00:00, 164.73it/s, Loss: 1.285, Accuracy: 0.710]\n"
     ]
    },
    {
     "name": "stdout",
     "output_type": "stream",
     "text": [
      "Epoch 735: Train Loss: 1.345, Train Accuracy: 0.567, Test Loss: 1.285, Test Accuracy: 0.710\n"
     ]
    },
    {
     "name": "stderr",
     "output_type": "stream",
     "text": [
      "Epoch 736: 100%|██████████| 4/4 [00:00<00:00, 118.67it/s, Loss: 1.453, Accuracy: 0.529]\n",
      "Epoch 736: 100%|██████████| 1/1 [00:00<00:00, 193.24it/s, Loss: 1.285, Accuracy: 0.710]\n"
     ]
    },
    {
     "name": "stdout",
     "output_type": "stream",
     "text": [
      "Epoch 736: Train Loss: 1.370, Train Accuracy: 0.567, Test Loss: 1.285, Test Accuracy: 0.710\n"
     ]
    },
    {
     "name": "stderr",
     "output_type": "stream",
     "text": [
      "Epoch 737: 100%|██████████| 4/4 [00:00<00:00, 117.45it/s, Loss: 1.436, Accuracy: 0.702]\n",
      "Epoch 737: 100%|██████████| 1/1 [00:00<00:00, 203.68it/s, Loss: 1.290, Accuracy: 0.710]\n"
     ]
    },
    {
     "name": "stdout",
     "output_type": "stream",
     "text": [
      "Epoch 737: Train Loss: 1.444, Train Accuracy: 0.530, Test Loss: 1.290, Test Accuracy: 0.710\n"
     ]
    },
    {
     "name": "stderr",
     "output_type": "stream",
     "text": [
      "Epoch 738: 100%|██████████| 4/4 [00:00<00:00, 96.33it/s, Loss: 1.162, Accuracy: 0.673]\n",
      "Epoch 738: 100%|██████████| 1/1 [00:00<00:00, 166.65it/s, Loss: 1.288, Accuracy: 0.710]\n"
     ]
    },
    {
     "name": "stdout",
     "output_type": "stream",
     "text": [
      "Epoch 738: Train Loss: 1.347, Train Accuracy: 0.568, Test Loss: 1.288, Test Accuracy: 0.710\n"
     ]
    },
    {
     "name": "stderr",
     "output_type": "stream",
     "text": [
      "Epoch 739: 100%|██████████| 4/4 [00:00<00:00, 117.81it/s, Loss: 1.438, Accuracy: 0.721]\n",
      "Epoch 739: 100%|██████████| 1/1 [00:00<00:00, 146.32it/s, Loss: 1.283, Accuracy: 0.720]\n"
     ]
    },
    {
     "name": "stdout",
     "output_type": "stream",
     "text": [
      "Epoch 739: Train Loss: 1.340, Train Accuracy: 0.547, Test Loss: 1.283, Test Accuracy: 0.720\n"
     ]
    },
    {
     "name": "stderr",
     "output_type": "stream",
     "text": [
      "Epoch 740: 100%|██████████| 4/4 [00:00<00:00, 120.91it/s, Loss: 1.847, Accuracy: 0.479]\n",
      "Epoch 740: 100%|██████████| 1/1 [00:00<00:00, 217.19it/s, Loss: 1.279, Accuracy: 0.730]\n"
     ]
    },
    {
     "name": "stdout",
     "output_type": "stream",
     "text": [
      "Epoch 740: Train Loss: 1.346, Train Accuracy: 0.555, Test Loss: 1.279, Test Accuracy: 0.730\n"
     ]
    },
    {
     "name": "stderr",
     "output_type": "stream",
     "text": [
      "Epoch 741: 100%|██████████| 4/4 [00:00<00:00, 115.89it/s, Loss: 1.244, Accuracy: 0.613]\n",
      "Epoch 741: 100%|██████████| 1/1 [00:00<00:00, 164.77it/s, Loss: 1.271, Accuracy: 0.730]\n"
     ]
    },
    {
     "name": "stdout",
     "output_type": "stream",
     "text": [
      "Epoch 741: Train Loss: 1.389, Train Accuracy: 0.550, Test Loss: 1.271, Test Accuracy: 0.730\n"
     ]
    },
    {
     "name": "stderr",
     "output_type": "stream",
     "text": [
      "Epoch 742: 100%|██████████| 4/4 [00:00<00:00, 133.00it/s, Loss: 1.735, Accuracy: 0.394]\n",
      "Epoch 742: 100%|██████████| 1/1 [00:00<00:00, 166.66it/s, Loss: 1.270, Accuracy: 0.730]\n"
     ]
    },
    {
     "name": "stdout",
     "output_type": "stream",
     "text": [
      "Epoch 742: Train Loss: 1.385, Train Accuracy: 0.551, Test Loss: 1.270, Test Accuracy: 0.730\n"
     ]
    },
    {
     "name": "stderr",
     "output_type": "stream",
     "text": [
      "Epoch 743: 100%|██████████| 4/4 [00:00<00:00, 118.30it/s, Loss: 1.042, Accuracy: 0.613]\n",
      "Epoch 743: 100%|██████████| 1/1 [00:00<00:00, 250.53it/s, Loss: 1.265, Accuracy: 0.730]\n"
     ]
    },
    {
     "name": "stdout",
     "output_type": "stream",
     "text": [
      "Epoch 743: Train Loss: 1.315, Train Accuracy: 0.573, Test Loss: 1.265, Test Accuracy: 0.730\n"
     ]
    },
    {
     "name": "stderr",
     "output_type": "stream",
     "text": [
      "Epoch 744: 100%|██████████| 4/4 [00:00<00:00, 115.64it/s, Loss: 2.204, Accuracy: 0.168]\n",
      "Epoch 744: 100%|██████████| 1/1 [00:00<00:00, 197.89it/s, Loss: 1.288, Accuracy: 0.720]\n"
     ]
    },
    {
     "name": "stdout",
     "output_type": "stream",
     "text": [
      "Epoch 744: Train Loss: 1.437, Train Accuracy: 0.512, Test Loss: 1.288, Test Accuracy: 0.720\n"
     ]
    },
    {
     "name": "stderr",
     "output_type": "stream",
     "text": [
      "Epoch 745: 100%|██████████| 4/4 [00:00<00:00, 126.22it/s, Loss: 1.109, Accuracy: 0.660]\n",
      "Epoch 745: 100%|██████████| 1/1 [00:00<00:00, 199.70it/s, Loss: 1.278, Accuracy: 0.720]\n"
     ]
    },
    {
     "name": "stdout",
     "output_type": "stream",
     "text": [
      "Epoch 745: Train Loss: 1.386, Train Accuracy: 0.550, Test Loss: 1.278, Test Accuracy: 0.720\n"
     ]
    },
    {
     "name": "stderr",
     "output_type": "stream",
     "text": [
      "Epoch 746: 100%|██████████| 4/4 [00:00<00:00, 119.44it/s, Loss: 1.950, Accuracy: 0.216]\n",
      "Epoch 746: 100%|██████████| 1/1 [00:00<00:00, 164.70it/s, Loss: 1.262, Accuracy: 0.720]\n"
     ]
    },
    {
     "name": "stdout",
     "output_type": "stream",
     "text": [
      "Epoch 746: Train Loss: 1.436, Train Accuracy: 0.521, Test Loss: 1.262, Test Accuracy: 0.720\n"
     ]
    },
    {
     "name": "stderr",
     "output_type": "stream",
     "text": [
      "Epoch 747: 100%|██████████| 4/4 [00:00<00:00, 87.87it/s, Loss: 0.881, Accuracy: 0.895]\n",
      "Epoch 747: 100%|██████████| 1/1 [00:00<00:00, 142.78it/s, Loss: 1.225, Accuracy: 0.770]\n"
     ]
    },
    {
     "name": "stdout",
     "output_type": "stream",
     "text": [
      "Epoch 747: Train Loss: 1.426, Train Accuracy: 0.521, Test Loss: 1.225, Test Accuracy: 0.770\n"
     ]
    },
    {
     "name": "stderr",
     "output_type": "stream",
     "text": [
      "Epoch 748: 100%|██████████| 4/4 [00:00<00:00, 118.95it/s, Loss: 1.299, Accuracy: 0.618]\n",
      "Epoch 748: 100%|██████████| 1/1 [00:00<00:00, 199.39it/s, Loss: 1.209, Accuracy: 0.800]\n"
     ]
    },
    {
     "name": "stdout",
     "output_type": "stream",
     "text": [
      "Epoch 748: Train Loss: 1.401, Train Accuracy: 0.549, Test Loss: 1.209, Test Accuracy: 0.800\n"
     ]
    },
    {
     "name": "stderr",
     "output_type": "stream",
     "text": [
      "Epoch 749: 100%|██████████| 4/4 [00:00<00:00, 106.68it/s, Loss: 1.505, Accuracy: 0.385]\n",
      "Epoch 749: 100%|██████████| 1/1 [00:00<00:00, 200.10it/s, Loss: 1.203, Accuracy: 0.800]\n"
     ]
    },
    {
     "name": "stdout",
     "output_type": "stream",
     "text": [
      "Epoch 749: Train Loss: 1.382, Train Accuracy: 0.559, Test Loss: 1.203, Test Accuracy: 0.800\n"
     ]
    },
    {
     "name": "stderr",
     "output_type": "stream",
     "text": [
      "Epoch 750: 100%|██████████| 4/4 [00:00<00:00, 114.84it/s, Loss: 1.372, Accuracy: 0.525]\n",
      "Epoch 750: 100%|██████████| 1/1 [00:00<00:00, 200.00it/s, Loss: 1.205, Accuracy: 0.800]\n"
     ]
    },
    {
     "name": "stdout",
     "output_type": "stream",
     "text": [
      "Epoch 750: Train Loss: 1.407, Train Accuracy: 0.539, Test Loss: 1.205, Test Accuracy: 0.800\n"
     ]
    },
    {
     "name": "stderr",
     "output_type": "stream",
     "text": [
      "Epoch 751: 100%|██████████| 4/4 [00:00<00:00, 118.78it/s, Loss: 1.071, Accuracy: 0.829]\n",
      "Epoch 751: 100%|██████████| 1/1 [00:00<00:00, 197.69it/s, Loss: 1.201, Accuracy: 0.800]\n"
     ]
    },
    {
     "name": "stdout",
     "output_type": "stream",
     "text": [
      "Epoch 751: Train Loss: 1.449, Train Accuracy: 0.528, Test Loss: 1.201, Test Accuracy: 0.800\n"
     ]
    },
    {
     "name": "stderr",
     "output_type": "stream",
     "text": [
      "Epoch 752: 100%|██████████| 4/4 [00:00<00:00, 118.45it/s, Loss: 1.214, Accuracy: 0.672]\n",
      "Epoch 752: 100%|██████████| 1/1 [00:00<00:00, 200.12it/s, Loss: 1.206, Accuracy: 0.770]\n"
     ]
    },
    {
     "name": "stdout",
     "output_type": "stream",
     "text": [
      "Epoch 752: Train Loss: 1.407, Train Accuracy: 0.547, Test Loss: 1.206, Test Accuracy: 0.770\n"
     ]
    },
    {
     "name": "stderr",
     "output_type": "stream",
     "text": [
      "Epoch 753: 100%|██████████| 4/4 [00:00<00:00, 112.39it/s, Loss: 1.489, Accuracy: 0.397]\n",
      "Epoch 753: 100%|██████████| 1/1 [00:00<00:00, 250.53it/s, Loss: 1.220, Accuracy: 0.770]\n"
     ]
    },
    {
     "name": "stdout",
     "output_type": "stream",
     "text": [
      "Epoch 753: Train Loss: 1.366, Train Accuracy: 0.540, Test Loss: 1.220, Test Accuracy: 0.770\n"
     ]
    },
    {
     "name": "stderr",
     "output_type": "stream",
     "text": [
      "Epoch 754: 100%|██████████| 4/4 [00:00<00:00, 114.68it/s, Loss: 1.958, Accuracy: 0.246]\n",
      "Epoch 754: 100%|██████████| 1/1 [00:00<00:00, 251.22it/s, Loss: 1.219, Accuracy: 0.770]\n"
     ]
    },
    {
     "name": "stdout",
     "output_type": "stream",
     "text": [
      "Epoch 754: Train Loss: 1.352, Train Accuracy: 0.560, Test Loss: 1.219, Test Accuracy: 0.770\n"
     ]
    },
    {
     "name": "stderr",
     "output_type": "stream",
     "text": [
      "Epoch 755: 100%|██████████| 4/4 [00:00<00:00, 117.68it/s, Loss: 1.465, Accuracy: 0.529]\n",
      "Epoch 755: 100%|██████████| 1/1 [00:00<00:00, 215.41it/s, Loss: 1.190, Accuracy: 0.800]\n"
     ]
    },
    {
     "name": "stdout",
     "output_type": "stream",
     "text": [
      "Epoch 755: Train Loss: 1.413, Train Accuracy: 0.530, Test Loss: 1.190, Test Accuracy: 0.800\n"
     ]
    },
    {
     "name": "stderr",
     "output_type": "stream",
     "text": [
      "Epoch 756: 100%|██████████| 4/4 [00:00<00:00, 92.33it/s, Loss: 0.838, Accuracy: 0.683]\n",
      "Epoch 756: 100%|██████████| 1/1 [00:00<00:00, 142.97it/s, Loss: 1.187, Accuracy: 0.800]\n"
     ]
    },
    {
     "name": "stdout",
     "output_type": "stream",
     "text": [
      "Epoch 756: Train Loss: 1.356, Train Accuracy: 0.556, Test Loss: 1.187, Test Accuracy: 0.800\n"
     ]
    },
    {
     "name": "stderr",
     "output_type": "stream",
     "text": [
      "Epoch 757: 100%|██████████| 4/4 [00:00<00:00, 121.88it/s, Loss: 0.680, Accuracy: 0.874]\n",
      "Epoch 757: 100%|██████████| 1/1 [00:00<00:00, 165.12it/s, Loss: 1.189, Accuracy: 0.800]\n"
     ]
    },
    {
     "name": "stdout",
     "output_type": "stream",
     "text": [
      "Epoch 757: Train Loss: 1.446, Train Accuracy: 0.523, Test Loss: 1.189, Test Accuracy: 0.800\n"
     ]
    },
    {
     "name": "stderr",
     "output_type": "stream",
     "text": [
      "Epoch 758: 100%|██████████| 4/4 [00:00<00:00, 119.48it/s, Loss: 0.882, Accuracy: 0.763]\n",
      "Epoch 758: 100%|██████████| 1/1 [00:00<00:00, 166.76it/s, Loss: 1.193, Accuracy: 0.800]\n"
     ]
    },
    {
     "name": "stdout",
     "output_type": "stream",
     "text": [
      "Epoch 758: Train Loss: 1.489, Train Accuracy: 0.509, Test Loss: 1.193, Test Accuracy: 0.800\n"
     ]
    },
    {
     "name": "stderr",
     "output_type": "stream",
     "text": [
      "Epoch 759: 100%|██████████| 4/4 [00:00<00:00, 108.74it/s, Loss: 1.781, Accuracy: 0.419]\n",
      "Epoch 759: 100%|██████████| 1/1 [00:00<00:00, 246.69it/s, Loss: 1.185, Accuracy: 0.800]\n"
     ]
    },
    {
     "name": "stdout",
     "output_type": "stream",
     "text": [
      "Epoch 759: Train Loss: 1.383, Train Accuracy: 0.549, Test Loss: 1.185, Test Accuracy: 0.800\n"
     ]
    },
    {
     "name": "stderr",
     "output_type": "stream",
     "text": [
      "Epoch 760: 100%|██████████| 4/4 [00:00<00:00, 113.94it/s, Loss: 1.235, Accuracy: 0.659]\n",
      "Epoch 760: 100%|██████████| 1/1 [00:00<00:00, 234.75it/s, Loss: 1.174, Accuracy: 0.800]\n"
     ]
    },
    {
     "name": "stdout",
     "output_type": "stream",
     "text": [
      "Epoch 760: Train Loss: 1.369, Train Accuracy: 0.554, Test Loss: 1.174, Test Accuracy: 0.800\n"
     ]
    },
    {
     "name": "stderr",
     "output_type": "stream",
     "text": [
      "Epoch 761: 100%|██████████| 4/4 [00:00<00:00, 108.63it/s, Loss: 1.419, Accuracy: 0.703]\n",
      "Epoch 761: 100%|██████████| 1/1 [00:00<00:00, 200.21it/s, Loss: 1.183, Accuracy: 0.790]\n"
     ]
    },
    {
     "name": "stdout",
     "output_type": "stream",
     "text": [
      "Epoch 761: Train Loss: 1.401, Train Accuracy: 0.561, Test Loss: 1.183, Test Accuracy: 0.790\n"
     ]
    },
    {
     "name": "stderr",
     "output_type": "stream",
     "text": [
      "Epoch 762: 100%|██████████| 4/4 [00:00<00:00, 111.24it/s, Loss: 0.951, Accuracy: 0.620]\n",
      "Epoch 762: 100%|██████████| 1/1 [00:00<00:00, 199.60it/s, Loss: 1.170, Accuracy: 0.800]\n"
     ]
    },
    {
     "name": "stdout",
     "output_type": "stream",
     "text": [
      "Epoch 762: Train Loss: 1.400, Train Accuracy: 0.529, Test Loss: 1.170, Test Accuracy: 0.800\n"
     ]
    },
    {
     "name": "stderr",
     "output_type": "stream",
     "text": [
      "Epoch 763: 100%|██████████| 4/4 [00:00<00:00, 103.20it/s, Loss: 1.056, Accuracy: 0.817]\n",
      "Epoch 763: 100%|██████████| 1/1 [00:00<00:00, 165.18it/s, Loss: 1.171, Accuracy: 0.800]\n"
     ]
    },
    {
     "name": "stdout",
     "output_type": "stream",
     "text": [
      "Epoch 763: Train Loss: 1.401, Train Accuracy: 0.531, Test Loss: 1.171, Test Accuracy: 0.800\n"
     ]
    },
    {
     "name": "stderr",
     "output_type": "stream",
     "text": [
      "Epoch 764: 100%|██████████| 4/4 [00:00<00:00, 117.69it/s, Loss: 1.402, Accuracy: 0.475]\n",
      "Epoch 764: 100%|██████████| 1/1 [00:00<00:00, 213.95it/s, Loss: 1.241, Accuracy: 0.720]\n"
     ]
    },
    {
     "name": "stdout",
     "output_type": "stream",
     "text": [
      "Epoch 764: Train Loss: 1.333, Train Accuracy: 0.570, Test Loss: 1.241, Test Accuracy: 0.720\n"
     ]
    },
    {
     "name": "stderr",
     "output_type": "stream",
     "text": [
      "Epoch 765: 100%|██████████| 4/4 [00:00<00:00, 114.98it/s, Loss: 0.820, Accuracy: 0.727]\n",
      "Epoch 765: 100%|██████████| 1/1 [00:00<00:00, 197.84it/s, Loss: 1.237, Accuracy: 0.720]\n"
     ]
    },
    {
     "name": "stdout",
     "output_type": "stream",
     "text": [
      "Epoch 765: Train Loss: 1.306, Train Accuracy: 0.558, Test Loss: 1.237, Test Accuracy: 0.720\n"
     ]
    },
    {
     "name": "stderr",
     "output_type": "stream",
     "text": [
      "Epoch 766: 100%|██████████| 4/4 [00:00<00:00, 112.21it/s, Loss: 1.191, Accuracy: 0.683]\n",
      "Epoch 766: 100%|██████████| 1/1 [00:00<00:00, 165.46it/s, Loss: 1.230, Accuracy: 0.720]\n"
     ]
    },
    {
     "name": "stdout",
     "output_type": "stream",
     "text": [
      "Epoch 766: Train Loss: 1.366, Train Accuracy: 0.551, Test Loss: 1.230, Test Accuracy: 0.720\n"
     ]
    },
    {
     "name": "stderr",
     "output_type": "stream",
     "text": [
      "Epoch 767: 100%|██████████| 4/4 [00:00<00:00, 110.83it/s, Loss: 2.125, Accuracy: 0.078]\n",
      "Epoch 767: 100%|██████████| 1/1 [00:00<00:00, 217.64it/s, Loss: 1.182, Accuracy: 0.770]\n"
     ]
    },
    {
     "name": "stdout",
     "output_type": "stream",
     "text": [
      "Epoch 767: Train Loss: 1.394, Train Accuracy: 0.525, Test Loss: 1.182, Test Accuracy: 0.770\n"
     ]
    },
    {
     "name": "stderr",
     "output_type": "stream",
     "text": [
      "Epoch 768: 100%|██████████| 4/4 [00:00<00:00, 117.41it/s, Loss: 1.150, Accuracy: 0.552]\n",
      "Epoch 768: 100%|██████████| 1/1 [00:00<00:00, 246.59it/s, Loss: 1.146, Accuracy: 0.800]\n"
     ]
    },
    {
     "name": "stdout",
     "output_type": "stream",
     "text": [
      "Epoch 768: Train Loss: 1.347, Train Accuracy: 0.559, Test Loss: 1.146, Test Accuracy: 0.800\n"
     ]
    },
    {
     "name": "stderr",
     "output_type": "stream",
     "text": [
      "Epoch 769: 100%|██████████| 4/4 [00:00<00:00, 92.07it/s, Loss: 2.208, Accuracy: 0.178]\n",
      "Epoch 769: 100%|██████████| 1/1 [00:00<00:00, 117.95it/s, Loss: 1.262, Accuracy: 0.790]\n"
     ]
    },
    {
     "name": "stdout",
     "output_type": "stream",
     "text": [
      "Epoch 769: Train Loss: 1.442, Train Accuracy: 0.523, Test Loss: 1.262, Test Accuracy: 0.790\n"
     ]
    },
    {
     "name": "stderr",
     "output_type": "stream",
     "text": [
      "Epoch 770: 100%|██████████| 4/4 [00:00<00:00, 107.75it/s, Loss: 1.543, Accuracy: 0.587]\n",
      "Epoch 770: 100%|██████████| 1/1 [00:00<00:00, 136.39it/s, Loss: 1.286, Accuracy: 0.790]\n"
     ]
    },
    {
     "name": "stdout",
     "output_type": "stream",
     "text": [
      "Epoch 770: Train Loss: 1.345, Train Accuracy: 0.583, Test Loss: 1.286, Test Accuracy: 0.790\n"
     ]
    },
    {
     "name": "stderr",
     "output_type": "stream",
     "text": [
      "Epoch 771: 100%|██████████| 4/4 [00:00<00:00, 112.87it/s, Loss: 1.989, Accuracy: 0.269]\n",
      "Epoch 771: 100%|██████████| 1/1 [00:00<00:00, 210.08it/s, Loss: 1.288, Accuracy: 0.790]\n"
     ]
    },
    {
     "name": "stdout",
     "output_type": "stream",
     "text": [
      "Epoch 771: Train Loss: 1.437, Train Accuracy: 0.536, Test Loss: 1.288, Test Accuracy: 0.790\n"
     ]
    },
    {
     "name": "stderr",
     "output_type": "stream",
     "text": [
      "Epoch 772: 100%|██████████| 4/4 [00:00<00:00, 108.09it/s, Loss: 1.032, Accuracy: 0.673]\n",
      "Epoch 772: 100%|██████████| 1/1 [00:00<00:00, 198.15it/s, Loss: 1.279, Accuracy: 0.790]\n"
     ]
    },
    {
     "name": "stdout",
     "output_type": "stream",
     "text": [
      "Epoch 772: Train Loss: 1.409, Train Accuracy: 0.539, Test Loss: 1.279, Test Accuracy: 0.790\n"
     ]
    },
    {
     "name": "stderr",
     "output_type": "stream",
     "text": [
      "Epoch 773: 100%|██████████| 4/4 [00:00<00:00, 114.28it/s, Loss: 1.483, Accuracy: 0.505]\n",
      "Epoch 773: 100%|██████████| 1/1 [00:00<00:00, 245.86it/s, Loss: 1.278, Accuracy: 0.790]\n"
     ]
    },
    {
     "name": "stdout",
     "output_type": "stream",
     "text": [
      "Epoch 773: Train Loss: 1.433, Train Accuracy: 0.518, Test Loss: 1.278, Test Accuracy: 0.790\n"
     ]
    },
    {
     "name": "stderr",
     "output_type": "stream",
     "text": [
      "Epoch 774: 100%|██████████| 4/4 [00:00<00:00, 118.64it/s, Loss: 1.763, Accuracy: 0.193]\n",
      "Epoch 774: 100%|██████████| 1/1 [00:00<00:00, 250.50it/s, Loss: 1.261, Accuracy: 0.790]\n"
     ]
    },
    {
     "name": "stdout",
     "output_type": "stream",
     "text": [
      "Epoch 774: Train Loss: 1.453, Train Accuracy: 0.500, Test Loss: 1.261, Test Accuracy: 0.790\n"
     ]
    },
    {
     "name": "stderr",
     "output_type": "stream",
     "text": [
      "Epoch 775: 100%|██████████| 4/4 [00:00<00:00, 117.65it/s, Loss: 1.827, Accuracy: 0.385]\n",
      "Epoch 775: 100%|██████████| 1/1 [00:00<00:00, 204.50it/s, Loss: 1.275, Accuracy: 0.790]\n"
     ]
    },
    {
     "name": "stdout",
     "output_type": "stream",
     "text": [
      "Epoch 775: Train Loss: 1.370, Train Accuracy: 0.536, Test Loss: 1.275, Test Accuracy: 0.790\n"
     ]
    },
    {
     "name": "stderr",
     "output_type": "stream",
     "text": [
      "Epoch 776: 100%|██████████| 4/4 [00:00<00:00, 98.34it/s, Loss: 1.778, Accuracy: 0.246]\n",
      "Epoch 776: 100%|██████████| 1/1 [00:00<00:00, 200.14it/s, Loss: 1.273, Accuracy: 0.780]\n"
     ]
    },
    {
     "name": "stdout",
     "output_type": "stream",
     "text": [
      "Epoch 776: Train Loss: 1.403, Train Accuracy: 0.541, Test Loss: 1.273, Test Accuracy: 0.780\n"
     ]
    },
    {
     "name": "stderr",
     "output_type": "stream",
     "text": [
      "Epoch 777: 100%|██████████| 4/4 [00:00<00:00, 111.03it/s, Loss: 1.180, Accuracy: 0.750]\n",
      "Epoch 777: 100%|██████████| 1/1 [00:00<00:00, 205.51it/s, Loss: 1.270, Accuracy: 0.770]\n"
     ]
    },
    {
     "name": "stdout",
     "output_type": "stream",
     "text": [
      "Epoch 777: Train Loss: 1.390, Train Accuracy: 0.571, Test Loss: 1.270, Test Accuracy: 0.770\n"
     ]
    },
    {
     "name": "stderr",
     "output_type": "stream",
     "text": [
      "Epoch 778: 100%|██████████| 4/4 [00:00<00:00, 125.47it/s, Loss: 1.834, Accuracy: 0.353]\n",
      "Epoch 778: 100%|██████████| 1/1 [00:00<00:00, 199.31it/s, Loss: 1.272, Accuracy: 0.770]\n"
     ]
    },
    {
     "name": "stdout",
     "output_type": "stream",
     "text": [
      "Epoch 778: Train Loss: 1.401, Train Accuracy: 0.557, Test Loss: 1.272, Test Accuracy: 0.770\n"
     ]
    },
    {
     "name": "stderr",
     "output_type": "stream",
     "text": [
      "Epoch 779: 100%|██████████| 4/4 [00:00<00:00, 121.27it/s, Loss: 1.406, Accuracy: 0.506]\n",
      "Epoch 779: 100%|██████████| 1/1 [00:00<00:00, 199.31it/s, Loss: 1.271, Accuracy: 0.770]\n"
     ]
    },
    {
     "name": "stdout",
     "output_type": "stream",
     "text": [
      "Epoch 779: Train Loss: 1.405, Train Accuracy: 0.547, Test Loss: 1.271, Test Accuracy: 0.770\n"
     ]
    },
    {
     "name": "stderr",
     "output_type": "stream",
     "text": [
      "Epoch 780: 100%|██████████| 4/4 [00:00<00:00, 120.25it/s, Loss: 1.560, Accuracy: 0.495]\n",
      "Epoch 780: 100%|██████████| 1/1 [00:00<00:00, 179.02it/s, Loss: 1.259, Accuracy: 0.770]\n"
     ]
    },
    {
     "name": "stdout",
     "output_type": "stream",
     "text": [
      "Epoch 780: Train Loss: 1.380, Train Accuracy: 0.561, Test Loss: 1.259, Test Accuracy: 0.770\n"
     ]
    },
    {
     "name": "stderr",
     "output_type": "stream",
     "text": [
      "Epoch 781: 100%|██████████| 4/4 [00:00<00:00, 105.10it/s, Loss: 1.199, Accuracy: 0.534]\n",
      "Epoch 781: 100%|██████████| 1/1 [00:00<00:00, 199.82it/s, Loss: 1.152, Accuracy: 0.780]\n"
     ]
    },
    {
     "name": "stdout",
     "output_type": "stream",
     "text": [
      "Epoch 781: Train Loss: 1.356, Train Accuracy: 0.558, Test Loss: 1.152, Test Accuracy: 0.780\n"
     ]
    },
    {
     "name": "stderr",
     "output_type": "stream",
     "text": [
      "Epoch 782: 100%|██████████| 4/4 [00:00<00:00, 108.92it/s, Loss: 1.468, Accuracy: 0.606]\n",
      "Epoch 782: 100%|██████████| 1/1 [00:00<00:00, 95.03it/s, Loss: 1.178, Accuracy: 0.770]\n"
     ]
    },
    {
     "name": "stdout",
     "output_type": "stream",
     "text": [
      "Epoch 782: Train Loss: 1.369, Train Accuracy: 0.557, Test Loss: 1.178, Test Accuracy: 0.770\n"
     ]
    },
    {
     "name": "stderr",
     "output_type": "stream",
     "text": [
      "Epoch 783: 100%|██████████| 4/4 [00:00<00:00, 93.03it/s, Loss: 1.147, Accuracy: 0.736]\n",
      "Epoch 783: 100%|██████████| 1/1 [00:00<00:00, 142.90it/s, Loss: 1.199, Accuracy: 0.750]\n"
     ]
    },
    {
     "name": "stdout",
     "output_type": "stream",
     "text": [
      "Epoch 783: Train Loss: 1.388, Train Accuracy: 0.541, Test Loss: 1.199, Test Accuracy: 0.750\n"
     ]
    },
    {
     "name": "stderr",
     "output_type": "stream",
     "text": [
      "Epoch 784: 100%|██████████| 4/4 [00:00<00:00, 93.90it/s, Loss: 1.748, Accuracy: 0.426]\n",
      "Epoch 784: 100%|██████████| 1/1 [00:00<00:00, 200.06it/s, Loss: 1.204, Accuracy: 0.740]\n"
     ]
    },
    {
     "name": "stdout",
     "output_type": "stream",
     "text": [
      "Epoch 784: Train Loss: 1.351, Train Accuracy: 0.559, Test Loss: 1.204, Test Accuracy: 0.740\n"
     ]
    },
    {
     "name": "stderr",
     "output_type": "stream",
     "text": [
      "Epoch 785: 100%|██████████| 4/4 [00:00<00:00, 97.46it/s, Loss: 1.603, Accuracy: 0.486]\n",
      "Epoch 785: 100%|██████████| 1/1 [00:00<00:00, 200.70it/s, Loss: 1.178, Accuracy: 0.770]\n"
     ]
    },
    {
     "name": "stdout",
     "output_type": "stream",
     "text": [
      "Epoch 785: Train Loss: 1.354, Train Accuracy: 0.548, Test Loss: 1.178, Test Accuracy: 0.770\n"
     ]
    },
    {
     "name": "stderr",
     "output_type": "stream",
     "text": [
      "Epoch 786: 100%|██████████| 4/4 [00:00<00:00, 106.94it/s, Loss: 1.413, Accuracy: 0.396]\n",
      "Epoch 786: 100%|██████████| 1/1 [00:00<00:00, 245.57it/s, Loss: 1.141, Accuracy: 0.790]\n"
     ]
    },
    {
     "name": "stdout",
     "output_type": "stream",
     "text": [
      "Epoch 786: Train Loss: 1.411, Train Accuracy: 0.524, Test Loss: 1.141, Test Accuracy: 0.790\n"
     ]
    },
    {
     "name": "stderr",
     "output_type": "stream",
     "text": [
      "Epoch 787: 100%|██████████| 4/4 [00:00<00:00, 110.91it/s, Loss: 1.604, Accuracy: 0.353]\n",
      "Epoch 787: 100%|██████████| 1/1 [00:00<00:00, 166.67it/s, Loss: 1.258, Accuracy: 0.790]\n"
     ]
    },
    {
     "name": "stdout",
     "output_type": "stream",
     "text": [
      "Epoch 787: Train Loss: 1.359, Train Accuracy: 0.561, Test Loss: 1.258, Test Accuracy: 0.790\n"
     ]
    },
    {
     "name": "stderr",
     "output_type": "stream",
     "text": [
      "Epoch 788: 100%|██████████| 4/4 [00:00<00:00, 89.13it/s, Loss: 1.252, Accuracy: 0.793]\n",
      "Epoch 788: 100%|██████████| 1/1 [00:00<00:00, 125.00it/s, Loss: 1.272, Accuracy: 0.790]\n"
     ]
    },
    {
     "name": "stdout",
     "output_type": "stream",
     "text": [
      "Epoch 788: Train Loss: 1.421, Train Accuracy: 0.541, Test Loss: 1.272, Test Accuracy: 0.790\n"
     ]
    },
    {
     "name": "stderr",
     "output_type": "stream",
     "text": [
      "Epoch 789: 100%|██████████| 4/4 [00:00<00:00, 100.01it/s, Loss: 1.077, Accuracy: 0.874]\n",
      "Epoch 789: 100%|██████████| 1/1 [00:00<00:00, 166.53it/s, Loss: 1.260, Accuracy: 0.790]\n"
     ]
    },
    {
     "name": "stdout",
     "output_type": "stream",
     "text": [
      "Epoch 789: Train Loss: 1.338, Train Accuracy: 0.586, Test Loss: 1.260, Test Accuracy: 0.790\n"
     ]
    },
    {
     "name": "stderr",
     "output_type": "stream",
     "text": [
      "Epoch 790: 100%|██████████| 4/4 [00:00<00:00, 103.85it/s, Loss: 1.462, Accuracy: 0.621]\n",
      "Epoch 790: 100%|██████████| 1/1 [00:00<00:00, 166.75it/s, Loss: 1.144, Accuracy: 0.790]\n"
     ]
    },
    {
     "name": "stdout",
     "output_type": "stream",
     "text": [
      "Epoch 790: Train Loss: 1.366, Train Accuracy: 0.565, Test Loss: 1.144, Test Accuracy: 0.790\n"
     ]
    },
    {
     "name": "stderr",
     "output_type": "stream",
     "text": [
      "Epoch 791: 100%|██████████| 4/4 [00:00<00:00, 100.18it/s, Loss: 2.158, Accuracy: 0.073]\n",
      "Epoch 791: 100%|██████████| 1/1 [00:00<00:00, 167.77it/s, Loss: 1.134, Accuracy: 0.780]\n"
     ]
    },
    {
     "name": "stdout",
     "output_type": "stream",
     "text": [
      "Epoch 791: Train Loss: 1.391, Train Accuracy: 0.553, Test Loss: 1.134, Test Accuracy: 0.780\n"
     ]
    },
    {
     "name": "stderr",
     "output_type": "stream",
     "text": [
      "Epoch 792: 100%|██████████| 4/4 [00:00<00:00, 92.98it/s, Loss: 1.421, Accuracy: 0.604]\n",
      "Epoch 792: 100%|██████████| 1/1 [00:00<00:00, 165.99it/s, Loss: 1.134, Accuracy: 0.780]\n"
     ]
    },
    {
     "name": "stdout",
     "output_type": "stream",
     "text": [
      "Epoch 792: Train Loss: 1.405, Train Accuracy: 0.533, Test Loss: 1.134, Test Accuracy: 0.780\n"
     ]
    },
    {
     "name": "stderr",
     "output_type": "stream",
     "text": [
      "Epoch 793: 100%|██████████| 4/4 [00:00<00:00, 84.05it/s, Loss: 0.777, Accuracy: 0.819]\n",
      "Epoch 793: 100%|██████████| 1/1 [00:00<00:00, 195.76it/s, Loss: 1.136, Accuracy: 0.780]\n"
     ]
    },
    {
     "name": "stdout",
     "output_type": "stream",
     "text": [
      "Epoch 793: Train Loss: 1.417, Train Accuracy: 0.523, Test Loss: 1.136, Test Accuracy: 0.780\n"
     ]
    },
    {
     "name": "stderr",
     "output_type": "stream",
     "text": [
      "Epoch 794: 100%|██████████| 4/4 [00:00<00:00, 109.13it/s, Loss: 1.353, Accuracy: 0.468]\n",
      "Epoch 794: 100%|██████████| 1/1 [00:00<00:00, 199.27it/s, Loss: 1.134, Accuracy: 0.780]\n"
     ]
    },
    {
     "name": "stdout",
     "output_type": "stream",
     "text": [
      "Epoch 794: Train Loss: 1.370, Train Accuracy: 0.544, Test Loss: 1.134, Test Accuracy: 0.780\n"
     ]
    },
    {
     "name": "stderr",
     "output_type": "stream",
     "text": [
      "Epoch 795: 100%|██████████| 4/4 [00:00<00:00, 117.24it/s, Loss: 1.610, Accuracy: 0.514]\n",
      "Epoch 795: 100%|██████████| 1/1 [00:00<00:00, 166.86it/s, Loss: 1.131, Accuracy: 0.780]\n"
     ]
    },
    {
     "name": "stdout",
     "output_type": "stream",
     "text": [
      "Epoch 795: Train Loss: 1.448, Train Accuracy: 0.513, Test Loss: 1.131, Test Accuracy: 0.780\n"
     ]
    },
    {
     "name": "stderr",
     "output_type": "stream",
     "text": [
      "Epoch 796: 100%|██████████| 4/4 [00:00<00:00, 102.93it/s, Loss: 1.578, Accuracy: 0.564]\n",
      "Epoch 796: 100%|██████████| 1/1 [00:00<00:00, 200.03it/s, Loss: 1.132, Accuracy: 0.800]\n"
     ]
    },
    {
     "name": "stdout",
     "output_type": "stream",
     "text": [
      "Epoch 796: Train Loss: 1.320, Train Accuracy: 0.571, Test Loss: 1.132, Test Accuracy: 0.800\n"
     ]
    },
    {
     "name": "stderr",
     "output_type": "stream",
     "text": [
      "Epoch 797: 100%|██████████| 4/4 [00:00<00:00, 117.30it/s, Loss: 1.959, Accuracy: 0.253]\n",
      "Epoch 797: 100%|██████████| 1/1 [00:00<00:00, 124.34it/s, Loss: 1.133, Accuracy: 0.790]\n"
     ]
    },
    {
     "name": "stdout",
     "output_type": "stream",
     "text": [
      "Epoch 797: Train Loss: 1.334, Train Accuracy: 0.557, Test Loss: 1.133, Test Accuracy: 0.790\n"
     ]
    },
    {
     "name": "stderr",
     "output_type": "stream",
     "text": [
      "Epoch 798: 100%|██████████| 4/4 [00:00<00:00, 94.80it/s, Loss: 1.439, Accuracy: 0.514]\n",
      "Epoch 798: 100%|██████████| 1/1 [00:00<00:00, 200.00it/s, Loss: 1.152, Accuracy: 0.770]\n"
     ]
    },
    {
     "name": "stdout",
     "output_type": "stream",
     "text": [
      "Epoch 798: Train Loss: 1.341, Train Accuracy: 0.553, Test Loss: 1.152, Test Accuracy: 0.770\n"
     ]
    },
    {
     "name": "stderr",
     "output_type": "stream",
     "text": [
      "Epoch 799: 100%|██████████| 4/4 [00:00<00:00, 110.58it/s, Loss: 1.709, Accuracy: 0.322]\n",
      "Epoch 799: 100%|██████████| 1/1 [00:00<00:00, 246.01it/s, Loss: 1.171, Accuracy: 0.760]\n"
     ]
    },
    {
     "name": "stdout",
     "output_type": "stream",
     "text": [
      "Epoch 799: Train Loss: 1.328, Train Accuracy: 0.554, Test Loss: 1.171, Test Accuracy: 0.760\n"
     ]
    },
    {
     "name": "stderr",
     "output_type": "stream",
     "text": [
      "Epoch 800: 100%|██████████| 4/4 [00:00<00:00, 113.16it/s, Loss: 1.668, Accuracy: 0.325]\n",
      "Epoch 800: 100%|██████████| 1/1 [00:00<00:00, 190.53it/s, Loss: 1.169, Accuracy: 0.760]\n"
     ]
    },
    {
     "name": "stdout",
     "output_type": "stream",
     "text": [
      "Epoch 800: Train Loss: 1.356, Train Accuracy: 0.569, Test Loss: 1.169, Test Accuracy: 0.760\n"
     ]
    },
    {
     "name": "stderr",
     "output_type": "stream",
     "text": [
      "Epoch 801: 100%|██████████| 4/4 [00:00<00:00, 121.10it/s, Loss: 1.592, Accuracy: 0.400]\n",
      "Epoch 801: 100%|██████████| 1/1 [00:00<00:00, 200.13it/s, Loss: 1.126, Accuracy: 0.800]\n"
     ]
    },
    {
     "name": "stdout",
     "output_type": "stream",
     "text": [
      "Epoch 801: Train Loss: 1.419, Train Accuracy: 0.513, Test Loss: 1.126, Test Accuracy: 0.800\n"
     ]
    },
    {
     "name": "stderr",
     "output_type": "stream",
     "text": [
      "Epoch 802: 100%|██████████| 4/4 [00:00<00:00, 120.83it/s, Loss: 1.619, Accuracy: 0.460]\n",
      "Epoch 802: 100%|██████████| 1/1 [00:00<00:00, 177.00it/s, Loss: 1.273, Accuracy: 0.790]\n"
     ]
    },
    {
     "name": "stdout",
     "output_type": "stream",
     "text": [
      "Epoch 802: Train Loss: 1.434, Train Accuracy: 0.528, Test Loss: 1.273, Test Accuracy: 0.790\n"
     ]
    },
    {
     "name": "stderr",
     "output_type": "stream",
     "text": [
      "Epoch 803: 100%|██████████| 4/4 [00:00<00:00, 124.92it/s, Loss: 1.256, Accuracy: 0.626]\n",
      "Epoch 803: 100%|██████████| 1/1 [00:00<00:00, 250.17it/s, Loss: 1.279, Accuracy: 0.790]\n"
     ]
    },
    {
     "name": "stdout",
     "output_type": "stream",
     "text": [
      "Epoch 803: Train Loss: 1.426, Train Accuracy: 0.532, Test Loss: 1.279, Test Accuracy: 0.790\n"
     ]
    },
    {
     "name": "stderr",
     "output_type": "stream",
     "text": [
      "Epoch 804: 100%|██████████| 4/4 [00:00<00:00, 87.70it/s, Loss: 1.885, Accuracy: 0.356]\n",
      "Epoch 804: 100%|██████████| 1/1 [00:00<00:00, 199.97it/s, Loss: 1.274, Accuracy: 0.790]\n"
     ]
    },
    {
     "name": "stdout",
     "output_type": "stream",
     "text": [
      "Epoch 804: Train Loss: 1.441, Train Accuracy: 0.527, Test Loss: 1.274, Test Accuracy: 0.790\n"
     ]
    },
    {
     "name": "stderr",
     "output_type": "stream",
     "text": [
      "Epoch 805: 100%|██████████| 4/4 [00:00<00:00, 106.37it/s, Loss: 1.418, Accuracy: 0.510]\n",
      "Epoch 805: 100%|██████████| 1/1 [00:00<00:00, 253.43it/s, Loss: 1.277, Accuracy: 0.790]\n"
     ]
    },
    {
     "name": "stdout",
     "output_type": "stream",
     "text": [
      "Epoch 805: Train Loss: 1.398, Train Accuracy: 0.564, Test Loss: 1.277, Test Accuracy: 0.790\n"
     ]
    },
    {
     "name": "stderr",
     "output_type": "stream",
     "text": [
      "Epoch 806: 100%|██████████| 4/4 [00:00<00:00, 114.68it/s, Loss: 0.967, Accuracy: 0.626]\n",
      "Epoch 806: 100%|██████████| 1/1 [00:00<00:00, 196.54it/s, Loss: 1.275, Accuracy: 0.790]\n"
     ]
    },
    {
     "name": "stdout",
     "output_type": "stream",
     "text": [
      "Epoch 806: Train Loss: 1.398, Train Accuracy: 0.554, Test Loss: 1.275, Test Accuracy: 0.790\n"
     ]
    },
    {
     "name": "stderr",
     "output_type": "stream",
     "text": [
      "Epoch 807: 100%|██████████| 4/4 [00:00<00:00, 108.25it/s, Loss: 1.805, Accuracy: 0.312]\n",
      "Epoch 807: 100%|██████████| 1/1 [00:00<00:00, 198.36it/s, Loss: 1.274, Accuracy: 0.790]\n"
     ]
    },
    {
     "name": "stdout",
     "output_type": "stream",
     "text": [
      "Epoch 807: Train Loss: 1.320, Train Accuracy: 0.596, Test Loss: 1.274, Test Accuracy: 0.790\n"
     ]
    },
    {
     "name": "stderr",
     "output_type": "stream",
     "text": [
      "Epoch 808: 100%|██████████| 4/4 [00:00<00:00, 118.33it/s, Loss: 1.470, Accuracy: 0.520]\n",
      "Epoch 808: 100%|██████████| 1/1 [00:00<00:00, 250.12it/s, Loss: 1.272, Accuracy: 0.790]\n"
     ]
    },
    {
     "name": "stdout",
     "output_type": "stream",
     "text": [
      "Epoch 808: Train Loss: 1.381, Train Accuracy: 0.556, Test Loss: 1.272, Test Accuracy: 0.790\n"
     ]
    },
    {
     "name": "stderr",
     "output_type": "stream",
     "text": [
      "Epoch 809: 100%|██████████| 4/4 [00:00<00:00, 108.07it/s, Loss: 1.794, Accuracy: 0.248]\n",
      "Epoch 809: 100%|██████████| 1/1 [00:00<00:00, 181.01it/s, Loss: 1.267, Accuracy: 0.770]\n"
     ]
    },
    {
     "name": "stdout",
     "output_type": "stream",
     "text": [
      "Epoch 809: Train Loss: 1.442, Train Accuracy: 0.520, Test Loss: 1.267, Test Accuracy: 0.770\n"
     ]
    },
    {
     "name": "stderr",
     "output_type": "stream",
     "text": [
      "Epoch 810: 100%|██████████| 4/4 [00:00<00:00, 105.95it/s, Loss: 1.753, Accuracy: 0.430]\n",
      "Epoch 810: 100%|██████████| 1/1 [00:00<00:00, 197.77it/s, Loss: 1.269, Accuracy: 0.770]\n"
     ]
    },
    {
     "name": "stdout",
     "output_type": "stream",
     "text": [
      "Epoch 810: Train Loss: 1.502, Train Accuracy: 0.488, Test Loss: 1.269, Test Accuracy: 0.770\n"
     ]
    },
    {
     "name": "stderr",
     "output_type": "stream",
     "text": [
      "Epoch 811: 100%|██████████| 4/4 [00:00<00:00, 111.11it/s, Loss: 1.357, Accuracy: 0.539]\n",
      "Epoch 811: 100%|██████████| 1/1 [00:00<00:00, 203.26it/s, Loss: 1.258, Accuracy: 0.760]\n"
     ]
    },
    {
     "name": "stdout",
     "output_type": "stream",
     "text": [
      "Epoch 811: Train Loss: 1.389, Train Accuracy: 0.563, Test Loss: 1.258, Test Accuracy: 0.760\n"
     ]
    },
    {
     "name": "stderr",
     "output_type": "stream",
     "text": [
      "Epoch 812: 100%|██████████| 4/4 [00:00<00:00, 104.77it/s, Loss: 1.467, Accuracy: 0.530]\n",
      "Epoch 812: 100%|██████████| 1/1 [00:00<00:00, 142.81it/s, Loss: 1.260, Accuracy: 0.720]\n"
     ]
    },
    {
     "name": "stdout",
     "output_type": "stream",
     "text": [
      "Epoch 812: Train Loss: 1.403, Train Accuracy: 0.543, Test Loss: 1.260, Test Accuracy: 0.720\n"
     ]
    },
    {
     "name": "stderr",
     "output_type": "stream",
     "text": [
      "Epoch 813: 100%|██████████| 4/4 [00:00<00:00, 105.27it/s, Loss: 0.837, Accuracy: 0.874]\n",
      "Epoch 813: 100%|██████████| 1/1 [00:00<00:00, 125.24it/s, Loss: 1.262, Accuracy: 0.760]\n"
     ]
    },
    {
     "name": "stdout",
     "output_type": "stream",
     "text": [
      "Epoch 813: Train Loss: 1.483, Train Accuracy: 0.507, Test Loss: 1.262, Test Accuracy: 0.760\n"
     ]
    },
    {
     "name": "stderr",
     "output_type": "stream",
     "text": [
      "Epoch 814: 100%|██████████| 4/4 [00:00<00:00, 108.67it/s, Loss: 0.942, Accuracy: 0.645]\n",
      "Epoch 814: 100%|██████████| 1/1 [00:00<00:00, 164.78it/s, Loss: 1.259, Accuracy: 0.720]\n"
     ]
    },
    {
     "name": "stdout",
     "output_type": "stream",
     "text": [
      "Epoch 814: Train Loss: 1.378, Train Accuracy: 0.555, Test Loss: 1.259, Test Accuracy: 0.720\n"
     ]
    },
    {
     "name": "stderr",
     "output_type": "stream",
     "text": [
      "Epoch 815: 100%|██████████| 4/4 [00:00<00:00, 117.53it/s, Loss: 1.398, Accuracy: 0.373]\n",
      "Epoch 815: 100%|██████████| 1/1 [00:00<00:00, 200.39it/s, Loss: 1.251, Accuracy: 0.720]\n"
     ]
    },
    {
     "name": "stdout",
     "output_type": "stream",
     "text": [
      "Epoch 815: Train Loss: 1.391, Train Accuracy: 0.538, Test Loss: 1.251, Test Accuracy: 0.720\n"
     ]
    },
    {
     "name": "stderr",
     "output_type": "stream",
     "text": [
      "Epoch 816: 100%|██████████| 4/4 [00:00<00:00, 83.34it/s, Loss: 1.313, Accuracy: 0.481]\n",
      "Epoch 816: 100%|██████████| 1/1 [00:00<00:00, 166.08it/s, Loss: 1.245, Accuracy: 0.720]\n"
     ]
    },
    {
     "name": "stdout",
     "output_type": "stream",
     "text": [
      "Epoch 816: Train Loss: 1.367, Train Accuracy: 0.571, Test Loss: 1.245, Test Accuracy: 0.720\n"
     ]
    },
    {
     "name": "stderr",
     "output_type": "stream",
     "text": [
      "Epoch 817: 100%|██████████| 4/4 [00:00<00:00, 120.92it/s, Loss: 1.427, Accuracy: 0.545]\n",
      "Epoch 817: 100%|██████████| 1/1 [00:00<00:00, 142.78it/s, Loss: 1.241, Accuracy: 0.720]\n"
     ]
    },
    {
     "name": "stdout",
     "output_type": "stream",
     "text": [
      "Epoch 817: Train Loss: 1.328, Train Accuracy: 0.572, Test Loss: 1.241, Test Accuracy: 0.720\n"
     ]
    },
    {
     "name": "stderr",
     "output_type": "stream",
     "text": [
      "Epoch 818: 100%|██████████| 4/4 [00:00<00:00, 111.90it/s, Loss: 1.855, Accuracy: 0.341]\n",
      "Epoch 818: 100%|██████████| 1/1 [00:00<00:00, 176.85it/s, Loss: 1.232, Accuracy: 0.720]\n"
     ]
    },
    {
     "name": "stdout",
     "output_type": "stream",
     "text": [
      "Epoch 818: Train Loss: 1.330, Train Accuracy: 0.557, Test Loss: 1.232, Test Accuracy: 0.720\n"
     ]
    },
    {
     "name": "stderr",
     "output_type": "stream",
     "text": [
      "Epoch 819: 100%|██████████| 4/4 [00:00<00:00, 111.01it/s, Loss: 1.247, Accuracy: 0.764]\n",
      "Epoch 819: 100%|██████████| 1/1 [00:00<00:00, 197.80it/s, Loss: 1.233, Accuracy: 0.720]\n"
     ]
    },
    {
     "name": "stdout",
     "output_type": "stream",
     "text": [
      "Epoch 819: Train Loss: 1.386, Train Accuracy: 0.543, Test Loss: 1.233, Test Accuracy: 0.720\n"
     ]
    },
    {
     "name": "stderr",
     "output_type": "stream",
     "text": [
      "Epoch 820: 100%|██████████| 4/4 [00:00<00:00, 113.55it/s, Loss: 0.961, Accuracy: 0.783]\n",
      "Epoch 820: 100%|██████████| 1/1 [00:00<00:00, 165.48it/s, Loss: 1.228, Accuracy: 0.720]\n"
     ]
    },
    {
     "name": "stdout",
     "output_type": "stream",
     "text": [
      "Epoch 820: Train Loss: 1.361, Train Accuracy: 0.557, Test Loss: 1.228, Test Accuracy: 0.720\n"
     ]
    },
    {
     "name": "stderr",
     "output_type": "stream",
     "text": [
      "Epoch 821: 100%|██████████| 4/4 [00:00<00:00, 94.36it/s, Loss: 1.429, Accuracy: 0.535]\n",
      "Epoch 821: 100%|██████████| 1/1 [00:00<00:00, 199.19it/s, Loss: 1.223, Accuracy: 0.720]\n"
     ]
    },
    {
     "name": "stdout",
     "output_type": "stream",
     "text": [
      "Epoch 821: Train Loss: 1.488, Train Accuracy: 0.497, Test Loss: 1.223, Test Accuracy: 0.720\n"
     ]
    },
    {
     "name": "stderr",
     "output_type": "stream",
     "text": [
      "Epoch 822: 100%|██████████| 4/4 [00:00<00:00, 109.68it/s, Loss: 1.446, Accuracy: 0.653]\n",
      "Epoch 822: 100%|██████████| 1/1 [00:00<00:00, 197.07it/s, Loss: 1.221, Accuracy: 0.720]\n"
     ]
    },
    {
     "name": "stdout",
     "output_type": "stream",
     "text": [
      "Epoch 822: Train Loss: 1.387, Train Accuracy: 0.546, Test Loss: 1.221, Test Accuracy: 0.720\n"
     ]
    },
    {
     "name": "stderr",
     "output_type": "stream",
     "text": [
      "Epoch 823: 100%|██████████| 4/4 [00:00<00:00, 107.21it/s, Loss: 1.121, Accuracy: 0.500]\n",
      "Epoch 823: 100%|██████████| 1/1 [00:00<00:00, 167.54it/s, Loss: 1.214, Accuracy: 0.720]\n"
     ]
    },
    {
     "name": "stdout",
     "output_type": "stream",
     "text": [
      "Epoch 823: Train Loss: 1.365, Train Accuracy: 0.547, Test Loss: 1.214, Test Accuracy: 0.720\n"
     ]
    },
    {
     "name": "stderr",
     "output_type": "stream",
     "text": [
      "Epoch 824: 100%|██████████| 4/4 [00:00<00:00, 91.87it/s, Loss: 0.906, Accuracy: 0.778]\n",
      "Epoch 824: 100%|██████████| 1/1 [00:00<00:00, 124.98it/s, Loss: 1.214, Accuracy: 0.720]\n"
     ]
    },
    {
     "name": "stdout",
     "output_type": "stream",
     "text": [
      "Epoch 824: Train Loss: 1.435, Train Accuracy: 0.521, Test Loss: 1.214, Test Accuracy: 0.720\n"
     ]
    },
    {
     "name": "stderr",
     "output_type": "stream",
     "text": [
      "Epoch 825: 100%|██████████| 4/4 [00:00<00:00, 96.34it/s, Loss: 0.734, Accuracy: 0.744]\n",
      "Epoch 825: 100%|██████████| 1/1 [00:00<00:00, 142.85it/s, Loss: 1.209, Accuracy: 0.720]\n"
     ]
    },
    {
     "name": "stdout",
     "output_type": "stream",
     "text": [
      "Epoch 825: Train Loss: 1.323, Train Accuracy: 0.567, Test Loss: 1.209, Test Accuracy: 0.720\n"
     ]
    },
    {
     "name": "stderr",
     "output_type": "stream",
     "text": [
      "Epoch 826: 100%|██████████| 4/4 [00:00<00:00, 95.08it/s, Loss: 1.631, Accuracy: 0.524]\n",
      "Epoch 826: 100%|██████████| 1/1 [00:00<00:00, 216.88it/s, Loss: 1.208, Accuracy: 0.720]\n"
     ]
    },
    {
     "name": "stdout",
     "output_type": "stream",
     "text": [
      "Epoch 826: Train Loss: 1.288, Train Accuracy: 0.574, Test Loss: 1.208, Test Accuracy: 0.720\n"
     ]
    },
    {
     "name": "stderr",
     "output_type": "stream",
     "text": [
      "Epoch 827: 100%|██████████| 4/4 [00:00<00:00, 107.63it/s, Loss: 1.105, Accuracy: 0.812]\n",
      "Epoch 827: 100%|██████████| 1/1 [00:00<00:00, 124.98it/s, Loss: 1.211, Accuracy: 0.720]\n"
     ]
    },
    {
     "name": "stdout",
     "output_type": "stream",
     "text": [
      "Epoch 827: Train Loss: 1.413, Train Accuracy: 0.534, Test Loss: 1.211, Test Accuracy: 0.720\n"
     ]
    },
    {
     "name": "stderr",
     "output_type": "stream",
     "text": [
      "Epoch 828: 100%|██████████| 4/4 [00:00<00:00, 99.62it/s, Loss: 1.466, Accuracy: 0.413]\n",
      "Epoch 828: 100%|██████████| 1/1 [00:00<00:00, 137.50it/s, Loss: 1.205, Accuracy: 0.720]\n"
     ]
    },
    {
     "name": "stdout",
     "output_type": "stream",
     "text": [
      "Epoch 828: Train Loss: 1.383, Train Accuracy: 0.537, Test Loss: 1.205, Test Accuracy: 0.720\n"
     ]
    },
    {
     "name": "stderr",
     "output_type": "stream",
     "text": [
      "Epoch 829: 100%|██████████| 4/4 [00:00<00:00, 117.80it/s, Loss: 1.152, Accuracy: 0.654]\n",
      "Epoch 829: 100%|██████████| 1/1 [00:00<00:00, 167.85it/s, Loss: 1.208, Accuracy: 0.720]\n"
     ]
    },
    {
     "name": "stdout",
     "output_type": "stream",
     "text": [
      "Epoch 829: Train Loss: 1.368, Train Accuracy: 0.523, Test Loss: 1.208, Test Accuracy: 0.720\n"
     ]
    },
    {
     "name": "stderr",
     "output_type": "stream",
     "text": [
      "Epoch 830: 100%|██████████| 4/4 [00:00<00:00, 93.01it/s, Loss: 1.731, Accuracy: 0.368]\n",
      "Epoch 830: 100%|██████████| 1/1 [00:00<00:00, 127.05it/s, Loss: 1.205, Accuracy: 0.720]\n"
     ]
    },
    {
     "name": "stdout",
     "output_type": "stream",
     "text": [
      "Epoch 830: Train Loss: 1.378, Train Accuracy: 0.530, Test Loss: 1.205, Test Accuracy: 0.720\n"
     ]
    },
    {
     "name": "stderr",
     "output_type": "stream",
     "text": [
      "Epoch 831: 100%|██████████| 4/4 [00:00<00:00, 105.16it/s, Loss: 1.520, Accuracy: 0.524]\n",
      "Epoch 831: 100%|██████████| 1/1 [00:00<00:00, 197.70it/s, Loss: 1.207, Accuracy: 0.720]\n"
     ]
    },
    {
     "name": "stdout",
     "output_type": "stream",
     "text": [
      "Epoch 831: Train Loss: 1.342, Train Accuracy: 0.554, Test Loss: 1.207, Test Accuracy: 0.720\n"
     ]
    },
    {
     "name": "stderr",
     "output_type": "stream",
     "text": [
      "Epoch 832: 100%|██████████| 4/4 [00:00<00:00, 112.45it/s, Loss: 1.611, Accuracy: 0.486]\n",
      "Epoch 832: 100%|██████████| 1/1 [00:00<00:00, 189.43it/s, Loss: 1.204, Accuracy: 0.720]\n"
     ]
    },
    {
     "name": "stdout",
     "output_type": "stream",
     "text": [
      "Epoch 832: Train Loss: 1.387, Train Accuracy: 0.549, Test Loss: 1.204, Test Accuracy: 0.720\n"
     ]
    },
    {
     "name": "stderr",
     "output_type": "stream",
     "text": [
      "Epoch 833: 100%|██████████| 4/4 [00:00<00:00, 105.22it/s, Loss: 1.073, Accuracy: 0.745]\n",
      "Epoch 833: 100%|██████████| 1/1 [00:00<00:00, 197.98it/s, Loss: 1.211, Accuracy: 0.720]\n"
     ]
    },
    {
     "name": "stdout",
     "output_type": "stream",
     "text": [
      "Epoch 833: Train Loss: 1.427, Train Accuracy: 0.529, Test Loss: 1.211, Test Accuracy: 0.720\n"
     ]
    },
    {
     "name": "stderr",
     "output_type": "stream",
     "text": [
      "Epoch 834: 100%|██████████| 4/4 [00:00<00:00, 121.91it/s, Loss: 0.714, Accuracy: 0.796]\n",
      "Epoch 834: 100%|██████████| 1/1 [00:00<00:00, 200.08it/s, Loss: 1.212, Accuracy: 0.720]\n"
     ]
    },
    {
     "name": "stdout",
     "output_type": "stream",
     "text": [
      "Epoch 834: Train Loss: 1.379, Train Accuracy: 0.522, Test Loss: 1.212, Test Accuracy: 0.720\n"
     ]
    },
    {
     "name": "stderr",
     "output_type": "stream",
     "text": [
      "Epoch 835: 100%|██████████| 4/4 [00:00<00:00, 106.43it/s, Loss: 1.867, Accuracy: 0.410]\n",
      "Epoch 835: 100%|██████████| 1/1 [00:00<00:00, 200.13it/s, Loss: 1.212, Accuracy: 0.720]\n"
     ]
    },
    {
     "name": "stdout",
     "output_type": "stream",
     "text": [
      "Epoch 835: Train Loss: 1.420, Train Accuracy: 0.523, Test Loss: 1.212, Test Accuracy: 0.720\n"
     ]
    },
    {
     "name": "stderr",
     "output_type": "stream",
     "text": [
      "Epoch 836: 100%|██████████| 4/4 [00:00<00:00, 105.27it/s, Loss: 0.904, Accuracy: 0.800]\n",
      "Epoch 836: 100%|██████████| 1/1 [00:00<00:00, 165.82it/s, Loss: 1.207, Accuracy: 0.720]"
     ]
    },
    {
     "name": "stdout",
     "output_type": "stream",
     "text": [
      "Epoch 836: Train Loss: 1.371, Train Accuracy: 0.561, Test Loss: 1.207, Test Accuracy: 0.720\n"
     ]
    },
    {
     "name": "stderr",
     "output_type": "stream",
     "text": [
      "\n",
      "Epoch 837: 100%|██████████| 4/4 [00:00<00:00, 79.02it/s, Loss: 1.599, Accuracy: 0.565]\n",
      "Epoch 837: 100%|██████████| 1/1 [00:00<00:00, 200.03it/s, Loss: 1.201, Accuracy: 0.720]\n"
     ]
    },
    {
     "name": "stdout",
     "output_type": "stream",
     "text": [
      "Epoch 837: Train Loss: 1.316, Train Accuracy: 0.578, Test Loss: 1.201, Test Accuracy: 0.720\n"
     ]
    },
    {
     "name": "stderr",
     "output_type": "stream",
     "text": [
      "Epoch 838: 100%|██████████| 4/4 [00:00<00:00, 105.04it/s, Loss: 1.274, Accuracy: 0.523]\n",
      "Epoch 838: 100%|██████████| 1/1 [00:00<00:00, 166.39it/s, Loss: 1.199, Accuracy: 0.720]\n"
     ]
    },
    {
     "name": "stdout",
     "output_type": "stream",
     "text": [
      "Epoch 838: Train Loss: 1.382, Train Accuracy: 0.550, Test Loss: 1.199, Test Accuracy: 0.720\n"
     ]
    },
    {
     "name": "stderr",
     "output_type": "stream",
     "text": [
      "Epoch 839: 100%|██████████| 4/4 [00:00<00:00, 95.06it/s, Loss: 1.763, Accuracy: 0.462]\n",
      "Epoch 839: 100%|██████████| 1/1 [00:00<00:00, 142.84it/s, Loss: 1.194, Accuracy: 0.720]\n"
     ]
    },
    {
     "name": "stdout",
     "output_type": "stream",
     "text": [
      "Epoch 839: Train Loss: 1.511, Train Accuracy: 0.484, Test Loss: 1.194, Test Accuracy: 0.720\n"
     ]
    },
    {
     "name": "stderr",
     "output_type": "stream",
     "text": [
      "Epoch 840: 100%|██████████| 4/4 [00:00<00:00, 107.89it/s, Loss: 0.949, Accuracy: 0.673]\n",
      "Epoch 840: 100%|██████████| 1/1 [00:00<00:00, 197.88it/s, Loss: 1.192, Accuracy: 0.720]\n"
     ]
    },
    {
     "name": "stdout",
     "output_type": "stream",
     "text": [
      "Epoch 840: Train Loss: 1.363, Train Accuracy: 0.549, Test Loss: 1.192, Test Accuracy: 0.720\n"
     ]
    },
    {
     "name": "stderr",
     "output_type": "stream",
     "text": [
      "Epoch 841: 100%|██████████| 4/4 [00:00<00:00, 95.54it/s, Loss: 1.268, Accuracy: 0.679]\n",
      "Epoch 841: 100%|██████████| 1/1 [00:00<00:00, 197.58it/s, Loss: 1.193, Accuracy: 0.720]\n"
     ]
    },
    {
     "name": "stdout",
     "output_type": "stream",
     "text": [
      "Epoch 841: Train Loss: 1.358, Train Accuracy: 0.549, Test Loss: 1.193, Test Accuracy: 0.720\n"
     ]
    },
    {
     "name": "stderr",
     "output_type": "stream",
     "text": [
      "Epoch 842: 100%|██████████| 4/4 [00:00<00:00, 113.27it/s, Loss: 1.857, Accuracy: 0.322]\n",
      "Epoch 842: 100%|██████████| 1/1 [00:00<00:00, 165.17it/s, Loss: 1.194, Accuracy: 0.720]\n"
     ]
    },
    {
     "name": "stdout",
     "output_type": "stream",
     "text": [
      "Epoch 842: Train Loss: 1.370, Train Accuracy: 0.546, Test Loss: 1.194, Test Accuracy: 0.720\n"
     ]
    },
    {
     "name": "stderr",
     "output_type": "stream",
     "text": [
      "Epoch 843: 100%|██████████| 4/4 [00:00<00:00, 93.00it/s, Loss: 1.102, Accuracy: 0.761]\n",
      "Epoch 843: 100%|██████████| 1/1 [00:00<00:00, 111.08it/s, Loss: 1.199, Accuracy: 0.720]\n"
     ]
    },
    {
     "name": "stdout",
     "output_type": "stream",
     "text": [
      "Epoch 843: Train Loss: 1.343, Train Accuracy: 0.558, Test Loss: 1.199, Test Accuracy: 0.720\n"
     ]
    },
    {
     "name": "stderr",
     "output_type": "stream",
     "text": [
      "Epoch 844: 100%|██████████| 4/4 [00:00<00:00, 88.88it/s, Loss: 2.088, Accuracy: 0.326]\n",
      "Epoch 844: 100%|██████████| 1/1 [00:00<00:00, 165.85it/s, Loss: 1.195, Accuracy: 0.720]\n"
     ]
    },
    {
     "name": "stdout",
     "output_type": "stream",
     "text": [
      "Epoch 844: Train Loss: 1.387, Train Accuracy: 0.529, Test Loss: 1.195, Test Accuracy: 0.720\n"
     ]
    },
    {
     "name": "stderr",
     "output_type": "stream",
     "text": [
      "Epoch 845: 100%|██████████| 4/4 [00:00<00:00, 105.56it/s, Loss: 1.542, Accuracy: 0.382]\n",
      "Epoch 845: 100%|██████████| 1/1 [00:00<00:00, 142.87it/s, Loss: 1.199, Accuracy: 0.720]\n"
     ]
    },
    {
     "name": "stdout",
     "output_type": "stream",
     "text": [
      "Epoch 845: Train Loss: 1.484, Train Accuracy: 0.483, Test Loss: 1.199, Test Accuracy: 0.720\n"
     ]
    },
    {
     "name": "stderr",
     "output_type": "stream",
     "text": [
      "Epoch 846: 100%|██████████| 4/4 [00:00<00:00, 107.97it/s, Loss: 1.494, Accuracy: 0.535]\n",
      "Epoch 846: 100%|██████████| 1/1 [00:00<00:00, 177.06it/s, Loss: 1.199, Accuracy: 0.720]\n"
     ]
    },
    {
     "name": "stdout",
     "output_type": "stream",
     "text": [
      "Epoch 846: Train Loss: 1.372, Train Accuracy: 0.553, Test Loss: 1.199, Test Accuracy: 0.720\n"
     ]
    },
    {
     "name": "stderr",
     "output_type": "stream",
     "text": [
      "Epoch 847: 100%|██████████| 4/4 [00:00<00:00, 105.57it/s, Loss: 1.282, Accuracy: 0.500]\n",
      "Epoch 847: 100%|██████████| 1/1 [00:00<00:00, 142.67it/s, Loss: 1.202, Accuracy: 0.720]\n"
     ]
    },
    {
     "name": "stdout",
     "output_type": "stream",
     "text": [
      "Epoch 847: Train Loss: 1.386, Train Accuracy: 0.526, Test Loss: 1.202, Test Accuracy: 0.720\n"
     ]
    },
    {
     "name": "stderr",
     "output_type": "stream",
     "text": [
      "Epoch 848: 100%|██████████| 4/4 [00:00<00:00, 105.00it/s, Loss: 2.009, Accuracy: 0.280]\n",
      "Epoch 848: 100%|██████████| 1/1 [00:00<00:00, 199.91it/s, Loss: 1.204, Accuracy: 0.720]\n"
     ]
    },
    {
     "name": "stdout",
     "output_type": "stream",
     "text": [
      "Epoch 848: Train Loss: 1.327, Train Accuracy: 0.556, Test Loss: 1.204, Test Accuracy: 0.720\n"
     ]
    },
    {
     "name": "stderr",
     "output_type": "stream",
     "text": [
      "Epoch 849: 100%|██████████| 4/4 [00:00<00:00, 111.20it/s, Loss: 2.020, Accuracy: 0.159]\n",
      "Epoch 849: 100%|██████████| 1/1 [00:00<00:00, 197.43it/s, Loss: 1.205, Accuracy: 0.720]\n"
     ]
    },
    {
     "name": "stdout",
     "output_type": "stream",
     "text": [
      "Epoch 849: Train Loss: 1.373, Train Accuracy: 0.533, Test Loss: 1.205, Test Accuracy: 0.720\n"
     ]
    },
    {
     "name": "stderr",
     "output_type": "stream",
     "text": [
      "Epoch 850: 100%|██████████| 4/4 [00:00<00:00, 114.27it/s, Loss: 1.552, Accuracy: 0.634]\n",
      "Epoch 850: 100%|██████████| 1/1 [00:00<00:00, 142.08it/s, Loss: 1.213, Accuracy: 0.720]\n"
     ]
    },
    {
     "name": "stdout",
     "output_type": "stream",
     "text": [
      "Epoch 850: Train Loss: 1.400, Train Accuracy: 0.545, Test Loss: 1.213, Test Accuracy: 0.720\n"
     ]
    },
    {
     "name": "stderr",
     "output_type": "stream",
     "text": [
      "Epoch 851: 100%|██████████| 4/4 [00:00<00:00, 118.89it/s, Loss: 1.732, Accuracy: 0.311]\n",
      "Epoch 851: 100%|██████████| 1/1 [00:00<00:00, 144.64it/s, Loss: 1.208, Accuracy: 0.720]\n"
     ]
    },
    {
     "name": "stdout",
     "output_type": "stream",
     "text": [
      "Epoch 851: Train Loss: 1.386, Train Accuracy: 0.549, Test Loss: 1.208, Test Accuracy: 0.720\n"
     ]
    },
    {
     "name": "stderr",
     "output_type": "stream",
     "text": [
      "Epoch 852: 100%|██████████| 4/4 [00:00<00:00, 95.22it/s, Loss: 0.706, Accuracy: 0.733]\n",
      "Epoch 852: 100%|██████████| 1/1 [00:00<00:00, 132.61it/s, Loss: 1.205, Accuracy: 0.720]\n"
     ]
    },
    {
     "name": "stdout",
     "output_type": "stream",
     "text": [
      "Epoch 852: Train Loss: 1.408, Train Accuracy: 0.511, Test Loss: 1.205, Test Accuracy: 0.720\n"
     ]
    },
    {
     "name": "stderr",
     "output_type": "stream",
     "text": [
      "Epoch 853: 100%|██████████| 4/4 [00:00<00:00, 103.42it/s, Loss: 0.959, Accuracy: 0.632]\n",
      "Epoch 853: 100%|██████████| 1/1 [00:00<00:00, 197.81it/s, Loss: 1.202, Accuracy: 0.720]\n"
     ]
    },
    {
     "name": "stdout",
     "output_type": "stream",
     "text": [
      "Epoch 853: Train Loss: 1.310, Train Accuracy: 0.571, Test Loss: 1.202, Test Accuracy: 0.720\n"
     ]
    },
    {
     "name": "stderr",
     "output_type": "stream",
     "text": [
      "Epoch 854: 100%|██████████| 4/4 [00:00<00:00, 104.90it/s, Loss: 1.032, Accuracy: 0.582]\n",
      "Epoch 854: 100%|██████████| 1/1 [00:00<00:00, 201.49it/s, Loss: 1.197, Accuracy: 0.720]\n"
     ]
    },
    {
     "name": "stdout",
     "output_type": "stream",
     "text": [
      "Epoch 854: Train Loss: 1.387, Train Accuracy: 0.545, Test Loss: 1.197, Test Accuracy: 0.720\n"
     ]
    },
    {
     "name": "stderr",
     "output_type": "stream",
     "text": [
      "Epoch 855: 100%|██████████| 4/4 [00:00<00:00, 115.16it/s, Loss: 1.685, Accuracy: 0.370]\n",
      "Epoch 855: 100%|██████████| 1/1 [00:00<00:00, 197.98it/s, Loss: 1.193, Accuracy: 0.720]\n"
     ]
    },
    {
     "name": "stdout",
     "output_type": "stream",
     "text": [
      "Epoch 855: Train Loss: 1.367, Train Accuracy: 0.525, Test Loss: 1.193, Test Accuracy: 0.720\n"
     ]
    },
    {
     "name": "stderr",
     "output_type": "stream",
     "text": [
      "Epoch 856: 100%|██████████| 4/4 [00:00<00:00, 100.03it/s, Loss: 1.627, Accuracy: 0.466]\n",
      "Epoch 856: 100%|██████████| 1/1 [00:00<00:00, 164.28it/s, Loss: 1.193, Accuracy: 0.720]\n"
     ]
    },
    {
     "name": "stdout",
     "output_type": "stream",
     "text": [
      "Epoch 856: Train Loss: 1.398, Train Accuracy: 0.530, Test Loss: 1.193, Test Accuracy: 0.720\n"
     ]
    },
    {
     "name": "stderr",
     "output_type": "stream",
     "text": [
      "Epoch 857: 100%|██████████| 4/4 [00:00<00:00, 106.28it/s, Loss: 1.146, Accuracy: 0.745]\n",
      "Epoch 857: 100%|██████████| 1/1 [00:00<00:00, 167.50it/s, Loss: 1.191, Accuracy: 0.720]\n"
     ]
    },
    {
     "name": "stdout",
     "output_type": "stream",
     "text": [
      "Epoch 857: Train Loss: 1.461, Train Accuracy: 0.490, Test Loss: 1.191, Test Accuracy: 0.720\n"
     ]
    },
    {
     "name": "stderr",
     "output_type": "stream",
     "text": [
      "Epoch 858: 100%|██████████| 4/4 [00:00<00:00, 113.53it/s, Loss: 1.816, Accuracy: 0.450]\n",
      "Epoch 858: 100%|██████████| 1/1 [00:00<00:00, 166.54it/s, Loss: 1.184, Accuracy: 0.720]\n"
     ]
    },
    {
     "name": "stdout",
     "output_type": "stream",
     "text": [
      "Epoch 858: Train Loss: 1.355, Train Accuracy: 0.556, Test Loss: 1.184, Test Accuracy: 0.720\n"
     ]
    },
    {
     "name": "stderr",
     "output_type": "stream",
     "text": [
      "Epoch 859: 100%|██████████| 4/4 [00:00<00:00, 125.71it/s, Loss: 0.492, Accuracy: 0.863]\n",
      "Epoch 859: 100%|██████████| 1/1 [00:00<00:00, 168.98it/s, Loss: 1.182, Accuracy: 0.720]\n"
     ]
    },
    {
     "name": "stdout",
     "output_type": "stream",
     "text": [
      "Epoch 859: Train Loss: 1.318, Train Accuracy: 0.545, Test Loss: 1.182, Test Accuracy: 0.720\n"
     ]
    },
    {
     "name": "stderr",
     "output_type": "stream",
     "text": [
      "Epoch 860: 100%|██████████| 4/4 [00:00<00:00, 87.06it/s, Loss: 1.730, Accuracy: 0.424]\n",
      "Epoch 860: 100%|██████████| 1/1 [00:00<00:00, 167.04it/s, Loss: 1.187, Accuracy: 0.720]\n"
     ]
    },
    {
     "name": "stdout",
     "output_type": "stream",
     "text": [
      "Epoch 860: Train Loss: 1.392, Train Accuracy: 0.540, Test Loss: 1.187, Test Accuracy: 0.720\n"
     ]
    },
    {
     "name": "stderr",
     "output_type": "stream",
     "text": [
      "Epoch 861: 100%|██████████| 4/4 [00:00<00:00, 106.91it/s, Loss: 1.090, Accuracy: 0.669]\n",
      "Epoch 861: 100%|██████████| 1/1 [00:00<00:00, 203.33it/s, Loss: 1.192, Accuracy: 0.720]\n"
     ]
    },
    {
     "name": "stdout",
     "output_type": "stream",
     "text": [
      "Epoch 861: Train Loss: 1.313, Train Accuracy: 0.570, Test Loss: 1.192, Test Accuracy: 0.720\n"
     ]
    },
    {
     "name": "stderr",
     "output_type": "stream",
     "text": [
      "Epoch 862: 100%|██████████| 4/4 [00:00<00:00, 119.24it/s, Loss: 1.595, Accuracy: 0.593]\n",
      "Epoch 862: 100%|██████████| 1/1 [00:00<00:00, 197.38it/s, Loss: 1.194, Accuracy: 0.720]\n"
     ]
    },
    {
     "name": "stdout",
     "output_type": "stream",
     "text": [
      "Epoch 862: Train Loss: 1.309, Train Accuracy: 0.544, Test Loss: 1.194, Test Accuracy: 0.720\n"
     ]
    },
    {
     "name": "stderr",
     "output_type": "stream",
     "text": [
      "Epoch 863: 100%|██████████| 4/4 [00:00<00:00, 120.43it/s, Loss: 1.818, Accuracy: 0.346]\n",
      "Epoch 863: 100%|██████████| 1/1 [00:00<00:00, 176.30it/s, Loss: 1.193, Accuracy: 0.720]\n"
     ]
    },
    {
     "name": "stdout",
     "output_type": "stream",
     "text": [
      "Epoch 863: Train Loss: 1.361, Train Accuracy: 0.556, Test Loss: 1.193, Test Accuracy: 0.720\n"
     ]
    },
    {
     "name": "stderr",
     "output_type": "stream",
     "text": [
      "Epoch 864: 100%|██████████| 4/4 [00:00<00:00, 114.10it/s, Loss: 0.439, Accuracy: 0.838]\n",
      "Epoch 864: 100%|██████████| 1/1 [00:00<00:00, 199.88it/s, Loss: 1.190, Accuracy: 0.720]\n"
     ]
    },
    {
     "name": "stdout",
     "output_type": "stream",
     "text": [
      "Epoch 864: Train Loss: 1.397, Train Accuracy: 0.542, Test Loss: 1.190, Test Accuracy: 0.720\n"
     ]
    },
    {
     "name": "stderr",
     "output_type": "stream",
     "text": [
      "Epoch 865: 100%|██████████| 4/4 [00:00<00:00, 107.30it/s, Loss: 1.887, Accuracy: 0.431]\n",
      "Epoch 865: 100%|██████████| 1/1 [00:00<00:00, 250.50it/s, Loss: 1.188, Accuracy: 0.720]\n"
     ]
    },
    {
     "name": "stdout",
     "output_type": "stream",
     "text": [
      "Epoch 865: Train Loss: 1.310, Train Accuracy: 0.567, Test Loss: 1.188, Test Accuracy: 0.720\n"
     ]
    },
    {
     "name": "stderr",
     "output_type": "stream",
     "text": [
      "Epoch 866: 100%|██████████| 4/4 [00:00<00:00, 118.83it/s, Loss: 0.987, Accuracy: 0.832]\n",
      "Epoch 866: 100%|██████████| 1/1 [00:00<00:00, 167.08it/s, Loss: 1.189, Accuracy: 0.720]\n"
     ]
    },
    {
     "name": "stdout",
     "output_type": "stream",
     "text": [
      "Epoch 866: Train Loss: 1.363, Train Accuracy: 0.529, Test Loss: 1.189, Test Accuracy: 0.720\n"
     ]
    },
    {
     "name": "stderr",
     "output_type": "stream",
     "text": [
      "Epoch 867: 100%|██████████| 4/4 [00:00<00:00, 101.08it/s, Loss: 0.991, Accuracy: 0.634]\n",
      "Epoch 867: 100%|██████████| 1/1 [00:00<00:00, 249.44it/s, Loss: 1.190, Accuracy: 0.720]\n"
     ]
    },
    {
     "name": "stdout",
     "output_type": "stream",
     "text": [
      "Epoch 867: Train Loss: 1.320, Train Accuracy: 0.558, Test Loss: 1.190, Test Accuracy: 0.720\n"
     ]
    },
    {
     "name": "stderr",
     "output_type": "stream",
     "text": [
      "Epoch 868: 100%|██████████| 4/4 [00:00<00:00, 96.19it/s, Loss: 1.235, Accuracy: 0.694]\n",
      "Epoch 868: 100%|██████████| 1/1 [00:00<00:00, 164.91it/s, Loss: 1.188, Accuracy: 0.720]\n"
     ]
    },
    {
     "name": "stdout",
     "output_type": "stream",
     "text": [
      "Epoch 868: Train Loss: 1.368, Train Accuracy: 0.550, Test Loss: 1.188, Test Accuracy: 0.720\n"
     ]
    },
    {
     "name": "stderr",
     "output_type": "stream",
     "text": [
      "Epoch 869: 100%|██████████| 4/4 [00:00<00:00, 117.91it/s, Loss: 0.822, Accuracy: 0.776]\n",
      "Epoch 869: 100%|██████████| 1/1 [00:00<00:00, 166.53it/s, Loss: 1.189, Accuracy: 0.720]\n"
     ]
    },
    {
     "name": "stdout",
     "output_type": "stream",
     "text": [
      "Epoch 869: Train Loss: 1.392, Train Accuracy: 0.537, Test Loss: 1.189, Test Accuracy: 0.720\n"
     ]
    },
    {
     "name": "stderr",
     "output_type": "stream",
     "text": [
      "Epoch 870: 100%|██████████| 4/4 [00:00<00:00, 118.53it/s, Loss: 1.923, Accuracy: 0.211]\n",
      "Epoch 870: 100%|██████████| 1/1 [00:00<00:00, 199.95it/s, Loss: 1.184, Accuracy: 0.720]\n"
     ]
    },
    {
     "name": "stdout",
     "output_type": "stream",
     "text": [
      "Epoch 870: Train Loss: 1.411, Train Accuracy: 0.532, Test Loss: 1.184, Test Accuracy: 0.720\n"
     ]
    },
    {
     "name": "stderr",
     "output_type": "stream",
     "text": [
      "Epoch 871: 100%|██████████| 4/4 [00:00<00:00, 125.21it/s, Loss: 1.301, Accuracy: 0.491]\n",
      "Epoch 871: 100%|██████████| 1/1 [00:00<00:00, 152.52it/s, Loss: 1.185, Accuracy: 0.720]\n"
     ]
    },
    {
     "name": "stdout",
     "output_type": "stream",
     "text": [
      "Epoch 871: Train Loss: 1.376, Train Accuracy: 0.541, Test Loss: 1.185, Test Accuracy: 0.720\n"
     ]
    },
    {
     "name": "stderr",
     "output_type": "stream",
     "text": [
      "Epoch 872: 100%|██████████| 4/4 [00:00<00:00, 106.12it/s, Loss: 0.608, Accuracy: 0.810]\n",
      "Epoch 872: 100%|██████████| 1/1 [00:00<00:00, 200.02it/s, Loss: 1.186, Accuracy: 0.720]\n"
     ]
    },
    {
     "name": "stdout",
     "output_type": "stream",
     "text": [
      "Epoch 872: Train Loss: 1.384, Train Accuracy: 0.526, Test Loss: 1.186, Test Accuracy: 0.720\n"
     ]
    },
    {
     "name": "stderr",
     "output_type": "stream",
     "text": [
      "Epoch 873: 100%|██████████| 4/4 [00:00<00:00, 127.74it/s, Loss: 1.473, Accuracy: 0.417]\n",
      "Epoch 873: 100%|██████████| 1/1 [00:00<00:00, 200.05it/s, Loss: 1.194, Accuracy: 0.720]\n"
     ]
    },
    {
     "name": "stdout",
     "output_type": "stream",
     "text": [
      "Epoch 873: Train Loss: 1.443, Train Accuracy: 0.494, Test Loss: 1.194, Test Accuracy: 0.720\n"
     ]
    },
    {
     "name": "stderr",
     "output_type": "stream",
     "text": [
      "Epoch 874: 100%|██████████| 4/4 [00:00<00:00, 96.05it/s, Loss: 2.150, Accuracy: 0.071]\n",
      "Epoch 874: 100%|██████████| 1/1 [00:00<00:00, 199.33it/s, Loss: 1.197, Accuracy: 0.720]\n"
     ]
    },
    {
     "name": "stdout",
     "output_type": "stream",
     "text": [
      "Epoch 874: Train Loss: 1.381, Train Accuracy: 0.534, Test Loss: 1.197, Test Accuracy: 0.720\n"
     ]
    },
    {
     "name": "stderr",
     "output_type": "stream",
     "text": [
      "Epoch 875: 100%|██████████| 4/4 [00:00<00:00, 97.63it/s, Loss: 1.440, Accuracy: 0.348]\n",
      "Epoch 875: 100%|██████████| 1/1 [00:00<00:00, 142.87it/s, Loss: 1.199, Accuracy: 0.720]\n"
     ]
    },
    {
     "name": "stdout",
     "output_type": "stream",
     "text": [
      "Epoch 875: Train Loss: 1.369, Train Accuracy: 0.537, Test Loss: 1.199, Test Accuracy: 0.720\n"
     ]
    },
    {
     "name": "stderr",
     "output_type": "stream",
     "text": [
      "Epoch 876: 100%|██████████| 4/4 [00:00<00:00, 102.20it/s, Loss: 1.095, Accuracy: 0.682]\n",
      "Epoch 876: 100%|██████████| 1/1 [00:00<00:00, 166.76it/s, Loss: 1.202, Accuracy: 0.720]\n"
     ]
    },
    {
     "name": "stdout",
     "output_type": "stream",
     "text": [
      "Epoch 876: Train Loss: 1.419, Train Accuracy: 0.512, Test Loss: 1.202, Test Accuracy: 0.720\n"
     ]
    },
    {
     "name": "stderr",
     "output_type": "stream",
     "text": [
      "Epoch 877: 100%|██████████| 4/4 [00:00<00:00, 120.83it/s, Loss: 1.847, Accuracy: 0.368]\n",
      "Epoch 877: 100%|██████████| 1/1 [00:00<00:00, 200.29it/s, Loss: 1.202, Accuracy: 0.720]\n"
     ]
    },
    {
     "name": "stdout",
     "output_type": "stream",
     "text": [
      "Epoch 877: Train Loss: 1.373, Train Accuracy: 0.540, Test Loss: 1.202, Test Accuracy: 0.720\n"
     ]
    },
    {
     "name": "stderr",
     "output_type": "stream",
     "text": [
      "Epoch 878: 100%|██████████| 4/4 [00:00<00:00, 110.15it/s, Loss: 1.292, Accuracy: 0.504]\n",
      "Epoch 878: 100%|██████████| 1/1 [00:00<00:00, 166.54it/s, Loss: 1.201, Accuracy: 0.720]\n"
     ]
    },
    {
     "name": "stdout",
     "output_type": "stream",
     "text": [
      "Epoch 878: Train Loss: 1.381, Train Accuracy: 0.545, Test Loss: 1.201, Test Accuracy: 0.720\n"
     ]
    },
    {
     "name": "stderr",
     "output_type": "stream",
     "text": [
      "Epoch 879: 100%|██████████| 4/4 [00:00<00:00, 111.29it/s, Loss: 1.314, Accuracy: 0.719]\n",
      "Epoch 879: 100%|██████████| 1/1 [00:00<00:00, 167.08it/s, Loss: 1.205, Accuracy: 0.720]\n"
     ]
    },
    {
     "name": "stdout",
     "output_type": "stream",
     "text": [
      "Epoch 879: Train Loss: 1.399, Train Accuracy: 0.523, Test Loss: 1.205, Test Accuracy: 0.720\n"
     ]
    },
    {
     "name": "stderr",
     "output_type": "stream",
     "text": [
      "Epoch 880: 100%|██████████| 4/4 [00:00<00:00, 102.61it/s, Loss: 2.258, Accuracy: 0.070]\n",
      "Epoch 880: 100%|██████████| 1/1 [00:00<00:00, 148.90it/s, Loss: 1.205, Accuracy: 0.720]\n"
     ]
    },
    {
     "name": "stdout",
     "output_type": "stream",
     "text": [
      "Epoch 880: Train Loss: 1.447, Train Accuracy: 0.499, Test Loss: 1.205, Test Accuracy: 0.720\n"
     ]
    },
    {
     "name": "stderr",
     "output_type": "stream",
     "text": [
      "Epoch 881: 100%|██████████| 4/4 [00:00<00:00, 105.31it/s, Loss: 2.144, Accuracy: 0.206]\n",
      "Epoch 881: 100%|██████████| 1/1 [00:00<00:00, 166.37it/s, Loss: 1.199, Accuracy: 0.720]\n"
     ]
    },
    {
     "name": "stdout",
     "output_type": "stream",
     "text": [
      "Epoch 881: Train Loss: 1.282, Train Accuracy: 0.583, Test Loss: 1.199, Test Accuracy: 0.720\n"
     ]
    },
    {
     "name": "stderr",
     "output_type": "stream",
     "text": [
      "Epoch 882: 100%|██████████| 4/4 [00:00<00:00, 119.40it/s, Loss: 1.987, Accuracy: 0.276]\n",
      "Epoch 882: 100%|██████████| 1/1 [00:00<00:00, 202.66it/s, Loss: 1.196, Accuracy: 0.720]\n"
     ]
    },
    {
     "name": "stdout",
     "output_type": "stream",
     "text": [
      "Epoch 882: Train Loss: 1.446, Train Accuracy: 0.497, Test Loss: 1.196, Test Accuracy: 0.720\n"
     ]
    },
    {
     "name": "stderr",
     "output_type": "stream",
     "text": [
      "Epoch 883: 100%|██████████| 4/4 [00:00<00:00, 94.02it/s, Loss: 1.319, Accuracy: 0.601]\n",
      "Epoch 883: 100%|██████████| 1/1 [00:00<00:00, 142.87it/s, Loss: 1.199, Accuracy: 0.720]\n"
     ]
    },
    {
     "name": "stdout",
     "output_type": "stream",
     "text": [
      "Epoch 883: Train Loss: 1.350, Train Accuracy: 0.540, Test Loss: 1.199, Test Accuracy: 0.720\n"
     ]
    },
    {
     "name": "stderr",
     "output_type": "stream",
     "text": [
      "Epoch 884: 100%|██████████| 4/4 [00:00<00:00, 117.65it/s, Loss: 1.837, Accuracy: 0.284]\n",
      "Epoch 884: 100%|██████████| 1/1 [00:00<00:00, 201.58it/s, Loss: 1.196, Accuracy: 0.720]\n"
     ]
    },
    {
     "name": "stdout",
     "output_type": "stream",
     "text": [
      "Epoch 884: Train Loss: 1.303, Train Accuracy: 0.568, Test Loss: 1.196, Test Accuracy: 0.720\n"
     ]
    },
    {
     "name": "stderr",
     "output_type": "stream",
     "text": [
      "Epoch 885: 100%|██████████| 4/4 [00:00<00:00, 105.19it/s, Loss: 1.452, Accuracy: 0.529]\n",
      "Epoch 885: 100%|██████████| 1/1 [00:00<00:00, 246.25it/s, Loss: 1.193, Accuracy: 0.720]\n"
     ]
    },
    {
     "name": "stdout",
     "output_type": "stream",
     "text": [
      "Epoch 885: Train Loss: 1.415, Train Accuracy: 0.520, Test Loss: 1.193, Test Accuracy: 0.720\n"
     ]
    },
    {
     "name": "stderr",
     "output_type": "stream",
     "text": [
      "Epoch 886: 100%|██████████| 4/4 [00:00<00:00, 107.27it/s, Loss: 1.556, Accuracy: 0.471]\n",
      "Epoch 886: 100%|██████████| 1/1 [00:00<00:00, 193.12it/s, Loss: 1.185, Accuracy: 0.720]\n"
     ]
    },
    {
     "name": "stdout",
     "output_type": "stream",
     "text": [
      "Epoch 886: Train Loss: 1.305, Train Accuracy: 0.574, Test Loss: 1.185, Test Accuracy: 0.720\n"
     ]
    },
    {
     "name": "stderr",
     "output_type": "stream",
     "text": [
      "Epoch 887: 100%|██████████| 4/4 [00:00<00:00, 126.62it/s, Loss: 0.587, Accuracy: 0.744]\n",
      "Epoch 887: 100%|██████████| 1/1 [00:00<00:00, 199.69it/s, Loss: 1.185, Accuracy: 0.720]\n"
     ]
    },
    {
     "name": "stdout",
     "output_type": "stream",
     "text": [
      "Epoch 887: Train Loss: 1.360, Train Accuracy: 0.530, Test Loss: 1.185, Test Accuracy: 0.720\n"
     ]
    },
    {
     "name": "stderr",
     "output_type": "stream",
     "text": [
      "Epoch 888: 100%|██████████| 4/4 [00:00<00:00, 102.37it/s, Loss: 1.053, Accuracy: 0.824]\n",
      "Epoch 888: 100%|██████████| 1/1 [00:00<00:00, 166.70it/s, Loss: 1.195, Accuracy: 0.720]\n"
     ]
    },
    {
     "name": "stdout",
     "output_type": "stream",
     "text": [
      "Epoch 888: Train Loss: 1.392, Train Accuracy: 0.519, Test Loss: 1.195, Test Accuracy: 0.720\n"
     ]
    },
    {
     "name": "stderr",
     "output_type": "stream",
     "text": [
      "Epoch 889: 100%|██████████| 4/4 [00:00<00:00, 115.23it/s, Loss: 1.431, Accuracy: 0.650]\n",
      "Epoch 889: 100%|██████████| 1/1 [00:00<00:00, 198.27it/s, Loss: 1.205, Accuracy: 0.720]\n"
     ]
    },
    {
     "name": "stdout",
     "output_type": "stream",
     "text": [
      "Epoch 889: Train Loss: 1.368, Train Accuracy: 0.550, Test Loss: 1.205, Test Accuracy: 0.720\n"
     ]
    },
    {
     "name": "stderr",
     "output_type": "stream",
     "text": [
      "Epoch 890: 100%|██████████| 4/4 [00:00<00:00, 90.91it/s, Loss: 1.100, Accuracy: 0.510]\n",
      "Epoch 890: 100%|██████████| 1/1 [00:00<00:00, 166.73it/s, Loss: 1.205, Accuracy: 0.720]\n"
     ]
    },
    {
     "name": "stdout",
     "output_type": "stream",
     "text": [
      "Epoch 890: Train Loss: 1.387, Train Accuracy: 0.513, Test Loss: 1.205, Test Accuracy: 0.720\n"
     ]
    },
    {
     "name": "stderr",
     "output_type": "stream",
     "text": [
      "Epoch 891: 100%|██████████| 4/4 [00:00<00:00, 125.74it/s, Loss: 1.376, Accuracy: 0.624]\n",
      "Epoch 891: 100%|██████████| 1/1 [00:00<00:00, 164.87it/s, Loss: 1.212, Accuracy: 0.720]\n"
     ]
    },
    {
     "name": "stdout",
     "output_type": "stream",
     "text": [
      "Epoch 891: Train Loss: 1.287, Train Accuracy: 0.573, Test Loss: 1.212, Test Accuracy: 0.720\n"
     ]
    },
    {
     "name": "stderr",
     "output_type": "stream",
     "text": [
      "Epoch 892: 100%|██████████| 4/4 [00:00<00:00, 117.85it/s, Loss: 1.344, Accuracy: 0.567]\n",
      "Epoch 892: 100%|██████████| 1/1 [00:00<00:00, 246.87it/s, Loss: 1.212, Accuracy: 0.720]\n"
     ]
    },
    {
     "name": "stdout",
     "output_type": "stream",
     "text": [
      "Epoch 892: Train Loss: 1.357, Train Accuracy: 0.534, Test Loss: 1.212, Test Accuracy: 0.720\n"
     ]
    },
    {
     "name": "stderr",
     "output_type": "stream",
     "text": [
      "Epoch 893: 100%|██████████| 4/4 [00:00<00:00, 103.51it/s, Loss: 1.450, Accuracy: 0.371]\n",
      "Epoch 893: 100%|██████████| 1/1 [00:00<00:00, 188.95it/s, Loss: 1.211, Accuracy: 0.720]\n"
     ]
    },
    {
     "name": "stdout",
     "output_type": "stream",
     "text": [
      "Epoch 893: Train Loss: 1.381, Train Accuracy: 0.508, Test Loss: 1.211, Test Accuracy: 0.720\n"
     ]
    },
    {
     "name": "stderr",
     "output_type": "stream",
     "text": [
      "Epoch 894: 100%|██████████| 4/4 [00:00<00:00, 105.30it/s, Loss: 1.153, Accuracy: 0.696]\n",
      "Epoch 894: 100%|██████████| 1/1 [00:00<00:00, 246.10it/s, Loss: 1.212, Accuracy: 0.720]\n"
     ]
    },
    {
     "name": "stdout",
     "output_type": "stream",
     "text": [
      "Epoch 894: Train Loss: 1.426, Train Accuracy: 0.496, Test Loss: 1.212, Test Accuracy: 0.720\n"
     ]
    },
    {
     "name": "stderr",
     "output_type": "stream",
     "text": [
      "Epoch 895: 100%|██████████| 4/4 [00:00<00:00, 120.86it/s, Loss: 1.161, Accuracy: 0.766]\n",
      "Epoch 895: 100%|██████████| 1/1 [00:00<00:00, 227.48it/s, Loss: 1.234, Accuracy: 0.720]\n"
     ]
    },
    {
     "name": "stdout",
     "output_type": "stream",
     "text": [
      "Epoch 895: Train Loss: 1.434, Train Accuracy: 0.493, Test Loss: 1.234, Test Accuracy: 0.720\n"
     ]
    },
    {
     "name": "stderr",
     "output_type": "stream",
     "text": [
      "Epoch 896: 100%|██████████| 4/4 [00:00<00:00, 115.85it/s, Loss: 1.295, Accuracy: 0.719]\n",
      "Epoch 896: 100%|██████████| 1/1 [00:00<00:00, 254.62it/s, Loss: 1.228, Accuracy: 0.720]\n"
     ]
    },
    {
     "name": "stdout",
     "output_type": "stream",
     "text": [
      "Epoch 896: Train Loss: 1.377, Train Accuracy: 0.533, Test Loss: 1.228, Test Accuracy: 0.720\n"
     ]
    },
    {
     "name": "stderr",
     "output_type": "stream",
     "text": [
      "Epoch 897: 100%|██████████| 4/4 [00:00<00:00, 84.12it/s, Loss: 0.819, Accuracy: 0.798]\n",
      "Epoch 897: 100%|██████████| 1/1 [00:00<00:00, 200.01it/s, Loss: 1.226, Accuracy: 0.720]\n"
     ]
    },
    {
     "name": "stdout",
     "output_type": "stream",
     "text": [
      "Epoch 897: Train Loss: 1.406, Train Accuracy: 0.543, Test Loss: 1.226, Test Accuracy: 0.720\n"
     ]
    },
    {
     "name": "stderr",
     "output_type": "stream",
     "text": [
      "Epoch 898: 100%|██████████| 4/4 [00:00<00:00, 125.85it/s, Loss: 1.148, Accuracy: 0.780]\n",
      "Epoch 898: 100%|██████████| 1/1 [00:00<00:00, 197.73it/s, Loss: 1.227, Accuracy: 0.720]\n"
     ]
    },
    {
     "name": "stdout",
     "output_type": "stream",
     "text": [
      "Epoch 898: Train Loss: 1.363, Train Accuracy: 0.534, Test Loss: 1.227, Test Accuracy: 0.720\n"
     ]
    },
    {
     "name": "stderr",
     "output_type": "stream",
     "text": [
      "Epoch 899: 100%|██████████| 4/4 [00:00<00:00, 114.35it/s, Loss: 1.757, Accuracy: 0.357]\n",
      "Epoch 899: 100%|██████████| 1/1 [00:00<00:00, 250.77it/s, Loss: 1.219, Accuracy: 0.720]\n"
     ]
    },
    {
     "name": "stdout",
     "output_type": "stream",
     "text": [
      "Epoch 899: Train Loss: 1.337, Train Accuracy: 0.553, Test Loss: 1.219, Test Accuracy: 0.720\n"
     ]
    },
    {
     "name": "stderr",
     "output_type": "stream",
     "text": [
      "Epoch 900: 100%|██████████| 4/4 [00:00<00:00, 120.98it/s, Loss: 1.652, Accuracy: 0.470]\n",
      "Epoch 900: 100%|██████████| 1/1 [00:00<00:00, 247.51it/s, Loss: 1.218, Accuracy: 0.720]\n"
     ]
    },
    {
     "name": "stdout",
     "output_type": "stream",
     "text": [
      "Epoch 900: Train Loss: 1.323, Train Accuracy: 0.559, Test Loss: 1.218, Test Accuracy: 0.720\n"
     ]
    },
    {
     "name": "stderr",
     "output_type": "stream",
     "text": [
      "Epoch 901: 100%|██████████| 4/4 [00:00<00:00, 121.05it/s, Loss: 1.787, Accuracy: 0.180]\n",
      "Epoch 901: 100%|██████████| 1/1 [00:00<00:00, 246.46it/s, Loss: 1.214, Accuracy: 0.720]\n"
     ]
    },
    {
     "name": "stdout",
     "output_type": "stream",
     "text": [
      "Epoch 901: Train Loss: 1.433, Train Accuracy: 0.515, Test Loss: 1.214, Test Accuracy: 0.720\n"
     ]
    },
    {
     "name": "stderr",
     "output_type": "stream",
     "text": [
      "Epoch 902: 100%|██████████| 4/4 [00:00<00:00, 117.97it/s, Loss: 2.220, Accuracy: 0.109]\n",
      "Epoch 902: 100%|██████████| 1/1 [00:00<00:00, 164.92it/s, Loss: 1.215, Accuracy: 0.720]\n"
     ]
    },
    {
     "name": "stdout",
     "output_type": "stream",
     "text": [
      "Epoch 902: Train Loss: 1.462, Train Accuracy: 0.492, Test Loss: 1.215, Test Accuracy: 0.720\n"
     ]
    },
    {
     "name": "stderr",
     "output_type": "stream",
     "text": [
      "Epoch 903: 100%|██████████| 4/4 [00:00<00:00, 121.04it/s, Loss: 1.642, Accuracy: 0.468]\n",
      "Epoch 903: 100%|██████████| 1/1 [00:00<00:00, 112.41it/s, Loss: 1.217, Accuracy: 0.720]\n"
     ]
    },
    {
     "name": "stdout",
     "output_type": "stream",
     "text": [
      "Epoch 903: Train Loss: 1.330, Train Accuracy: 0.554, Test Loss: 1.217, Test Accuracy: 0.720\n"
     ]
    },
    {
     "name": "stderr",
     "output_type": "stream",
     "text": [
      "Epoch 904: 100%|██████████| 4/4 [00:00<00:00, 107.44it/s, Loss: 1.653, Accuracy: 0.566]\n",
      "Epoch 904: 100%|██████████| 1/1 [00:00<00:00, 166.44it/s, Loss: 1.213, Accuracy: 0.720]\n"
     ]
    },
    {
     "name": "stdout",
     "output_type": "stream",
     "text": [
      "Epoch 904: Train Loss: 1.440, Train Accuracy: 0.509, Test Loss: 1.213, Test Accuracy: 0.720\n"
     ]
    },
    {
     "name": "stderr",
     "output_type": "stream",
     "text": [
      "Epoch 905: 100%|██████████| 4/4 [00:00<00:00, 105.66it/s, Loss: 1.197, Accuracy: 0.682]\n",
      "Epoch 905: 100%|██████████| 1/1 [00:00<00:00, 166.47it/s, Loss: 1.207, Accuracy: 0.720]\n"
     ]
    },
    {
     "name": "stdout",
     "output_type": "stream",
     "text": [
      "Epoch 905: Train Loss: 1.376, Train Accuracy: 0.548, Test Loss: 1.207, Test Accuracy: 0.720\n"
     ]
    },
    {
     "name": "stderr",
     "output_type": "stream",
     "text": [
      "Epoch 906: 100%|██████████| 4/4 [00:00<00:00, 132.56it/s, Loss: 1.045, Accuracy: 0.568]\n",
      "Epoch 906: 100%|██████████| 1/1 [00:00<00:00, 202.55it/s, Loss: 1.194, Accuracy: 0.720]\n"
     ]
    },
    {
     "name": "stdout",
     "output_type": "stream",
     "text": [
      "Epoch 906: Train Loss: 1.367, Train Accuracy: 0.556, Test Loss: 1.194, Test Accuracy: 0.720\n"
     ]
    },
    {
     "name": "stderr",
     "output_type": "stream",
     "text": [
      "Epoch 907: 100%|██████████| 4/4 [00:00<00:00, 102.17it/s, Loss: 1.304, Accuracy: 0.608]\n",
      "Epoch 907: 100%|██████████| 1/1 [00:00<00:00, 164.73it/s, Loss: 1.187, Accuracy: 0.720]\n"
     ]
    },
    {
     "name": "stdout",
     "output_type": "stream",
     "text": [
      "Epoch 907: Train Loss: 1.358, Train Accuracy: 0.547, Test Loss: 1.187, Test Accuracy: 0.720\n"
     ]
    },
    {
     "name": "stderr",
     "output_type": "stream",
     "text": [
      "Epoch 908: 100%|██████████| 4/4 [00:00<00:00, 120.75it/s, Loss: 1.896, Accuracy: 0.384]\n",
      "Epoch 908: 100%|██████████| 1/1 [00:00<00:00, 250.48it/s, Loss: 1.183, Accuracy: 0.720]\n"
     ]
    },
    {
     "name": "stdout",
     "output_type": "stream",
     "text": [
      "Epoch 908: Train Loss: 1.344, Train Accuracy: 0.550, Test Loss: 1.183, Test Accuracy: 0.720\n"
     ]
    },
    {
     "name": "stderr",
     "output_type": "stream",
     "text": [
      "Epoch 909: 100%|██████████| 4/4 [00:00<00:00, 112.88it/s, Loss: 1.793, Accuracy: 0.397]\n",
      "Epoch 909: 100%|██████████| 1/1 [00:00<00:00, 125.51it/s, Loss: 1.180, Accuracy: 0.720]\n"
     ]
    },
    {
     "name": "stdout",
     "output_type": "stream",
     "text": [
      "Epoch 909: Train Loss: 1.418, Train Accuracy: 0.512, Test Loss: 1.180, Test Accuracy: 0.720\n"
     ]
    },
    {
     "name": "stderr",
     "output_type": "stream",
     "text": [
      "Epoch 910: 100%|██████████| 4/4 [00:00<00:00, 102.42it/s, Loss: 1.354, Accuracy: 0.573]\n",
      "Epoch 910: 100%|██████████| 1/1 [00:00<00:00, 143.75it/s, Loss: 1.177, Accuracy: 0.720]\n"
     ]
    },
    {
     "name": "stdout",
     "output_type": "stream",
     "text": [
      "Epoch 910: Train Loss: 1.364, Train Accuracy: 0.537, Test Loss: 1.177, Test Accuracy: 0.720\n"
     ]
    },
    {
     "name": "stderr",
     "output_type": "stream",
     "text": [
      "Epoch 911: 100%|██████████| 4/4 [00:00<00:00, 109.12it/s, Loss: 1.648, Accuracy: 0.322]\n",
      "Epoch 911: 100%|██████████| 1/1 [00:00<00:00, 208.93it/s, Loss: 1.173, Accuracy: 0.720]\n"
     ]
    },
    {
     "name": "stdout",
     "output_type": "stream",
     "text": [
      "Epoch 911: Train Loss: 1.347, Train Accuracy: 0.560, Test Loss: 1.173, Test Accuracy: 0.720\n"
     ]
    },
    {
     "name": "stderr",
     "output_type": "stream",
     "text": [
      "Epoch 912: 100%|██████████| 4/4 [00:00<00:00, 117.37it/s, Loss: 1.705, Accuracy: 0.443]\n",
      "Epoch 912: 100%|██████████| 1/1 [00:00<00:00, 197.84it/s, Loss: 1.169, Accuracy: 0.720]\n"
     ]
    },
    {
     "name": "stdout",
     "output_type": "stream",
     "text": [
      "Epoch 912: Train Loss: 1.394, Train Accuracy: 0.530, Test Loss: 1.169, Test Accuracy: 0.720\n"
     ]
    },
    {
     "name": "stderr",
     "output_type": "stream",
     "text": [
      "Epoch 913: 100%|██████████| 4/4 [00:00<00:00, 118.63it/s, Loss: 1.510, Accuracy: 0.586]\n",
      "Epoch 913: 100%|██████████| 1/1 [00:00<00:00, 245.54it/s, Loss: 1.172, Accuracy: 0.720]\n"
     ]
    },
    {
     "name": "stdout",
     "output_type": "stream",
     "text": [
      "Epoch 913: Train Loss: 1.350, Train Accuracy: 0.544, Test Loss: 1.172, Test Accuracy: 0.720\n"
     ]
    },
    {
     "name": "stderr",
     "output_type": "stream",
     "text": [
      "Epoch 914: 100%|██████████| 4/4 [00:00<00:00, 104.59it/s, Loss: 0.696, Accuracy: 0.744]\n",
      "Epoch 914: 100%|██████████| 1/1 [00:00<00:00, 199.79it/s, Loss: 1.171, Accuracy: 0.720]\n"
     ]
    },
    {
     "name": "stdout",
     "output_type": "stream",
     "text": [
      "Epoch 914: Train Loss: 1.311, Train Accuracy: 0.579, Test Loss: 1.171, Test Accuracy: 0.720\n"
     ]
    },
    {
     "name": "stderr",
     "output_type": "stream",
     "text": [
      "Epoch 915: 100%|██████████| 4/4 [00:00<00:00, 100.57it/s, Loss: 1.168, Accuracy: 0.832]\n",
      "Epoch 915: 100%|██████████| 1/1 [00:00<00:00, 167.10it/s, Loss: 1.171, Accuracy: 0.720]\n"
     ]
    },
    {
     "name": "stdout",
     "output_type": "stream",
     "text": [
      "Epoch 915: Train Loss: 1.333, Train Accuracy: 0.552, Test Loss: 1.171, Test Accuracy: 0.720\n"
     ]
    },
    {
     "name": "stderr",
     "output_type": "stream",
     "text": [
      "Epoch 916: 100%|██████████| 4/4 [00:00<00:00, 114.31it/s, Loss: 1.631, Accuracy: 0.452]\n",
      "Epoch 916: 100%|██████████| 1/1 [00:00<00:00, 142.84it/s, Loss: 1.166, Accuracy: 0.720]\n"
     ]
    },
    {
     "name": "stdout",
     "output_type": "stream",
     "text": [
      "Epoch 916: Train Loss: 1.349, Train Accuracy: 0.547, Test Loss: 1.166, Test Accuracy: 0.720\n"
     ]
    },
    {
     "name": "stderr",
     "output_type": "stream",
     "text": [
      "Epoch 917: 100%|██████████| 4/4 [00:00<00:00, 95.85it/s, Loss: 1.870, Accuracy: 0.261]\n",
      "Epoch 917: 100%|██████████| 1/1 [00:00<00:00, 195.26it/s, Loss: 1.162, Accuracy: 0.720]\n"
     ]
    },
    {
     "name": "stdout",
     "output_type": "stream",
     "text": [
      "Epoch 917: Train Loss: 1.343, Train Accuracy: 0.552, Test Loss: 1.162, Test Accuracy: 0.720\n"
     ]
    },
    {
     "name": "stderr",
     "output_type": "stream",
     "text": [
      "Epoch 918: 100%|██████████| 4/4 [00:00<00:00, 104.90it/s, Loss: 1.816, Accuracy: 0.474]\n",
      "Epoch 918: 100%|██████████| 1/1 [00:00<00:00, 165.70it/s, Loss: 1.159, Accuracy: 0.720]\n"
     ]
    },
    {
     "name": "stdout",
     "output_type": "stream",
     "text": [
      "Epoch 918: Train Loss: 1.358, Train Accuracy: 0.553, Test Loss: 1.159, Test Accuracy: 0.720\n"
     ]
    },
    {
     "name": "stderr",
     "output_type": "stream",
     "text": [
      "Epoch 919: 100%|██████████| 4/4 [00:00<00:00, 115.50it/s, Loss: 1.387, Accuracy: 0.443]\n",
      "Epoch 919: 100%|██████████| 1/1 [00:00<00:00, 161.18it/s, Loss: 1.154, Accuracy: 0.720]\n"
     ]
    },
    {
     "name": "stdout",
     "output_type": "stream",
     "text": [
      "Epoch 919: Train Loss: 1.302, Train Accuracy: 0.562, Test Loss: 1.154, Test Accuracy: 0.720\n"
     ]
    },
    {
     "name": "stderr",
     "output_type": "stream",
     "text": [
      "Epoch 920: 100%|██████████| 4/4 [00:00<00:00, 114.10it/s, Loss: 1.082, Accuracy: 0.776]\n",
      "Epoch 920: 100%|██████████| 1/1 [00:00<00:00, 167.42it/s, Loss: 1.153, Accuracy: 0.720]\n"
     ]
    },
    {
     "name": "stdout",
     "output_type": "stream",
     "text": [
      "Epoch 920: Train Loss: 1.366, Train Accuracy: 0.538, Test Loss: 1.153, Test Accuracy: 0.720\n"
     ]
    },
    {
     "name": "stderr",
     "output_type": "stream",
     "text": [
      "Epoch 921: 100%|██████████| 4/4 [00:00<00:00, 118.57it/s, Loss: 1.319, Accuracy: 0.653]\n",
      "Epoch 921: 100%|██████████| 1/1 [00:00<00:00, 246.72it/s, Loss: 1.161, Accuracy: 0.720]\n"
     ]
    },
    {
     "name": "stdout",
     "output_type": "stream",
     "text": [
      "Epoch 921: Train Loss: 1.429, Train Accuracy: 0.506, Test Loss: 1.161, Test Accuracy: 0.720\n"
     ]
    },
    {
     "name": "stderr",
     "output_type": "stream",
     "text": [
      "Epoch 922: 100%|██████████| 4/4 [00:00<00:00, 125.42it/s, Loss: 1.887, Accuracy: 0.188]\n",
      "Epoch 922: 100%|██████████| 1/1 [00:00<00:00, 167.75it/s, Loss: 1.168, Accuracy: 0.720]\n"
     ]
    },
    {
     "name": "stdout",
     "output_type": "stream",
     "text": [
      "Epoch 922: Train Loss: 1.403, Train Accuracy: 0.507, Test Loss: 1.168, Test Accuracy: 0.720\n"
     ]
    },
    {
     "name": "stderr",
     "output_type": "stream",
     "text": [
      "Epoch 923: 100%|██████████| 4/4 [00:00<00:00, 86.53it/s, Loss: 1.422, Accuracy: 0.604]\n",
      "Epoch 923: 100%|██████████| 1/1 [00:00<00:00, 250.63it/s, Loss: 1.177, Accuracy: 0.720]\n"
     ]
    },
    {
     "name": "stdout",
     "output_type": "stream",
     "text": [
      "Epoch 923: Train Loss: 1.386, Train Accuracy: 0.528, Test Loss: 1.177, Test Accuracy: 0.720\n"
     ]
    },
    {
     "name": "stderr",
     "output_type": "stream",
     "text": [
      "Epoch 924: 100%|██████████| 4/4 [00:00<00:00, 118.71it/s, Loss: 2.207, Accuracy: 0.178]\n",
      "Epoch 924: 100%|██████████| 1/1 [00:00<00:00, 165.18it/s, Loss: 1.180, Accuracy: 0.720]\n"
     ]
    },
    {
     "name": "stdout",
     "output_type": "stream",
     "text": [
      "Epoch 924: Train Loss: 1.436, Train Accuracy: 0.512, Test Loss: 1.180, Test Accuracy: 0.720\n"
     ]
    },
    {
     "name": "stderr",
     "output_type": "stream",
     "text": [
      "Epoch 925: 100%|██████████| 4/4 [00:00<00:00, 111.70it/s, Loss: 1.798, Accuracy: 0.408]\n",
      "Epoch 925: 100%|██████████| 1/1 [00:00<00:00, 200.41it/s, Loss: 1.183, Accuracy: 0.720]\n"
     ]
    },
    {
     "name": "stdout",
     "output_type": "stream",
     "text": [
      "Epoch 925: Train Loss: 1.480, Train Accuracy: 0.475, Test Loss: 1.183, Test Accuracy: 0.720\n"
     ]
    },
    {
     "name": "stderr",
     "output_type": "stream",
     "text": [
      "Epoch 926: 100%|██████████| 4/4 [00:00<00:00, 113.62it/s, Loss: 2.042, Accuracy: 0.100]\n",
      "Epoch 926: 100%|██████████| 1/1 [00:00<00:00, 141.63it/s, Loss: 1.186, Accuracy: 0.720]\n"
     ]
    },
    {
     "name": "stdout",
     "output_type": "stream",
     "text": [
      "Epoch 926: Train Loss: 1.425, Train Accuracy: 0.499, Test Loss: 1.186, Test Accuracy: 0.720\n"
     ]
    },
    {
     "name": "stderr",
     "output_type": "stream",
     "text": [
      "Epoch 927: 100%|██████████| 4/4 [00:00<00:00, 132.73it/s, Loss: 1.566, Accuracy: 0.630]\n",
      "Epoch 927: 100%|██████████| 1/1 [00:00<00:00, 119.06it/s, Loss: 1.188, Accuracy: 0.720]\n"
     ]
    },
    {
     "name": "stdout",
     "output_type": "stream",
     "text": [
      "Epoch 927: Train Loss: 1.387, Train Accuracy: 0.539, Test Loss: 1.188, Test Accuracy: 0.720\n"
     ]
    },
    {
     "name": "stderr",
     "output_type": "stream",
     "text": [
      "Epoch 928: 100%|██████████| 4/4 [00:00<00:00, 114.09it/s, Loss: 1.130, Accuracy: 0.772]\n",
      "Epoch 928: 100%|██████████| 1/1 [00:00<00:00, 246.13it/s, Loss: 1.193, Accuracy: 0.720]\n"
     ]
    },
    {
     "name": "stdout",
     "output_type": "stream",
     "text": [
      "Epoch 928: Train Loss: 1.387, Train Accuracy: 0.523, Test Loss: 1.193, Test Accuracy: 0.720\n"
     ]
    },
    {
     "name": "stderr",
     "output_type": "stream",
     "text": [
      "Epoch 929: 100%|██████████| 4/4 [00:00<00:00, 105.66it/s, Loss: 2.075, Accuracy: 0.077]\n",
      "Epoch 929: 100%|██████████| 1/1 [00:00<00:00, 197.26it/s, Loss: 1.192, Accuracy: 0.720]\n"
     ]
    },
    {
     "name": "stdout",
     "output_type": "stream",
     "text": [
      "Epoch 929: Train Loss: 1.412, Train Accuracy: 0.517, Test Loss: 1.192, Test Accuracy: 0.720\n"
     ]
    },
    {
     "name": "stderr",
     "output_type": "stream",
     "text": [
      "Epoch 930: 100%|██████████| 4/4 [00:00<00:00, 84.43it/s, Loss: 1.095, Accuracy: 0.779]\n",
      "Epoch 930: 100%|██████████| 1/1 [00:00<00:00, 133.39it/s, Loss: 1.185, Accuracy: 0.720]\n"
     ]
    },
    {
     "name": "stdout",
     "output_type": "stream",
     "text": [
      "Epoch 930: Train Loss: 1.354, Train Accuracy: 0.543, Test Loss: 1.185, Test Accuracy: 0.720\n"
     ]
    },
    {
     "name": "stderr",
     "output_type": "stream",
     "text": [
      "Epoch 931: 100%|██████████| 4/4 [00:00<00:00, 121.07it/s, Loss: 1.789, Accuracy: 0.475]\n",
      "Epoch 931: 100%|██████████| 1/1 [00:00<00:00, 179.67it/s, Loss: 1.178, Accuracy: 0.720]\n"
     ]
    },
    {
     "name": "stdout",
     "output_type": "stream",
     "text": [
      "Epoch 931: Train Loss: 1.335, Train Accuracy: 0.550, Test Loss: 1.178, Test Accuracy: 0.720\n"
     ]
    },
    {
     "name": "stderr",
     "output_type": "stream",
     "text": [
      "Epoch 932: 100%|██████████| 4/4 [00:00<00:00, 133.47it/s, Loss: 1.653, Accuracy: 0.409]\n",
      "Epoch 932: 100%|██████████| 1/1 [00:00<00:00, 200.51it/s, Loss: 1.173, Accuracy: 0.720]\n"
     ]
    },
    {
     "name": "stdout",
     "output_type": "stream",
     "text": [
      "Epoch 932: Train Loss: 1.342, Train Accuracy: 0.544, Test Loss: 1.173, Test Accuracy: 0.720\n"
     ]
    },
    {
     "name": "stderr",
     "output_type": "stream",
     "text": [
      "Epoch 933: 100%|██████████| 4/4 [00:00<00:00, 118.85it/s, Loss: 0.924, Accuracy: 0.702]\n",
      "Epoch 933: 100%|██████████| 1/1 [00:00<00:00, 248.49it/s, Loss: 1.174, Accuracy: 0.720]\n"
     ]
    },
    {
     "name": "stdout",
     "output_type": "stream",
     "text": [
      "Epoch 933: Train Loss: 1.342, Train Accuracy: 0.546, Test Loss: 1.174, Test Accuracy: 0.720\n"
     ]
    },
    {
     "name": "stderr",
     "output_type": "stream",
     "text": [
      "Epoch 934: 100%|██████████| 4/4 [00:00<00:00, 103.32it/s, Loss: 1.168, Accuracy: 0.662]\n",
      "Epoch 934: 100%|██████████| 1/1 [00:00<00:00, 197.64it/s, Loss: 1.173, Accuracy: 0.720]\n"
     ]
    },
    {
     "name": "stdout",
     "output_type": "stream",
     "text": [
      "Epoch 934: Train Loss: 1.355, Train Accuracy: 0.543, Test Loss: 1.173, Test Accuracy: 0.720\n"
     ]
    },
    {
     "name": "stderr",
     "output_type": "stream",
     "text": [
      "Epoch 935: 100%|██████████| 4/4 [00:00<00:00, 117.45it/s, Loss: 1.241, Accuracy: 0.627]\n",
      "Epoch 935: 100%|██████████| 1/1 [00:00<00:00, 230.24it/s, Loss: 1.170, Accuracy: 0.720]\n"
     ]
    },
    {
     "name": "stdout",
     "output_type": "stream",
     "text": [
      "Epoch 935: Train Loss: 1.332, Train Accuracy: 0.545, Test Loss: 1.170, Test Accuracy: 0.720\n"
     ]
    },
    {
     "name": "stderr",
     "output_type": "stream",
     "text": [
      "Epoch 936: 100%|██████████| 4/4 [00:00<00:00, 95.94it/s, Loss: 1.008, Accuracy: 0.759]\n",
      "Epoch 936: 100%|██████████| 1/1 [00:00<00:00, 199.76it/s, Loss: 1.169, Accuracy: 0.720]\n"
     ]
    },
    {
     "name": "stdout",
     "output_type": "stream",
     "text": [
      "Epoch 936: Train Loss: 1.349, Train Accuracy: 0.548, Test Loss: 1.169, Test Accuracy: 0.720\n"
     ]
    },
    {
     "name": "stderr",
     "output_type": "stream",
     "text": [
      "Epoch 937: 100%|██████████| 4/4 [00:00<00:00, 114.25it/s, Loss: 1.321, Accuracy: 0.430]\n",
      "Epoch 937: 100%|██████████| 1/1 [00:00<00:00, 195.14it/s, Loss: 1.164, Accuracy: 0.720]\n"
     ]
    },
    {
     "name": "stdout",
     "output_type": "stream",
     "text": [
      "Epoch 937: Train Loss: 1.280, Train Accuracy: 0.559, Test Loss: 1.164, Test Accuracy: 0.720\n"
     ]
    },
    {
     "name": "stderr",
     "output_type": "stream",
     "text": [
      "Epoch 938: 100%|██████████| 4/4 [00:00<00:00, 100.66it/s, Loss: 1.498, Accuracy: 0.709]\n",
      "Epoch 938: 100%|██████████| 1/1 [00:00<00:00, 202.98it/s, Loss: 1.164, Accuracy: 0.720]\n"
     ]
    },
    {
     "name": "stdout",
     "output_type": "stream",
     "text": [
      "Epoch 938: Train Loss: 1.437, Train Accuracy: 0.528, Test Loss: 1.164, Test Accuracy: 0.720\n"
     ]
    },
    {
     "name": "stderr",
     "output_type": "stream",
     "text": [
      "Epoch 939: 100%|██████████| 4/4 [00:00<00:00, 117.58it/s, Loss: 0.982, Accuracy: 0.752]\n",
      "Epoch 939: 100%|██████████| 1/1 [00:00<00:00, 200.39it/s, Loss: 1.162, Accuracy: 0.720]\n"
     ]
    },
    {
     "name": "stdout",
     "output_type": "stream",
     "text": [
      "Epoch 939: Train Loss: 1.345, Train Accuracy: 0.545, Test Loss: 1.162, Test Accuracy: 0.720\n"
     ]
    },
    {
     "name": "stderr",
     "output_type": "stream",
     "text": [
      "Epoch 940: 100%|██████████| 4/4 [00:00<00:00, 120.57it/s, Loss: 1.570, Accuracy: 0.464]\n",
      "Epoch 940: 100%|██████████| 1/1 [00:00<00:00, 204.71it/s, Loss: 1.156, Accuracy: 0.720]\n"
     ]
    },
    {
     "name": "stdout",
     "output_type": "stream",
     "text": [
      "Epoch 940: Train Loss: 1.344, Train Accuracy: 0.538, Test Loss: 1.156, Test Accuracy: 0.720\n"
     ]
    },
    {
     "name": "stderr",
     "output_type": "stream",
     "text": [
      "Epoch 941: 100%|██████████| 4/4 [00:00<00:00, 125.96it/s, Loss: 1.720, Accuracy: 0.368]\n",
      "Epoch 941: 100%|██████████| 1/1 [00:00<00:00, 166.20it/s, Loss: 1.152, Accuracy: 0.720]\n"
     ]
    },
    {
     "name": "stdout",
     "output_type": "stream",
     "text": [
      "Epoch 941: Train Loss: 1.404, Train Accuracy: 0.521, Test Loss: 1.152, Test Accuracy: 0.720\n"
     ]
    },
    {
     "name": "stderr",
     "output_type": "stream",
     "text": [
      "Epoch 942: 100%|██████████| 4/4 [00:00<00:00, 114.15it/s, Loss: 1.299, Accuracy: 0.608]\n",
      "Epoch 942: 100%|██████████| 1/1 [00:00<00:00, 200.11it/s, Loss: 1.151, Accuracy: 0.720]\n"
     ]
    },
    {
     "name": "stdout",
     "output_type": "stream",
     "text": [
      "Epoch 942: Train Loss: 1.321, Train Accuracy: 0.579, Test Loss: 1.151, Test Accuracy: 0.720\n"
     ]
    },
    {
     "name": "stderr",
     "output_type": "stream",
     "text": [
      "Epoch 943: 100%|██████████| 4/4 [00:00<00:00, 126.20it/s, Loss: 0.931, Accuracy: 0.673]\n",
      "Epoch 943: 100%|██████████| 1/1 [00:00<00:00, 197.54it/s, Loss: 1.152, Accuracy: 0.720]\n"
     ]
    },
    {
     "name": "stdout",
     "output_type": "stream",
     "text": [
      "Epoch 943: Train Loss: 1.351, Train Accuracy: 0.525, Test Loss: 1.152, Test Accuracy: 0.720\n"
     ]
    },
    {
     "name": "stderr",
     "output_type": "stream",
     "text": [
      "Epoch 944: 100%|██████████| 4/4 [00:00<00:00, 105.08it/s, Loss: 0.773, Accuracy: 0.709]\n",
      "Epoch 944: 100%|██████████| 1/1 [00:00<00:00, 120.73it/s, Loss: 1.156, Accuracy: 0.720]\n"
     ]
    },
    {
     "name": "stdout",
     "output_type": "stream",
     "text": [
      "Epoch 944: Train Loss: 1.369, Train Accuracy: 0.537, Test Loss: 1.156, Test Accuracy: 0.720\n"
     ]
    },
    {
     "name": "stderr",
     "output_type": "stream",
     "text": [
      "Epoch 945: 100%|██████████| 4/4 [00:00<00:00, 106.61it/s, Loss: 1.075, Accuracy: 0.657]\n",
      "Epoch 945: 100%|██████████| 1/1 [00:00<00:00, 166.63it/s, Loss: 1.165, Accuracy: 0.720]\n"
     ]
    },
    {
     "name": "stdout",
     "output_type": "stream",
     "text": [
      "Epoch 945: Train Loss: 1.399, Train Accuracy: 0.523, Test Loss: 1.165, Test Accuracy: 0.720\n"
     ]
    },
    {
     "name": "stderr",
     "output_type": "stream",
     "text": [
      "Epoch 946: 100%|██████████| 4/4 [00:00<00:00, 113.92it/s, Loss: 0.976, Accuracy: 0.692]\n",
      "Epoch 946: 100%|██████████| 1/1 [00:00<00:00, 166.84it/s, Loss: 1.171, Accuracy: 0.720]\n"
     ]
    },
    {
     "name": "stdout",
     "output_type": "stream",
     "text": [
      "Epoch 946: Train Loss: 1.339, Train Accuracy: 0.552, Test Loss: 1.171, Test Accuracy: 0.720\n"
     ]
    },
    {
     "name": "stderr",
     "output_type": "stream",
     "text": [
      "Epoch 947: 100%|██████████| 4/4 [00:00<00:00, 126.81it/s, Loss: 2.279, Accuracy: 0.065]\n",
      "Epoch 947: 100%|██████████| 1/1 [00:00<00:00, 165.63it/s, Loss: 1.175, Accuracy: 0.720]\n"
     ]
    },
    {
     "name": "stdout",
     "output_type": "stream",
     "text": [
      "Epoch 947: Train Loss: 1.356, Train Accuracy: 0.531, Test Loss: 1.175, Test Accuracy: 0.720\n"
     ]
    },
    {
     "name": "stderr",
     "output_type": "stream",
     "text": [
      "Epoch 948: 100%|██████████| 4/4 [00:00<00:00, 117.34it/s, Loss: 2.140, Accuracy: 0.206]\n",
      "Epoch 948: 100%|██████████| 1/1 [00:00<00:00, 197.89it/s, Loss: 1.174, Accuracy: 0.720]\n"
     ]
    },
    {
     "name": "stdout",
     "output_type": "stream",
     "text": [
      "Epoch 948: Train Loss: 1.277, Train Accuracy: 0.573, Test Loss: 1.174, Test Accuracy: 0.720\n"
     ]
    },
    {
     "name": "stderr",
     "output_type": "stream",
     "text": [
      "Epoch 949: 100%|██████████| 4/4 [00:00<00:00, 119.82it/s, Loss: 2.136, Accuracy: 0.144]\n",
      "Epoch 949: 100%|██████████| 1/1 [00:00<00:00, 188.79it/s, Loss: 1.175, Accuracy: 0.720]\n"
     ]
    },
    {
     "name": "stdout",
     "output_type": "stream",
     "text": [
      "Epoch 949: Train Loss: 1.359, Train Accuracy: 0.530, Test Loss: 1.175, Test Accuracy: 0.720\n"
     ]
    },
    {
     "name": "stderr",
     "output_type": "stream",
     "text": [
      "Epoch 950: 100%|██████████| 4/4 [00:00<00:00, 111.19it/s, Loss: 0.839, Accuracy: 0.606]\n",
      "Epoch 950: 100%|██████████| 1/1 [00:00<00:00, 140.59it/s, Loss: 1.174, Accuracy: 0.720]\n"
     ]
    },
    {
     "name": "stdout",
     "output_type": "stream",
     "text": [
      "Epoch 950: Train Loss: 1.275, Train Accuracy: 0.570, Test Loss: 1.174, Test Accuracy: 0.720\n"
     ]
    },
    {
     "name": "stderr",
     "output_type": "stream",
     "text": [
      "Epoch 951: 100%|██████████| 4/4 [00:00<00:00, 121.24it/s, Loss: 1.461, Accuracy: 0.538]\n",
      "Epoch 951: 100%|██████████| 1/1 [00:00<00:00, 250.80it/s, Loss: 1.175, Accuracy: 0.720]\n"
     ]
    },
    {
     "name": "stdout",
     "output_type": "stream",
     "text": [
      "Epoch 951: Train Loss: 1.348, Train Accuracy: 0.540, Test Loss: 1.175, Test Accuracy: 0.720\n"
     ]
    },
    {
     "name": "stderr",
     "output_type": "stream",
     "text": [
      "Epoch 952: 100%|██████████| 4/4 [00:00<00:00, 117.20it/s, Loss: 1.294, Accuracy: 0.719]\n",
      "Epoch 952: 100%|██████████| 1/1 [00:00<00:00, 200.26it/s, Loss: 1.184, Accuracy: 0.720]\n"
     ]
    },
    {
     "name": "stdout",
     "output_type": "stream",
     "text": [
      "Epoch 952: Train Loss: 1.301, Train Accuracy: 0.551, Test Loss: 1.184, Test Accuracy: 0.720\n"
     ]
    },
    {
     "name": "stderr",
     "output_type": "stream",
     "text": [
      "Epoch 953: 100%|██████████| 4/4 [00:00<00:00, 95.43it/s, Loss: 1.367, Accuracy: 0.629]\n",
      "Epoch 953: 100%|██████████| 1/1 [00:00<00:00, 171.60it/s, Loss: 1.186, Accuracy: 0.720]\n"
     ]
    },
    {
     "name": "stdout",
     "output_type": "stream",
     "text": [
      "Epoch 953: Train Loss: 1.414, Train Accuracy: 0.519, Test Loss: 1.186, Test Accuracy: 0.720\n"
     ]
    },
    {
     "name": "stderr",
     "output_type": "stream",
     "text": [
      "Epoch 954: 100%|██████████| 4/4 [00:00<00:00, 107.08it/s, Loss: 1.368, Accuracy: 0.534]\n",
      "Epoch 954: 100%|██████████| 1/1 [00:00<00:00, 200.03it/s, Loss: 1.186, Accuracy: 0.720]\n"
     ]
    },
    {
     "name": "stdout",
     "output_type": "stream",
     "text": [
      "Epoch 954: Train Loss: 1.390, Train Accuracy: 0.530, Test Loss: 1.186, Test Accuracy: 0.720\n"
     ]
    },
    {
     "name": "stderr",
     "output_type": "stream",
     "text": [
      "Epoch 955: 100%|██████████| 4/4 [00:00<00:00, 121.21it/s, Loss: 0.831, Accuracy: 0.776]\n",
      "Epoch 955: 100%|██████████| 1/1 [00:00<00:00, 200.13it/s, Loss: 1.190, Accuracy: 0.720]\n"
     ]
    },
    {
     "name": "stdout",
     "output_type": "stream",
     "text": [
      "Epoch 955: Train Loss: 1.403, Train Accuracy: 0.510, Test Loss: 1.190, Test Accuracy: 0.720\n"
     ]
    },
    {
     "name": "stderr",
     "output_type": "stream",
     "text": [
      "Epoch 956: 100%|██████████| 4/4 [00:00<00:00, 115.54it/s, Loss: 1.229, Accuracy: 0.608]\n",
      "Epoch 956: 100%|██████████| 1/1 [00:00<00:00, 164.17it/s, Loss: 1.190, Accuracy: 0.720]\n"
     ]
    },
    {
     "name": "stdout",
     "output_type": "stream",
     "text": [
      "Epoch 956: Train Loss: 1.356, Train Accuracy: 0.547, Test Loss: 1.190, Test Accuracy: 0.720\n"
     ]
    },
    {
     "name": "stderr",
     "output_type": "stream",
     "text": [
      "Epoch 957: 100%|██████████| 4/4 [00:00<00:00, 117.68it/s, Loss: 1.600, Accuracy: 0.455]\n",
      "Epoch 957: 100%|██████████| 1/1 [00:00<00:00, 197.62it/s, Loss: 1.180, Accuracy: 0.720]\n"
     ]
    },
    {
     "name": "stdout",
     "output_type": "stream",
     "text": [
      "Epoch 957: Train Loss: 1.353, Train Accuracy: 0.544, Test Loss: 1.180, Test Accuracy: 0.720\n"
     ]
    },
    {
     "name": "stderr",
     "output_type": "stream",
     "text": [
      "Epoch 958: 100%|██████████| 4/4 [00:00<00:00, 116.09it/s, Loss: 1.898, Accuracy: 0.207]\n",
      "Epoch 958: 100%|██████████| 1/1 [00:00<00:00, 195.63it/s, Loss: 1.176, Accuracy: 0.720]\n"
     ]
    },
    {
     "name": "stdout",
     "output_type": "stream",
     "text": [
      "Epoch 958: Train Loss: 1.428, Train Accuracy: 0.498, Test Loss: 1.176, Test Accuracy: 0.720\n"
     ]
    },
    {
     "name": "stderr",
     "output_type": "stream",
     "text": [
      "Epoch 959: 100%|██████████| 4/4 [00:00<00:00, 114.29it/s, Loss: 1.200, Accuracy: 0.579]\n",
      "Epoch 959: 100%|██████████| 1/1 [00:00<00:00, 199.97it/s, Loss: 1.180, Accuracy: 0.720]\n"
     ]
    },
    {
     "name": "stdout",
     "output_type": "stream",
     "text": [
      "Epoch 959: Train Loss: 1.416, Train Accuracy: 0.532, Test Loss: 1.180, Test Accuracy: 0.720\n"
     ]
    },
    {
     "name": "stderr",
     "output_type": "stream",
     "text": [
      "Epoch 960: 100%|██████████| 4/4 [00:00<00:00, 93.95it/s, Loss: 0.869, Accuracy: 0.730]\n",
      "Epoch 960: 100%|██████████| 1/1 [00:00<00:00, 124.16it/s, Loss: 1.172, Accuracy: 0.720]\n"
     ]
    },
    {
     "name": "stdout",
     "output_type": "stream",
     "text": [
      "Epoch 960: Train Loss: 1.231, Train Accuracy: 0.581, Test Loss: 1.172, Test Accuracy: 0.720\n"
     ]
    },
    {
     "name": "stderr",
     "output_type": "stream",
     "text": [
      "Epoch 961: 100%|██████████| 4/4 [00:00<00:00, 100.00it/s, Loss: 1.111, Accuracy: 0.500]\n",
      "Epoch 961: 100%|██████████| 1/1 [00:00<00:00, 166.72it/s, Loss: 1.168, Accuracy: 0.720]\n"
     ]
    },
    {
     "name": "stdout",
     "output_type": "stream",
     "text": [
      "Epoch 961: Train Loss: 1.347, Train Accuracy: 0.543, Test Loss: 1.168, Test Accuracy: 0.720\n"
     ]
    },
    {
     "name": "stderr",
     "output_type": "stream",
     "text": [
      "Epoch 962: 100%|██████████| 4/4 [00:00<00:00, 122.93it/s, Loss: 1.115, Accuracy: 0.515]\n",
      "Epoch 962: 100%|██████████| 1/1 [00:00<00:00, 199.61it/s, Loss: 1.165, Accuracy: 0.720]\n"
     ]
    },
    {
     "name": "stdout",
     "output_type": "stream",
     "text": [
      "Epoch 962: Train Loss: 1.281, Train Accuracy: 0.556, Test Loss: 1.165, Test Accuracy: 0.720\n"
     ]
    },
    {
     "name": "stderr",
     "output_type": "stream",
     "text": [
      "Epoch 963: 100%|██████████| 4/4 [00:00<00:00, 109.23it/s, Loss: 1.050, Accuracy: 0.714]\n",
      "Epoch 963: 100%|██████████| 1/1 [00:00<00:00, 166.15it/s, Loss: 1.172, Accuracy: 0.720]\n"
     ]
    },
    {
     "name": "stdout",
     "output_type": "stream",
     "text": [
      "Epoch 963: Train Loss: 1.377, Train Accuracy: 0.530, Test Loss: 1.172, Test Accuracy: 0.720\n"
     ]
    },
    {
     "name": "stderr",
     "output_type": "stream",
     "text": [
      "Epoch 964: 100%|██████████| 4/4 [00:00<00:00, 124.78it/s, Loss: 0.937, Accuracy: 0.738]\n",
      "Epoch 964: 100%|██████████| 1/1 [00:00<00:00, 156.94it/s, Loss: 1.173, Accuracy: 0.720]\n"
     ]
    },
    {
     "name": "stdout",
     "output_type": "stream",
     "text": [
      "Epoch 964: Train Loss: 1.425, Train Accuracy: 0.505, Test Loss: 1.173, Test Accuracy: 0.720\n"
     ]
    },
    {
     "name": "stderr",
     "output_type": "stream",
     "text": [
      "Epoch 965: 100%|██████████| 4/4 [00:00<00:00, 104.50it/s, Loss: 1.707, Accuracy: 0.338]\n",
      "Epoch 965: 100%|██████████| 1/1 [00:00<00:00, 165.87it/s, Loss: 1.172, Accuracy: 0.720]\n"
     ]
    },
    {
     "name": "stdout",
     "output_type": "stream",
     "text": [
      "Epoch 965: Train Loss: 1.349, Train Accuracy: 0.538, Test Loss: 1.172, Test Accuracy: 0.720\n"
     ]
    },
    {
     "name": "stderr",
     "output_type": "stream",
     "text": [
      "Epoch 966: 100%|██████████| 4/4 [00:00<00:00, 124.96it/s, Loss: 1.953, Accuracy: 0.246]\n",
      "Epoch 966: 100%|██████████| 1/1 [00:00<00:00, 248.99it/s, Loss: 1.175, Accuracy: 0.720]\n"
     ]
    },
    {
     "name": "stdout",
     "output_type": "stream",
     "text": [
      "Epoch 966: Train Loss: 1.384, Train Accuracy: 0.521, Test Loss: 1.175, Test Accuracy: 0.720\n"
     ]
    },
    {
     "name": "stderr",
     "output_type": "stream",
     "text": [
      "Epoch 967: 100%|██████████| 4/4 [00:00<00:00, 119.21it/s, Loss: 1.822, Accuracy: 0.368]\n",
      "Epoch 967: 100%|██████████| 1/1 [00:00<00:00, 192.41it/s, Loss: 1.177, Accuracy: 0.720]\n"
     ]
    },
    {
     "name": "stdout",
     "output_type": "stream",
     "text": [
      "Epoch 967: Train Loss: 1.373, Train Accuracy: 0.529, Test Loss: 1.177, Test Accuracy: 0.720\n"
     ]
    },
    {
     "name": "stderr",
     "output_type": "stream",
     "text": [
      "Epoch 968: 100%|██████████| 4/4 [00:00<00:00, 117.75it/s, Loss: 1.191, Accuracy: 0.542]\n",
      "Epoch 968: 100%|██████████| 1/1 [00:00<00:00, 124.99it/s, Loss: 1.175, Accuracy: 0.720]\n"
     ]
    },
    {
     "name": "stdout",
     "output_type": "stream",
     "text": [
      "Epoch 968: Train Loss: 1.361, Train Accuracy: 0.554, Test Loss: 1.175, Test Accuracy: 0.720\n"
     ]
    },
    {
     "name": "stderr",
     "output_type": "stream",
     "text": [
      "Epoch 969: 100%|██████████| 4/4 [00:00<00:00, 109.08it/s, Loss: 0.890, Accuracy: 0.764]\n",
      "Epoch 969: 100%|██████████| 1/1 [00:00<00:00, 204.57it/s, Loss: 1.174, Accuracy: 0.720]\n"
     ]
    },
    {
     "name": "stdout",
     "output_type": "stream",
     "text": [
      "Epoch 969: Train Loss: 1.296, Train Accuracy: 0.555, Test Loss: 1.174, Test Accuracy: 0.720\n"
     ]
    },
    {
     "name": "stderr",
     "output_type": "stream",
     "text": [
      "Epoch 970: 100%|██████████| 4/4 [00:00<00:00, 110.68it/s, Loss: 0.907, Accuracy: 0.768]\n",
      "Epoch 970: 100%|██████████| 1/1 [00:00<00:00, 214.49it/s, Loss: 1.179, Accuracy: 0.720]\n"
     ]
    },
    {
     "name": "stdout",
     "output_type": "stream",
     "text": [
      "Epoch 970: Train Loss: 1.404, Train Accuracy: 0.514, Test Loss: 1.179, Test Accuracy: 0.720\n"
     ]
    },
    {
     "name": "stderr",
     "output_type": "stream",
     "text": [
      "Epoch 971: 100%|██████████| 4/4 [00:00<00:00, 96.74it/s, Loss: 2.011, Accuracy: 0.125]\n",
      "Epoch 971: 100%|██████████| 1/1 [00:00<00:00, 225.90it/s, Loss: 1.171, Accuracy: 0.720]\n"
     ]
    },
    {
     "name": "stdout",
     "output_type": "stream",
     "text": [
      "Epoch 971: Train Loss: 1.399, Train Accuracy: 0.528, Test Loss: 1.171, Test Accuracy: 0.720\n"
     ]
    },
    {
     "name": "stderr",
     "output_type": "stream",
     "text": [
      "Epoch 972: 100%|██████████| 4/4 [00:00<00:00, 115.74it/s, Loss: 1.341, Accuracy: 0.629]\n",
      "Epoch 972: 100%|██████████| 1/1 [00:00<00:00, 200.65it/s, Loss: 1.170, Accuracy: 0.720]\n"
     ]
    },
    {
     "name": "stdout",
     "output_type": "stream",
     "text": [
      "Epoch 972: Train Loss: 1.307, Train Accuracy: 0.560, Test Loss: 1.170, Test Accuracy: 0.720\n"
     ]
    },
    {
     "name": "stderr",
     "output_type": "stream",
     "text": [
      "Epoch 973: 100%|██████████| 4/4 [00:00<00:00, 112.50it/s, Loss: 1.306, Accuracy: 0.509]\n",
      "Epoch 973: 100%|██████████| 1/1 [00:00<00:00, 199.24it/s, Loss: 1.168, Accuracy: 0.720]\n"
     ]
    },
    {
     "name": "stdout",
     "output_type": "stream",
     "text": [
      "Epoch 973: Train Loss: 1.318, Train Accuracy: 0.553, Test Loss: 1.168, Test Accuracy: 0.720\n"
     ]
    },
    {
     "name": "stderr",
     "output_type": "stream",
     "text": [
      "Epoch 974: 100%|██████████| 4/4 [00:00<00:00, 106.36it/s, Loss: 1.910, Accuracy: 0.181]\n",
      "Epoch 974: 100%|██████████| 1/1 [00:00<00:00, 207.07it/s, Loss: 1.166, Accuracy: 0.720]\n"
     ]
    },
    {
     "name": "stdout",
     "output_type": "stream",
     "text": [
      "Epoch 974: Train Loss: 1.432, Train Accuracy: 0.506, Test Loss: 1.166, Test Accuracy: 0.720\n"
     ]
    },
    {
     "name": "stderr",
     "output_type": "stream",
     "text": [
      "Epoch 975: 100%|██████████| 4/4 [00:00<00:00, 112.60it/s, Loss: 1.522, Accuracy: 0.511]\n",
      "Epoch 975: 100%|██████████| 1/1 [00:00<00:00, 200.08it/s, Loss: 1.171, Accuracy: 0.720]\n"
     ]
    },
    {
     "name": "stdout",
     "output_type": "stream",
     "text": [
      "Epoch 975: Train Loss: 1.344, Train Accuracy: 0.545, Test Loss: 1.171, Test Accuracy: 0.720\n"
     ]
    },
    {
     "name": "stderr",
     "output_type": "stream",
     "text": [
      "Epoch 976: 100%|██████████| 4/4 [00:00<00:00, 97.56it/s, Loss: 1.564, Accuracy: 0.524]\n",
      "Epoch 976: 100%|██████████| 1/1 [00:00<00:00, 163.51it/s, Loss: 1.174, Accuracy: 0.720]\n"
     ]
    },
    {
     "name": "stdout",
     "output_type": "stream",
     "text": [
      "Epoch 976: Train Loss: 1.317, Train Accuracy: 0.545, Test Loss: 1.174, Test Accuracy: 0.720\n"
     ]
    },
    {
     "name": "stderr",
     "output_type": "stream",
     "text": [
      "Epoch 977: 100%|██████████| 4/4 [00:00<00:00, 97.00it/s, Loss: 0.821, Accuracy: 0.705]\n",
      "Epoch 977: 100%|██████████| 1/1 [00:00<00:00, 199.14it/s, Loss: 1.168, Accuracy: 0.720]\n"
     ]
    },
    {
     "name": "stdout",
     "output_type": "stream",
     "text": [
      "Epoch 977: Train Loss: 1.268, Train Accuracy: 0.570, Test Loss: 1.168, Test Accuracy: 0.720\n"
     ]
    },
    {
     "name": "stderr",
     "output_type": "stream",
     "text": [
      "Epoch 978: 100%|██████████| 4/4 [00:00<00:00, 114.21it/s, Loss: 0.723, Accuracy: 0.792]\n",
      "Epoch 978: 100%|██████████| 1/1 [00:00<00:00, 200.06it/s, Loss: 1.166, Accuracy: 0.720]\n"
     ]
    },
    {
     "name": "stdout",
     "output_type": "stream",
     "text": [
      "Epoch 978: Train Loss: 1.415, Train Accuracy: 0.515, Test Loss: 1.166, Test Accuracy: 0.720\n"
     ]
    },
    {
     "name": "stderr",
     "output_type": "stream",
     "text": [
      "Epoch 979: 100%|██████████| 4/4 [00:00<00:00, 112.42it/s, Loss: 1.271, Accuracy: 0.540]\n",
      "Epoch 979: 100%|██████████| 1/1 [00:00<00:00, 212.03it/s, Loss: 1.161, Accuracy: 0.720]\n"
     ]
    },
    {
     "name": "stdout",
     "output_type": "stream",
     "text": [
      "Epoch 979: Train Loss: 1.354, Train Accuracy: 0.546, Test Loss: 1.161, Test Accuracy: 0.720\n"
     ]
    },
    {
     "name": "stderr",
     "output_type": "stream",
     "text": [
      "Epoch 980: 100%|██████████| 4/4 [00:00<00:00, 105.05it/s, Loss: 1.851, Accuracy: 0.314]\n",
      "Epoch 980: 100%|██████████| 1/1 [00:00<00:00, 203.34it/s, Loss: 1.159, Accuracy: 0.720]\n"
     ]
    },
    {
     "name": "stdout",
     "output_type": "stream",
     "text": [
      "Epoch 980: Train Loss: 1.324, Train Accuracy: 0.551, Test Loss: 1.159, Test Accuracy: 0.720\n"
     ]
    },
    {
     "name": "stderr",
     "output_type": "stream",
     "text": [
      "Epoch 981: 100%|██████████| 4/4 [00:00<00:00, 114.40it/s, Loss: 1.561, Accuracy: 0.456]\n",
      "Epoch 981: 100%|██████████| 1/1 [00:00<00:00, 197.79it/s, Loss: 1.148, Accuracy: 0.720]"
     ]
    },
    {
     "name": "stdout",
     "output_type": "stream",
     "text": [
      "Epoch 981: Train Loss: 1.320, Train Accuracy: 0.563, Test Loss: 1.148, Test Accuracy: 0.720\n"
     ]
    },
    {
     "name": "stderr",
     "output_type": "stream",
     "text": [
      "\n",
      "Epoch 982: 100%|██████████| 4/4 [00:00<00:00, 128.88it/s, Loss: 0.998, Accuracy: 0.790]\n",
      "Epoch 982: 100%|██████████| 1/1 [00:00<00:00, 171.60it/s, Loss: 1.144, Accuracy: 0.720]\n"
     ]
    },
    {
     "name": "stdout",
     "output_type": "stream",
     "text": [
      "Epoch 982: Train Loss: 1.504, Train Accuracy: 0.447, Test Loss: 1.144, Test Accuracy: 0.720\n"
     ]
    },
    {
     "name": "stderr",
     "output_type": "stream",
     "text": [
      "Epoch 983: 100%|██████████| 4/4 [00:00<00:00, 108.70it/s, Loss: 0.809, Accuracy: 0.641]\n",
      "Epoch 983: 100%|██████████| 1/1 [00:00<00:00, 198.66it/s, Loss: 1.143, Accuracy: 0.720]\n"
     ]
    },
    {
     "name": "stdout",
     "output_type": "stream",
     "text": [
      "Epoch 983: Train Loss: 1.365, Train Accuracy: 0.546, Test Loss: 1.143, Test Accuracy: 0.720\n"
     ]
    },
    {
     "name": "stderr",
     "output_type": "stream",
     "text": [
      "Epoch 984: 100%|██████████| 4/4 [00:00<00:00, 115.88it/s, Loss: 1.220, Accuracy: 0.688]\n",
      "Epoch 984: 100%|██████████| 1/1 [00:00<00:00, 246.01it/s, Loss: 1.145, Accuracy: 0.720]\n"
     ]
    },
    {
     "name": "stdout",
     "output_type": "stream",
     "text": [
      "Epoch 984: Train Loss: 1.340, Train Accuracy: 0.553, Test Loss: 1.145, Test Accuracy: 0.720\n"
     ]
    },
    {
     "name": "stderr",
     "output_type": "stream",
     "text": [
      "Epoch 985: 100%|██████████| 4/4 [00:00<00:00, 102.14it/s, Loss: 1.703, Accuracy: 0.301]\n",
      "Epoch 985: 100%|██████████| 1/1 [00:00<00:00, 122.70it/s, Loss: 1.140, Accuracy: 0.720]\n"
     ]
    },
    {
     "name": "stdout",
     "output_type": "stream",
     "text": [
      "Epoch 985: Train Loss: 1.442, Train Accuracy: 0.503, Test Loss: 1.140, Test Accuracy: 0.720\n"
     ]
    },
    {
     "name": "stderr",
     "output_type": "stream",
     "text": [
      "Epoch 986: 100%|██████████| 4/4 [00:00<00:00, 102.92it/s, Loss: 1.737, Accuracy: 0.413]\n",
      "Epoch 986: 100%|██████████| 1/1 [00:00<00:00, 170.45it/s, Loss: 1.147, Accuracy: 0.720]\n"
     ]
    },
    {
     "name": "stdout",
     "output_type": "stream",
     "text": [
      "Epoch 986: Train Loss: 1.295, Train Accuracy: 0.550, Test Loss: 1.147, Test Accuracy: 0.720\n"
     ]
    },
    {
     "name": "stderr",
     "output_type": "stream",
     "text": [
      "Epoch 987: 100%|██████████| 4/4 [00:00<00:00, 114.01it/s, Loss: 0.733, Accuracy: 0.705]\n",
      "Epoch 987: 100%|██████████| 1/1 [00:00<00:00, 166.26it/s, Loss: 1.145, Accuracy: 0.720]\n"
     ]
    },
    {
     "name": "stdout",
     "output_type": "stream",
     "text": [
      "Epoch 987: Train Loss: 1.385, Train Accuracy: 0.536, Test Loss: 1.145, Test Accuracy: 0.720\n"
     ]
    },
    {
     "name": "stderr",
     "output_type": "stream",
     "text": [
      "Epoch 988: 100%|██████████| 4/4 [00:00<00:00, 111.95it/s, Loss: 1.446, Accuracy: 0.568]\n",
      "Epoch 988: 100%|██████████| 1/1 [00:00<00:00, 197.28it/s, Loss: 1.141, Accuracy: 0.720]\n"
     ]
    },
    {
     "name": "stdout",
     "output_type": "stream",
     "text": [
      "Epoch 988: Train Loss: 1.396, Train Accuracy: 0.508, Test Loss: 1.141, Test Accuracy: 0.720\n"
     ]
    },
    {
     "name": "stderr",
     "output_type": "stream",
     "text": [
      "Epoch 989: 100%|██████████| 4/4 [00:00<00:00, 121.28it/s, Loss: 1.216, Accuracy: 0.466]\n",
      "Epoch 989: 100%|██████████| 1/1 [00:00<00:00, 250.36it/s, Loss: 1.142, Accuracy: 0.720]\n"
     ]
    },
    {
     "name": "stdout",
     "output_type": "stream",
     "text": [
      "Epoch 989: Train Loss: 1.318, Train Accuracy: 0.546, Test Loss: 1.142, Test Accuracy: 0.720\n"
     ]
    },
    {
     "name": "stderr",
     "output_type": "stream",
     "text": [
      "Epoch 990: 100%|██████████| 4/4 [00:00<00:00, 122.88it/s, Loss: 1.034, Accuracy: 0.670]\n",
      "Epoch 990: 100%|██████████| 1/1 [00:00<00:00, 249.68it/s, Loss: 1.146, Accuracy: 0.720]\n"
     ]
    },
    {
     "name": "stdout",
     "output_type": "stream",
     "text": [
      "Epoch 990: Train Loss: 1.339, Train Accuracy: 0.546, Test Loss: 1.146, Test Accuracy: 0.720\n"
     ]
    },
    {
     "name": "stderr",
     "output_type": "stream",
     "text": [
      "Epoch 991: 100%|██████████| 4/4 [00:00<00:00, 111.16it/s, Loss: 1.403, Accuracy: 0.411]\n",
      "Epoch 991: 100%|██████████| 1/1 [00:00<00:00, 199.37it/s, Loss: 1.151, Accuracy: 0.720]\n"
     ]
    },
    {
     "name": "stdout",
     "output_type": "stream",
     "text": [
      "Epoch 991: Train Loss: 1.365, Train Accuracy: 0.499, Test Loss: 1.151, Test Accuracy: 0.720\n"
     ]
    },
    {
     "name": "stderr",
     "output_type": "stream",
     "text": [
      "Epoch 992: 100%|██████████| 4/4 [00:00<00:00, 101.50it/s, Loss: 1.634, Accuracy: 0.447]\n",
      "Epoch 992: 100%|██████████| 1/1 [00:00<00:00, 199.30it/s, Loss: 1.156, Accuracy: 0.720]\n"
     ]
    },
    {
     "name": "stdout",
     "output_type": "stream",
     "text": [
      "Epoch 992: Train Loss: 1.353, Train Accuracy: 0.540, Test Loss: 1.156, Test Accuracy: 0.720\n"
     ]
    },
    {
     "name": "stderr",
     "output_type": "stream",
     "text": [
      "Epoch 993: 100%|██████████| 4/4 [00:00<00:00, 93.73it/s, Loss: 1.995, Accuracy: 0.128]\n",
      "Epoch 993: 100%|██████████| 1/1 [00:00<00:00, 199.45it/s, Loss: 1.156, Accuracy: 0.720]\n"
     ]
    },
    {
     "name": "stdout",
     "output_type": "stream",
     "text": [
      "Epoch 993: Train Loss: 1.275, Train Accuracy: 0.546, Test Loss: 1.156, Test Accuracy: 0.720\n"
     ]
    },
    {
     "name": "stderr",
     "output_type": "stream",
     "text": [
      "Epoch 994: 100%|██████████| 4/4 [00:00<00:00, 117.11it/s, Loss: 0.924, Accuracy: 0.755]\n",
      "Epoch 994: 100%|██████████| 1/1 [00:00<00:00, 195.82it/s, Loss: 1.150, Accuracy: 0.720]\n"
     ]
    },
    {
     "name": "stdout",
     "output_type": "stream",
     "text": [
      "Epoch 994: Train Loss: 1.307, Train Accuracy: 0.571, Test Loss: 1.150, Test Accuracy: 0.720\n"
     ]
    },
    {
     "name": "stderr",
     "output_type": "stream",
     "text": [
      "Epoch 995: 100%|██████████| 4/4 [00:00<00:00, 100.92it/s, Loss: 1.028, Accuracy: 0.534]\n",
      "Epoch 995: 100%|██████████| 1/1 [00:00<00:00, 250.09it/s, Loss: 1.151, Accuracy: 0.720]\n"
     ]
    },
    {
     "name": "stdout",
     "output_type": "stream",
     "text": [
      "Epoch 995: Train Loss: 1.308, Train Accuracy: 0.555, Test Loss: 1.151, Test Accuracy: 0.720\n"
     ]
    },
    {
     "name": "stderr",
     "output_type": "stream",
     "text": [
      "Epoch 996: 100%|██████████| 4/4 [00:00<00:00, 126.53it/s, Loss: 1.314, Accuracy: 0.705]\n",
      "Epoch 996: 100%|██████████| 1/1 [00:00<00:00, 203.46it/s, Loss: 1.148, Accuracy: 0.720]\n"
     ]
    },
    {
     "name": "stdout",
     "output_type": "stream",
     "text": [
      "Epoch 996: Train Loss: 1.370, Train Accuracy: 0.533, Test Loss: 1.148, Test Accuracy: 0.720\n"
     ]
    },
    {
     "name": "stderr",
     "output_type": "stream",
     "text": [
      "Epoch 997: 100%|██████████| 4/4 [00:00<00:00, 99.22it/s, Loss: 1.509, Accuracy: 0.533]\n",
      "Epoch 997: 100%|██████████| 1/1 [00:00<00:00, 167.16it/s, Loss: 1.148, Accuracy: 0.720]\n"
     ]
    },
    {
     "name": "stdout",
     "output_type": "stream",
     "text": [
      "Epoch 997: Train Loss: 1.312, Train Accuracy: 0.559, Test Loss: 1.148, Test Accuracy: 0.720\n"
     ]
    },
    {
     "name": "stderr",
     "output_type": "stream",
     "text": [
      "Epoch 998: 100%|██████████| 4/4 [00:00<00:00, 124.80it/s, Loss: 0.509, Accuracy: 0.919]\n",
      "Epoch 998: 100%|██████████| 1/1 [00:00<00:00, 199.44it/s, Loss: 1.150, Accuracy: 0.720]\n"
     ]
    },
    {
     "name": "stdout",
     "output_type": "stream",
     "text": [
      "Epoch 998: Train Loss: 1.428, Train Accuracy: 0.509, Test Loss: 1.150, Test Accuracy: 0.720\n"
     ]
    },
    {
     "name": "stderr",
     "output_type": "stream",
     "text": [
      "Epoch 999: 100%|██████████| 4/4 [00:00<00:00, 121.50it/s, Loss: 1.040, Accuracy: 0.769]\n",
      "Epoch 999: 100%|██████████| 1/1 [00:00<00:00, 199.80it/s, Loss: 1.148, Accuracy: 0.720]"
     ]
    },
    {
     "name": "stdout",
     "output_type": "stream",
     "text": [
      "Epoch 999: Train Loss: 1.356, Train Accuracy: 0.512, Test Loss: 1.148, Test Accuracy: 0.720\n"
     ]
    },
    {
     "name": "stderr",
     "output_type": "stream",
     "text": [
      "\n"
     ]
    }
   ],
   "source": [
    "train_set, test_set = RatingSet.RatingSet(merged_dict), RatingSet.RatingSet(test_dict)\n",
    "train_loader = DataLoader(train_set, batch_size=Hypers.Config.batch_size, shuffle=True, collate_fn=utils.custom_collate_fn)\n",
    "test_loader = DataLoader(test_set, batch_size=Hypers.Config.batch_size, shuffle=True, collate_fn=utils.custom_collate_fn)\n",
    "\n",
    "trainer = Trainer.Trainer(model, criterion, optimizer, device, train_loader, test_loader)\n",
    "train_loss, train_accuracy, test_loss, test_accuracy = trainer.train_loop()"
   ]
  },
  {
   "cell_type": "code",
   "execution_count": 6,
   "metadata": {},
   "outputs": [
    {
     "data": {
      "image/png": "[encoded data removed]",
      "text/plain": [
       "<Figure size 640x480 with 1 Axes>"
      ]
     },
     "metadata": {},
     "output_type": "display_data"
    },
    {
     "data": {
      "image/png": "[encoded data removed]",
      "text/plain": [
       "<Figure size 640x480 with 1 Axes>"
      ]
     },
     "metadata": {},
     "output_type": "display_data"
    }
   ],
   "source": [
    "utils.plot_graph(train_loss, train_accuracy, test_loss, test_accuracy)"
   ]
  }
 ],
 "metadata": {
  "kernelspec": {
   "display_name": "default",
   "language": "python",
   "name": "python3"
  },
  "language_info": {
   "codemirror_mode": {
    "name": "ipython",
    "version": 3
   },
   "file_extension": ".py",
   "mimetype": "text/x-python",
   "name": "python",
   "nbconvert_exporter": "python",
   "pygments_lexer": "ipython3",
   "version": "3.10.11"
  }
 },
 "nbformat": 4,
 "nbformat_minor": 2
}
