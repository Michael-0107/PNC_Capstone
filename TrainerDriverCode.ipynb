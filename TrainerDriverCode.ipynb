{
 "cells": [
  {
   "cell_type": "code",
   "execution_count": 1,
   "metadata": {},
   "outputs": [],
   "source": [
    "import os\n",
    "import torch\n",
    "import torch.nn as nn\n",
    "from torch.utils.data import DataLoader\n",
    "import importlib\n",
    "from datetime import datetime"
   ]
  },
  {
   "cell_type": "code",
   "execution_count": 2,
   "metadata": {},
   "outputs": [],
   "source": [
    "import Hypers\n",
    "importlib.reload(Hypers)\n",
    "import utils\n",
    "importlib.reload(utils)\n",
    "import RatingSet\n",
    "importlib.reload(RatingSet)\n",
    "import PredictorModel\n",
    "importlib.reload(PredictorModel)\n",
    "import Trainer\n",
    "importlib.reload(Trainer)\n",
    "\n",
    "utils.fix_random_seed(Hypers.Config.seed)"
   ]
  },
  {
   "cell_type": "code",
   "execution_count": 3,
   "metadata": {},
   "outputs": [
    {
     "name": "stdout",
     "output_type": "stream",
     "text": [
      "0 0\n"
     ]
    }
   ],
   "source": [
    "# Optional: Split data into train and test\n",
    "merged_dict = utils.load_pickle(os.path.join(Hypers.Config.data_path, \"features_normalized_ratings_extended.pkl\"))\n",
    "train_dict, test_dict = utils.spilt_train_valid(merged_dict, random_select=True, save=True)\n",
    "print(len(train_dict), len(test_dict))"
   ]
  },
  {
   "cell_type": "code",
   "execution_count": null,
   "metadata": {},
   "outputs": [],
   "source": [
    "model = PredictorModel.PredictorModel(input_size=len(Hypers.feature_list), \n",
    "                                      hidden_size=Hypers.Config.hidden_size, \n",
    "                                      proj_size=Hypers.Config.proj_size)\n",
    "criterion = nn.MSELoss(reduction=\"sum\")\n",
    "optimizer = torch.optim.Adam(model.parameters(), lr=Hypers.Config.learning_rate)\n",
    "device = torch.device(\"cuda\" if torch.cuda.is_available() else \"cpu\")\n",
    "\n",
    "train_dict = utils.load_pickle(os.path.join(Hypers.Config.data_path, \"train_dict.pkl\"))\n",
    "test_dict = utils.load_pickle(os.path.join(Hypers.Config.data_path, \"test_dict.pkl\"))\n",
    "print(len(train_dict), len(test_dict))"
   ]
  },
  {
   "cell_type": "code",
   "execution_count": null,
   "metadata": {},
   "outputs": [],
   "source": [
    "train_set, test_set = RatingSet.RatingSet(train_dict), RatingSet.RatingSet(test_dict)\n",
    "train_loader = DataLoader(train_set, batch_size=Hypers.Config.batch_size, shuffle=True, collate_fn=utils.custom_collate_fn)\n",
    "test_loader = DataLoader(test_set, batch_size=Hypers.Config.batch_size, shuffle=True, collate_fn=utils.custom_collate_fn)\n",
    "\n",
    "trainer = Trainer.Trainer(model, criterion, optimizer, device, train_loader, test_loader)\n",
    "train_loss, train_accuracy, test_loss, test_accuracy = trainer.train_loop()"
   ]
  },
  {
   "cell_type": "code",
   "execution_count": null,
   "metadata": {},
   "outputs": [],
   "source": [
    "utils.plot_graph(train_loss, train_accuracy, test_loss, test_accuracy)"
   ]
  }
 ],
 "metadata": {
  "kernelspec": {
   "display_name": "default",
   "language": "python",
   "name": "python3"
  },
  "language_info": {
   "codemirror_mode": {
    "name": "ipython",
    "version": 3
   },
   "file_extension": ".py",
   "mimetype": "text/x-python",
   "name": "python",
   "nbconvert_exporter": "python",
   "pygments_lexer": "ipython3",
   "version": "3.10.11"
  }
 },
 "nbformat": 4,
 "nbformat_minor": 2
}
