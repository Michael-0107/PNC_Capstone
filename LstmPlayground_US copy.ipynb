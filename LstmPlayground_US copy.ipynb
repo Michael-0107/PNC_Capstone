{
 "cells": [
  {
   "cell_type": "markdown",
   "metadata": {},
   "source": [
    "## Prerequisites"
   ]
  },
  {
   "cell_type": "code",
   "execution_count": 1,
   "metadata": {},
   "outputs": [],
   "source": [
    "import os\n",
    "import torch\n",
    "import torch.nn as nn\n",
    "from torch.utils.data import DataLoader\n",
    "import importlib\n",
    "from datetime import datetime, timedelta\n",
    "import torch.optim as optim\n",
    "import pandas as pd\n",
    "from CompustatExtractor import CompustatExtractor\n",
    "from MergeProcessor import RatingProcessor\n",
    "import matplotlib.pyplot as plt\n",
    "\n",
    "is_on_colab = False\n",
    "import warnings\n",
    "warnings.filterwarnings(\"ignore\")"
   ]
  },
  {
   "cell_type": "code",
   "execution_count": 2,
   "metadata": {},
   "outputs": [
    {
     "name": "stdout",
     "output_type": "stream",
     "text": [
      "Hypers.Config.base_path='d:\\\\Document\\\\Ucla-doc\\\\263\\\\project\\\\PNC_Capstone'\n",
      "Hypers.Config.data_path='d:\\\\Document\\\\Ucla-doc\\\\263\\\\project\\\\PNC_Capstone\\\\data'\n",
      "Hypers.Config.model_path='d:\\\\Document\\\\Ucla-doc\\\\263\\\\project\\\\PNC_Capstone\\\\model'\n",
      "Hypers.Config.log_path='d:\\\\Document\\\\Ucla-doc\\\\263\\\\project\\\\PNC_Capstone\\\\log'\n",
      "Hypers.Config.US_data_path='d:\\\\Document\\\\Ucla-doc\\\\263\\\\project\\\\PNC_Capstone\\\\data\\\\US_data'\n"
     ]
    }
   ],
   "source": [
    "import Hypers\n",
    "importlib.reload(Hypers)\n",
    "import utils\n",
    "importlib.reload(utils)\n",
    "import Trainer\n",
    "importlib.reload(Trainer)\n",
    "import Inferencer\n",
    "importlib.reload(Inferencer)\n",
    "\n",
    "utils.fix_random_seed(Hypers.Config.seed)\n",
    "\n",
    "if is_on_colab:\n",
    "  Hypers.Config.base_path = os.getcwd()\n",
    "  Hypers.Config.data_path = os.path.join(Hypers.Config.base_path, \"data\")\n",
    "  Hypers.Config.model_path = os.path.join(Hypers.Config.base_path, \"model\")\n",
    "  Hypers.Config.log_path = os.path.join(Hypers.Config.base_path, \"log\")\n",
    "  Hypers.Config.US_data_path = os.path.join(Hypers.Config.data_path, \"US_data\")\n",
    "\n",
    "print(f\"{Hypers.Config.base_path=}\")\n",
    "print(f\"{Hypers.Config.data_path=}\")\n",
    "print(f\"{Hypers.Config.model_path=}\")\n",
    "print(f\"{Hypers.Config.log_path=}\")\n",
    "print(f\"{Hypers.Config.US_data_path=}\")"
   ]
  },
  {
   "cell_type": "code",
   "execution_count": 3,
   "metadata": {},
   "outputs": [],
   "source": [
    "suffix = \"LSTM_US\""
   ]
  },
  {
   "cell_type": "markdown",
   "metadata": {},
   "source": [
    "## Load data & Data Preprocessing"
   ]
  },
  {
   "cell_type": "code",
   "execution_count": 4,
   "metadata": {},
   "outputs": [],
   "source": [
    "features_path = os.path.join(Hypers.Config.data_path, \"WRDS\", \"features_US.csv\")\n",
    "ratings_path =  os.path.join(Hypers.Config.data_path, \"WRDS\", \"ratings_US.csv\")"
   ]
  },
  {
   "cell_type": "code",
   "execution_count": 5,
   "metadata": {},
   "outputs": [],
   "source": [
    "import itertools\n",
    "\n",
    "preprocessing_options1 = [\n",
    "    {\"standardize\": 'std', \"add_cpi\": True, \"add_diff\": False, 'balance_trend': False, 'balance_label': False},\n",
    "    {\"standardize\": 'std', \"add_cpi\": True, \"add_diff\": True, 'balance_trend': False, 'balance_label': False},\n",
    "    {\"standardize\": 'std', \"add_cpi\": True, \"add_diff\": True, 'balance_trend': False, 'balance_label': True},\n",
    "]\n",
    "\n",
    "\n",
    "architecture_options = [\n",
    "    {\"dropout\": 0.2, \"batch_norm\": True, \"num_conv_layers\": 2},\n",
    "    {\"dropout\": 0.2, \"batch_norm\": True, \"num_conv_layers\": 1},\n",
    "    {\"dropout\": 0.2, \"batch_norm\": False, \"num_conv_layers\": 2},\n",
    "    {\"dropout\": 0.0, \"batch_norm\": True, \"num_conv_layers\": 2},\n",
    "    {\"dropout\": 0.0, \"batch_norm\": False, \"num_conv_layers\": 2},\n",
    "    {\"dropout\": 0.0, \"batch_norm\": False, \"num_conv_layers\": 1},\n",
    "    \n",
    "]\n"
   ]
  },
  {
   "cell_type": "markdown",
   "metadata": {},
   "source": [
    "## Training"
   ]
  },
  {
   "cell_type": "code",
   "execution_count": 6,
   "metadata": {},
   "outputs": [],
   "source": [
    "import LSTMDataset\n",
    "importlib.reload(LSTMDataset)\n",
    "import LSTMModel\n",
    "importlib.reload(LSTMModel)\n",
    "\n",
    "model_type = \"Lstm\""
   ]
  },
  {
   "cell_type": "code",
   "execution_count": 7,
   "metadata": {},
   "outputs": [
    {
     "name": "stdout",
     "output_type": "stream",
     "text": [
      "input_dict: 2509\n",
      "output_dict: 1151\n",
      "merged_dict: 775\n",
      "603 172\n",
      "max_seq_len=2\n",
      "Current seeting is:  {'standardize': 'std', 'add_cpi': True, 'add_diff': False, 'balance_trend': False, 'balance_label': False} {'dropout': 0.2, 'batch_norm': True, 'num_conv_layers': 2}\n",
      "The model structure is:  LSTMModel(\n",
      "  (lstm): LSTM(24, 32, num_layers=2, batch_first=True, dropout=0.2)\n",
      "  (batch_norm): BatchNorm1d(32, eps=1e-05, momentum=0.1, affine=True, track_running_stats=True)\n",
      "  (dropout): Dropout(p=0.2, inplace=False)\n",
      "  (fc): Linear(in_features=32, out_features=1, bias=True)\n",
      ")\n"
     ]
    },
    {
     "name": "stderr",
     "output_type": "stream",
     "text": [
      "Train Epoch 45:  22%|██▎       | 45/200 [00:37<02:10,  1.19it/s, Loss: 0.008]\n"
     ]
    },
    {
     "ename": "KeyboardInterrupt",
     "evalue": "",
     "output_type": "error",
     "traceback": [
      "\u001b[1;31m---------------------------------------------------------------------------\u001b[0m",
      "\u001b[1;31mKeyboardInterrupt\u001b[0m                         Traceback (most recent call last)",
      "Cell \u001b[1;32mIn[7], line 60\u001b[0m\n\u001b[0;32m     57\u001b[0m test_loader \u001b[38;5;241m=\u001b[39m DataLoader(test_set, batch_size\u001b[38;5;241m=\u001b[39mHypers\u001b[38;5;241m.\u001b[39mConfig\u001b[38;5;241m.\u001b[39mbatch_size, shuffle\u001b[38;5;241m=\u001b[39m\u001b[38;5;28;01mTrue\u001b[39;00m, collate_fn\u001b[38;5;241m=\u001b[39mLSTMDataset\u001b[38;5;241m.\u001b[39mLSTMDataset\u001b[38;5;241m.\u001b[39mcustom_collate_fn)\n\u001b[0;32m     59\u001b[0m trainer \u001b[38;5;241m=\u001b[39m Trainer\u001b[38;5;241m.\u001b[39mTrainer(model, criterion, optimizer, device, train_loader, test_loader, max_seq_len)\n\u001b[1;32m---> 60\u001b[0m train_loss, train_accuracy, test_loss, test_accuracy \u001b[38;5;241m=\u001b[39m \u001b[43mtrainer\u001b[49m\u001b[38;5;241;43m.\u001b[39;49m\u001b[43mtrain_loop\u001b[49m\u001b[43m(\u001b[49m\u001b[43m)\u001b[49m\n\u001b[0;32m     61\u001b[0m utils\u001b[38;5;241m.\u001b[39mplot_graph(train_loss, train_accuracy, test_loss, test_accuracy, identifier\u001b[38;5;241m=\u001b[39m\u001b[38;5;124mf\u001b[39m\u001b[38;5;124m\"\u001b[39m\u001b[38;5;132;01m{\u001b[39;00mmodel_type\u001b[38;5;132;01m}\u001b[39;00m\u001b[38;5;124m_\u001b[39m\u001b[38;5;132;01m{\u001b[39;00msuffix\u001b[38;5;132;01m}\u001b[39;00m\u001b[38;5;124m\"\u001b[39m)\n\u001b[0;32m     63\u001b[0m \u001b[38;5;28mprint\u001b[39m(\u001b[38;5;124m\"\u001b[39m\u001b[38;5;124mPlot Inference\u001b[39m\u001b[38;5;124m\"\u001b[39m)\n",
      "File \u001b[1;32md:\\Document\\Ucla-doc\\263\\project\\PNC_Capstone\\Trainer.py:155\u001b[0m, in \u001b[0;36mTrainer.train_loop\u001b[1;34m(self, train_only)\u001b[0m\n\u001b[0;32m    153\u001b[0m \u001b[38;5;28;01mdef\u001b[39;00m \u001b[38;5;21mtrain_loop\u001b[39m(\u001b[38;5;28mself\u001b[39m, train_only\u001b[38;5;241m=\u001b[39m\u001b[38;5;28;01mFalse\u001b[39;00m):\n\u001b[0;32m    154\u001b[0m     \u001b[38;5;28;01mfor\u001b[39;00m \u001b[38;5;28mself\u001b[39m\u001b[38;5;241m.\u001b[39mcurrent_epoch \u001b[38;5;129;01min\u001b[39;00m \u001b[38;5;28mself\u001b[39m\u001b[38;5;241m.\u001b[39mprogress_bar:\n\u001b[1;32m--> 155\u001b[0m         train_loss, train_accuracy \u001b[38;5;241m=\u001b[39m \u001b[38;5;28;43mself\u001b[39;49m\u001b[38;5;241;43m.\u001b[39;49m\u001b[43mtrain_one_epoch\u001b[49m\u001b[43m(\u001b[49m\u001b[43m)\u001b[49m\n\u001b[0;32m    157\u001b[0m         valid_loss, valid_accuracy \u001b[38;5;241m=\u001b[39m \u001b[38;5;28;01mNone\u001b[39;00m, \u001b[38;5;28;01mNone\u001b[39;00m\n\u001b[0;32m    158\u001b[0m         \u001b[38;5;28;01mif\u001b[39;00m \u001b[38;5;129;01mnot\u001b[39;00m train_only:\n",
      "File \u001b[1;32md:\\Document\\Ucla-doc\\263\\project\\PNC_Capstone\\Trainer.py:68\u001b[0m, in \u001b[0;36mTrainer.train_one_epoch\u001b[1;34m(self)\u001b[0m\n\u001b[0;32m     65\u001b[0m mask_b \u001b[38;5;241m=\u001b[39m mask_b\u001b[38;5;241m.\u001b[39mto(\u001b[38;5;28mself\u001b[39m\u001b[38;5;241m.\u001b[39mdevice)\n\u001b[0;32m     67\u001b[0m \u001b[38;5;66;03m# Forward Pass\u001b[39;00m\n\u001b[1;32m---> 68\u001b[0m output_b \u001b[38;5;241m=\u001b[39m \u001b[38;5;28;43mself\u001b[39;49m\u001b[38;5;241;43m.\u001b[39;49m\u001b[43mmodel\u001b[49m\u001b[43m(\u001b[49m\u001b[43mfeatures_b\u001b[49m\u001b[43m)\u001b[49m\n\u001b[0;32m     70\u001b[0m output_flat \u001b[38;5;241m=\u001b[39m output_b\u001b[38;5;241m.\u001b[39mreshape(\u001b[38;5;241m-\u001b[39m\u001b[38;5;241m1\u001b[39m)\n\u001b[0;32m     71\u001b[0m labels_flat \u001b[38;5;241m=\u001b[39m labels_b\u001b[38;5;241m.\u001b[39mreshape(\u001b[38;5;241m-\u001b[39m\u001b[38;5;241m1\u001b[39m)\n",
      "File \u001b[1;32mc:\\Users\\Michael_Mi\\.conda\\envs\\219-env-ass02\\lib\\site-packages\\torch\\nn\\modules\\module.py:1501\u001b[0m, in \u001b[0;36mModule._call_impl\u001b[1;34m(self, *args, **kwargs)\u001b[0m\n\u001b[0;32m   1496\u001b[0m \u001b[38;5;66;03m# If we don't have any hooks, we want to skip the rest of the logic in\u001b[39;00m\n\u001b[0;32m   1497\u001b[0m \u001b[38;5;66;03m# this function, and just call forward.\u001b[39;00m\n\u001b[0;32m   1498\u001b[0m \u001b[38;5;28;01mif\u001b[39;00m \u001b[38;5;129;01mnot\u001b[39;00m (\u001b[38;5;28mself\u001b[39m\u001b[38;5;241m.\u001b[39m_backward_hooks \u001b[38;5;129;01mor\u001b[39;00m \u001b[38;5;28mself\u001b[39m\u001b[38;5;241m.\u001b[39m_backward_pre_hooks \u001b[38;5;129;01mor\u001b[39;00m \u001b[38;5;28mself\u001b[39m\u001b[38;5;241m.\u001b[39m_forward_hooks \u001b[38;5;129;01mor\u001b[39;00m \u001b[38;5;28mself\u001b[39m\u001b[38;5;241m.\u001b[39m_forward_pre_hooks\n\u001b[0;32m   1499\u001b[0m         \u001b[38;5;129;01mor\u001b[39;00m _global_backward_pre_hooks \u001b[38;5;129;01mor\u001b[39;00m _global_backward_hooks\n\u001b[0;32m   1500\u001b[0m         \u001b[38;5;129;01mor\u001b[39;00m _global_forward_hooks \u001b[38;5;129;01mor\u001b[39;00m _global_forward_pre_hooks):\n\u001b[1;32m-> 1501\u001b[0m     \u001b[38;5;28;01mreturn\u001b[39;00m \u001b[43mforward_call\u001b[49m\u001b[43m(\u001b[49m\u001b[38;5;241;43m*\u001b[39;49m\u001b[43margs\u001b[49m\u001b[43m,\u001b[49m\u001b[43m \u001b[49m\u001b[38;5;241;43m*\u001b[39;49m\u001b[38;5;241;43m*\u001b[39;49m\u001b[43mkwargs\u001b[49m\u001b[43m)\u001b[49m\n\u001b[0;32m   1502\u001b[0m \u001b[38;5;66;03m# Do not call functions when jit is used\u001b[39;00m\n\u001b[0;32m   1503\u001b[0m full_backward_hooks, non_full_backward_hooks \u001b[38;5;241m=\u001b[39m [], []\n",
      "File \u001b[1;32md:\\Document\\Ucla-doc\\263\\project\\PNC_Capstone\\LSTMModel.py:35\u001b[0m, in \u001b[0;36mLSTMModel.forward\u001b[1;34m(self, x)\u001b[0m\n\u001b[0;32m     32\u001b[0m \u001b[38;5;28;01mif\u001b[39;00m \u001b[38;5;28mself\u001b[39m\u001b[38;5;241m.\u001b[39muse_dropout:\n\u001b[0;32m     33\u001b[0m     out \u001b[38;5;241m=\u001b[39m \u001b[38;5;28mself\u001b[39m\u001b[38;5;241m.\u001b[39mdropout(out)\n\u001b[1;32m---> 35\u001b[0m out \u001b[38;5;241m=\u001b[39m \u001b[38;5;28;43mself\u001b[39;49m\u001b[38;5;241;43m.\u001b[39;49m\u001b[43mfc\u001b[49m\u001b[43m(\u001b[49m\u001b[43mout\u001b[49m\u001b[43m)\u001b[49m\n\u001b[0;32m     37\u001b[0m \u001b[38;5;28;01mreturn\u001b[39;00m out\n",
      "File \u001b[1;32mc:\\Users\\Michael_Mi\\.conda\\envs\\219-env-ass02\\lib\\site-packages\\torch\\nn\\modules\\module.py:1501\u001b[0m, in \u001b[0;36mModule._call_impl\u001b[1;34m(self, *args, **kwargs)\u001b[0m\n\u001b[0;32m   1496\u001b[0m \u001b[38;5;66;03m# If we don't have any hooks, we want to skip the rest of the logic in\u001b[39;00m\n\u001b[0;32m   1497\u001b[0m \u001b[38;5;66;03m# this function, and just call forward.\u001b[39;00m\n\u001b[0;32m   1498\u001b[0m \u001b[38;5;28;01mif\u001b[39;00m \u001b[38;5;129;01mnot\u001b[39;00m (\u001b[38;5;28mself\u001b[39m\u001b[38;5;241m.\u001b[39m_backward_hooks \u001b[38;5;129;01mor\u001b[39;00m \u001b[38;5;28mself\u001b[39m\u001b[38;5;241m.\u001b[39m_backward_pre_hooks \u001b[38;5;129;01mor\u001b[39;00m \u001b[38;5;28mself\u001b[39m\u001b[38;5;241m.\u001b[39m_forward_hooks \u001b[38;5;129;01mor\u001b[39;00m \u001b[38;5;28mself\u001b[39m\u001b[38;5;241m.\u001b[39m_forward_pre_hooks\n\u001b[0;32m   1499\u001b[0m         \u001b[38;5;129;01mor\u001b[39;00m _global_backward_pre_hooks \u001b[38;5;129;01mor\u001b[39;00m _global_backward_hooks\n\u001b[0;32m   1500\u001b[0m         \u001b[38;5;129;01mor\u001b[39;00m _global_forward_hooks \u001b[38;5;129;01mor\u001b[39;00m _global_forward_pre_hooks):\n\u001b[1;32m-> 1501\u001b[0m     \u001b[38;5;28;01mreturn\u001b[39;00m \u001b[43mforward_call\u001b[49m\u001b[43m(\u001b[49m\u001b[38;5;241;43m*\u001b[39;49m\u001b[43margs\u001b[49m\u001b[43m,\u001b[49m\u001b[43m \u001b[49m\u001b[38;5;241;43m*\u001b[39;49m\u001b[38;5;241;43m*\u001b[39;49m\u001b[43mkwargs\u001b[49m\u001b[43m)\u001b[49m\n\u001b[0;32m   1502\u001b[0m \u001b[38;5;66;03m# Do not call functions when jit is used\u001b[39;00m\n\u001b[0;32m   1503\u001b[0m full_backward_hooks, non_full_backward_hooks \u001b[38;5;241m=\u001b[39m [], []\n",
      "File \u001b[1;32mc:\\Users\\Michael_Mi\\.conda\\envs\\219-env-ass02\\lib\\site-packages\\torch\\nn\\modules\\linear.py:114\u001b[0m, in \u001b[0;36mLinear.forward\u001b[1;34m(self, input)\u001b[0m\n\u001b[0;32m    113\u001b[0m \u001b[38;5;28;01mdef\u001b[39;00m \u001b[38;5;21mforward\u001b[39m(\u001b[38;5;28mself\u001b[39m, \u001b[38;5;28minput\u001b[39m: Tensor) \u001b[38;5;241m-\u001b[39m\u001b[38;5;241m>\u001b[39m Tensor:\n\u001b[1;32m--> 114\u001b[0m     \u001b[38;5;28;01mreturn\u001b[39;00m \u001b[43mF\u001b[49m\u001b[38;5;241;43m.\u001b[39;49m\u001b[43mlinear\u001b[49m\u001b[43m(\u001b[49m\u001b[38;5;28;43minput\u001b[39;49m\u001b[43m,\u001b[49m\u001b[43m \u001b[49m\u001b[38;5;28;43mself\u001b[39;49m\u001b[38;5;241;43m.\u001b[39;49m\u001b[43mweight\u001b[49m\u001b[43m,\u001b[49m\u001b[43m \u001b[49m\u001b[38;5;28;43mself\u001b[39;49m\u001b[38;5;241;43m.\u001b[39;49m\u001b[43mbias\u001b[49m\u001b[43m)\u001b[49m\n",
      "\u001b[1;31mKeyboardInterrupt\u001b[0m: "
     ]
    }
   ],
   "source": [
    "for preprocessing in preprocessing_options1:\n",
    "    from CompustatExtractor import CompustatExtractor\n",
    "    importlib.reload(Hypers)\n",
    "    feature_dict = CompustatExtractor.process_compustat_features(features_path, \n",
    "                                                                save=False, \n",
    "                                                                add_cpi=preprocessing[\"add_cpi\"], \n",
    "                                                                add_diff=preprocessing[\"add_diff\"], \n",
    "                                                                norm=preprocessing[\"standardize\"], \n",
    "                                                                filestem=\"feature_US_new\"\n",
    "                                                                )\n",
    "    rating_dict = CompustatExtractor.process_compustat_ratings(ratings_path, \n",
    "                                                            save=True, \n",
    "                                                            filestem=\"rating_US_new\"\n",
    "                                                            )\n",
    "\n",
    "    if preprocessing[\"balance_trend\"]:\n",
    "        processor = RatingProcessor(os.path.join(Hypers.Config.data_path, \"rating_US_new.pkl\"))\n",
    "        final_ratings= processor.process_ratings('output/ratings_US_Processed_std_new.pkl')\n",
    "        feature  = feature_dict\n",
    "        all_ratings = rating_dict\n",
    "        merged_data = utils.merge_input_output_dicts_k(feature, final_ratings, all_ratings, 4, verbose=True)\n",
    "    else: \n",
    "        merged_dict = CompustatExtractor.merge_input_output_dicts(feature_dict, rating_dict)\n",
    "\n",
    "    if preprocessing[\"balance_label\"]:\n",
    "        train_dict, test_dict = utils.spilt_train_valid(merged_dict, random_select=True, save=False, suffix=suffix)\n",
    "        train_dict = utils.balance_train_dict(train_dict)\n",
    "        print(len(train_dict), len(test_dict))\n",
    "    else:\n",
    "        train_dict, test_dict = utils.spilt_train_valid(merged_dict, random_select=True, save=False, suffix=suffix)\n",
    "        print(len(train_dict), len(test_dict))\n",
    "        \n",
    "    for architecture in architecture_options:\n",
    "        max_seq_len = architecture[\"num_conv_layers\"]\n",
    "        print(f\"{max_seq_len=}\")\n",
    "        print(\"Current seeting is: \", preprocessing, architecture)\n",
    "        if preprocessing[\"add_diff\"]:\n",
    "            input_dim = 38\n",
    "        else:\n",
    "            input_dim = 24\n",
    "\n",
    "\n",
    "        model = LSTMModel.LSTMModel(input_size=input_dim,\n",
    "                                            hidden_size=Hypers.Config.hidden_size,\n",
    "                                            num_layers=max_seq_len,\n",
    "                                            batch_norm=architecture[\"batch_norm\"],\n",
    "                                            dropout=architecture[\"dropout\"],\n",
    "                                            proj_size=Hypers.Config.proj_size)\n",
    "        criterion = nn.MSELoss(reduction=\"sum\")\n",
    "        optimizer = torch.optim.Adam(model.parameters(), lr=Hypers.Config.learning_rate)\n",
    "        scheduler = optim.lr_scheduler.ReduceLROnPlateau(optimizer, 'min', patience=10, factor=0.1)\n",
    "        device = torch.device(\"cuda\" if torch.cuda.is_available() else \"cpu\")\n",
    "        print(\"The model structure is: \", model)\n",
    "\n",
    "        train_set, test_set = LSTMDataset.LSTMDataset(train_dict), LSTMDataset.LSTMDataset(test_dict)\n",
    "        train_loader = DataLoader(train_set, batch_size=Hypers.Config.batch_size, shuffle=True, collate_fn=LSTMDataset.LSTMDataset.custom_collate_fn)\n",
    "        test_loader = DataLoader(test_set, batch_size=Hypers.Config.batch_size, shuffle=True, collate_fn=LSTMDataset.LSTMDataset.custom_collate_fn)\n",
    "\n",
    "        trainer = Trainer.Trainer(model, criterion, optimizer, device, train_loader, test_loader, max_seq_len)\n",
    "        train_loss, train_accuracy, test_loss, test_accuracy = trainer.train_loop()\n",
    "        utils.plot_graph(train_loss, train_accuracy, test_loss, test_accuracy, identifier=f\"{model_type}_{suffix}\")\n",
    "\n",
    "        print(\"Plot Inference\")\n",
    "\n",
    "        test_loader = DataLoader(test_set, batch_size=Hypers.Config.batch_size, shuffle=False, collate_fn=LSTMDataset.LSTMDataset.custom_collate_fn)\n",
    "        inferencer = Inferencer.Inferencer(model=model, test_loader=test_loader, device=device)\n",
    "        predictions, turths, features, accuracy, diff_counter = inferencer.infer()\n",
    "        nums = 10\n",
    "        print(\"pred:\", predictions[:nums])\n",
    "        print(\"truths:\", turths[:nums])\n",
    "        print(\"diff_counter:\", diff_counter)\n",
    "        total_count = sum(diff_counter.values())\n",
    "        print(f\"{total_count=}\")\n",
    "\n",
    "        accumulated_count = []\n",
    "\n",
    "        for i in range(0, 33):\n",
    "            count = diff_counter[i]\n",
    "            if i==0:\n",
    "                accumulated_count.append(count)\n",
    "                continue\n",
    "            accumulated_count.append(accumulated_count[-1]+count)\n",
    "\n",
    "        accumulated_accuracy = [i/total_count for i in accumulated_count]\n",
    "        accumulated_accuracy[:5]\n",
    "\n",
    "        plt.bar(range(0,5), accumulated_accuracy[:5])\n",
    "        for i, v in enumerate(accumulated_accuracy[:5]):\n",
    "            plt.text(i - 0.25, v + 0.01, str(round(v, 2)))\n",
    "        plt.xlabel(\"Absolute Difference btw Predicted and True Ratings\")\n",
    "        plt.ylabel(\"Accuracy\")\n",
    "        plt.grid()\n",
    "        plt.show()\n",
    "            "
   ]
  }
 ],
 "metadata": {
  "kernelspec": {
   "display_name": "219-env-ass02",
   "language": "python",
   "name": "python3"
  },
  "language_info": {
   "codemirror_mode": {
    "name": "ipython",
    "version": 3
   },
   "file_extension": ".py",
   "mimetype": "text/x-python",
   "name": "python",
   "nbconvert_exporter": "python",
   "pygments_lexer": "ipython3",
   "version": "3.8.18"
  }
 },
 "nbformat": 4,
 "nbformat_minor": 2
}
